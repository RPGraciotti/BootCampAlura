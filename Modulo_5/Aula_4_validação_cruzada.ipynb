{
  "nbformat": 4,
  "nbformat_minor": 0,
  "metadata": {
    "colab": {
      "name": "Aula_4_validação_cruzada.ipynb",
      "provenance": [],
      "collapsed_sections": [],
      "authorship_tag": "ABX9TyN3rzaT99SQbPX3o3SApG31",
      "include_colab_link": true
    },
    "kernelspec": {
      "name": "python3",
      "display_name": "Python 3"
    },
    "language_info": {
      "name": "python"
    }
  },
  "cells": [
    {
      "cell_type": "markdown",
      "metadata": {
        "id": "view-in-github",
        "colab_type": "text"
      },
      "source": [
        "<a href=\"https://colab.research.google.com/github/RPGraciotti/BootCampAlura/blob/main/Modulo_5/Aula_4_valida%C3%A7%C3%A3o_cruzada.ipynb\" target=\"_parent\"><img src=\"https://colab.research.google.com/assets/colab-badge.svg\" alt=\"Open In Colab\"/></a>"
      ]
    },
    {
      "cell_type": "code",
      "metadata": {
        "colab": {
          "base_uri": "https://localhost:8080/"
        },
        "id": "uwuyY8_P-3OY",
        "outputId": "f089a1e0-2b68-417d-e73d-d0fa5dd70cd1"
      },
      "source": [
        "import pandas as pd\n",
        "import numpy as np\n",
        "import matplotlib.pyplot as plt\n",
        "from sklearn.model_selection import train_test_split\n",
        "from sklearn.linear_model import LogisticRegression\n",
        "from sklearn.dummy import DummyClassifier\n",
        "from sklearn.metrics import accuracy_score\n",
        "from sklearn.tree import DecisionTreeClassifier\n",
        "from sklearn.metrics import plot_confusion_matrix\n",
        "from sklearn.metrics import classification_report\n",
        "from sklearn.metrics import roc_auc_score\n",
        "\n",
        "dados = pd.read_excel(\"https://github.com/alura-cursos/covid-19-clinical/blob/main/Kaggle_Sirio_Libanes_ICU_Prediction.xlsx?raw=true\")\n",
        "### também posso usar o link no meu repositório\n",
        "\n",
        "def preenche_tabela(dados):\n",
        "    features_continuas_colunas = dados.iloc[:, 13:-2].columns\n",
        "    features_continuas = dados.groupby(\"PATIENT_VISIT_IDENTIFIER\", as_index=False)[features_continuas_colunas].fillna(method='bfill').fillna(method='ffill')\n",
        "    features_categoricas = dados.iloc[:, :13]\n",
        "    saida = dados.iloc[:, -2:]\n",
        "    dados_finais = pd.concat([features_categoricas, features_continuas, saida], ignore_index=True,axis=1)\n",
        "    dados_finais.columns = dados.columns\n",
        "    return dados_finais\n",
        "\n",
        "dados_limpos = preenche_tabela(dados)\n",
        "a_remover = dados_limpos.query(\"WINDOW=='0-2' and ICU==1\")['PATIENT_VISIT_IDENTIFIER'].values\n",
        "dados_limpos = dados_limpos.query(\"PATIENT_VISIT_IDENTIFIER not in @a_remover\")\n",
        "dados_limpos = dados_limpos.dropna()\n",
        "\n",
        "def prepare_window(rows):\n",
        "    if(np.any(rows[\"ICU\"])):\n",
        "        rows.loc[rows[\"WINDOW\"]==\"0-2\", \"ICU\"] = 1\n",
        "    return rows.loc[rows[\"WINDOW\"] == \"0-2\"]\n",
        "\n",
        "dados_limpos = dados_limpos.groupby(\"PATIENT_VISIT_IDENTIFIER\").apply(prepare_window)\n",
        "dados_limpos.AGE_PERCENTIL = dados_limpos.AGE_PERCENTIL.astype(\"category\").cat.codes # transformando em variaveis categoricas\n",
        "\n",
        "\n",
        "np.random.seed(73246)\n",
        "\n",
        "x_columns = dados.columns\n",
        "y = dados_limpos[\"ICU\"]\n",
        "x = dados_limpos[x_columns].drop([\"ICU\",\"WINDOW\"], axis=1)\n",
        "x_train, x_test, y_train, y_test = train_test_split(x, y, stratify=y)\n",
        "modelo = DummyClassifier()\n",
        "modelo.fit(x_train, y_train)\n",
        "\n",
        "y_prediction = modelo.predict(x_test)\n",
        "accuracy_score(y_test, y_prediction)"
      ],
      "execution_count": 7,
      "outputs": [
        {
          "output_type": "stream",
          "text": [
            "/usr/local/lib/python3.7/dist-packages/sklearn/dummy.py:132: FutureWarning: The default value of strategy will change from stratified to prior in 0.24.\n",
            "  \"stratified to prior in 0.24.\", FutureWarning)\n"
          ],
          "name": "stderr"
        },
        {
          "output_type": "execute_result",
          "data": {
            "text/plain": [
              "0.48863636363636365"
            ]
          },
          "metadata": {
            "tags": []
          },
          "execution_count": 7
        }
      ]
    },
    {
      "cell_type": "code",
      "metadata": {
        "colab": {
          "base_uri": "https://localhost:8080/"
        },
        "id": "1fJosvs3AMQp",
        "outputId": "8dbf1d17-7fcf-4f21-d038-9823215d4eab"
      },
      "source": [
        "modelo = LogisticRegression(max_iter=10000)\n",
        "modelo.fit(x_train, y_train)\n",
        "\n",
        "y_prediction = modelo.predict(x_test)\n",
        "accuracy_score(y_test, y_prediction)"
      ],
      "execution_count": 8,
      "outputs": [
        {
          "output_type": "execute_result",
          "data": {
            "text/plain": [
              "0.6818181818181818"
            ]
          },
          "metadata": {
            "tags": []
          },
          "execution_count": 8
        }
      ]
    },
    {
      "cell_type": "code",
      "metadata": {
        "colab": {
          "base_uri": "https://localhost:8080/"
        },
        "id": "gXeqSucGAOXi",
        "outputId": "9bfbb338-65dd-419b-f997-ca77dbfa7419"
      },
      "source": [
        "modelo_arvore = DecisionTreeClassifier()\n",
        "\n",
        "modelo_arvore.fit(x_train, y_train)\n",
        "pred_arvore = modelo_arvore.predict(x_test)\n",
        "accuracy_score(y_test, pred_arvore)\n"
      ],
      "execution_count": 9,
      "outputs": [
        {
          "output_type": "execute_result",
          "data": {
            "text/plain": [
              "0.6590909090909091"
            ]
          },
          "metadata": {
            "tags": []
          },
          "execution_count": 9
        }
      ]
    },
    {
      "cell_type": "code",
      "metadata": {
        "id": "9ofpac4ZAqfR"
      },
      "source": [
        "\n",
        "def roda_n_modelos(modelo, dados, n):\n",
        "\n",
        "  x_columns = dados.columns\n",
        "  y = dados[\"ICU\"]\n",
        "  x = dados[x_columns].drop([\"ICU\",\"WINDOW\"], axis=1)\n",
        "  auc_lista = []\n",
        "\n",
        "  for _ in range(n):\n",
        "\n",
        "    x_train, x_test, y_train, y_test = train_test_split(x, y, stratify=y)\n",
        "    modelo.fit(x_train, y_train)\n",
        "    prob_predic = modelo.predict_proba(x_test)\n",
        "    auc = roc_auc_score(y_test, prob_predic[:,1])\n",
        "    auc_lista.append(auc)\n",
        "\n",
        "  auc_medio = np.mean(auc_lista)\n",
        "  auc_std = np.std(auc_lista)\n",
        "  print(f\"AUC {auc_medio}\")\n",
        "  print(f\"Intervalo {auc_medio - 2 * auc_std} - {auc_medio + 2 * auc_std}\") # confidence interval\n",
        "  #plt.hist(auc_lista)"
      ],
      "execution_count": 10,
      "outputs": []
    },
    {
      "cell_type": "markdown",
      "metadata": {
        "id": "00Q9otEGi6cZ"
      },
      "source": [
        "# Aula 4"
      ]
    },
    {
      "cell_type": "code",
      "metadata": {
        "id": "lVymlx-wi6N7"
      },
      "source": [
        "from sklearn.model_selection import cross_validate\n",
        "from sklearn.model_selection import StratifiedKFold"
      ],
      "execution_count": 11,
      "outputs": []
    },
    {
      "cell_type": "code",
      "metadata": {
        "colab": {
          "base_uri": "https://localhost:8080/"
        },
        "id": "B5aJwxWrlPo0",
        "outputId": "6f9a9d2c-f1a9-4520-a9b7-703223aaf8dd"
      },
      "source": [
        "cv = StratifiedKFold(n_splits = 5, shuffle = True)\n",
        "cross_validate(modelo, x, y, cv = cv) # comumente utilizado entre 5 e 10, tambem existe um tradeoff ai entre tamanho do dataset"
      ],
      "execution_count": 12,
      "outputs": [
        {
          "output_type": "execute_result",
          "data": {
            "text/plain": [
              "{'fit_time': array([0.66037488, 0.2530818 , 0.21855068, 0.5462029 , 0.20197511]),\n",
              " 'score_time': array([0.0036273 , 0.00440955, 0.00242567, 0.00244927, 0.00230646]),\n",
              " 'test_score': array([0.70422535, 0.74647887, 0.74285714, 0.65714286, 0.75714286])}"
            ]
          },
          "metadata": {
            "tags": []
          },
          "execution_count": 12
        }
      ]
    },
    {
      "cell_type": "code",
      "metadata": {
        "id": "hunchZa8rEQx"
      },
      "source": [
        "from sklearn.model_selection import RepeatedStratifiedKFold"
      ],
      "execution_count": 13,
      "outputs": []
    },
    {
      "cell_type": "code",
      "metadata": {
        "id": "DTHLcQKQutkb",
        "colab": {
          "base_uri": "https://localhost:8080/"
        },
        "outputId": "f9c8d9a7-f156-4b32-efed-b2a5d2a685b0"
      },
      "source": [
        "cv = RepeatedStratifiedKFold(n_splits = 5, n_repeats = 10)\n",
        "cross_validate(modelo, x, y, cv = cv)"
      ],
      "execution_count": 14,
      "outputs": [
        {
          "output_type": "execute_result",
          "data": {
            "text/plain": [
              "{'fit_time': array([0.64826941, 0.58294034, 0.57252741, 0.24404216, 0.62090445,\n",
              "        0.53883624, 0.51787114, 0.54570365, 0.21226597, 0.19857407,\n",
              "        0.25331736, 0.72981644, 0.54429388, 0.66699934, 0.49113655,\n",
              "        0.62171793, 0.30299067, 0.64509439, 0.75889134, 0.57082415,\n",
              "        0.55788898, 0.23813367, 0.1566546 , 0.64110136, 0.23812103,\n",
              "        0.57019949, 0.54462051, 0.65144587, 0.26358342, 0.59403324,\n",
              "        0.63438559, 0.48990035, 0.24571681, 0.34674835, 0.59028172,\n",
              "        0.61471415, 0.25450921, 0.57914233, 0.71438909, 0.52601099,\n",
              "        0.56006789, 0.68821812, 0.57620096, 0.62767577, 0.65170574,\n",
              "        0.57064438, 0.58705139, 0.56636429, 0.60725498, 0.30100703]),\n",
              " 'score_time': array([0.00232911, 0.00229096, 0.00229478, 0.00230527, 0.00301528,\n",
              "        0.00224113, 0.00226474, 0.00260663, 0.00252819, 0.00399065,\n",
              "        0.00269651, 0.00244975, 0.00682759, 0.00228763, 0.00223899,\n",
              "        0.00236702, 0.00259471, 0.00251985, 0.00227451, 0.0022893 ,\n",
              "        0.00257349, 0.00318718, 0.00257254, 0.00246716, 0.00233269,\n",
              "        0.00245762, 0.00225902, 0.00230813, 0.00234342, 0.00404572,\n",
              "        0.00245595, 0.00234008, 0.0023191 , 0.00222301, 0.0023396 ,\n",
              "        0.00236487, 0.00235128, 0.00265574, 0.00255227, 0.00276446,\n",
              "        0.00270343, 0.00257039, 0.00269532, 0.00266075, 0.00269175,\n",
              "        0.00255942, 0.00245523, 0.00262427, 0.00261188, 0.00262403]),\n",
              " 'test_score': array([0.70422535, 0.64788732, 0.65714286, 0.77142857, 0.71428571,\n",
              "        0.78873239, 0.70422535, 0.65714286, 0.68571429, 0.67142857,\n",
              "        0.67605634, 0.6056338 , 0.71428571, 0.72857143, 0.77142857,\n",
              "        0.73239437, 0.70422535, 0.64285714, 0.7       , 0.75714286,\n",
              "        0.67605634, 0.69014085, 0.7       , 0.81428571, 0.64285714,\n",
              "        0.70422535, 0.70422535, 0.74285714, 0.67142857, 0.68571429,\n",
              "        0.8028169 , 0.71830986, 0.65714286, 0.72857143, 0.64285714,\n",
              "        0.66197183, 0.8028169 , 0.74285714, 0.71428571, 0.61428571,\n",
              "        0.64788732, 0.77464789, 0.71428571, 0.7       , 0.8       ,\n",
              "        0.76056338, 0.6056338 , 0.68571429, 0.7       , 0.71428571])}"
            ]
          },
          "metadata": {
            "tags": []
          },
          "execution_count": 14
        }
      ]
    },
    {
      "cell_type": "code",
      "metadata": {
        "id": "wA17-8jd1WlI"
      },
      "source": [
        "def roda_modelo_cv(modelo, dados, n_splits, n_repeats):\n",
        "\n",
        "    np.random.seed(1231234) # lembrando sempre que é para valor didático\n",
        "    dados = dados.sample(frac = 1).reset_index(drop = True) # embaralha\n",
        "    x_columns = dados.columns\n",
        "    y = dados[\"ICU\"]\n",
        "    x = dados[x_columns].drop([\"ICU\",\"WINDOW\"], axis=1)\n",
        "\n",
        "    cv = RepeatedStratifiedKFold(n_splits = n_splits, n_repeats = n_repeats)\n",
        "    resultados = cross_validate(modelo, x, y, cv = cv, scoring = \"roc_auc\")\n",
        "\n",
        "    auc_medio = np.mean(resultados[\"test_score\"])\n",
        "    auc_std = np.std(resultados[\"test_score\"])\n",
        "\n",
        "    print(f\"AUC Médio {auc_medio}\") \n",
        "    print(f\"Intervalo {auc_medio - (2 * auc_std)} - {auc_medio + (2 * auc_std)}\")\n"
      ],
      "execution_count": 15,
      "outputs": []
    },
    {
      "cell_type": "code",
      "metadata": {
        "colab": {
          "base_uri": "https://localhost:8080/"
        },
        "id": "he2vpmaS3CYp",
        "outputId": "f7bafa28-4b25-4932-b1fc-9bedf4c3639d"
      },
      "source": [
        "roda_modelo_cv(modelo, dados_limpos, 5, 10)"
      ],
      "execution_count": 16,
      "outputs": [
        {
          "output_type": "stream",
          "text": [
            "AUC Médio 0.7575511875511876\n",
            "Intervalo 0.6366273412799195 - 0.8784750338224556\n"
          ],
          "name": "stdout"
        }
      ]
    },
    {
      "cell_type": "code",
      "metadata": {
        "colab": {
          "base_uri": "https://localhost:8080/"
        },
        "id": "Rv7vMI9z3tEr",
        "outputId": "ffe88d61-b630-4fcd-cc58-881737256e7b"
      },
      "source": [
        "roda_n_modelos(modelo, dados_limpos, 50)"
      ],
      "execution_count": 17,
      "outputs": [
        {
          "output_type": "stream",
          "text": [
            "AUC 0.7611728074727554\n",
            "Intervalo 0.6552383213129391 - 0.8671072936325717\n"
          ],
          "name": "stdout"
        }
      ]
    },
    {
      "cell_type": "markdown",
      "metadata": {
        "id": "WXdkWgIe6Zcz"
      },
      "source": [
        "# Desafio 01 - Testar outros splitter classes e observar as diferenças"
      ]
    },
    {
      "cell_type": "markdown",
      "metadata": {
        "id": "5LEookv2d1gv"
      },
      "source": [
        "https://scikit-learn.org/stable/auto_examples/model_selection/plot_cv_indices.html#sphx-glr-auto-examples-model-selection-plot-cv-indices-py\n",
        "\n",
        "Testarei um outro de tipo de algoritmo, de embaralhamento \"completo\", ou \"shuffle\", e assim como na aula, também é possível estratificá-lo, a fim de garantir que tenhamos sempre quantidades próximas de 0s e 1s nos nossos dados de treino e dados de teste."
      ]
    },
    {
      "cell_type": "code",
      "metadata": {
        "id": "TzsHY7iogEwy"
      },
      "source": [
        "from sklearn.model_selection import (ShuffleSplit,StratifiedShuffleSplit)"
      ],
      "execution_count": 23,
      "outputs": []
    },
    {
      "cell_type": "code",
      "metadata": {
        "colab": {
          "base_uri": "https://localhost:8080/"
        },
        "id": "aLqAI8aOhUNy",
        "outputId": "dc0b77bf-56a0-4c7c-d708-f09714aeb035"
      },
      "source": [
        "# Shuffle Split\n",
        "def roda_modelo_cv(modelo, dados, n_splits):\n",
        "\n",
        "    np.random.seed(1231234) # lembrando sempre que é para valor didático\n",
        "    dados = dados.sample(frac = 1).reset_index(drop = True) # embaralha\n",
        "    x_columns = dados.columns\n",
        "    y = dados[\"ICU\"]\n",
        "    x = dados[x_columns].drop([\"ICU\",\"WINDOW\"], axis=1)\n",
        "\n",
        "    cv = ShuffleSplit(n_splits = n_splits)\n",
        "    resultados = cross_validate(modelo, x, y, cv = cv, scoring = \"roc_auc\")\n",
        "\n",
        "    auc_medio = np.mean(resultados[\"test_score\"])\n",
        "    auc_std = np.std(resultados[\"test_score\"])\n",
        "\n",
        "    print(f\"AUC Médio {auc_medio}\") \n",
        "    print(f\"Intervalo {auc_medio - (2 * auc_std)} - {auc_medio + (2 * auc_std)}\")\n",
        "\n",
        "roda_modelo_cv(modelo_arvore, dados_limpos, 5)"
      ],
      "execution_count": 25,
      "outputs": [
        {
          "output_type": "stream",
          "text": [
            "AUC Médio 0.623299425033171\n",
            "Intervalo 0.505045201056298 - 0.7415536490100441\n"
          ],
          "name": "stdout"
        }
      ]
    },
    {
      "cell_type": "code",
      "metadata": {
        "colab": {
          "base_uri": "https://localhost:8080/"
        },
        "id": "KuKxvDlShrJ-",
        "outputId": "04fd7f91-a24c-4300-b07c-b6f5ff93c452"
      },
      "source": [
        "# Stratified Shuffle Split\n",
        "def roda_modelo_cv(modelo, dados, n_splits):\n",
        "\n",
        "    np.random.seed(1231234) # lembrando sempre que é para valor didático\n",
        "    dados = dados.sample(frac = 1).reset_index(drop = True) # embaralha\n",
        "    x_columns = dados.columns\n",
        "    y = dados[\"ICU\"]\n",
        "    x = dados[x_columns].drop([\"ICU\",\"WINDOW\"], axis=1)\n",
        "\n",
        "    cv = StratifiedShuffleSplit(n_splits = n_splits)\n",
        "    resultados = cross_validate(modelo, x, y, cv = cv, scoring = \"roc_auc\")\n",
        "\n",
        "    auc_medio = np.mean(resultados[\"test_score\"])\n",
        "    auc_std = np.std(resultados[\"test_score\"])\n",
        "\n",
        "    print(f\"AUC Médio {auc_medio}\") \n",
        "    print(f\"Intervalo {auc_medio - (2 * auc_std)} - {auc_medio + (2 * auc_std)}\")\n",
        "\n",
        "roda_modelo_cv(modelo_arvore, dados_limpos, 5)"
      ],
      "execution_count": 26,
      "outputs": [
        {
          "output_type": "stream",
          "text": [
            "AUC Médio 0.6597523219814242\n",
            "Intervalo 0.4902760248196175 - 0.8292286191432309\n"
          ],
          "name": "stdout"
        }
      ]
    },
    {
      "cell_type": "markdown",
      "metadata": {
        "id": "bMac-MVijPAQ"
      },
      "source": [
        "Ambos métodos de \"shuffling\" parecem resultar em uma variância muito grande da acurácia, indo de 49 ~ 82%. Definitivamente não parece representar nenhum ganho de performance em relação aos outros métodos que utilizamos. Considero que esse passo é de suma importância na correta preparação para treino do modelo, e cabe ressaltar que uma análise aprofundada caso a caso se faz necessária quando escolher o melhor método de separar dados de treino e de teste."
      ]
    },
    {
      "cell_type": "code",
      "metadata": {
        "id": "tpnsJkCBlSmj"
      },
      "source": [
        ""
      ],
      "execution_count": null,
      "outputs": []
    }
  ]
}