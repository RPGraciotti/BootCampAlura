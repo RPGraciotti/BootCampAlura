{
  "nbformat": 4,
  "nbformat_minor": 0,
  "metadata": {
    "colab": {
      "name": "Aula_4_validação_cruzada.ipynb",
      "provenance": [],
      "authorship_tag": "ABX9TyMDY+fc6k4at5oCrbUE4UU+",
      "include_colab_link": true
    },
    "kernelspec": {
      "name": "python3",
      "display_name": "Python 3"
    },
    "language_info": {
      "name": "python"
    }
  },
  "cells": [
    {
      "cell_type": "markdown",
      "metadata": {
        "id": "view-in-github",
        "colab_type": "text"
      },
      "source": [
        "<a href=\"https://colab.research.google.com/github/RPGraciotti/BootCampAlura/blob/main/Modulo_5/Aula_4_valida%C3%A7%C3%A3o_cruzada.ipynb\" target=\"_parent\"><img src=\"https://colab.research.google.com/assets/colab-badge.svg\" alt=\"Open In Colab\"/></a>"
      ]
    },
    {
      "cell_type": "code",
      "metadata": {
        "colab": {
          "base_uri": "https://localhost:8080/"
        },
        "id": "uwuyY8_P-3OY",
        "outputId": "5f4d2bf4-656a-4e66-97ab-8b097a865016"
      },
      "source": [
        "import pandas as pd\n",
        "import numpy as np\n",
        "import matplotlib.pyplot as plt\n",
        "from sklearn.model_selection import train_test_split\n",
        "from sklearn.linear_model import LogisticRegression\n",
        "from sklearn.dummy import DummyClassifier\n",
        "from sklearn.metrics import accuracy_score\n",
        "from sklearn.tree import DecisionTreeClassifier\n",
        "from sklearn.metrics import plot_confusion_matrix\n",
        "from sklearn.metrics import classification_report\n",
        "from sklearn.metrics import roc_auc_score\n",
        "\n",
        "dados = pd.read_excel(\"https://github.com/alura-cursos/covid-19-clinical/blob/main/Kaggle_Sirio_Libanes_ICU_Prediction.xlsx?raw=true\")\n",
        "### também posso usar o link no meu repositório\n",
        "\n",
        "def preenche_tabela(dados):\n",
        "    features_continuas_colunas = dados.iloc[:, 13:-2].columns\n",
        "    features_continuas = dados.groupby(\"PATIENT_VISIT_IDENTIFIER\", as_index=False)[features_continuas_colunas].fillna(method='bfill').fillna(method='ffill')\n",
        "    features_categoricas = dados.iloc[:, :13]\n",
        "    saida = dados.iloc[:, -2:]\n",
        "    dados_finais = pd.concat([features_categoricas, features_continuas, saida], ignore_index=True,axis=1)\n",
        "    dados_finais.columns = dados.columns\n",
        "    return dados_finais\n",
        "\n",
        "dados_limpos = preenche_tabela(dados)\n",
        "a_remover = dados_limpos.query(\"WINDOW=='0-2' and ICU==1\")['PATIENT_VISIT_IDENTIFIER'].values\n",
        "dados_limpos = dados_limpos.query(\"PATIENT_VISIT_IDENTIFIER not in @a_remover\")\n",
        "dados_limpos = dados_limpos.dropna()\n",
        "\n",
        "def prepare_window(rows):\n",
        "    if(np.any(rows[\"ICU\"])):\n",
        "        rows.loc[rows[\"WINDOW\"]==\"0-2\", \"ICU\"] = 1\n",
        "    return rows.loc[rows[\"WINDOW\"] == \"0-2\"]\n",
        "\n",
        "dados_limpos = dados_limpos.groupby(\"PATIENT_VISIT_IDENTIFIER\").apply(prepare_window)\n",
        "dados_limpos.AGE_PERCENTIL = dados_limpos.AGE_PERCENTIL.astype(\"category\").cat.codes # transformando em variaveis categoricas\n",
        "\n",
        "\n",
        "np.random.seed(73246)\n",
        "\n",
        "x_columns = dados.columns\n",
        "y = dados_limpos[\"ICU\"]\n",
        "x = dados_limpos[x_columns].drop([\"ICU\",\"WINDOW\"], axis=1)\n",
        "x_train, x_test, y_train, y_test = train_test_split(x, y, stratify=y)\n",
        "modelo = DummyClassifier()\n",
        "modelo.fit(x_train, y_train)\n",
        "\n",
        "y_prediction = modelo.predict(x_test)\n",
        "accuracy_score(y_test, y_prediction)"
      ],
      "execution_count": null,
      "outputs": [
        {
          "output_type": "stream",
          "text": [
            "/usr/local/lib/python3.7/dist-packages/sklearn/dummy.py:132: FutureWarning: The default value of strategy will change from stratified to prior in 0.24.\n",
            "  \"stratified to prior in 0.24.\", FutureWarning)\n"
          ],
          "name": "stderr"
        },
        {
          "output_type": "execute_result",
          "data": {
            "text/plain": [
              "0.48863636363636365"
            ]
          },
          "metadata": {
            "tags": []
          },
          "execution_count": 1
        }
      ]
    },
    {
      "cell_type": "code",
      "metadata": {
        "colab": {
          "base_uri": "https://localhost:8080/"
        },
        "id": "1fJosvs3AMQp",
        "outputId": "1d820ba6-890a-4bca-872c-c687a399a07c"
      },
      "source": [
        "modelo = LogisticRegression(max_iter=10000)\n",
        "modelo.fit(x_train, y_train)\n",
        "\n",
        "y_prediction = modelo.predict(x_test)\n",
        "accuracy_score(y_test, y_prediction)"
      ],
      "execution_count": null,
      "outputs": [
        {
          "output_type": "execute_result",
          "data": {
            "text/plain": [
              "0.6818181818181818"
            ]
          },
          "metadata": {
            "tags": []
          },
          "execution_count": 2
        }
      ]
    },
    {
      "cell_type": "code",
      "metadata": {
        "colab": {
          "base_uri": "https://localhost:8080/"
        },
        "id": "gXeqSucGAOXi",
        "outputId": "a295786d-8042-4cdb-f9e9-ec460a280e36"
      },
      "source": [
        "modelo_arvore = DecisionTreeClassifier()\n",
        "\n",
        "modelo_arvore.fit(x_train, y_train)\n",
        "pred_arvore = modelo_arvore.predict(x_test)\n",
        "accuracy_score(y_test, pred_arvore)\n"
      ],
      "execution_count": null,
      "outputs": [
        {
          "output_type": "execute_result",
          "data": {
            "text/plain": [
              "0.6590909090909091"
            ]
          },
          "metadata": {
            "tags": []
          },
          "execution_count": 3
        }
      ]
    },
    {
      "cell_type": "code",
      "metadata": {
        "id": "9ofpac4ZAqfR"
      },
      "source": [
        "\n",
        "def roda_n_modelos(modelo, dados, n):\n",
        "\n",
        "  x_columns = dados.columns\n",
        "  y = dados[\"ICU\"]\n",
        "  x = dados[x_columns].drop([\"ICU\",\"WINDOW\"], axis=1)\n",
        "  auc_lista = []\n",
        "\n",
        "  for _ in range(n):\n",
        "\n",
        "    x_train, x_test, y_train, y_test = train_test_split(x, y, stratify=y)\n",
        "    modelo.fit(x_train, y_train)\n",
        "    prob_predic = modelo.predict_proba(x_test)\n",
        "    auc = roc_auc_score(y_test, prob_predic[:,1])\n",
        "    auc_lista.append(auc)\n",
        "\n",
        "  auc_medio = np.mean(auc_lista)\n",
        "  auc_std = np.std(auc_lista)\n",
        "  print(f\"AUC {auc_medio}\")\n",
        "  print(f\"Intervalo {auc_medio - 2 * auc_std} - {auc_medio + 2 * auc_std}\") # confidence interval\n",
        "  #plt.hist(auc_lista)"
      ],
      "execution_count": null,
      "outputs": []
    },
    {
      "cell_type": "markdown",
      "metadata": {
        "id": "00Q9otEGi6cZ"
      },
      "source": [
        "# Aula 4"
      ]
    },
    {
      "cell_type": "code",
      "metadata": {
        "id": "lVymlx-wi6N7"
      },
      "source": [
        "from sklearn.model_selection import cross_validate\n",
        "from sklearn.model_selection import StratifiedKFold"
      ],
      "execution_count": null,
      "outputs": []
    },
    {
      "cell_type": "code",
      "metadata": {
        "colab": {
          "base_uri": "https://localhost:8080/"
        },
        "id": "B5aJwxWrlPo0",
        "outputId": "aabc134c-be7f-404f-e13c-b3ed0035816f"
      },
      "source": [
        "cv = StratifiedKFold(n_splits = 5, shuffle = True)\n",
        " cross_validate(modelo, x, y, cv = cv) # comumente utilizado entre 5 e 10, tambem existe um tradeoff ai entre tamanho do dataset"
      ],
      "execution_count": null,
      "outputs": [
        {
          "output_type": "execute_result",
          "data": {
            "text/plain": [
              "{'fit_time': array([0.27184939, 0.69760394, 0.54343438, 0.63304949, 0.46535039]),\n",
              " 'score_time': array([0.00229192, 0.0024209 , 0.00223827, 0.00232196, 0.00225115]),\n",
              " 'test_score': array([0.67605634, 0.6056338 , 0.71428571, 0.72857143, 0.77142857])}"
            ]
          },
          "metadata": {
            "tags": []
          },
          "execution_count": 24
        }
      ]
    },
    {
      "cell_type": "code",
      "metadata": {
        "id": "hunchZa8rEQx"
      },
      "source": [
        "from sklearn.model_selection import RepeatedStratifiedKFold"
      ],
      "execution_count": null,
      "outputs": []
    },
    {
      "cell_type": "code",
      "metadata": {
        "id": "DTHLcQKQutkb",
        "colab": {
          "base_uri": "https://localhost:8080/"
        },
        "outputId": "558f57a1-8bd8-492b-8428-6c79e59f51b1"
      },
      "source": [
        "cv = RepeatedStratifiedKFold(n_splits = 5, n_repeats = 10)\n",
        "cross_validate(modelo, x, y, cv = cv)"
      ],
      "execution_count": 28,
      "outputs": [
        {
          "output_type": "execute_result",
          "data": {
            "text/plain": [
              "{'fit_time': array([0.67148232, 0.27660632, 0.66390657, 0.78517103, 0.5679605 ,\n",
              "        0.56971288, 0.22172379, 0.15842915, 0.62874794, 0.2357347 ,\n",
              "        0.56823039, 0.51588583, 0.64804792, 0.2536335 , 0.60821104,\n",
              "        0.64481068, 0.52425599, 0.23909163, 0.33124876, 0.60460043,\n",
              "        0.61804438, 0.23728061, 0.55578327, 0.67018533, 0.50881815,\n",
              "        0.5141356 , 0.6903224 , 0.55404329, 0.62101579, 0.65475845,\n",
              "        0.575068  , 0.60293531, 0.55347681, 0.60208178, 0.34177971,\n",
              "        0.61364174, 0.22127342, 0.16210604, 0.28454781, 0.6120193 ,\n",
              "        0.56020832, 0.61032343, 0.56884384, 0.59314251, 0.19878364,\n",
              "        0.17300677, 0.58380723, 0.66430211, 0.6838398 , 0.67226434]),\n",
              " 'score_time': array([0.00238752, 0.00228   , 0.002321  , 0.00228548, 0.00228262,\n",
              "        0.0022316 , 0.00241852, 0.00223994, 0.00221658, 0.00220656,\n",
              "        0.00227094, 0.00233269, 0.00229645, 0.00226402, 0.00221157,\n",
              "        0.0022788 , 0.00229526, 0.00226092, 0.0023222 , 0.00231171,\n",
              "        0.00228405, 0.00233603, 0.00230026, 0.0023396 , 0.00234532,\n",
              "        0.00221872, 0.00229812, 0.00245905, 0.00231624, 0.00230575,\n",
              "        0.00226402, 0.00229478, 0.00246882, 0.00232673, 0.00235581,\n",
              "        0.00230002, 0.00227118, 0.00228238, 0.00225711, 0.00221515,\n",
              "        0.00236249, 0.00234795, 0.00233054, 0.00417304, 0.00237608,\n",
              "        0.00231481, 0.00224829, 0.00224543, 0.00229478, 0.00235915]),\n",
              " 'test_score': array([0.73239437, 0.70422535, 0.64285714, 0.7       , 0.75714286,\n",
              "        0.67605634, 0.69014085, 0.7       , 0.81428571, 0.64285714,\n",
              "        0.70422535, 0.70422535, 0.74285714, 0.67142857, 0.68571429,\n",
              "        0.8028169 , 0.71830986, 0.65714286, 0.72857143, 0.64285714,\n",
              "        0.66197183, 0.8028169 , 0.74285714, 0.71428571, 0.61428571,\n",
              "        0.64788732, 0.77464789, 0.71428571, 0.7       , 0.8       ,\n",
              "        0.76056338, 0.6056338 , 0.68571429, 0.7       , 0.71428571,\n",
              "        0.70422535, 0.69014085, 0.8       , 0.62857143, 0.72857143,\n",
              "        0.71830986, 0.69014085, 0.68571429, 0.74285714, 0.7       ,\n",
              "        0.69014085, 0.67605634, 0.72857143, 0.71428571, 0.67142857])}"
            ]
          },
          "metadata": {
            "tags": []
          },
          "execution_count": 28
        }
      ]
    },
    {
      "cell_type": "code",
      "metadata": {
        "id": "wA17-8jd1WlI"
      },
      "source": [
        "def roda_modelo_cv(modelo, dados, n_splits, n_repeats):\n",
        "\n",
        "    np.random.seed(1231234) # lembrando sempre que é para valor didático\n",
        "    dados = dados.sample(frac = 1).reset_index(drop = True) # embaralha\n",
        "    x_columns = dados.columns\n",
        "    y = dados[\"ICU\"]\n",
        "    x = dados[x_columns].drop([\"ICU\",\"WINDOW\"], axis=1)\n",
        "\n",
        "    cv = RepeatedStratifiedKFold(n_splits = n_splits, n_repeats = n_repeats)\n",
        "    resultados = cross_validate(modelo, x, y, cv = cv, scoring = \"roc_auc\")\n",
        "\n",
        "    auc_medio = np.mean(resultados[\"test_score\"])\n",
        "    auc_std = np.std(resultados[\"test_score\"])\n",
        "\n",
        "    print(f\"AUC Médio {auc_medio}\") \n",
        "    print(f\"Intervalo {auc_medio - (2 * auc_std)} - {auc_medio + (2 * auc_std)}\")\n"
      ],
      "execution_count": 42,
      "outputs": []
    },
    {
      "cell_type": "code",
      "metadata": {
        "colab": {
          "base_uri": "https://localhost:8080/"
        },
        "id": "he2vpmaS3CYp",
        "outputId": "75265308-d955-4fff-e1b3-bae62231d40f"
      },
      "source": [
        "roda_modelo_cv(modelo, dados_limpos, 5, 10)"
      ],
      "execution_count": 43,
      "outputs": [
        {
          "output_type": "stream",
          "text": [
            "AUC Médio 0.7575511875511876\n",
            "Intervalo 0.6366273412799195 - 0.8784750338224556\n"
          ],
          "name": "stdout"
        }
      ]
    },
    {
      "cell_type": "code",
      "metadata": {
        "colab": {
          "base_uri": "https://localhost:8080/"
        },
        "id": "Rv7vMI9z3tEr",
        "outputId": "92e64274-1e93-4dd3-d74a-b48fba62e49e"
      },
      "source": [
        "roda_n_modelos(modelo, dados_limpos, 50)"
      ],
      "execution_count": 44,
      "outputs": [
        {
          "output_type": "stream",
          "text": [
            "AUC 0.7611728074727554\n",
            "Intervalo 0.6552383213129391 - 0.8671072936325717\n"
          ],
          "name": "stdout"
        }
      ]
    },
    {
      "cell_type": "markdown",
      "metadata": {
        "id": "WXdkWgIe6Zcz"
      },
      "source": [
        "# Desafio 01 - Testar outros splitter classes e observar as diferenças"
      ]
    },
    {
      "cell_type": "code",
      "metadata": {
        "id": "oPobFG4p4uyE"
      },
      "source": [
        ""
      ],
      "execution_count": null,
      "outputs": []
    }
  ]
}