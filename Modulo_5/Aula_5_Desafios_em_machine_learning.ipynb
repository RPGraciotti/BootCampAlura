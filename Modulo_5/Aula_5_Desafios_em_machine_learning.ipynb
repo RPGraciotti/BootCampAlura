{
  "nbformat": 4,
  "nbformat_minor": 0,
  "metadata": {
    "colab": {
      "name": "Aula_5_Desafios_em_machine_learning.ipynb",
      "provenance": [],
      "collapsed_sections": [],
      "authorship_tag": "ABX9TyMcE8fHMw+YGv2Hh0edby/D",
      "include_colab_link": true
    },
    "kernelspec": {
      "name": "python3",
      "display_name": "Python 3"
    },
    "language_info": {
      "name": "python"
    }
  },
  "cells": [
    {
      "cell_type": "markdown",
      "metadata": {
        "id": "view-in-github",
        "colab_type": "text"
      },
      "source": [
        "<a href=\"https://colab.research.google.com/github/RPGraciotti/BootCampAlura/blob/main/Modulo_5/Aula_5_Desafios_em_machine_learning.ipynb\" target=\"_parent\"><img src=\"https://colab.research.google.com/assets/colab-badge.svg\" alt=\"Open In Colab\"/></a>"
      ]
    },
    {
      "cell_type": "markdown",
      "metadata": {
        "id": "zvkhxGdE7hP2"
      },
      "source": [
        "Preparando o conteúdo anterior:"
      ]
    },
    {
      "cell_type": "code",
      "metadata": {
        "id": "wds3WQML7dNu"
      },
      "source": [
        "import pandas as pd\n",
        "import numpy as np\n",
        "import matplotlib.pyplot as plt\n",
        "from sklearn.model_selection import train_test_split\n",
        "from sklearn.linear_model import LogisticRegression\n",
        "from sklearn.dummy import DummyClassifier\n",
        "from sklearn.metrics import accuracy_score\n",
        "from sklearn.tree import DecisionTreeClassifier\n",
        "from sklearn.metrics import plot_confusion_matrix\n",
        "from sklearn.metrics import classification_report\n",
        "from sklearn.metrics import roc_auc_score\n",
        "from sklearn.model_selection import cross_validate\n",
        "from sklearn.model_selection import StratifiedKFold\n",
        "from sklearn.model_selection import RepeatedStratifiedKFold\n",
        "\n",
        "dados = pd.read_excel(\"https://github.com/alura-cursos/covid-19-clinical/blob/main/Kaggle_Sirio_Libanes_ICU_Prediction.xlsx?raw=true\")\n",
        "### também posso usar o link no meu repositório\n",
        "\n",
        "def preenche_tabela(dados):\n",
        "    features_continuas_colunas = dados.iloc[:, 13:-2].columns\n",
        "    features_continuas = dados.groupby(\"PATIENT_VISIT_IDENTIFIER\", as_index=False)[features_continuas_colunas].fillna(method='bfill').fillna(method='ffill')\n",
        "    features_categoricas = dados.iloc[:, :13]\n",
        "    saida = dados.iloc[:, -2:]\n",
        "    dados_finais = pd.concat([features_categoricas, features_continuas, saida], ignore_index=True,axis=1)\n",
        "    dados_finais.columns = dados.columns\n",
        "    return dados_finais\n",
        "\n",
        "dados_limpos = preenche_tabela(dados)\n",
        "a_remover = dados_limpos.query(\"WINDOW=='0-2' and ICU==1\")['PATIENT_VISIT_IDENTIFIER'].values\n",
        "dados_limpos = dados_limpos.query(\"PATIENT_VISIT_IDENTIFIER not in @a_remover\")\n",
        "dados_limpos = dados_limpos.dropna()\n",
        "\n",
        "def prepare_window(rows):\n",
        "    if(np.any(rows[\"ICU\"])):\n",
        "        rows.loc[rows[\"WINDOW\"]==\"0-2\", \"ICU\"] = 1\n",
        "    return rows.loc[rows[\"WINDOW\"] == \"0-2\"]\n",
        "\n",
        "dados_limpos = dados_limpos.groupby(\"PATIENT_VISIT_IDENTIFIER\").apply(prepare_window)\n",
        "dados_limpos.AGE_PERCENTIL = dados_limpos.AGE_PERCENTIL.astype(\"category\").cat.codes # transformando em variaveis categoricas\n",
        "\n",
        "modelo = LogisticRegression(max_iter=10000)\n",
        "modelo_arvore = DecisionTreeClassifier()\n",
        "\n"
      ],
      "execution_count": 1,
      "outputs": []
    },
    {
      "cell_type": "code",
      "metadata": {
        "id": "cKfe5xrvBFl2"
      },
      "source": [
        "def roda_modelo_cv(modelo, dados, n_splits, n_repeats):\n",
        "\n",
        "    np.random.seed(1231234) # lembrando sempre que é para valor didático\n",
        "    dados = dados.sample(frac = 1).reset_index(drop = True) # embaralha\n",
        "    x_columns = dados.columns\n",
        "    y = dados[\"ICU\"]\n",
        "    x = dados[x_columns].drop([\"ICU\",\"WINDOW\"], axis=1)\n",
        "\n",
        "    cv = RepeatedStratifiedKFold(n_splits = n_splits, n_repeats = n_repeats)\n",
        "    resultados = cross_validate(modelo, x, y, cv = cv, scoring = \"roc_auc\")\n",
        "\n",
        "    auc_medio = np.mean(resultados[\"test_score\"])\n",
        "    auc_std = np.std(resultados[\"test_score\"])\n",
        "\n",
        "    print(f\"AUC Médio {auc_medio}\") \n",
        "    print(f\"Intervalo {auc_medio - (2 * auc_std)} - {auc_medio + (2 * auc_std)}\")\n"
      ],
      "execution_count": 2,
      "outputs": []
    },
    {
      "cell_type": "code",
      "metadata": {
        "colab": {
          "base_uri": "https://localhost:8080/"
        },
        "id": "xTtAHOn073yi",
        "outputId": "9f06c2c0-1fac-409c-abab-d014032c75ec"
      },
      "source": [
        "roda_modelo_cv(modelo, dados_limpos, 5, 10)"
      ],
      "execution_count": 3,
      "outputs": [
        {
          "output_type": "stream",
          "text": [
            "AUC Médio 0.7575511875511876\n",
            "Intervalo 0.6366273412799195 - 0.8784750338224556\n"
          ],
          "name": "stdout"
        }
      ]
    },
    {
      "cell_type": "markdown",
      "metadata": {
        "id": "d0Fi5OdR98g0"
      },
      "source": [
        "# Aula 5"
      ]
    },
    {
      "cell_type": "code",
      "metadata": {
        "colab": {
          "base_uri": "https://localhost:8080/"
        },
        "id": "gh0gjz5p790x",
        "outputId": "335bad33-317e-49d2-9f3c-637d1ee937f8"
      },
      "source": [
        "roda_modelo_cv(modelo_arvore, dados_limpos, n_splits = 5, n_repeats = 10)"
      ],
      "execution_count": 4,
      "outputs": [
        {
          "output_type": "stream",
          "text": [
            "AUC Médio 0.6279279683391525\n",
            "Intervalo 0.4988394445682657 - 0.7570164921100394\n"
          ],
          "name": "stdout"
        }
      ]
    },
    {
      "cell_type": "code",
      "metadata": {
        "colab": {
          "base_uri": "https://localhost:8080/"
        },
        "id": "2RFLlDIB-G4B",
        "outputId": "054a59fa-4885-4758-b0c6-0c7c8f56badd"
      },
      "source": [
        "modelo_arvore = DecisionTreeClassifier(max_depth = 10)\n",
        "\n",
        "roda_modelo_cv(modelo_arvore, dados_limpos, n_splits = 5, n_repeats = 10)"
      ],
      "execution_count": 5,
      "outputs": [
        {
          "output_type": "stream",
          "text": [
            "AUC Médio 0.5917582923832925\n",
            "Intervalo 0.4430725313263285 - 0.7404440534402564\n"
          ],
          "name": "stdout"
        }
      ]
    },
    {
      "cell_type": "code",
      "metadata": {
        "id": "5EfMTF_xBHDC"
      },
      "source": [
        "def roda_modelo_cv(modelo, dados, n_splits, n_repeats):\n",
        "\n",
        "    np.random.seed(1231234) # lembrando sempre que é para valor didático\n",
        "    dados = dados.sample(frac = 1).reset_index(drop = True) # embaralha\n",
        "    x_columns = dados.columns\n",
        "    y = dados[\"ICU\"]\n",
        "    x = dados[x_columns].drop([\"ICU\",\"WINDOW\"], axis=1)\n",
        "\n",
        "    cv = RepeatedStratifiedKFold(n_splits = n_splits, n_repeats = n_repeats)\n",
        "    resultados = cross_validate(modelo, x, y, cv = cv, scoring = \"roc_auc\", return_train_score = True)\n",
        "\n",
        "    auc_medio = np.mean(resultados[\"test_score\"])\n",
        "    auc_medio_treino = np.mean(resultados[\"train_score\"])\n",
        "    auc_std = np.std(resultados[\"test_score\"])\n",
        "\n",
        "    print(f\"AUC {auc_medio} - {auc_medio_treino}\") \n",
        "    return auc_medio, auc_medio_treino\n",
        "\n",
        "   # print(f\"AUC Médio {auc_medio}\") \n",
        "   # print(f\"Intervalo {auc_medio - (2 * auc_std)} - {auc_medio + (2 * auc_std)}\")\n"
      ],
      "execution_count": 6,
      "outputs": []
    },
    {
      "cell_type": "code",
      "metadata": {
        "colab": {
          "base_uri": "https://localhost:8080/"
        },
        "id": "uzZMangDEaSa",
        "outputId": "642d6c1e-ef51-40d6-9407-8f42763f8e06"
      },
      "source": [
        "teste_lista = []\n",
        "treino_lista = []\n",
        "\n",
        "for i in range(1,20):\n",
        "  modelo_arvore = DecisionTreeClassifier(max_depth = i)\n",
        "  teste, treino = roda_modelo_cv(modelo_arvore, dados_limpos, 5, 10)\n",
        "  teste_lista.append(teste)\n",
        "  treino_lista.append(treino)"
      ],
      "execution_count": 7,
      "outputs": [
        {
          "output_type": "stream",
          "text": [
            "AUC 0.5755830262080263 - 0.6445982993536308\n",
            "AUC 0.6544700741411268 - 0.75415524801741\n",
            "AUC 0.6643847795163584 - 0.8243714304989842\n",
            "AUC 0.6554932930837536 - 0.8832038893699776\n",
            "AUC 0.6475058192163456 - 0.9275331115338461\n",
            "AUC 0.6239047951959137 - 0.9567921210944048\n",
            "AUC 0.6117738776455882 - 0.9745102329260463\n",
            "AUC 0.5987671815056683 - 0.9855938255169409\n",
            "AUC 0.5877544694814432 - 0.991376822665679\n",
            "AUC 0.5917582923832925 - 0.9946888385564852\n",
            "AUC 0.6009579413444545 - 0.9970452758822465\n",
            "AUC 0.6147261533363507 - 0.9986297665919551\n",
            "AUC 0.6212348996723998 - 0.9994661199548005\n",
            "AUC 0.6256292095025647 - 0.9998695491440995\n",
            "AUC 0.6279608630759947 - 0.9999883726808554\n",
            "AUC 0.6279279683391525 - 1.0\n",
            "AUC 0.6279279683391525 - 1.0\n",
            "AUC 0.6279279683391525 - 1.0\n",
            "AUC 0.6279279683391525 - 1.0\n"
          ],
          "name": "stdout"
        }
      ]
    },
    {
      "cell_type": "code",
      "metadata": {
        "colab": {
          "base_uri": "https://localhost:8080/",
          "height": 282
        },
        "id": "E_CRybHVEk1t",
        "outputId": "a65fa84a-4247-41cf-f95c-78c89ba5df9d"
      },
      "source": [
        "x = range(1, 20)\n",
        "plt.plot(x, teste_lista)\n",
        "plt.plot(x, treino_lista)\n",
        "\n",
        "# exemplo, escolher max_depth de 3"
      ],
      "execution_count": 9,
      "outputs": [
        {
          "output_type": "execute_result",
          "data": {
            "text/plain": [
              "[<matplotlib.lines.Line2D at 0x7f530e5fac10>]"
            ]
          },
          "metadata": {
            "tags": []
          },
          "execution_count": 9
        },
        {
          "output_type": "display_data",
          "data": {
            "image/png": "[encoded data removed]",
            "text/plain": [
              "<Figure size 432x288 with 1 Axes>"
            ]
          },
          "metadata": {
            "tags": [],
            "needs_background": "light"
          }
        }
      ]
    },
    {
      "cell_type": "code",
      "metadata": {
        "id": "vZPYeEAjGGYq"
      },
      "source": [
        "from sklearn.ensemble import RandomForestClassifier"
      ],
      "execution_count": 10,
      "outputs": []
    },
    {
      "cell_type": "code",
      "metadata": {
        "colab": {
          "base_uri": "https://localhost:8080/"
        },
        "id": "FlSmCcDWLCac",
        "outputId": "efe56d1c-ff18-46a1-b9ed-0e792f913075"
      },
      "source": [
        "teste_lista = []\n",
        "treino_lista = []\n",
        "\n",
        "# mudar n_estimators ao inves de max_depth\n",
        "\n",
        "for i in range(1,15):\n",
        "  modelo_arvore = RandomForestClassifier(max_depth = i)\n",
        "  teste, treino = roda_modelo_cv(modelo_arvore, dados_limpos, 5, 10)\n",
        "  teste_lista.append(teste)\n",
        "  treino_lista.append(treino)"
      ],
      "execution_count": 11,
      "outputs": [
        {
          "output_type": "stream",
          "text": [
            "AUC 0.7754785968683994 - 0.8549995635150238\n",
            "AUC 0.7868632672744513 - 0.8976687127896622\n",
            "AUC 0.7931550390103022 - 0.9403124842531797\n",
            "AUC 0.7983565832578993 - 0.9709123570096604\n",
            "AUC 0.7990938591103065 - 0.98788117359786\n",
            "AUC 0.8004527808310704 - 0.9959760554693325\n",
            "AUC 0.7994808369972844 - 0.9990287365273224\n",
            "AUC 0.7977776116427432 - 0.9998630161707951\n",
            "AUC 0.7963008103797579 - 0.9999847540078024\n",
            "AUC 0.7927381904931247 - 1.0\n",
            "AUC 0.7928442699577567 - 1.0\n",
            "AUC 0.7923345025647657 - 1.0\n",
            "AUC 0.7939161507500323 - 1.0\n",
            "AUC 0.7939437314108367 - 1.0\n"
          ],
          "name": "stdout"
        }
      ]
    },
    {
      "cell_type": "code",
      "metadata": {
        "colab": {
          "base_uri": "https://localhost:8080/",
          "height": 282
        },
        "id": "OhBWVUZ2LqXf",
        "outputId": "18ed25aa-fc2c-4d66-ca2a-93df260a0fb8"
      },
      "source": [
        "x = range(1, 15)\n",
        "plt.plot(x, teste_lista)\n",
        "plt.plot(x, treino_lista)\n"
      ],
      "execution_count": 12,
      "outputs": [
        {
          "output_type": "execute_result",
          "data": {
            "text/plain": [
              "[<matplotlib.lines.Line2D at 0x7f530e553510>]"
            ]
          },
          "metadata": {
            "tags": []
          },
          "execution_count": 12
        },
        {
          "output_type": "display_data",
          "data": {
            "image/png": "[encoded data removed]",
            "text/plain": [
              "<Figure size 432x288 with 1 Axes>"
            ]
          },
          "metadata": {
            "tags": [],
            "needs_background": "light"
          }
        }
      ]
    },
    {
      "cell_type": "code",
      "metadata": {
        "colab": {
          "base_uri": "https://localhost:8080/"
        },
        "id": "MP6Q9pMAQ5Qu",
        "outputId": "3ba0630c-daa8-4a82-eda1-ca84211c1313"
      },
      "source": [
        "modelo_arvore = RandomForestClassifier(n_estimators = 10)\n",
        "teste, treino = roda_modelo_cv(modelo_arvore, dados_limpos, 5, 10)"
      ],
      "execution_count": 13,
      "outputs": [
        {
          "output_type": "stream",
          "text": [
            "AUC 0.7428159147484805 - 0.999444041300827\n"
          ],
          "name": "stdout"
        }
      ]
    },
    {
      "cell_type": "code",
      "metadata": {
        "colab": {
          "base_uri": "https://localhost:8080/"
        },
        "id": "4C9sP4J4RTpG",
        "outputId": "a3014f1e-bb9c-4c99-8fc8-92b9b2aaf521"
      },
      "source": [
        "modelo_arvore = RandomForestClassifier(n_estimators = 100)\n",
        "teste, treino = roda_modelo_cv(modelo_arvore, dados_limpos, 5, 10)\n"
      ],
      "execution_count": 14,
      "outputs": [
        {
          "output_type": "stream",
          "text": [
            "AUC 0.7939557739557739 - 1.0\n"
          ],
          "name": "stdout"
        }
      ]
    },
    {
      "cell_type": "code",
      "metadata": {
        "colab": {
          "base_uri": "https://localhost:8080/"
        },
        "id": "3XMKOsjcRUf_",
        "outputId": "5d7ea66c-d7db-462b-95be-4e35fde77d5b"
      },
      "source": [
        "modelo_arvore = RandomForestClassifier(n_estimators = 200)\n",
        "teste, treino = roda_modelo_cv(modelo_arvore, dados_limpos, 5, 10)\n"
      ],
      "execution_count": 15,
      "outputs": [
        {
          "output_type": "stream",
          "text": [
            "AUC 0.7950421219664641 - 1.0\n"
          ],
          "name": "stdout"
        }
      ]
    },
    {
      "cell_type": "markdown",
      "metadata": {
        "id": "yXB_DU2yYB3O"
      },
      "source": [
        "# Desafio 01 - Deixar o gráfico de AUC \"bonitão\" (Silveira, Guilherme)"
      ]
    },
    {
      "cell_type": "code",
      "metadata": {
        "colab": {
          "base_uri": "https://localhost:8080/"
        },
        "id": "5NEstVbSt-g9",
        "outputId": "a8c5cde9-3087-4007-d114-3b1c4fbe3167"
      },
      "source": [
        "teste_lista_arvore = []\n",
        "treino_lista_arvore = []\n",
        "\n",
        "for i in range(1,21):\n",
        "  modelo_arvore = DecisionTreeClassifier(max_depth = i)\n",
        "  teste, treino = roda_modelo_cv(modelo_arvore, dados_limpos, 5, 10)\n",
        "  teste_lista_arvore.append(teste)\n",
        "  treino_lista_arvore.append(treino)"
      ],
      "execution_count": 75,
      "outputs": [
        {
          "output_type": "stream",
          "text": [
            "AUC 0.5755830262080263 - 0.6445982993536308\n",
            "AUC 0.6544700741411268 - 0.75415524801741\n",
            "AUC 0.6643847795163584 - 0.8243714304989842\n",
            "AUC 0.6554932930837536 - 0.8832038893699776\n",
            "AUC 0.6475058192163456 - 0.9275331115338461\n",
            "AUC 0.6239047951959137 - 0.9567921210944048\n",
            "AUC 0.6117738776455882 - 0.9745102329260463\n",
            "AUC 0.5987671815056683 - 0.9855938255169409\n",
            "AUC 0.5877544694814432 - 0.991376822665679\n",
            "AUC 0.5917582923832925 - 0.9946888385564852\n",
            "AUC 0.6009579413444545 - 0.9970452758822465\n",
            "AUC 0.6147261533363507 - 0.9986297665919551\n",
            "AUC 0.6212348996723998 - 0.9994661199548005\n",
            "AUC 0.6256292095025647 - 0.9998695491440995\n",
            "AUC 0.6279608630759947 - 0.9999883726808554\n",
            "AUC 0.6279279683391525 - 1.0\n",
            "AUC 0.6279279683391525 - 1.0\n",
            "AUC 0.6279279683391525 - 1.0\n",
            "AUC 0.6279279683391525 - 1.0\n",
            "AUC 0.6279279683391525 - 1.0\n"
          ],
          "name": "stdout"
        }
      ]
    },
    {
      "cell_type": "code",
      "metadata": {
        "id": "EN-hjWXgyexF"
      },
      "source": [
        "lista_arvore = pd.DataFrame({\n",
        "    \"teste\": teste_lista_arvore,\n",
        "    \"treino\": treino_lista_arvore,\n",
        "    \"x\": list(range(1, 21))})"
      ],
      "execution_count": 119,
      "outputs": []
    },
    {
      "cell_type": "code",
      "metadata": {
        "colab": {
          "base_uri": "https://localhost:8080/",
          "height": 415
        },
        "id": "VyHYnTA_t1u6",
        "outputId": "4fcdc8df-6edd-4c00-987d-77ebd09bc4c7"
      },
      "source": [
        "plt.figure(figsize = (10, 6))\n",
        "ax = plt.gca()\n",
        "plt.title(\"AUC teste e treino árvore de decisão\", fontsize = 15)\n",
        "lista_arvore.plot(kind='line', x=\"x\", y='teste',ax=ax)\n",
        "lista_arvore.plot(kind='line', x=\"x\", y='treino', ax=ax)\n",
        "plt.legend(fontsize = 15, labels = [\"Teste\", \"Treino\"])\n",
        "plt.xlabel(\"Max depth\", fontsize = 15)\n",
        "plt.xticks(list(range(1,21)))\n",
        "plt.tick_params(axis = \"both\", which = \"major\", labelsize = 14)\n",
        "plt.show()\n",
        "# exemplo, escolher max_depth de 3"
      ],
      "execution_count": 187,
      "outputs": [
        {
          "output_type": "display_data",
          "data": {
            "image/png": "[encoded data removed]",
            "text/plain": [
              "<Figure size 720x432 with 1 Axes>"
            ]
          },
          "metadata": {
            "tags": [],
            "needs_background": "light"
          }
        }
      ]
    },
    {
      "cell_type": "markdown",
      "metadata": {
        "id": "y5Pd6AUoYI7b"
      },
      "source": [
        "# Desafio 02 - Criar um sobreajuste com outra base de dados, outro modelo de ML e plotar o gráfico para análise (dica:base do titanic)"
      ]
    },
    {
      "cell_type": "code",
      "metadata": {
        "colab": {
          "base_uri": "https://localhost:8080/",
          "height": 445
        },
        "id": "id0josEe8HCp",
        "outputId": "93e9ce6b-9f15-4636-c28a-e662735add1d"
      },
      "source": [
        "# Vou fazer bem simples, sem entrar em muitos detalhes do que é necessário corrigr do dataset do titanic, só\n",
        "# para poder estudar o proposto no desafio\n",
        "\n",
        "tc = pd.read_csv(\"https://raw.githubusercontent.com/RPGraciotti/BootCampAlura/main/Data/train.csv\")\n",
        "tc"
      ],
      "execution_count": 163,
      "outputs": [
        {
          "output_type": "execute_result",
          "data": {
            "text/html": [
              "<div>\n",
              "<style scoped>\n",
              "    .dataframe tbody tr th:only-of-type {\n",
              "        vertical-align: middle;\n",
              "    }\n",
              "\n",
              "    .dataframe tbody tr th {\n",
              "        vertical-align: top;\n",
              "    }\n",
              "\n",
              "    .dataframe thead th {\n",
              "        text-align: right;\n",
              "    }\n",
              "</style>\n",
              "<table border=\"1\" class=\"dataframe\">\n",
              "  <thead>\n",
              "    <tr style=\"text-align: right;\">\n",
              "      <th></th>\n",
              "      <th>PassengerId</th>\n",
              "      <th>Survived</th>\n",
              "      <th>Pclass</th>\n",
              "      <th>Name</th>\n",
              "      <th>Sex</th>\n",
              "      <th>Age</th>\n",
              "      <th>SibSp</th>\n",
              "      <th>Parch</th>\n",
              "      <th>Ticket</th>\n",
              "      <th>Fare</th>\n",
              "      <th>Cabin</th>\n",
              "      <th>Embarked</th>\n",
              "    </tr>\n",
              "  </thead>\n",
              "  <tbody>\n",
              "    <tr>\n",
              "      <th>0</th>\n",
              "      <td>1</td>\n",
              "      <td>0</td>\n",
              "      <td>3</td>\n",
              "      <td>Braund, Mr. Owen Harris</td>\n",
              "      <td>male</td>\n",
              "      <td>22.0</td>\n",
              "      <td>1</td>\n",
              "      <td>0</td>\n",
              "      <td>A/5 21171</td>\n",
              "      <td>7.2500</td>\n",
              "      <td>NaN</td>\n",
              "      <td>S</td>\n",
              "    </tr>\n",
              "    <tr>\n",
              "      <th>1</th>\n",
              "      <td>2</td>\n",
              "      <td>1</td>\n",
              "      <td>1</td>\n",
              "      <td>Cumings, Mrs. John Bradley (Florence Briggs Th...</td>\n",
              "      <td>female</td>\n",
              "      <td>38.0</td>\n",
              "      <td>1</td>\n",
              "      <td>0</td>\n",
              "      <td>PC 17599</td>\n",
              "      <td>71.2833</td>\n",
              "      <td>C85</td>\n",
              "      <td>C</td>\n",
              "    </tr>\n",
              "    <tr>\n",
              "      <th>2</th>\n",
              "      <td>3</td>\n",
              "      <td>1</td>\n",
              "      <td>3</td>\n",
              "      <td>Heikkinen, Miss. Laina</td>\n",
              "      <td>female</td>\n",
              "      <td>26.0</td>\n",
              "      <td>0</td>\n",
              "      <td>0</td>\n",
              "      <td>STON/O2. 3101282</td>\n",
              "      <td>7.9250</td>\n",
              "      <td>NaN</td>\n",
              "      <td>S</td>\n",
              "    </tr>\n",
              "    <tr>\n",
              "      <th>3</th>\n",
              "      <td>4</td>\n",
              "      <td>1</td>\n",
              "      <td>1</td>\n",
              "      <td>Futrelle, Mrs. Jacques Heath (Lily May Peel)</td>\n",
              "      <td>female</td>\n",
              "      <td>35.0</td>\n",
              "      <td>1</td>\n",
              "      <td>0</td>\n",
              "      <td>113803</td>\n",
              "      <td>53.1000</td>\n",
              "      <td>C123</td>\n",
              "      <td>S</td>\n",
              "    </tr>\n",
              "    <tr>\n",
              "      <th>4</th>\n",
              "      <td>5</td>\n",
              "      <td>0</td>\n",
              "      <td>3</td>\n",
              "      <td>Allen, Mr. William Henry</td>\n",
              "      <td>male</td>\n",
              "      <td>35.0</td>\n",
              "      <td>0</td>\n",
              "      <td>0</td>\n",
              "      <td>373450</td>\n",
              "      <td>8.0500</td>\n",
              "      <td>NaN</td>\n",
              "      <td>S</td>\n",
              "    </tr>\n",
              "    <tr>\n",
              "      <th>...</th>\n",
              "      <td>...</td>\n",
              "      <td>...</td>\n",
              "      <td>...</td>\n",
              "      <td>...</td>\n",
              "      <td>...</td>\n",
              "      <td>...</td>\n",
              "      <td>...</td>\n",
              "      <td>...</td>\n",
              "      <td>...</td>\n",
              "      <td>...</td>\n",
              "      <td>...</td>\n",
              "      <td>...</td>\n",
              "    </tr>\n",
              "    <tr>\n",
              "      <th>886</th>\n",
              "      <td>887</td>\n",
              "      <td>0</td>\n",
              "      <td>2</td>\n",
              "      <td>Montvila, Rev. Juozas</td>\n",
              "      <td>male</td>\n",
              "      <td>27.0</td>\n",
              "      <td>0</td>\n",
              "      <td>0</td>\n",
              "      <td>211536</td>\n",
              "      <td>13.0000</td>\n",
              "      <td>NaN</td>\n",
              "      <td>S</td>\n",
              "    </tr>\n",
              "    <tr>\n",
              "      <th>887</th>\n",
              "      <td>888</td>\n",
              "      <td>1</td>\n",
              "      <td>1</td>\n",
              "      <td>Graham, Miss. Margaret Edith</td>\n",
              "      <td>female</td>\n",
              "      <td>19.0</td>\n",
              "      <td>0</td>\n",
              "      <td>0</td>\n",
              "      <td>112053</td>\n",
              "      <td>30.0000</td>\n",
              "      <td>B42</td>\n",
              "      <td>S</td>\n",
              "    </tr>\n",
              "    <tr>\n",
              "      <th>888</th>\n",
              "      <td>889</td>\n",
              "      <td>0</td>\n",
              "      <td>3</td>\n",
              "      <td>Johnston, Miss. Catherine Helen \"Carrie\"</td>\n",
              "      <td>female</td>\n",
              "      <td>NaN</td>\n",
              "      <td>1</td>\n",
              "      <td>2</td>\n",
              "      <td>W./C. 6607</td>\n",
              "      <td>23.4500</td>\n",
              "      <td>NaN</td>\n",
              "      <td>S</td>\n",
              "    </tr>\n",
              "    <tr>\n",
              "      <th>889</th>\n",
              "      <td>890</td>\n",
              "      <td>1</td>\n",
              "      <td>1</td>\n",
              "      <td>Behr, Mr. Karl Howell</td>\n",
              "      <td>male</td>\n",
              "      <td>26.0</td>\n",
              "      <td>0</td>\n",
              "      <td>0</td>\n",
              "      <td>111369</td>\n",
              "      <td>30.0000</td>\n",
              "      <td>C148</td>\n",
              "      <td>C</td>\n",
              "    </tr>\n",
              "    <tr>\n",
              "      <th>890</th>\n",
              "      <td>891</td>\n",
              "      <td>0</td>\n",
              "      <td>3</td>\n",
              "      <td>Dooley, Mr. Patrick</td>\n",
              "      <td>male</td>\n",
              "      <td>32.0</td>\n",
              "      <td>0</td>\n",
              "      <td>0</td>\n",
              "      <td>370376</td>\n",
              "      <td>7.7500</td>\n",
              "      <td>NaN</td>\n",
              "      <td>Q</td>\n",
              "    </tr>\n",
              "  </tbody>\n",
              "</table>\n",
              "<p>891 rows × 12 columns</p>\n",
              "</div>"
            ],
            "text/plain": [
              "     PassengerId  Survived  Pclass  ...     Fare Cabin  Embarked\n",
              "0              1         0       3  ...   7.2500   NaN         S\n",
              "1              2         1       1  ...  71.2833   C85         C\n",
              "2              3         1       3  ...   7.9250   NaN         S\n",
              "3              4         1       1  ...  53.1000  C123         S\n",
              "4              5         0       3  ...   8.0500   NaN         S\n",
              "..           ...       ...     ...  ...      ...   ...       ...\n",
              "886          887         0       2  ...  13.0000   NaN         S\n",
              "887          888         1       1  ...  30.0000   B42         S\n",
              "888          889         0       3  ...  23.4500   NaN         S\n",
              "889          890         1       1  ...  30.0000  C148         C\n",
              "890          891         0       3  ...   7.7500   NaN         Q\n",
              "\n",
              "[891 rows x 12 columns]"
            ]
          },
          "metadata": {
            "tags": []
          },
          "execution_count": 163
        }
      ]
    },
    {
      "cell_type": "code",
      "metadata": {
        "colab": {
          "base_uri": "https://localhost:8080/",
          "height": 412
        },
        "id": "9Ivm_MAr_Z3w",
        "outputId": "a2a66bad-16c8-43ef-e354-fa817ea5676b"
      },
      "source": [
        "tc_data = tc.loc[:,[\"Survived\", \"Pclass\", \"Sex\", \"Age\", \"SibSp\", \"Parch\", \"Fare\", \"Embarked\"]]\n",
        "tc_data = tc_data.dropna()\n",
        "tc_data"
      ],
      "execution_count": 164,
      "outputs": [
        {
          "output_type": "execute_result",
          "data": {
            "text/html": [
              "<div>\n",
              "<style scoped>\n",
              "    .dataframe tbody tr th:only-of-type {\n",
              "        vertical-align: middle;\n",
              "    }\n",
              "\n",
              "    .dataframe tbody tr th {\n",
              "        vertical-align: top;\n",
              "    }\n",
              "\n",
              "    .dataframe thead th {\n",
              "        text-align: right;\n",
              "    }\n",
              "</style>\n",
              "<table border=\"1\" class=\"dataframe\">\n",
              "  <thead>\n",
              "    <tr style=\"text-align: right;\">\n",
              "      <th></th>\n",
              "      <th>Survived</th>\n",
              "      <th>Pclass</th>\n",
              "      <th>Sex</th>\n",
              "      <th>Age</th>\n",
              "      <th>SibSp</th>\n",
              "      <th>Parch</th>\n",
              "      <th>Fare</th>\n",
              "      <th>Embarked</th>\n",
              "    </tr>\n",
              "  </thead>\n",
              "  <tbody>\n",
              "    <tr>\n",
              "      <th>0</th>\n",
              "      <td>0</td>\n",
              "      <td>3</td>\n",
              "      <td>male</td>\n",
              "      <td>22.0</td>\n",
              "      <td>1</td>\n",
              "      <td>0</td>\n",
              "      <td>7.2500</td>\n",
              "      <td>S</td>\n",
              "    </tr>\n",
              "    <tr>\n",
              "      <th>1</th>\n",
              "      <td>1</td>\n",
              "      <td>1</td>\n",
              "      <td>female</td>\n",
              "      <td>38.0</td>\n",
              "      <td>1</td>\n",
              "      <td>0</td>\n",
              "      <td>71.2833</td>\n",
              "      <td>C</td>\n",
              "    </tr>\n",
              "    <tr>\n",
              "      <th>2</th>\n",
              "      <td>1</td>\n",
              "      <td>3</td>\n",
              "      <td>female</td>\n",
              "      <td>26.0</td>\n",
              "      <td>0</td>\n",
              "      <td>0</td>\n",
              "      <td>7.9250</td>\n",
              "      <td>S</td>\n",
              "    </tr>\n",
              "    <tr>\n",
              "      <th>3</th>\n",
              "      <td>1</td>\n",
              "      <td>1</td>\n",
              "      <td>female</td>\n",
              "      <td>35.0</td>\n",
              "      <td>1</td>\n",
              "      <td>0</td>\n",
              "      <td>53.1000</td>\n",
              "      <td>S</td>\n",
              "    </tr>\n",
              "    <tr>\n",
              "      <th>4</th>\n",
              "      <td>0</td>\n",
              "      <td>3</td>\n",
              "      <td>male</td>\n",
              "      <td>35.0</td>\n",
              "      <td>0</td>\n",
              "      <td>0</td>\n",
              "      <td>8.0500</td>\n",
              "      <td>S</td>\n",
              "    </tr>\n",
              "    <tr>\n",
              "      <th>...</th>\n",
              "      <td>...</td>\n",
              "      <td>...</td>\n",
              "      <td>...</td>\n",
              "      <td>...</td>\n",
              "      <td>...</td>\n",
              "      <td>...</td>\n",
              "      <td>...</td>\n",
              "      <td>...</td>\n",
              "    </tr>\n",
              "    <tr>\n",
              "      <th>885</th>\n",
              "      <td>0</td>\n",
              "      <td>3</td>\n",
              "      <td>female</td>\n",
              "      <td>39.0</td>\n",
              "      <td>0</td>\n",
              "      <td>5</td>\n",
              "      <td>29.1250</td>\n",
              "      <td>Q</td>\n",
              "    </tr>\n",
              "    <tr>\n",
              "      <th>886</th>\n",
              "      <td>0</td>\n",
              "      <td>2</td>\n",
              "      <td>male</td>\n",
              "      <td>27.0</td>\n",
              "      <td>0</td>\n",
              "      <td>0</td>\n",
              "      <td>13.0000</td>\n",
              "      <td>S</td>\n",
              "    </tr>\n",
              "    <tr>\n",
              "      <th>887</th>\n",
              "      <td>1</td>\n",
              "      <td>1</td>\n",
              "      <td>female</td>\n",
              "      <td>19.0</td>\n",
              "      <td>0</td>\n",
              "      <td>0</td>\n",
              "      <td>30.0000</td>\n",
              "      <td>S</td>\n",
              "    </tr>\n",
              "    <tr>\n",
              "      <th>889</th>\n",
              "      <td>1</td>\n",
              "      <td>1</td>\n",
              "      <td>male</td>\n",
              "      <td>26.0</td>\n",
              "      <td>0</td>\n",
              "      <td>0</td>\n",
              "      <td>30.0000</td>\n",
              "      <td>C</td>\n",
              "    </tr>\n",
              "    <tr>\n",
              "      <th>890</th>\n",
              "      <td>0</td>\n",
              "      <td>3</td>\n",
              "      <td>male</td>\n",
              "      <td>32.0</td>\n",
              "      <td>0</td>\n",
              "      <td>0</td>\n",
              "      <td>7.7500</td>\n",
              "      <td>Q</td>\n",
              "    </tr>\n",
              "  </tbody>\n",
              "</table>\n",
              "<p>712 rows × 8 columns</p>\n",
              "</div>"
            ],
            "text/plain": [
              "     Survived  Pclass     Sex   Age  SibSp  Parch     Fare Embarked\n",
              "0           0       3    male  22.0      1      0   7.2500        S\n",
              "1           1       1  female  38.0      1      0  71.2833        C\n",
              "2           1       3  female  26.0      0      0   7.9250        S\n",
              "3           1       1  female  35.0      1      0  53.1000        S\n",
              "4           0       3    male  35.0      0      0   8.0500        S\n",
              "..        ...     ...     ...   ...    ...    ...      ...      ...\n",
              "885         0       3  female  39.0      0      5  29.1250        Q\n",
              "886         0       2    male  27.0      0      0  13.0000        S\n",
              "887         1       1  female  19.0      0      0  30.0000        S\n",
              "889         1       1    male  26.0      0      0  30.0000        C\n",
              "890         0       3    male  32.0      0      0   7.7500        Q\n",
              "\n",
              "[712 rows x 8 columns]"
            ]
          },
          "metadata": {
            "tags": []
          },
          "execution_count": 164
        }
      ]
    },
    {
      "cell_type": "code",
      "metadata": {
        "colab": {
          "base_uri": "https://localhost:8080/",
          "height": 412
        },
        "id": "HAneU3TgBpIY",
        "outputId": "738281e0-744c-4265-ff2a-5af900639bc2"
      },
      "source": [
        "# https://www.kaggle.com/volhaleusha/titanic-tutorial-encoding-feature-eng-81-8 tutorialzinho sobre o ML com o dataset titanic\n",
        "\n",
        "columns = [\"Pclass\", \"Sex\", \"Embarked\"]\n",
        "#ohe == one-hot-encoder\n",
        "tc_ohe = pd.concat([tc_data, pd.get_dummies(tc_data[columns[0]])], axis = 1) \n",
        "tc_ohe = pd.concat([tc_ohe, pd.get_dummies(tc_data[columns[1]])], axis = 1) \n",
        "tc_ohe = pd.concat([tc_ohe, pd.get_dummies(tc_data[columns[2]])], axis = 1)\n",
        "tc_ohe = tc_ohe.drop(columns, axis = 1)\n",
        "tc_ohe"
      ],
      "execution_count": 165,
      "outputs": [
        {
          "output_type": "execute_result",
          "data": {
            "text/html": [
              "<div>\n",
              "<style scoped>\n",
              "    .dataframe tbody tr th:only-of-type {\n",
              "        vertical-align: middle;\n",
              "    }\n",
              "\n",
              "    .dataframe tbody tr th {\n",
              "        vertical-align: top;\n",
              "    }\n",
              "\n",
              "    .dataframe thead th {\n",
              "        text-align: right;\n",
              "    }\n",
              "</style>\n",
              "<table border=\"1\" class=\"dataframe\">\n",
              "  <thead>\n",
              "    <tr style=\"text-align: right;\">\n",
              "      <th></th>\n",
              "      <th>Survived</th>\n",
              "      <th>Age</th>\n",
              "      <th>SibSp</th>\n",
              "      <th>Parch</th>\n",
              "      <th>Fare</th>\n",
              "      <th>1</th>\n",
              "      <th>2</th>\n",
              "      <th>3</th>\n",
              "      <th>female</th>\n",
              "      <th>male</th>\n",
              "      <th>C</th>\n",
              "      <th>Q</th>\n",
              "      <th>S</th>\n",
              "    </tr>\n",
              "  </thead>\n",
              "  <tbody>\n",
              "    <tr>\n",
              "      <th>0</th>\n",
              "      <td>0</td>\n",
              "      <td>22.0</td>\n",
              "      <td>1</td>\n",
              "      <td>0</td>\n",
              "      <td>7.2500</td>\n",
              "      <td>0</td>\n",
              "      <td>0</td>\n",
              "      <td>1</td>\n",
              "      <td>0</td>\n",
              "      <td>1</td>\n",
              "      <td>0</td>\n",
              "      <td>0</td>\n",
              "      <td>1</td>\n",
              "    </tr>\n",
              "    <tr>\n",
              "      <th>1</th>\n",
              "      <td>1</td>\n",
              "      <td>38.0</td>\n",
              "      <td>1</td>\n",
              "      <td>0</td>\n",
              "      <td>71.2833</td>\n",
              "      <td>1</td>\n",
              "      <td>0</td>\n",
              "      <td>0</td>\n",
              "      <td>1</td>\n",
              "      <td>0</td>\n",
              "      <td>1</td>\n",
              "      <td>0</td>\n",
              "      <td>0</td>\n",
              "    </tr>\n",
              "    <tr>\n",
              "      <th>2</th>\n",
              "      <td>1</td>\n",
              "      <td>26.0</td>\n",
              "      <td>0</td>\n",
              "      <td>0</td>\n",
              "      <td>7.9250</td>\n",
              "      <td>0</td>\n",
              "      <td>0</td>\n",
              "      <td>1</td>\n",
              "      <td>1</td>\n",
              "      <td>0</td>\n",
              "      <td>0</td>\n",
              "      <td>0</td>\n",
              "      <td>1</td>\n",
              "    </tr>\n",
              "    <tr>\n",
              "      <th>3</th>\n",
              "      <td>1</td>\n",
              "      <td>35.0</td>\n",
              "      <td>1</td>\n",
              "      <td>0</td>\n",
              "      <td>53.1000</td>\n",
              "      <td>1</td>\n",
              "      <td>0</td>\n",
              "      <td>0</td>\n",
              "      <td>1</td>\n",
              "      <td>0</td>\n",
              "      <td>0</td>\n",
              "      <td>0</td>\n",
              "      <td>1</td>\n",
              "    </tr>\n",
              "    <tr>\n",
              "      <th>4</th>\n",
              "      <td>0</td>\n",
              "      <td>35.0</td>\n",
              "      <td>0</td>\n",
              "      <td>0</td>\n",
              "      <td>8.0500</td>\n",
              "      <td>0</td>\n",
              "      <td>0</td>\n",
              "      <td>1</td>\n",
              "      <td>0</td>\n",
              "      <td>1</td>\n",
              "      <td>0</td>\n",
              "      <td>0</td>\n",
              "      <td>1</td>\n",
              "    </tr>\n",
              "    <tr>\n",
              "      <th>...</th>\n",
              "      <td>...</td>\n",
              "      <td>...</td>\n",
              "      <td>...</td>\n",
              "      <td>...</td>\n",
              "      <td>...</td>\n",
              "      <td>...</td>\n",
              "      <td>...</td>\n",
              "      <td>...</td>\n",
              "      <td>...</td>\n",
              "      <td>...</td>\n",
              "      <td>...</td>\n",
              "      <td>...</td>\n",
              "      <td>...</td>\n",
              "    </tr>\n",
              "    <tr>\n",
              "      <th>885</th>\n",
              "      <td>0</td>\n",
              "      <td>39.0</td>\n",
              "      <td>0</td>\n",
              "      <td>5</td>\n",
              "      <td>29.1250</td>\n",
              "      <td>0</td>\n",
              "      <td>0</td>\n",
              "      <td>1</td>\n",
              "      <td>1</td>\n",
              "      <td>0</td>\n",
              "      <td>0</td>\n",
              "      <td>1</td>\n",
              "      <td>0</td>\n",
              "    </tr>\n",
              "    <tr>\n",
              "      <th>886</th>\n",
              "      <td>0</td>\n",
              "      <td>27.0</td>\n",
              "      <td>0</td>\n",
              "      <td>0</td>\n",
              "      <td>13.0000</td>\n",
              "      <td>0</td>\n",
              "      <td>1</td>\n",
              "      <td>0</td>\n",
              "      <td>0</td>\n",
              "      <td>1</td>\n",
              "      <td>0</td>\n",
              "      <td>0</td>\n",
              "      <td>1</td>\n",
              "    </tr>\n",
              "    <tr>\n",
              "      <th>887</th>\n",
              "      <td>1</td>\n",
              "      <td>19.0</td>\n",
              "      <td>0</td>\n",
              "      <td>0</td>\n",
              "      <td>30.0000</td>\n",
              "      <td>1</td>\n",
              "      <td>0</td>\n",
              "      <td>0</td>\n",
              "      <td>1</td>\n",
              "      <td>0</td>\n",
              "      <td>0</td>\n",
              "      <td>0</td>\n",
              "      <td>1</td>\n",
              "    </tr>\n",
              "    <tr>\n",
              "      <th>889</th>\n",
              "      <td>1</td>\n",
              "      <td>26.0</td>\n",
              "      <td>0</td>\n",
              "      <td>0</td>\n",
              "      <td>30.0000</td>\n",
              "      <td>1</td>\n",
              "      <td>0</td>\n",
              "      <td>0</td>\n",
              "      <td>0</td>\n",
              "      <td>1</td>\n",
              "      <td>1</td>\n",
              "      <td>0</td>\n",
              "      <td>0</td>\n",
              "    </tr>\n",
              "    <tr>\n",
              "      <th>890</th>\n",
              "      <td>0</td>\n",
              "      <td>32.0</td>\n",
              "      <td>0</td>\n",
              "      <td>0</td>\n",
              "      <td>7.7500</td>\n",
              "      <td>0</td>\n",
              "      <td>0</td>\n",
              "      <td>1</td>\n",
              "      <td>0</td>\n",
              "      <td>1</td>\n",
              "      <td>0</td>\n",
              "      <td>1</td>\n",
              "      <td>0</td>\n",
              "    </tr>\n",
              "  </tbody>\n",
              "</table>\n",
              "<p>712 rows × 13 columns</p>\n",
              "</div>"
            ],
            "text/plain": [
              "     Survived   Age  SibSp  Parch     Fare  1  2  3  female  male  C  Q  S\n",
              "0           0  22.0      1      0   7.2500  0  0  1       0     1  0  0  1\n",
              "1           1  38.0      1      0  71.2833  1  0  0       1     0  1  0  0\n",
              "2           1  26.0      0      0   7.9250  0  0  1       1     0  0  0  1\n",
              "3           1  35.0      1      0  53.1000  1  0  0       1     0  0  0  1\n",
              "4           0  35.0      0      0   8.0500  0  0  1       0     1  0  0  1\n",
              "..        ...   ...    ...    ...      ... .. .. ..     ...   ... .. .. ..\n",
              "885         0  39.0      0      5  29.1250  0  0  1       1     0  0  1  0\n",
              "886         0  27.0      0      0  13.0000  0  1  0       0     1  0  0  1\n",
              "887         1  19.0      0      0  30.0000  1  0  0       1     0  0  0  1\n",
              "889         1  26.0      0      0  30.0000  1  0  0       0     1  1  0  0\n",
              "890         0  32.0      0      0   7.7500  0  0  1       0     1  0  1  0\n",
              "\n",
              "[712 rows x 13 columns]"
            ]
          },
          "metadata": {
            "tags": []
          },
          "execution_count": 165
        }
      ]
    },
    {
      "cell_type": "code",
      "metadata": {
        "colab": {
          "base_uri": "https://localhost:8080/"
        },
        "id": "KetitGmWIDRd",
        "outputId": "6d7eb908-c413-4941-9ff0-99bc141b3f41"
      },
      "source": [
        "tc_ohe.columns"
      ],
      "execution_count": 166,
      "outputs": [
        {
          "output_type": "execute_result",
          "data": {
            "text/plain": [
              "Index(['Survived',      'Age',    'SibSp',    'Parch',     'Fare',          1,\n",
              "                2,          3,   'female',     'male',        'C',        'Q',\n",
              "              'S'],\n",
              "      dtype='object')"
            ]
          },
          "metadata": {
            "tags": []
          },
          "execution_count": 166
        }
      ]
    },
    {
      "cell_type": "code",
      "metadata": {
        "id": "6GwGDw_jHoCi"
      },
      "source": [
        "def roda_modelo_cv_titanic(modelo, dados, n_splits, n_repeats):\n",
        "\n",
        "    np.random.seed(1231234) # lembrando sempre que é para valor didático\n",
        "    dados = dados.sample(frac = 1).reset_index(drop = True) # embaralha\n",
        "    x_columns = dados.columns\n",
        "    y = dados[\"Survived\"]\n",
        "    x = dados[x_columns].drop([\"Survived\"], axis=1)\n",
        "\n",
        "    cv = RepeatedStratifiedKFold(n_splits = n_splits, n_repeats = n_repeats)\n",
        "    resultados = cross_validate(modelo, x, y, cv = cv, scoring = \"roc_auc\", return_train_score = True)\n",
        "\n",
        "    auc_medio = np.mean(resultados[\"test_score\"])\n",
        "    auc_medio_treino = np.mean(resultados[\"train_score\"])\n",
        "    auc_std = np.std(resultados[\"test_score\"])\n",
        "\n",
        "    print(f\"AUC {auc_medio} - {auc_medio_treino}\") \n",
        "    return auc_medio, auc_medio_treino\n"
      ],
      "execution_count": 168,
      "outputs": []
    },
    {
      "cell_type": "code",
      "metadata": {
        "colab": {
          "base_uri": "https://localhost:8080/"
        },
        "id": "FJTU3YU3IldI",
        "outputId": "dd20325f-f5e4-4e52-b425-402d0f28e3a9"
      },
      "source": [
        "teste_lista = []\n",
        "treino_lista = []\n",
        "\n",
        "for i in range(1, 21):\n",
        "  modelo_arvore = DecisionTreeClassifier(max_depth = i)\n",
        "  teste, treino = roda_modelo_cv_titanic(modelo_arvore, tc_ohe, 5, 10)\n",
        "  teste_lista.append(teste)\n",
        "  treino_lista.append(treino)"
      ],
      "execution_count": 183,
      "outputs": [
        {
          "output_type": "stream",
          "text": [
            "AUC 0.7630304513820046 - 0.7630675139691053\n",
            "AUC 0.8069971518552974 - 0.8260652657945429\n",
            "AUC 0.847018674983605 - 0.8737853425176197\n",
            "AUC 0.8416610390072543 - 0.8947291292374798\n",
            "AUC 0.8305960387784879 - 0.9172517159104013\n",
            "AUC 0.8196813026481009 - 0.9337129884565436\n",
            "AUC 0.80799224481081 - 0.9489087733772488\n",
            "AUC 0.7930578055178513 - 0.9613528827287559\n",
            "AUC 0.7791308214755958 - 0.9724016746286002\n",
            "AUC 0.7746794826823651 - 0.9810793829066367\n",
            "AUC 0.7656856415887588 - 0.9879196708305438\n",
            "AUC 0.7597464846192561 - 0.9924855192798259\n",
            "AUC 0.7604453412944125 - 0.9957219550434\n",
            "AUC 0.7611539421576253 - 0.99748758444439\n",
            "AUC 0.7563081321457801 - 0.9984906626068759\n",
            "AUC 0.7550298845491008 - 0.999084167996486\n",
            "AUC 0.7526065112070235 - 0.9993970709353617\n",
            "AUC 0.7518369160731443 - 0.9995369544217234\n",
            "AUC 0.7507409993035327 - 0.9996203412287065\n",
            "AUC 0.7517660365416584 - 0.9996538773082659\n"
          ],
          "name": "stdout"
        }
      ]
    },
    {
      "cell_type": "code",
      "metadata": {
        "id": "QRC5dtKqJPl-"
      },
      "source": [
        "lista_arvore = pd.DataFrame({\n",
        "    \"teste\": teste_lista,\n",
        "    \"treino\": treino_lista,\n",
        "    \"x\": list(range(1, 21))})"
      ],
      "execution_count": 184,
      "outputs": []
    },
    {
      "cell_type": "code",
      "metadata": {
        "colab": {
          "base_uri": "https://localhost:8080/",
          "height": 415
        },
        "id": "1ZokY-56JPl_",
        "outputId": "dacd7c57-71a6-41e4-b3bb-e4b1986fd80f"
      },
      "source": [
        "plt.figure(figsize = (10, 6))\n",
        "ax = plt.gca()\n",
        "plt.title(\"AUC teste e treino árvore de decisão - Titanic\", fontsize = 15)\n",
        "lista_arvore.plot(kind='line', x=\"x\", y='teste',ax=ax)\n",
        "lista_arvore.plot(kind='line', x=\"x\", y='treino', ax=ax)\n",
        "plt.legend(fontsize = 15, labels = [\"Teste\", \"Treino\"])\n",
        "plt.xlabel(\"Max depth\", fontsize = 15)\n",
        "plt.xticks(list(range(1,21)))\n",
        "plt.tick_params(axis = \"both\", which = \"major\", labelsize = 14)\n",
        "plt.show()\n",
        "# exemplo, escolher max_depth de 3"
      ],
      "execution_count": 186,
      "outputs": [
        {
          "output_type": "display_data",
          "data": {
            "image/png": "[encoded data removed]",
            "text/plain": [
              "<Figure size 720x432 with 1 Axes>"
            ]
          },
          "metadata": {
            "tags": [],
            "needs_background": "light"
          }
        }
      ]
    },
    {
      "cell_type": "markdown",
      "metadata": {
        "id": "SRd3cbseNpHc"
      },
      "source": [
        "O Resultado aqui foi bastante semelhante ao observado para o dataset do sírio-libanês, inclusive dando o mesmo valor \"ótimo\" de max depth de 3. Porém, a queda nos valores de AUC é relativamente mais brusca após o valor de 3, apenas estabilizando em valores mais baixos por volta do valor de 12. "
      ]
    },
    {
      "cell_type": "code",
      "metadata": {
        "id": "uqpLdBW9L1vq"
      },
      "source": [
        "from sklearn.neighbors import KNeighborsClassifier"
      ],
      "execution_count": 188,
      "outputs": []
    },
    {
      "cell_type": "code",
      "metadata": {
        "colab": {
          "base_uri": "https://localhost:8080/"
        },
        "id": "RsDFaXh5KyIS",
        "outputId": "69eb56d4-aad8-4460-bab6-802449f4ce28"
      },
      "source": [
        "teste_lista = []\n",
        "treino_lista = []\n",
        "\n",
        "for i in range(1, 21):\n",
        "  modelo_knn = KNeighborsClassifier(n_neighbors = i)\n",
        "  teste, treino = roda_modelo_cv_titanic(modelo_knn, tc_ohe, 5, 10)\n",
        "  teste_lista.append(teste)\n",
        "  treino_lista.append(treino)"
      ],
      "execution_count": 189,
      "outputs": [
        {
          "output_type": "stream",
          "text": [
            "AUC 0.6496533880339794 - 0.9875013210502991\n",
            "AUC 0.6970146474197664 - 0.9424824828547436\n",
            "AUC 0.7244897576090327 - 0.9122482492335842\n",
            "AUC 0.7246744345651146 - 0.8900143096146196\n",
            "AUC 0.7229221862973865 - 0.8690247057683708\n",
            "AUC 0.7268186058452418 - 0.8499941652289071\n",
            "AUC 0.7296929468702181 - 0.8387994704073989\n",
            "AUC 0.7317098273066033 - 0.8320470418519408\n",
            "AUC 0.7322132066982873 - 0.8246440301861413\n",
            "AUC 0.7359160782280244 - 0.8181465097069878\n",
            "AUC 0.7358751328117453 - 0.8115905209913551\n",
            "AUC 0.73459135541694 - 0.8062824489768857\n",
            "AUC 0.7340528972024382 - 0.8009968909235201\n",
            "AUC 0.7342976838648344 - 0.7958450286848098\n",
            "AUC 0.7335621749607283 - 0.7916436158363913\n",
            "AUC 0.7338928190150834 - 0.7876287688806678\n",
            "AUC 0.7325173481370771 - 0.7848119307491908\n",
            "AUC 0.732631857280117 - 0.7823202602246023\n",
            "AUC 0.7333560117331868 - 0.7809561020429954\n",
            "AUC 0.7344538348914884 - 0.7790710534687832\n"
          ],
          "name": "stdout"
        }
      ]
    },
    {
      "cell_type": "code",
      "metadata": {
        "id": "TdGFcW2xKyIf"
      },
      "source": [
        "lista_knn = pd.DataFrame({\n",
        "    \"teste\": teste_lista,\n",
        "    \"treino\": treino_lista,\n",
        "    \"x\": list(range(1, 21))})"
      ],
      "execution_count": 190,
      "outputs": []
    },
    {
      "cell_type": "code",
      "metadata": {
        "colab": {
          "base_uri": "https://localhost:8080/",
          "height": 419
        },
        "id": "QJ6qRfnvKyIf",
        "outputId": "c523bcc5-c9ec-4ba8-abce-6325f172f2c4"
      },
      "source": [
        "plt.figure(figsize = (10, 6))\n",
        "ax = plt.gca()\n",
        "plt.title(\"AUC teste e treino KNN - Titanic\", fontsize = 15)\n",
        "lista_knn.plot(kind='line', x=\"x\", y='teste',ax=ax)\n",
        "lista_knn.plot(kind='line', x=\"x\", y='treino', ax=ax)\n",
        "plt.legend(fontsize = 15, labels = [\"Teste\", \"Treino\"])\n",
        "plt.xlabel(\"K\", fontsize = 20)\n",
        "plt.xticks(list(range(1,21)))\n",
        "plt.tick_params(axis = \"both\", which = \"major\", labelsize = 14)\n",
        "plt.show()\n",
        "# exemplo, escolher max_depth de 3"
      ],
      "execution_count": 193,
      "outputs": [
        {
          "output_type": "display_data",
          "data": {
            "image/png": "[encoded data removed]",
            "text/plain": [
              "<Figure size 720x432 with 1 Axes>"
            ]
          },
          "metadata": {
            "tags": [],
            "needs_background": "light"
          }
        }
      ]
    },
    {
      "cell_type": "markdown",
      "metadata": {
        "id": "NyPpoVzHODCk"
      },
      "source": [
        "Aqui podemos ver que o KNN tem um comportamento diferente, em que a AUC do treino diminui conforme se aumenta muito o valor de K, a medida que a AUC do teste mantém-se relativamente estável. Nesse caso também podemos escolher o valor de 3 para K (o valor iterável relativamente comparável com o max_depth do decision tree), pois há o melhor compromisso entre AUC treino/teste."
      ]
    },
    {
      "cell_type": "markdown",
      "metadata": {
        "id": "72dSJGSTYRq2"
      },
      "source": [
        "# Desafio 03 - Estudar um pouco mais sobre overfit e underfit"
      ]
    },
    {
      "cell_type": "markdown",
      "metadata": {
        "id": "VIhPq6LaYZ2j"
      },
      "source": [
        "# Desafio 04 - Escolha um modelo de ML, estude os hiperparametros desse modelo e teste vários hiperparametros"
      ]
    },
    {
      "cell_type": "markdown",
      "metadata": {
        "id": "2ndrwznhOjo7"
      },
      "source": [
        "Vou fazer do KNN."
      ]
    },
    {
      "cell_type": "markdown",
      "metadata": {
        "id": "iaL72qHYYhbu"
      },
      "source": [
        "# Desafio 05 - Pesquisar como salvar um modelo treinado"
      ]
    }
  ]
}