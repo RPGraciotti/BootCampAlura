{
  "nbformat": 4,
  "nbformat_minor": 0,
  "metadata": {
    "colab": {
      "name": "Aula_5_Desafios_em_machine_learning.ipynb",
      "provenance": [],
      "collapsed_sections": [],
      "authorship_tag": "ABX9TyObrD0ZrGAY0PjOdHb2tE5g",
      "include_colab_link": true
    },
    "kernelspec": {
      "name": "python3",
      "display_name": "Python 3"
    },
    "language_info": {
      "name": "python"
    }
  },
  "cells": [
    {
      "cell_type": "markdown",
      "metadata": {
        "id": "view-in-github",
        "colab_type": "text"
      },
      "source": [
        "<a href=\"https://colab.research.google.com/github/RPGraciotti/BootCampAlura/blob/main/Modulo_5/Aula_5_Desafios_em_machine_learning.ipynb\" target=\"_parent\"><img src=\"https://colab.research.google.com/assets/colab-badge.svg\" alt=\"Open In Colab\"/></a>"
      ]
    },
    {
      "cell_type": "markdown",
      "metadata": {
        "id": "zvkhxGdE7hP2"
      },
      "source": [
        "Preparando o conteúdo anterior:"
      ]
    },
    {
      "cell_type": "code",
      "metadata": {
        "id": "wds3WQML7dNu"
      },
      "source": [
        "import pandas as pd\n",
        "import numpy as np\n",
        "import matplotlib.pyplot as plt\n",
        "from sklearn.model_selection import train_test_split\n",
        "from sklearn.linear_model import LogisticRegression\n",
        "from sklearn.dummy import DummyClassifier\n",
        "from sklearn.metrics import accuracy_score\n",
        "from sklearn.tree import DecisionTreeClassifier\n",
        "from sklearn.metrics import plot_confusion_matrix\n",
        "from sklearn.metrics import classification_report\n",
        "from sklearn.metrics import roc_auc_score\n",
        "from sklearn.model_selection import cross_validate\n",
        "from sklearn.model_selection import StratifiedKFold\n",
        "from sklearn.model_selection import RepeatedStratifiedKFold\n",
        "\n",
        "dados = pd.read_excel(\"https://github.com/alura-cursos/covid-19-clinical/blob/main/Kaggle_Sirio_Libanes_ICU_Prediction.xlsx?raw=true\")\n",
        "### também posso usar o link no meu repositório\n",
        "\n",
        "def preenche_tabela(dados):\n",
        "    features_continuas_colunas = dados.iloc[:, 13:-2].columns\n",
        "    features_continuas = dados.groupby(\"PATIENT_VISIT_IDENTIFIER\", as_index=False)[features_continuas_colunas].fillna(method='bfill').fillna(method='ffill')\n",
        "    features_categoricas = dados.iloc[:, :13]\n",
        "    saida = dados.iloc[:, -2:]\n",
        "    dados_finais = pd.concat([features_categoricas, features_continuas, saida], ignore_index=True,axis=1)\n",
        "    dados_finais.columns = dados.columns\n",
        "    return dados_finais\n",
        "\n",
        "dados_limpos = preenche_tabela(dados)\n",
        "a_remover = dados_limpos.query(\"WINDOW=='0-2' and ICU==1\")['PATIENT_VISIT_IDENTIFIER'].values\n",
        "dados_limpos = dados_limpos.query(\"PATIENT_VISIT_IDENTIFIER not in @a_remover\")\n",
        "dados_limpos = dados_limpos.dropna()\n",
        "\n",
        "def prepare_window(rows):\n",
        "    if(np.any(rows[\"ICU\"])):\n",
        "        rows.loc[rows[\"WINDOW\"]==\"0-2\", \"ICU\"] = 1\n",
        "    return rows.loc[rows[\"WINDOW\"] == \"0-2\"]\n",
        "\n",
        "dados_limpos = dados_limpos.groupby(\"PATIENT_VISIT_IDENTIFIER\").apply(prepare_window)\n",
        "dados_limpos.AGE_PERCENTIL = dados_limpos.AGE_PERCENTIL.astype(\"category\").cat.codes # transformando em variaveis categoricas\n",
        "\n",
        "modelo = LogisticRegression(max_iter=10000)\n",
        "modelo_arvore = DecisionTreeClassifier()\n",
        "\n"
      ],
      "execution_count": 4,
      "outputs": []
    },
    {
      "cell_type": "code",
      "metadata": {
        "id": "cKfe5xrvBFl2"
      },
      "source": [
        "def roda_modelo_cv(modelo, dados, n_splits, n_repeats):\n",
        "\n",
        "    np.random.seed(1231234) # lembrando sempre que é para valor didático\n",
        "    dados = dados.sample(frac = 1).reset_index(drop = True) # embaralha\n",
        "    x_columns = dados.columns\n",
        "    y = dados[\"ICU\"]\n",
        "    x = dados[x_columns].drop([\"ICU\",\"WINDOW\"], axis=1)\n",
        "\n",
        "    cv = RepeatedStratifiedKFold(n_splits = n_splits, n_repeats = n_repeats)\n",
        "    resultados = cross_validate(modelo, x, y, cv = cv, scoring = \"roc_auc\")\n",
        "\n",
        "    auc_medio = np.mean(resultados[\"test_score\"])\n",
        "    auc_std = np.std(resultados[\"test_score\"])\n",
        "\n",
        "    print(f\"AUC Médio {auc_medio}\") \n",
        "    print(f\"Intervalo {auc_medio - (2 * auc_std)} - {auc_medio + (2 * auc_std)}\")\n"
      ],
      "execution_count": 11,
      "outputs": []
    },
    {
      "cell_type": "code",
      "metadata": {
        "colab": {
          "base_uri": "https://localhost:8080/"
        },
        "id": "xTtAHOn073yi",
        "outputId": "28647f89-9fd7-4716-ebaf-b4247c17f3dd"
      },
      "source": [
        "roda_modelo_cv(modelo, dados_limpos, 5, 10)"
      ],
      "execution_count": 5,
      "outputs": [
        {
          "output_type": "stream",
          "text": [
            "AUC Médio 0.7575511875511876\n",
            "Intervalo 0.6366273412799195 - 0.8784750338224556\n"
          ],
          "name": "stdout"
        }
      ]
    },
    {
      "cell_type": "markdown",
      "metadata": {
        "id": "d0Fi5OdR98g0"
      },
      "source": [
        "# Aula 5"
      ]
    },
    {
      "cell_type": "code",
      "metadata": {
        "colab": {
          "base_uri": "https://localhost:8080/"
        },
        "id": "gh0gjz5p790x",
        "outputId": "33fa7d5d-b1eb-4770-f94e-5aec07e3a97c"
      },
      "source": [
        "roda_modelo_cv(modelo_arvore, dados_limpos, n_splits = 5, n_repeats = 10)"
      ],
      "execution_count": 7,
      "outputs": [
        {
          "output_type": "stream",
          "text": [
            "AUC Médio 0.6279279683391525\n",
            "Intervalo 0.4988394445682657 - 0.7570164921100394\n"
          ],
          "name": "stdout"
        }
      ]
    },
    {
      "cell_type": "code",
      "metadata": {
        "colab": {
          "base_uri": "https://localhost:8080/"
        },
        "id": "2RFLlDIB-G4B",
        "outputId": "f254a5bc-d845-444b-e5cb-04fd05a6b41b"
      },
      "source": [
        "modelo_arvore = DecisionTreeClassifier(max_depth = 10)\n",
        "\n",
        "roda_modelo_cv(modelo_arvore, dados_limpos, n_splits = 5, n_repeats = 10)"
      ],
      "execution_count": 10,
      "outputs": [
        {
          "output_type": "stream",
          "text": [
            "AUC Médio 0.5917582923832925\n",
            "Intervalo 0.4430725313263285 - 0.7404440534402564\n"
          ],
          "name": "stdout"
        }
      ]
    },
    {
      "cell_type": "code",
      "metadata": {
        "id": "5EfMTF_xBHDC"
      },
      "source": [
        "def roda_modelo_cv(modelo, dados, n_splits, n_repeats):\n",
        "\n",
        "    np.random.seed(1231234) # lembrando sempre que é para valor didático\n",
        "    dados = dados.sample(frac = 1).reset_index(drop = True) # embaralha\n",
        "    x_columns = dados.columns\n",
        "    y = dados[\"ICU\"]\n",
        "    x = dados[x_columns].drop([\"ICU\",\"WINDOW\"], axis=1)\n",
        "\n",
        "    cv = RepeatedStratifiedKFold(n_splits = n_splits, n_repeats = n_repeats)\n",
        "    resultados = cross_validate(modelo, x, y, cv = cv, scoring = \"roc_auc\", return_train_score = True)\n",
        "\n",
        "    auc_medio = np.mean(resultados[\"test_score\"])\n",
        "    auc_medio_treino = np.mean(resultados[\"train_score\"])\n",
        "    auc_std = np.std(resultados[\"test_score\"])\n",
        "\n",
        "    print(f\"AUC {auc_medio} - {auc_medio_treino}\") \n",
        "    return auc_medio, auc_medio_treino\n",
        "\n",
        "   # print(f\"AUC Médio {auc_medio}\") \n",
        "   # print(f\"Intervalo {auc_medio - (2 * auc_std)} - {auc_medio + (2 * auc_std)}\")\n"
      ],
      "execution_count": 13,
      "outputs": []
    },
    {
      "cell_type": "code",
      "metadata": {
        "colab": {
          "base_uri": "https://localhost:8080/"
        },
        "id": "uzZMangDEaSa",
        "outputId": "dc61d8fd-6f11-45da-84d5-fef51dcbc7dc"
      },
      "source": [
        "teste_lista = []\n",
        "treino_lista = []\n",
        "\n",
        "for i in range(1,15):\n",
        "  modelo_arvore = DecisionTreeClassifier(max_depth = i)\n",
        "  teste, treino = roda_modelo_cv(modelo_arvore, dados_limpos, 5, 10)\n",
        "  teste_lista.append(teste)\n",
        "  treino_lista.append(treino)"
      ],
      "execution_count": 18,
      "outputs": [
        {
          "output_type": "stream",
          "text": [
            "AUC 0.5755830262080263 - 0.6445982993536308\n",
            "AUC 0.6544700741411268 - 0.75415524801741\n",
            "AUC 0.6643847795163584 - 0.8243714304989842\n",
            "AUC 0.6554932930837536 - 0.8832038893699776\n",
            "AUC 0.6475058192163456 - 0.9275331115338461\n",
            "AUC 0.6239047951959137 - 0.9567921210944048\n",
            "AUC 0.6117738776455882 - 0.9745102329260463\n",
            "AUC 0.5987671815056683 - 0.9855938255169409\n",
            "AUC 0.5877544694814432 - 0.991376822665679\n",
            "AUC 0.5917582923832925 - 0.9946888385564852\n",
            "AUC 0.6009579413444545 - 0.9970452758822465\n",
            "AUC 0.6147261533363507 - 0.9986297665919551\n",
            "AUC 0.6212348996723998 - 0.9994661199548005\n",
            "AUC 0.6256292095025647 - 0.9998695491440995\n"
          ],
          "name": "stdout"
        }
      ]
    },
    {
      "cell_type": "code",
      "metadata": {
        "colab": {
          "base_uri": "https://localhost:8080/",
          "height": 282
        },
        "id": "E_CRybHVEk1t",
        "outputId": "0294ec08-3e29-428c-f321-ac9263173864"
      },
      "source": [
        "x = range(1, 15)\n",
        "plt.plot(x, teste_lista)\n",
        "plt.plot(x, treino_lista)\n",
        "\n",
        "# exemplo, escolher max_depth de 3"
      ],
      "execution_count": 20,
      "outputs": [
        {
          "output_type": "execute_result",
          "data": {
            "text/plain": [
              "[<matplotlib.lines.Line2D at 0x7f49bef58590>]"
            ]
          },
          "metadata": {
            "tags": []
          },
          "execution_count": 20
        },
        {
          "output_type": "display_data",
          "data": {
            "image/png": "[encoded data removed]",
            "text/plain": [
              "<Figure size 432x288 with 1 Axes>"
            ]
          },
          "metadata": {
            "tags": [],
            "needs_background": "light"
          }
        }
      ]
    },
    {
      "cell_type": "code",
      "metadata": {
        "id": "vZPYeEAjGGYq"
      },
      "source": [
        "from sklearn.ensemble import RandomForestClassifier"
      ],
      "execution_count": 22,
      "outputs": []
    },
    {
      "cell_type": "code",
      "metadata": {
        "colab": {
          "base_uri": "https://localhost:8080/"
        },
        "id": "FlSmCcDWLCac",
        "outputId": "d9e9180a-1b43-4c4d-a636-7d5aca38f93e"
      },
      "source": [
        "teste_lista = []\n",
        "treino_lista = []\n",
        "\n",
        "for i in range(1,15):\n",
        "  modelo_arvore = RandomForestClassifier(max_depth = i)\n",
        "  teste, treino = roda_modelo_cv(modelo_arvore, dados_limpos, 5, 10)\n",
        "  teste_lista.append(teste)\n",
        "  treino_lista.append(treino)"
      ],
      "execution_count": 23,
      "outputs": [
        {
          "output_type": "stream",
          "text": [
            "AUC 0.7754785968683994 - 0.8549995635150238\n",
            "AUC 0.7868632672744513 - 0.8976687127896622\n",
            "AUC 0.7931550390103022 - 0.9403124842531797\n",
            "AUC 0.7983565832578993 - 0.9709123570096604\n",
            "AUC 0.7990938591103065 - 0.98788117359786\n",
            "AUC 0.8004527808310704 - 0.9959760554693325\n",
            "AUC 0.7994808369972844 - 0.9990287365273224\n",
            "AUC 0.7977776116427432 - 0.9998630161707951\n",
            "AUC 0.7963008103797579 - 0.9999847540078024\n",
            "AUC 0.7927381904931247 - 1.0\n",
            "AUC 0.7928442699577567 - 1.0\n",
            "AUC 0.7923345025647657 - 1.0\n",
            "AUC 0.7939161507500323 - 1.0\n",
            "AUC 0.7939437314108367 - 1.0\n"
          ],
          "name": "stdout"
        }
      ]
    },
    {
      "cell_type": "code",
      "metadata": {
        "colab": {
          "base_uri": "https://localhost:8080/",
          "height": 282
        },
        "id": "OhBWVUZ2LqXf",
        "outputId": "9c0c22f8-b4be-446e-a04e-f295e00ecc24"
      },
      "source": [
        "x = range(1, 15)\n",
        "plt.plot(x, teste_lista)\n",
        "plt.plot(x, treino_lista)\n"
      ],
      "execution_count": 24,
      "outputs": [
        {
          "output_type": "execute_result",
          "data": {
            "text/plain": [
              "[<matplotlib.lines.Line2D at 0x7f49bec09210>]"
            ]
          },
          "metadata": {
            "tags": []
          },
          "execution_count": 24
        },
        {
          "output_type": "display_data",
          "data": {
            "image/png": "[encoded data removed]",
            "text/plain": [
              "<Figure size 432x288 with 1 Axes>"
            ]
          },
          "metadata": {
            "tags": [],
            "needs_background": "light"
          }
        }
      ]
    },
    {
      "cell_type": "code",
      "metadata": {
        "colab": {
          "base_uri": "https://localhost:8080/"
        },
        "id": "MP6Q9pMAQ5Qu",
        "outputId": "b9604324-f90a-425c-99c0-35fb450abeac"
      },
      "source": [
        "modelo_arvore = RandomForestClassifier(n_estimators = 10)\n",
        "teste, treino = roda_modelo_cv(modelo_arvore, dados_limpos, 5, 10)"
      ],
      "execution_count": 26,
      "outputs": [
        {
          "output_type": "stream",
          "text": [
            "AUC 0.7428159147484805 - 0.999444041300827\n"
          ],
          "name": "stdout"
        }
      ]
    },
    {
      "cell_type": "code",
      "metadata": {
        "colab": {
          "base_uri": "https://localhost:8080/"
        },
        "id": "4C9sP4J4RTpG",
        "outputId": "0593a364-e81f-46ab-e508-33d5fe5eb4e7"
      },
      "source": [
        "modelo_arvore = RandomForestClassifier(n_estimators = 100)\n",
        "teste, treino = roda_modelo_cv(modelo_arvore, dados_limpos, 5, 10)\n"
      ],
      "execution_count": 27,
      "outputs": [
        {
          "output_type": "stream",
          "text": [
            "AUC 0.7939557739557739 - 1.0\n"
          ],
          "name": "stdout"
        }
      ]
    },
    {
      "cell_type": "code",
      "metadata": {
        "colab": {
          "base_uri": "https://localhost:8080/"
        },
        "id": "3XMKOsjcRUf_",
        "outputId": "37c6ce23-aca6-497d-eaf1-2c32d328b85e"
      },
      "source": [
        "modelo_arvore = RandomForestClassifier(n_estimators = 200)\n",
        "teste, treino = roda_modelo_cv(modelo_arvore, dados_limpos, 5, 10)\n"
      ],
      "execution_count": 28,
      "outputs": [
        {
          "output_type": "stream",
          "text": [
            "AUC 0.7950421219664641 - 1.0\n"
          ],
          "name": "stdout"
        }
      ]
    },
    {
      "cell_type": "code",
      "metadata": {
        "id": "GtBr-YwoRWVQ"
      },
      "source": [
        ""
      ],
      "execution_count": null,
      "outputs": []
    },
    {
      "cell_type": "markdown",
      "metadata": {
        "id": "yXB_DU2yYB3O"
      },
      "source": [
        "# Desafio 01 - Deixar o gráfico de AUC \"bonitão\" (Silveira, Guilherme)"
      ]
    },
    {
      "cell_type": "markdown",
      "metadata": {
        "id": "y5Pd6AUoYI7b"
      },
      "source": [
        "# Desafio 02 - Criar um sobreajuste com outra base de dados, outro modelo de ML e plotar o gráfico para análise (dica:base do titanic)"
      ]
    },
    {
      "cell_type": "markdown",
      "metadata": {
        "id": "72dSJGSTYRq2"
      },
      "source": [
        "# Desafio 03 - Estudar um pouco mais sobre overfit e underfit"
      ]
    },
    {
      "cell_type": "markdown",
      "metadata": {
        "id": "VIhPq6LaYZ2j"
      },
      "source": [
        "# Desafio 04 - Escolha um modelo de ML, estude os hiperparametros desse modelo e teste vários hiperparametros"
      ]
    },
    {
      "cell_type": "markdown",
      "metadata": {
        "id": "iaL72qHYYhbu"
      },
      "source": [
        "# Desafio 05 - Pesquisar como salvar um modelo treinado"
      ]
    }
  ]
}