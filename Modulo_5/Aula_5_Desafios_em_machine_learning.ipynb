{
  "nbformat": 4,
  "nbformat_minor": 0,
  "metadata": {
    "colab": {
      "name": "Aula_5_Desafios_em_machine_learning.ipynb",
      "provenance": [],
      "collapsed_sections": [],
      "authorship_tag": "ABX9TyMUeJ2T67aQEHALB92+J2Wd",
      "include_colab_link": true
    },
    "kernelspec": {
      "name": "python3",
      "display_name": "Python 3"
    },
    "language_info": {
      "name": "python"
    }
  },
  "cells": [
    {
      "cell_type": "markdown",
      "metadata": {
        "id": "view-in-github",
        "colab_type": "text"
      },
      "source": [
        "<a href=\"https://colab.research.google.com/github/RPGraciotti/BootCampAlura/blob/main/Modulo_5/Aula_5_Desafios_em_machine_learning.ipynb\" target=\"_parent\"><img src=\"https://colab.research.google.com/assets/colab-badge.svg\" alt=\"Open In Colab\"/></a>"
      ]
    },
    {
      "cell_type": "markdown",
      "metadata": {
        "id": "zvkhxGdE7hP2"
      },
      "source": [
        "Preparando o conteúdo anterior:"
      ]
    },
    {
      "cell_type": "code",
      "metadata": {
        "id": "wds3WQML7dNu"
      },
      "source": [
        "import pandas as pd\n",
        "import numpy as np\n",
        "import matplotlib.pyplot as plt\n",
        "from sklearn.model_selection import train_test_split\n",
        "from sklearn.linear_model import LogisticRegression\n",
        "from sklearn.dummy import DummyClassifier\n",
        "from sklearn.metrics import accuracy_score\n",
        "from sklearn.tree import DecisionTreeClassifier\n",
        "from sklearn.metrics import plot_confusion_matrix\n",
        "from sklearn.metrics import classification_report\n",
        "from sklearn.metrics import roc_auc_score\n",
        "from sklearn.model_selection import cross_validate\n",
        "from sklearn.model_selection import StratifiedKFold\n",
        "from sklearn.model_selection import RepeatedStratifiedKFold\n",
        "\n",
        "dados = pd.read_excel(\"https://github.com/alura-cursos/covid-19-clinical/blob/main/Kaggle_Sirio_Libanes_ICU_Prediction.xlsx?raw=true\")\n",
        "### também posso usar o link no meu repositório\n",
        "\n",
        "def preenche_tabela(dados):\n",
        "    features_continuas_colunas = dados.iloc[:, 13:-2].columns\n",
        "    features_continuas = dados.groupby(\"PATIENT_VISIT_IDENTIFIER\", as_index=False)[features_continuas_colunas].fillna(method='bfill').fillna(method='ffill')\n",
        "    features_categoricas = dados.iloc[:, :13]\n",
        "    saida = dados.iloc[:, -2:]\n",
        "    dados_finais = pd.concat([features_categoricas, features_continuas, saida], ignore_index=True,axis=1)\n",
        "    dados_finais.columns = dados.columns\n",
        "    return dados_finais\n",
        "\n",
        "dados_limpos = preenche_tabela(dados)\n",
        "a_remover = dados_limpos.query(\"WINDOW=='0-2' and ICU==1\")['PATIENT_VISIT_IDENTIFIER'].values\n",
        "dados_limpos = dados_limpos.query(\"PATIENT_VISIT_IDENTIFIER not in @a_remover\")\n",
        "dados_limpos = dados_limpos.dropna()\n",
        "\n",
        "def prepare_window(rows):\n",
        "    if(np.any(rows[\"ICU\"])):\n",
        "        rows.loc[rows[\"WINDOW\"]==\"0-2\", \"ICU\"] = 1\n",
        "    return rows.loc[rows[\"WINDOW\"] == \"0-2\"]\n",
        "\n",
        "dados_limpos = dados_limpos.groupby(\"PATIENT_VISIT_IDENTIFIER\").apply(prepare_window)\n",
        "dados_limpos.AGE_PERCENTIL = dados_limpos.AGE_PERCENTIL.astype(\"category\").cat.codes # transformando em variaveis categoricas\n",
        "\n",
        "modelo = LogisticRegression(max_iter=10000)\n",
        "modelo_arvore = DecisionTreeClassifier()\n",
        "\n"
      ],
      "execution_count": 1,
      "outputs": []
    },
    {
      "cell_type": "code",
      "metadata": {
        "id": "cKfe5xrvBFl2"
      },
      "source": [
        "def roda_modelo_cv(modelo, dados, n_splits, n_repeats):\n",
        "\n",
        "    np.random.seed(1231234) # lembrando sempre que é para valor didático\n",
        "    dados = dados.sample(frac = 1).reset_index(drop = True) # embaralha\n",
        "    x_columns = dados.columns\n",
        "    y = dados[\"ICU\"]\n",
        "    x = dados[x_columns].drop([\"ICU\",\"WINDOW\"], axis=1)\n",
        "\n",
        "    cv = RepeatedStratifiedKFold(n_splits = n_splits, n_repeats = n_repeats)\n",
        "    resultados = cross_validate(modelo, x, y, cv = cv, scoring = \"roc_auc\")\n",
        "\n",
        "    auc_medio = np.mean(resultados[\"test_score\"])\n",
        "    auc_std = np.std(resultados[\"test_score\"])\n",
        "\n",
        "    print(f\"AUC Médio {auc_medio}\") \n",
        "    print(f\"Intervalo {auc_medio - (2 * auc_std)} - {auc_medio + (2 * auc_std)}\")\n"
      ],
      "execution_count": 2,
      "outputs": []
    },
    {
      "cell_type": "code",
      "metadata": {
        "colab": {
          "base_uri": "https://localhost:8080/"
        },
        "id": "xTtAHOn073yi",
        "outputId": "2b2e6849-afbc-4456-f32e-fc1827da3c26"
      },
      "source": [
        "roda_modelo_cv(modelo, dados_limpos, 5, 10)"
      ],
      "execution_count": 3,
      "outputs": [
        {
          "output_type": "stream",
          "text": [
            "AUC Médio 0.757641695223932\n",
            "Intervalo 0.6355431542339184 - 0.8797402362139456\n"
          ],
          "name": "stdout"
        }
      ]
    },
    {
      "cell_type": "markdown",
      "metadata": {
        "id": "d0Fi5OdR98g0"
      },
      "source": [
        "# Aula 5"
      ]
    },
    {
      "cell_type": "code",
      "metadata": {
        "colab": {
          "base_uri": "https://localhost:8080/"
        },
        "id": "gh0gjz5p790x",
        "outputId": "86650216-b000-48c4-f119-56e8328c25e4"
      },
      "source": [
        "roda_modelo_cv(modelo_arvore, dados_limpos, n_splits = 5, n_repeats = 10)"
      ],
      "execution_count": 4,
      "outputs": [
        {
          "output_type": "stream",
          "text": [
            "AUC Médio 0.6279279683391525\n",
            "Intervalo 0.4988394445682657 - 0.7570164921100394\n"
          ],
          "name": "stdout"
        }
      ]
    },
    {
      "cell_type": "code",
      "metadata": {
        "colab": {
          "base_uri": "https://localhost:8080/"
        },
        "id": "2RFLlDIB-G4B",
        "outputId": "43eb2077-59b8-4c1e-fb3e-540d02f6eb8f"
      },
      "source": [
        "modelo_arvore = DecisionTreeClassifier(max_depth = 10)\n",
        "\n",
        "roda_modelo_cv(modelo_arvore, dados_limpos, n_splits = 5, n_repeats = 10)"
      ],
      "execution_count": 5,
      "outputs": [
        {
          "output_type": "stream",
          "text": [
            "AUC Médio 0.5917582923832925\n",
            "Intervalo 0.4430725313263285 - 0.7404440534402564\n"
          ],
          "name": "stdout"
        }
      ]
    },
    {
      "cell_type": "code",
      "metadata": {
        "id": "5EfMTF_xBHDC"
      },
      "source": [
        "def roda_modelo_cv(modelo, dados, n_splits, n_repeats):\n",
        "\n",
        "    np.random.seed(1231234) # lembrando sempre que é para valor didático\n",
        "    dados = dados.sample(frac = 1).reset_index(drop = True) # embaralha\n",
        "    x_columns = dados.columns\n",
        "    y = dados[\"ICU\"]\n",
        "    x = dados[x_columns].drop([\"ICU\",\"WINDOW\"], axis=1)\n",
        "\n",
        "    cv = RepeatedStratifiedKFold(n_splits = n_splits, n_repeats = n_repeats)\n",
        "    resultados = cross_validate(modelo, x, y, cv = cv, scoring = \"roc_auc\", return_train_score = True)\n",
        "\n",
        "    auc_medio = np.mean(resultados[\"test_score\"])\n",
        "    auc_medio_treino = np.mean(resultados[\"train_score\"])\n",
        "    auc_std = np.std(resultados[\"test_score\"])\n",
        "\n",
        "    print(f\"AUC {auc_medio} - {auc_medio_treino}\") \n",
        "    return auc_medio, auc_medio_treino\n",
        "\n",
        "   # print(f\"AUC Médio {auc_medio}\") \n",
        "   # print(f\"Intervalo {auc_medio - (2 * auc_std)} - {auc_medio + (2 * auc_std)}\")\n"
      ],
      "execution_count": 6,
      "outputs": []
    },
    {
      "cell_type": "code",
      "metadata": {
        "colab": {
          "base_uri": "https://localhost:8080/"
        },
        "id": "uzZMangDEaSa",
        "outputId": "0b418e0b-eb55-4287-8165-68840f0757fc"
      },
      "source": [
        "teste_lista = []\n",
        "treino_lista = []\n",
        "\n",
        "for i in range(1,20):\n",
        "  modelo_arvore = DecisionTreeClassifier(max_depth = i)\n",
        "  teste, treino = roda_modelo_cv(modelo_arvore, dados_limpos, 5, 10)\n",
        "  teste_lista.append(teste)\n",
        "  treino_lista.append(treino)"
      ],
      "execution_count": 7,
      "outputs": [
        {
          "output_type": "stream",
          "text": [
            "AUC 0.5755830262080263 - 0.6445982993536308\n",
            "AUC 0.6544700741411268 - 0.75415524801741\n",
            "AUC 0.6643847795163584 - 0.8243714304989842\n",
            "AUC 0.6554932930837536 - 0.8832038893699776\n",
            "AUC 0.6475058192163456 - 0.9275331115338461\n",
            "AUC 0.6239047951959137 - 0.9567921210944048\n",
            "AUC 0.6117738776455882 - 0.9745102329260463\n",
            "AUC 0.5987671815056683 - 0.9855938255169409\n",
            "AUC 0.5877544694814432 - 0.991376822665679\n",
            "AUC 0.5917582923832925 - 0.9946888385564852\n",
            "AUC 0.6009579413444545 - 0.9970452758822465\n",
            "AUC 0.6147261533363507 - 0.9986297665919551\n",
            "AUC 0.6212348996723998 - 0.9994661199548005\n",
            "AUC 0.6256292095025647 - 0.9998695491440995\n",
            "AUC 0.6279608630759947 - 0.9999883726808554\n",
            "AUC 0.6279279683391525 - 1.0\n",
            "AUC 0.6279279683391525 - 1.0\n",
            "AUC 0.6279279683391525 - 1.0\n",
            "AUC 0.6279279683391525 - 1.0\n"
          ],
          "name": "stdout"
        }
      ]
    },
    {
      "cell_type": "code",
      "metadata": {
        "colab": {
          "base_uri": "https://localhost:8080/",
          "height": 282
        },
        "id": "E_CRybHVEk1t",
        "outputId": "81f4cc6e-ec03-4de0-caf0-9d7ef54288e2"
      },
      "source": [
        "x = range(1, 20)\n",
        "plt.plot(x, teste_lista)\n",
        "plt.plot(x, treino_lista)\n",
        "\n",
        "# exemplo, escolher max_depth de 3"
      ],
      "execution_count": 8,
      "outputs": [
        {
          "output_type": "execute_result",
          "data": {
            "text/plain": [
              "[<matplotlib.lines.Line2D at 0x7f384ea87650>]"
            ]
          },
          "metadata": {
            "tags": []
          },
          "execution_count": 8
        },
        {
          "output_type": "display_data",
          "data": {
            "image/png": "[encoded data removed]",
            "text/plain": [
              "<Figure size 432x288 with 1 Axes>"
            ]
          },
          "metadata": {
            "tags": [],
            "needs_background": "light"
          }
        }
      ]
    },
    {
      "cell_type": "code",
      "metadata": {
        "id": "vZPYeEAjGGYq"
      },
      "source": [
        "from sklearn.ensemble import RandomForestClassifier"
      ],
      "execution_count": 9,
      "outputs": []
    },
    {
      "cell_type": "code",
      "metadata": {
        "colab": {
          "base_uri": "https://localhost:8080/"
        },
        "id": "FlSmCcDWLCac",
        "outputId": "e70ea727-1a6f-4b64-e25c-cb65b9ac9c04"
      },
      "source": [
        "teste_lista = []\n",
        "treino_lista = []\n",
        "\n",
        "# mudar n_estimators ao inves de max_depth\n",
        "\n",
        "for i in range(1,15):\n",
        "  modelo_arvore = RandomForestClassifier(max_depth = i)\n",
        "  teste, treino = roda_modelo_cv(modelo_arvore, dados_limpos, 5, 10)\n",
        "  teste_lista.append(teste)\n",
        "  treino_lista.append(treino)"
      ],
      "execution_count": 10,
      "outputs": [
        {
          "output_type": "stream",
          "text": [
            "AUC 0.7754785968683994 - 0.8549995635150238\n",
            "AUC 0.7868632672744513 - 0.8976687127896622\n",
            "AUC 0.7931550390103022 - 0.9403124842531797\n",
            "AUC 0.7983565832578993 - 0.9709123570096604\n",
            "AUC 0.7990938591103065 - 0.98788117359786\n",
            "AUC 0.8004527808310704 - 0.9959760554693325\n",
            "AUC 0.7994808369972844 - 0.9990287365273224\n",
            "AUC 0.7977776116427432 - 0.9998630161707951\n",
            "AUC 0.7963008103797579 - 0.9999847540078024\n",
            "AUC 0.7927381904931247 - 1.0\n",
            "AUC 0.7928442699577567 - 1.0\n",
            "AUC 0.7923345025647657 - 1.0\n",
            "AUC 0.7939161507500323 - 1.0\n",
            "AUC 0.7939437314108367 - 1.0\n"
          ],
          "name": "stdout"
        }
      ]
    },
    {
      "cell_type": "code",
      "metadata": {
        "colab": {
          "base_uri": "https://localhost:8080/",
          "height": 282
        },
        "id": "OhBWVUZ2LqXf",
        "outputId": "4875cdf3-792e-4280-ef48-edd4d5b52376"
      },
      "source": [
        "x = range(1, 15)\n",
        "plt.plot(x, teste_lista)\n",
        "plt.plot(x, treino_lista)\n"
      ],
      "execution_count": 11,
      "outputs": [
        {
          "output_type": "execute_result",
          "data": {
            "text/plain": [
              "[<matplotlib.lines.Line2D at 0x7f384d71fc10>]"
            ]
          },
          "metadata": {
            "tags": []
          },
          "execution_count": 11
        },
        {
          "output_type": "display_data",
          "data": {
            "image/png": "[encoded data removed]",
            "text/plain": [
              "<Figure size 432x288 with 1 Axes>"
            ]
          },
          "metadata": {
            "tags": [],
            "needs_background": "light"
          }
        }
      ]
    },
    {
      "cell_type": "code",
      "metadata": {
        "colab": {
          "base_uri": "https://localhost:8080/"
        },
        "id": "MP6Q9pMAQ5Qu",
        "outputId": "931eeb95-5ca0-46e6-8a0d-00c592a845c7"
      },
      "source": [
        "modelo_arvore = RandomForestClassifier(n_estimators = 10)\n",
        "teste, treino = roda_modelo_cv(modelo_arvore, dados_limpos, 5, 10)"
      ],
      "execution_count": 12,
      "outputs": [
        {
          "output_type": "stream",
          "text": [
            "AUC 0.7428159147484805 - 0.999444041300827\n"
          ],
          "name": "stdout"
        }
      ]
    },
    {
      "cell_type": "code",
      "metadata": {
        "colab": {
          "base_uri": "https://localhost:8080/"
        },
        "id": "4C9sP4J4RTpG",
        "outputId": "02b6ec6f-e6ed-4780-9346-99c05ba37c6e"
      },
      "source": [
        "modelo_arvore = RandomForestClassifier(n_estimators = 100)\n",
        "teste, treino = roda_modelo_cv(modelo_arvore, dados_limpos, 5, 10)\n"
      ],
      "execution_count": 13,
      "outputs": [
        {
          "output_type": "stream",
          "text": [
            "AUC 0.7939557739557739 - 1.0\n"
          ],
          "name": "stdout"
        }
      ]
    },
    {
      "cell_type": "code",
      "metadata": {
        "colab": {
          "base_uri": "https://localhost:8080/"
        },
        "id": "3XMKOsjcRUf_",
        "outputId": "d90656de-ee28-4bfd-f258-fa6a27a713da"
      },
      "source": [
        "modelo_arvore = RandomForestClassifier(n_estimators = 200)\n",
        "teste, treino = roda_modelo_cv(modelo_arvore, dados_limpos, 5, 10)\n"
      ],
      "execution_count": 14,
      "outputs": [
        {
          "output_type": "stream",
          "text": [
            "AUC 0.7950421219664641 - 1.0\n"
          ],
          "name": "stdout"
        }
      ]
    },
    {
      "cell_type": "markdown",
      "metadata": {
        "id": "yXB_DU2yYB3O"
      },
      "source": [
        "# Desafio 01 - Deixar o gráfico de AUC \"bonitão\" (Silveira, Guilherme)"
      ]
    },
    {
      "cell_type": "code",
      "metadata": {
        "colab": {
          "base_uri": "https://localhost:8080/"
        },
        "id": "5NEstVbSt-g9",
        "outputId": "e532fd0f-e5ff-4cc0-db5d-5d4d73abac32"
      },
      "source": [
        "teste_lista_arvore = []\n",
        "treino_lista_arvore = []\n",
        "\n",
        "for i in range(1,21):\n",
        "  modelo_arvore = DecisionTreeClassifier(max_depth = i)\n",
        "  teste, treino = roda_modelo_cv(modelo_arvore, dados_limpos, 5, 10)\n",
        "  teste_lista_arvore.append(teste)\n",
        "  treino_lista_arvore.append(treino)"
      ],
      "execution_count": 15,
      "outputs": [
        {
          "output_type": "stream",
          "text": [
            "AUC 0.5755830262080263 - 0.6445982993536308\n",
            "AUC 0.6544700741411268 - 0.75415524801741\n",
            "AUC 0.6643847795163584 - 0.8243714304989842\n",
            "AUC 0.6554932930837536 - 0.8832038893699776\n",
            "AUC 0.6475058192163456 - 0.9275331115338461\n",
            "AUC 0.6239047951959137 - 0.9567921210944048\n",
            "AUC 0.6117738776455882 - 0.9745102329260463\n",
            "AUC 0.5987671815056683 - 0.9855938255169409\n",
            "AUC 0.5877544694814432 - 0.991376822665679\n",
            "AUC 0.5917582923832925 - 0.9946888385564852\n",
            "AUC 0.6009579413444545 - 0.9970452758822465\n",
            "AUC 0.6147261533363507 - 0.9986297665919551\n",
            "AUC 0.6212348996723998 - 0.9994661199548005\n",
            "AUC 0.6256292095025647 - 0.9998695491440995\n",
            "AUC 0.6279608630759947 - 0.9999883726808554\n",
            "AUC 0.6279279683391525 - 1.0\n",
            "AUC 0.6279279683391525 - 1.0\n",
            "AUC 0.6279279683391525 - 1.0\n",
            "AUC 0.6279279683391525 - 1.0\n",
            "AUC 0.6279279683391525 - 1.0\n"
          ],
          "name": "stdout"
        }
      ]
    },
    {
      "cell_type": "code",
      "metadata": {
        "id": "EN-hjWXgyexF"
      },
      "source": [
        "lista_arvore = pd.DataFrame({\n",
        "    \"teste\": teste_lista_arvore,\n",
        "    \"treino\": treino_lista_arvore,\n",
        "    \"x\": list(range(1, 21))})"
      ],
      "execution_count": 16,
      "outputs": []
    },
    {
      "cell_type": "code",
      "metadata": {
        "colab": {
          "base_uri": "https://localhost:8080/",
          "height": 415
        },
        "id": "VyHYnTA_t1u6",
        "outputId": "9409b45b-2220-454d-8585-abf169144181"
      },
      "source": [
        "plt.figure(figsize = (10, 6))\n",
        "ax = plt.gca()\n",
        "plt.title(\"AUC teste e treino árvore de decisão\", fontsize = 15)\n",
        "lista_arvore.plot(kind='line', x=\"x\", y='teste',ax=ax)\n",
        "lista_arvore.plot(kind='line', x=\"x\", y='treino', ax=ax)\n",
        "plt.legend(fontsize = 15, labels = [\"Teste\", \"Treino\"])\n",
        "plt.xlabel(\"Max depth\", fontsize = 15)\n",
        "plt.xticks(list(range(1,21)))\n",
        "plt.tick_params(axis = \"both\", which = \"major\", labelsize = 14)\n",
        "plt.show()\n",
        "# exemplo, escolher max_depth de 3"
      ],
      "execution_count": 17,
      "outputs": [
        {
          "output_type": "display_data",
          "data": {
            "image/png": "[encoded data removed]",
            "text/plain": [
              "<Figure size 720x432 with 1 Axes>"
            ]
          },
          "metadata": {
            "tags": [],
            "needs_background": "light"
          }
        }
      ]
    },
    {
      "cell_type": "markdown",
      "metadata": {
        "id": "y5Pd6AUoYI7b"
      },
      "source": [
        "# Desafio 02 - Criar um sobreajuste com outra base de dados, outro modelo de ML e plotar o gráfico para análise (dica:base do titanic)"
      ]
    },
    {
      "cell_type": "code",
      "metadata": {
        "colab": {
          "base_uri": "https://localhost:8080/",
          "height": 445
        },
        "id": "id0josEe8HCp",
        "outputId": "a17c4299-68f2-4172-b0a0-e8f29fed4023"
      },
      "source": [
        "# Vou fazer bem simples, sem entrar em muitos detalhes do que é necessário corrigr do dataset do titanic, só\n",
        "# para poder estudar o proposto no desafio\n",
        "\n",
        "tc = pd.read_csv(\"https://raw.githubusercontent.com/RPGraciotti/BootCampAlura/main/Data/train.csv\")\n",
        "tc"
      ],
      "execution_count": 18,
      "outputs": [
        {
          "output_type": "execute_result",
          "data": {
            "text/html": [
              "<div>\n",
              "<style scoped>\n",
              "    .dataframe tbody tr th:only-of-type {\n",
              "        vertical-align: middle;\n",
              "    }\n",
              "\n",
              "    .dataframe tbody tr th {\n",
              "        vertical-align: top;\n",
              "    }\n",
              "\n",
              "    .dataframe thead th {\n",
              "        text-align: right;\n",
              "    }\n",
              "</style>\n",
              "<table border=\"1\" class=\"dataframe\">\n",
              "  <thead>\n",
              "    <tr style=\"text-align: right;\">\n",
              "      <th></th>\n",
              "      <th>PassengerId</th>\n",
              "      <th>Survived</th>\n",
              "      <th>Pclass</th>\n",
              "      <th>Name</th>\n",
              "      <th>Sex</th>\n",
              "      <th>Age</th>\n",
              "      <th>SibSp</th>\n",
              "      <th>Parch</th>\n",
              "      <th>Ticket</th>\n",
              "      <th>Fare</th>\n",
              "      <th>Cabin</th>\n",
              "      <th>Embarked</th>\n",
              "    </tr>\n",
              "  </thead>\n",
              "  <tbody>\n",
              "    <tr>\n",
              "      <th>0</th>\n",
              "      <td>1</td>\n",
              "      <td>0</td>\n",
              "      <td>3</td>\n",
              "      <td>Braund, Mr. Owen Harris</td>\n",
              "      <td>male</td>\n",
              "      <td>22.0</td>\n",
              "      <td>1</td>\n",
              "      <td>0</td>\n",
              "      <td>A/5 21171</td>\n",
              "      <td>7.2500</td>\n",
              "      <td>NaN</td>\n",
              "      <td>S</td>\n",
              "    </tr>\n",
              "    <tr>\n",
              "      <th>1</th>\n",
              "      <td>2</td>\n",
              "      <td>1</td>\n",
              "      <td>1</td>\n",
              "      <td>Cumings, Mrs. John Bradley (Florence Briggs Th...</td>\n",
              "      <td>female</td>\n",
              "      <td>38.0</td>\n",
              "      <td>1</td>\n",
              "      <td>0</td>\n",
              "      <td>PC 17599</td>\n",
              "      <td>71.2833</td>\n",
              "      <td>C85</td>\n",
              "      <td>C</td>\n",
              "    </tr>\n",
              "    <tr>\n",
              "      <th>2</th>\n",
              "      <td>3</td>\n",
              "      <td>1</td>\n",
              "      <td>3</td>\n",
              "      <td>Heikkinen, Miss. Laina</td>\n",
              "      <td>female</td>\n",
              "      <td>26.0</td>\n",
              "      <td>0</td>\n",
              "      <td>0</td>\n",
              "      <td>STON/O2. 3101282</td>\n",
              "      <td>7.9250</td>\n",
              "      <td>NaN</td>\n",
              "      <td>S</td>\n",
              "    </tr>\n",
              "    <tr>\n",
              "      <th>3</th>\n",
              "      <td>4</td>\n",
              "      <td>1</td>\n",
              "      <td>1</td>\n",
              "      <td>Futrelle, Mrs. Jacques Heath (Lily May Peel)</td>\n",
              "      <td>female</td>\n",
              "      <td>35.0</td>\n",
              "      <td>1</td>\n",
              "      <td>0</td>\n",
              "      <td>113803</td>\n",
              "      <td>53.1000</td>\n",
              "      <td>C123</td>\n",
              "      <td>S</td>\n",
              "    </tr>\n",
              "    <tr>\n",
              "      <th>4</th>\n",
              "      <td>5</td>\n",
              "      <td>0</td>\n",
              "      <td>3</td>\n",
              "      <td>Allen, Mr. William Henry</td>\n",
              "      <td>male</td>\n",
              "      <td>35.0</td>\n",
              "      <td>0</td>\n",
              "      <td>0</td>\n",
              "      <td>373450</td>\n",
              "      <td>8.0500</td>\n",
              "      <td>NaN</td>\n",
              "      <td>S</td>\n",
              "    </tr>\n",
              "    <tr>\n",
              "      <th>...</th>\n",
              "      <td>...</td>\n",
              "      <td>...</td>\n",
              "      <td>...</td>\n",
              "      <td>...</td>\n",
              "      <td>...</td>\n",
              "      <td>...</td>\n",
              "      <td>...</td>\n",
              "      <td>...</td>\n",
              "      <td>...</td>\n",
              "      <td>...</td>\n",
              "      <td>...</td>\n",
              "      <td>...</td>\n",
              "    </tr>\n",
              "    <tr>\n",
              "      <th>886</th>\n",
              "      <td>887</td>\n",
              "      <td>0</td>\n",
              "      <td>2</td>\n",
              "      <td>Montvila, Rev. Juozas</td>\n",
              "      <td>male</td>\n",
              "      <td>27.0</td>\n",
              "      <td>0</td>\n",
              "      <td>0</td>\n",
              "      <td>211536</td>\n",
              "      <td>13.0000</td>\n",
              "      <td>NaN</td>\n",
              "      <td>S</td>\n",
              "    </tr>\n",
              "    <tr>\n",
              "      <th>887</th>\n",
              "      <td>888</td>\n",
              "      <td>1</td>\n",
              "      <td>1</td>\n",
              "      <td>Graham, Miss. Margaret Edith</td>\n",
              "      <td>female</td>\n",
              "      <td>19.0</td>\n",
              "      <td>0</td>\n",
              "      <td>0</td>\n",
              "      <td>112053</td>\n",
              "      <td>30.0000</td>\n",
              "      <td>B42</td>\n",
              "      <td>S</td>\n",
              "    </tr>\n",
              "    <tr>\n",
              "      <th>888</th>\n",
              "      <td>889</td>\n",
              "      <td>0</td>\n",
              "      <td>3</td>\n",
              "      <td>Johnston, Miss. Catherine Helen \"Carrie\"</td>\n",
              "      <td>female</td>\n",
              "      <td>NaN</td>\n",
              "      <td>1</td>\n",
              "      <td>2</td>\n",
              "      <td>W./C. 6607</td>\n",
              "      <td>23.4500</td>\n",
              "      <td>NaN</td>\n",
              "      <td>S</td>\n",
              "    </tr>\n",
              "    <tr>\n",
              "      <th>889</th>\n",
              "      <td>890</td>\n",
              "      <td>1</td>\n",
              "      <td>1</td>\n",
              "      <td>Behr, Mr. Karl Howell</td>\n",
              "      <td>male</td>\n",
              "      <td>26.0</td>\n",
              "      <td>0</td>\n",
              "      <td>0</td>\n",
              "      <td>111369</td>\n",
              "      <td>30.0000</td>\n",
              "      <td>C148</td>\n",
              "      <td>C</td>\n",
              "    </tr>\n",
              "    <tr>\n",
              "      <th>890</th>\n",
              "      <td>891</td>\n",
              "      <td>0</td>\n",
              "      <td>3</td>\n",
              "      <td>Dooley, Mr. Patrick</td>\n",
              "      <td>male</td>\n",
              "      <td>32.0</td>\n",
              "      <td>0</td>\n",
              "      <td>0</td>\n",
              "      <td>370376</td>\n",
              "      <td>7.7500</td>\n",
              "      <td>NaN</td>\n",
              "      <td>Q</td>\n",
              "    </tr>\n",
              "  </tbody>\n",
              "</table>\n",
              "<p>891 rows × 12 columns</p>\n",
              "</div>"
            ],
            "text/plain": [
              "     PassengerId  Survived  Pclass  ...     Fare Cabin  Embarked\n",
              "0              1         0       3  ...   7.2500   NaN         S\n",
              "1              2         1       1  ...  71.2833   C85         C\n",
              "2              3         1       3  ...   7.9250   NaN         S\n",
              "3              4         1       1  ...  53.1000  C123         S\n",
              "4              5         0       3  ...   8.0500   NaN         S\n",
              "..           ...       ...     ...  ...      ...   ...       ...\n",
              "886          887         0       2  ...  13.0000   NaN         S\n",
              "887          888         1       1  ...  30.0000   B42         S\n",
              "888          889         0       3  ...  23.4500   NaN         S\n",
              "889          890         1       1  ...  30.0000  C148         C\n",
              "890          891         0       3  ...   7.7500   NaN         Q\n",
              "\n",
              "[891 rows x 12 columns]"
            ]
          },
          "metadata": {
            "tags": []
          },
          "execution_count": 18
        }
      ]
    },
    {
      "cell_type": "code",
      "metadata": {
        "colab": {
          "base_uri": "https://localhost:8080/",
          "height": 412
        },
        "id": "9Ivm_MAr_Z3w",
        "outputId": "3449758a-8fe7-4976-c9ae-baeb0ae3e22e"
      },
      "source": [
        "tc_data = tc.loc[:,[\"Survived\", \"Pclass\", \"Sex\", \"Age\", \"SibSp\", \"Parch\", \"Fare\", \"Embarked\"]]\n",
        "tc_data = tc_data.dropna()\n",
        "tc_data"
      ],
      "execution_count": 19,
      "outputs": [
        {
          "output_type": "execute_result",
          "data": {
            "text/html": [
              "<div>\n",
              "<style scoped>\n",
              "    .dataframe tbody tr th:only-of-type {\n",
              "        vertical-align: middle;\n",
              "    }\n",
              "\n",
              "    .dataframe tbody tr th {\n",
              "        vertical-align: top;\n",
              "    }\n",
              "\n",
              "    .dataframe thead th {\n",
              "        text-align: right;\n",
              "    }\n",
              "</style>\n",
              "<table border=\"1\" class=\"dataframe\">\n",
              "  <thead>\n",
              "    <tr style=\"text-align: right;\">\n",
              "      <th></th>\n",
              "      <th>Survived</th>\n",
              "      <th>Pclass</th>\n",
              "      <th>Sex</th>\n",
              "      <th>Age</th>\n",
              "      <th>SibSp</th>\n",
              "      <th>Parch</th>\n",
              "      <th>Fare</th>\n",
              "      <th>Embarked</th>\n",
              "    </tr>\n",
              "  </thead>\n",
              "  <tbody>\n",
              "    <tr>\n",
              "      <th>0</th>\n",
              "      <td>0</td>\n",
              "      <td>3</td>\n",
              "      <td>male</td>\n",
              "      <td>22.0</td>\n",
              "      <td>1</td>\n",
              "      <td>0</td>\n",
              "      <td>7.2500</td>\n",
              "      <td>S</td>\n",
              "    </tr>\n",
              "    <tr>\n",
              "      <th>1</th>\n",
              "      <td>1</td>\n",
              "      <td>1</td>\n",
              "      <td>female</td>\n",
              "      <td>38.0</td>\n",
              "      <td>1</td>\n",
              "      <td>0</td>\n",
              "      <td>71.2833</td>\n",
              "      <td>C</td>\n",
              "    </tr>\n",
              "    <tr>\n",
              "      <th>2</th>\n",
              "      <td>1</td>\n",
              "      <td>3</td>\n",
              "      <td>female</td>\n",
              "      <td>26.0</td>\n",
              "      <td>0</td>\n",
              "      <td>0</td>\n",
              "      <td>7.9250</td>\n",
              "      <td>S</td>\n",
              "    </tr>\n",
              "    <tr>\n",
              "      <th>3</th>\n",
              "      <td>1</td>\n",
              "      <td>1</td>\n",
              "      <td>female</td>\n",
              "      <td>35.0</td>\n",
              "      <td>1</td>\n",
              "      <td>0</td>\n",
              "      <td>53.1000</td>\n",
              "      <td>S</td>\n",
              "    </tr>\n",
              "    <tr>\n",
              "      <th>4</th>\n",
              "      <td>0</td>\n",
              "      <td>3</td>\n",
              "      <td>male</td>\n",
              "      <td>35.0</td>\n",
              "      <td>0</td>\n",
              "      <td>0</td>\n",
              "      <td>8.0500</td>\n",
              "      <td>S</td>\n",
              "    </tr>\n",
              "    <tr>\n",
              "      <th>...</th>\n",
              "      <td>...</td>\n",
              "      <td>...</td>\n",
              "      <td>...</td>\n",
              "      <td>...</td>\n",
              "      <td>...</td>\n",
              "      <td>...</td>\n",
              "      <td>...</td>\n",
              "      <td>...</td>\n",
              "    </tr>\n",
              "    <tr>\n",
              "      <th>885</th>\n",
              "      <td>0</td>\n",
              "      <td>3</td>\n",
              "      <td>female</td>\n",
              "      <td>39.0</td>\n",
              "      <td>0</td>\n",
              "      <td>5</td>\n",
              "      <td>29.1250</td>\n",
              "      <td>Q</td>\n",
              "    </tr>\n",
              "    <tr>\n",
              "      <th>886</th>\n",
              "      <td>0</td>\n",
              "      <td>2</td>\n",
              "      <td>male</td>\n",
              "      <td>27.0</td>\n",
              "      <td>0</td>\n",
              "      <td>0</td>\n",
              "      <td>13.0000</td>\n",
              "      <td>S</td>\n",
              "    </tr>\n",
              "    <tr>\n",
              "      <th>887</th>\n",
              "      <td>1</td>\n",
              "      <td>1</td>\n",
              "      <td>female</td>\n",
              "      <td>19.0</td>\n",
              "      <td>0</td>\n",
              "      <td>0</td>\n",
              "      <td>30.0000</td>\n",
              "      <td>S</td>\n",
              "    </tr>\n",
              "    <tr>\n",
              "      <th>889</th>\n",
              "      <td>1</td>\n",
              "      <td>1</td>\n",
              "      <td>male</td>\n",
              "      <td>26.0</td>\n",
              "      <td>0</td>\n",
              "      <td>0</td>\n",
              "      <td>30.0000</td>\n",
              "      <td>C</td>\n",
              "    </tr>\n",
              "    <tr>\n",
              "      <th>890</th>\n",
              "      <td>0</td>\n",
              "      <td>3</td>\n",
              "      <td>male</td>\n",
              "      <td>32.0</td>\n",
              "      <td>0</td>\n",
              "      <td>0</td>\n",
              "      <td>7.7500</td>\n",
              "      <td>Q</td>\n",
              "    </tr>\n",
              "  </tbody>\n",
              "</table>\n",
              "<p>712 rows × 8 columns</p>\n",
              "</div>"
            ],
            "text/plain": [
              "     Survived  Pclass     Sex   Age  SibSp  Parch     Fare Embarked\n",
              "0           0       3    male  22.0      1      0   7.2500        S\n",
              "1           1       1  female  38.0      1      0  71.2833        C\n",
              "2           1       3  female  26.0      0      0   7.9250        S\n",
              "3           1       1  female  35.0      1      0  53.1000        S\n",
              "4           0       3    male  35.0      0      0   8.0500        S\n",
              "..        ...     ...     ...   ...    ...    ...      ...      ...\n",
              "885         0       3  female  39.0      0      5  29.1250        Q\n",
              "886         0       2    male  27.0      0      0  13.0000        S\n",
              "887         1       1  female  19.0      0      0  30.0000        S\n",
              "889         1       1    male  26.0      0      0  30.0000        C\n",
              "890         0       3    male  32.0      0      0   7.7500        Q\n",
              "\n",
              "[712 rows x 8 columns]"
            ]
          },
          "metadata": {
            "tags": []
          },
          "execution_count": 19
        }
      ]
    },
    {
      "cell_type": "code",
      "metadata": {
        "colab": {
          "base_uri": "https://localhost:8080/",
          "height": 412
        },
        "id": "HAneU3TgBpIY",
        "outputId": "979c4947-fe1e-431e-ecf8-b802de7279d7"
      },
      "source": [
        "# https://www.kaggle.com/volhaleusha/titanic-tutorial-encoding-feature-eng-81-8 tutorialzinho sobre o ML com o dataset titanic\n",
        "\n",
        "columns = [\"Pclass\", \"Sex\", \"Embarked\"]\n",
        "#ohe == one-hot-encoder\n",
        "tc_ohe = pd.concat([tc_data, pd.get_dummies(tc_data[columns[0]])], axis = 1) \n",
        "tc_ohe = pd.concat([tc_ohe, pd.get_dummies(tc_data[columns[1]])], axis = 1) \n",
        "tc_ohe = pd.concat([tc_ohe, pd.get_dummies(tc_data[columns[2]])], axis = 1)\n",
        "tc_ohe = tc_ohe.drop(columns, axis = 1)\n",
        "tc_ohe"
      ],
      "execution_count": 20,
      "outputs": [
        {
          "output_type": "execute_result",
          "data": {
            "text/html": [
              "<div>\n",
              "<style scoped>\n",
              "    .dataframe tbody tr th:only-of-type {\n",
              "        vertical-align: middle;\n",
              "    }\n",
              "\n",
              "    .dataframe tbody tr th {\n",
              "        vertical-align: top;\n",
              "    }\n",
              "\n",
              "    .dataframe thead th {\n",
              "        text-align: right;\n",
              "    }\n",
              "</style>\n",
              "<table border=\"1\" class=\"dataframe\">\n",
              "  <thead>\n",
              "    <tr style=\"text-align: right;\">\n",
              "      <th></th>\n",
              "      <th>Survived</th>\n",
              "      <th>Age</th>\n",
              "      <th>SibSp</th>\n",
              "      <th>Parch</th>\n",
              "      <th>Fare</th>\n",
              "      <th>1</th>\n",
              "      <th>2</th>\n",
              "      <th>3</th>\n",
              "      <th>female</th>\n",
              "      <th>male</th>\n",
              "      <th>C</th>\n",
              "      <th>Q</th>\n",
              "      <th>S</th>\n",
              "    </tr>\n",
              "  </thead>\n",
              "  <tbody>\n",
              "    <tr>\n",
              "      <th>0</th>\n",
              "      <td>0</td>\n",
              "      <td>22.0</td>\n",
              "      <td>1</td>\n",
              "      <td>0</td>\n",
              "      <td>7.2500</td>\n",
              "      <td>0</td>\n",
              "      <td>0</td>\n",
              "      <td>1</td>\n",
              "      <td>0</td>\n",
              "      <td>1</td>\n",
              "      <td>0</td>\n",
              "      <td>0</td>\n",
              "      <td>1</td>\n",
              "    </tr>\n",
              "    <tr>\n",
              "      <th>1</th>\n",
              "      <td>1</td>\n",
              "      <td>38.0</td>\n",
              "      <td>1</td>\n",
              "      <td>0</td>\n",
              "      <td>71.2833</td>\n",
              "      <td>1</td>\n",
              "      <td>0</td>\n",
              "      <td>0</td>\n",
              "      <td>1</td>\n",
              "      <td>0</td>\n",
              "      <td>1</td>\n",
              "      <td>0</td>\n",
              "      <td>0</td>\n",
              "    </tr>\n",
              "    <tr>\n",
              "      <th>2</th>\n",
              "      <td>1</td>\n",
              "      <td>26.0</td>\n",
              "      <td>0</td>\n",
              "      <td>0</td>\n",
              "      <td>7.9250</td>\n",
              "      <td>0</td>\n",
              "      <td>0</td>\n",
              "      <td>1</td>\n",
              "      <td>1</td>\n",
              "      <td>0</td>\n",
              "      <td>0</td>\n",
              "      <td>0</td>\n",
              "      <td>1</td>\n",
              "    </tr>\n",
              "    <tr>\n",
              "      <th>3</th>\n",
              "      <td>1</td>\n",
              "      <td>35.0</td>\n",
              "      <td>1</td>\n",
              "      <td>0</td>\n",
              "      <td>53.1000</td>\n",
              "      <td>1</td>\n",
              "      <td>0</td>\n",
              "      <td>0</td>\n",
              "      <td>1</td>\n",
              "      <td>0</td>\n",
              "      <td>0</td>\n",
              "      <td>0</td>\n",
              "      <td>1</td>\n",
              "    </tr>\n",
              "    <tr>\n",
              "      <th>4</th>\n",
              "      <td>0</td>\n",
              "      <td>35.0</td>\n",
              "      <td>0</td>\n",
              "      <td>0</td>\n",
              "      <td>8.0500</td>\n",
              "      <td>0</td>\n",
              "      <td>0</td>\n",
              "      <td>1</td>\n",
              "      <td>0</td>\n",
              "      <td>1</td>\n",
              "      <td>0</td>\n",
              "      <td>0</td>\n",
              "      <td>1</td>\n",
              "    </tr>\n",
              "    <tr>\n",
              "      <th>...</th>\n",
              "      <td>...</td>\n",
              "      <td>...</td>\n",
              "      <td>...</td>\n",
              "      <td>...</td>\n",
              "      <td>...</td>\n",
              "      <td>...</td>\n",
              "      <td>...</td>\n",
              "      <td>...</td>\n",
              "      <td>...</td>\n",
              "      <td>...</td>\n",
              "      <td>...</td>\n",
              "      <td>...</td>\n",
              "      <td>...</td>\n",
              "    </tr>\n",
              "    <tr>\n",
              "      <th>885</th>\n",
              "      <td>0</td>\n",
              "      <td>39.0</td>\n",
              "      <td>0</td>\n",
              "      <td>5</td>\n",
              "      <td>29.1250</td>\n",
              "      <td>0</td>\n",
              "      <td>0</td>\n",
              "      <td>1</td>\n",
              "      <td>1</td>\n",
              "      <td>0</td>\n",
              "      <td>0</td>\n",
              "      <td>1</td>\n",
              "      <td>0</td>\n",
              "    </tr>\n",
              "    <tr>\n",
              "      <th>886</th>\n",
              "      <td>0</td>\n",
              "      <td>27.0</td>\n",
              "      <td>0</td>\n",
              "      <td>0</td>\n",
              "      <td>13.0000</td>\n",
              "      <td>0</td>\n",
              "      <td>1</td>\n",
              "      <td>0</td>\n",
              "      <td>0</td>\n",
              "      <td>1</td>\n",
              "      <td>0</td>\n",
              "      <td>0</td>\n",
              "      <td>1</td>\n",
              "    </tr>\n",
              "    <tr>\n",
              "      <th>887</th>\n",
              "      <td>1</td>\n",
              "      <td>19.0</td>\n",
              "      <td>0</td>\n",
              "      <td>0</td>\n",
              "      <td>30.0000</td>\n",
              "      <td>1</td>\n",
              "      <td>0</td>\n",
              "      <td>0</td>\n",
              "      <td>1</td>\n",
              "      <td>0</td>\n",
              "      <td>0</td>\n",
              "      <td>0</td>\n",
              "      <td>1</td>\n",
              "    </tr>\n",
              "    <tr>\n",
              "      <th>889</th>\n",
              "      <td>1</td>\n",
              "      <td>26.0</td>\n",
              "      <td>0</td>\n",
              "      <td>0</td>\n",
              "      <td>30.0000</td>\n",
              "      <td>1</td>\n",
              "      <td>0</td>\n",
              "      <td>0</td>\n",
              "      <td>0</td>\n",
              "      <td>1</td>\n",
              "      <td>1</td>\n",
              "      <td>0</td>\n",
              "      <td>0</td>\n",
              "    </tr>\n",
              "    <tr>\n",
              "      <th>890</th>\n",
              "      <td>0</td>\n",
              "      <td>32.0</td>\n",
              "      <td>0</td>\n",
              "      <td>0</td>\n",
              "      <td>7.7500</td>\n",
              "      <td>0</td>\n",
              "      <td>0</td>\n",
              "      <td>1</td>\n",
              "      <td>0</td>\n",
              "      <td>1</td>\n",
              "      <td>0</td>\n",
              "      <td>1</td>\n",
              "      <td>0</td>\n",
              "    </tr>\n",
              "  </tbody>\n",
              "</table>\n",
              "<p>712 rows × 13 columns</p>\n",
              "</div>"
            ],
            "text/plain": [
              "     Survived   Age  SibSp  Parch     Fare  1  2  3  female  male  C  Q  S\n",
              "0           0  22.0      1      0   7.2500  0  0  1       0     1  0  0  1\n",
              "1           1  38.0      1      0  71.2833  1  0  0       1     0  1  0  0\n",
              "2           1  26.0      0      0   7.9250  0  0  1       1     0  0  0  1\n",
              "3           1  35.0      1      0  53.1000  1  0  0       1     0  0  0  1\n",
              "4           0  35.0      0      0   8.0500  0  0  1       0     1  0  0  1\n",
              "..        ...   ...    ...    ...      ... .. .. ..     ...   ... .. .. ..\n",
              "885         0  39.0      0      5  29.1250  0  0  1       1     0  0  1  0\n",
              "886         0  27.0      0      0  13.0000  0  1  0       0     1  0  0  1\n",
              "887         1  19.0      0      0  30.0000  1  0  0       1     0  0  0  1\n",
              "889         1  26.0      0      0  30.0000  1  0  0       0     1  1  0  0\n",
              "890         0  32.0      0      0   7.7500  0  0  1       0     1  0  1  0\n",
              "\n",
              "[712 rows x 13 columns]"
            ]
          },
          "metadata": {
            "tags": []
          },
          "execution_count": 20
        }
      ]
    },
    {
      "cell_type": "code",
      "metadata": {
        "colab": {
          "base_uri": "https://localhost:8080/"
        },
        "id": "KetitGmWIDRd",
        "outputId": "f3864565-d6a8-48f4-e3cd-050190db96fc"
      },
      "source": [
        "tc_ohe.columns"
      ],
      "execution_count": 21,
      "outputs": [
        {
          "output_type": "execute_result",
          "data": {
            "text/plain": [
              "Index(['Survived',      'Age',    'SibSp',    'Parch',     'Fare',          1,\n",
              "                2,          3,   'female',     'male',        'C',        'Q',\n",
              "              'S'],\n",
              "      dtype='object')"
            ]
          },
          "metadata": {
            "tags": []
          },
          "execution_count": 21
        }
      ]
    },
    {
      "cell_type": "code",
      "metadata": {
        "id": "6GwGDw_jHoCi"
      },
      "source": [
        "def roda_modelo_cv_titanic(modelo, dados, n_splits, n_repeats):\n",
        "\n",
        "    np.random.seed(1231234) # lembrando sempre que é para valor didático\n",
        "    dados = dados.sample(frac = 1).reset_index(drop = True) # embaralha\n",
        "    x_columns = dados.columns\n",
        "    y = dados[\"Survived\"]\n",
        "    x = dados[x_columns].drop([\"Survived\"], axis=1)\n",
        "\n",
        "    cv = RepeatedStratifiedKFold(n_splits = n_splits, n_repeats = n_repeats)\n",
        "    resultados = cross_validate(modelo, x, y, cv = cv, scoring = \"roc_auc\", return_train_score = True)\n",
        "\n",
        "    auc_medio = np.mean(resultados[\"test_score\"])\n",
        "    auc_medio_treino = np.mean(resultados[\"train_score\"])\n",
        "    auc_std = np.std(resultados[\"test_score\"])\n",
        "\n",
        "    print(f\"AUC {auc_medio} - {auc_medio_treino}\") \n",
        "    return auc_medio, auc_medio_treino\n"
      ],
      "execution_count": 22,
      "outputs": []
    },
    {
      "cell_type": "code",
      "metadata": {
        "colab": {
          "base_uri": "https://localhost:8080/"
        },
        "id": "FJTU3YU3IldI",
        "outputId": "32bebff8-6be2-49cb-eb32-5482c30980f9"
      },
      "source": [
        "teste_lista = []\n",
        "treino_lista = []\n",
        "\n",
        "for i in range(1, 21):\n",
        "  modelo_arvore = DecisionTreeClassifier(max_depth = i)\n",
        "  teste, treino = roda_modelo_cv_titanic(modelo_arvore, tc_ohe, 5, 10)\n",
        "  teste_lista.append(teste)\n",
        "  treino_lista.append(treino)"
      ],
      "execution_count": 23,
      "outputs": [
        {
          "output_type": "stream",
          "text": [
            "AUC 0.7630304513820046 - 0.7630675139691053\n",
            "AUC 0.8069971518552974 - 0.8260652657945429\n",
            "AUC 0.847018674983605 - 0.8737853425176197\n",
            "AUC 0.8416610390072543 - 0.8947291292374798\n",
            "AUC 0.8305960387784879 - 0.9172517159104013\n",
            "AUC 0.8196813026481009 - 0.9337129884565436\n",
            "AUC 0.80799224481081 - 0.9489087733772488\n",
            "AUC 0.7930578055178513 - 0.9613528827287559\n",
            "AUC 0.7791308214755958 - 0.9724016746286002\n",
            "AUC 0.7746794826823651 - 0.9810793829066367\n",
            "AUC 0.7656856415887588 - 0.9879196708305438\n",
            "AUC 0.7597464846192561 - 0.9924855192798259\n",
            "AUC 0.7604453412944125 - 0.9957219550434\n",
            "AUC 0.7611539421576253 - 0.99748758444439\n",
            "AUC 0.7563081321457801 - 0.9984906626068759\n",
            "AUC 0.7550298845491008 - 0.999084167996486\n",
            "AUC 0.7526065112070235 - 0.9993970709353617\n",
            "AUC 0.7518369160731443 - 0.9995369544217234\n",
            "AUC 0.7507409993035327 - 0.9996203412287065\n",
            "AUC 0.7517660365416584 - 0.9996538773082659\n"
          ],
          "name": "stdout"
        }
      ]
    },
    {
      "cell_type": "code",
      "metadata": {
        "id": "QRC5dtKqJPl-"
      },
      "source": [
        "lista_arvore = pd.DataFrame({\n",
        "    \"teste\": teste_lista,\n",
        "    \"treino\": treino_lista,\n",
        "    \"x\": list(range(1, 21))})"
      ],
      "execution_count": 24,
      "outputs": []
    },
    {
      "cell_type": "code",
      "metadata": {
        "colab": {
          "base_uri": "https://localhost:8080/",
          "height": 415
        },
        "id": "1ZokY-56JPl_",
        "outputId": "60b30159-7cff-4e32-f27a-73cce4fd2dbd"
      },
      "source": [
        "plt.figure(figsize = (10, 6))\n",
        "ax = plt.gca()\n",
        "plt.title(\"AUC teste e treino árvore de decisão - Titanic\", fontsize = 15)\n",
        "lista_arvore.plot(kind='line', x=\"x\", y='teste',ax=ax)\n",
        "lista_arvore.plot(kind='line', x=\"x\", y='treino', ax=ax)\n",
        "plt.legend(fontsize = 15, labels = [\"Teste\", \"Treino\"])\n",
        "plt.xlabel(\"Max depth\", fontsize = 15)\n",
        "plt.xticks(list(range(1,21)))\n",
        "plt.tick_params(axis = \"both\", which = \"major\", labelsize = 14)\n",
        "plt.show()"
      ],
      "execution_count": 25,
      "outputs": [
        {
          "output_type": "display_data",
          "data": {
            "image/png": "[encoded data removed]",
            "text/plain": [
              "<Figure size 720x432 with 1 Axes>"
            ]
          },
          "metadata": {
            "tags": [],
            "needs_background": "light"
          }
        }
      ]
    },
    {
      "cell_type": "markdown",
      "metadata": {
        "id": "SRd3cbseNpHc"
      },
      "source": [
        "O Resultado aqui foi bastante semelhante ao observado para o dataset do sírio-libanês, inclusive dando o mesmo valor \"ótimo\" de max depth de 3. Porém, a queda nos valores de AUC é relativamente mais brusca após o valor de 3, apenas estabilizando em valores mais baixos por volta do valor de 12. "
      ]
    },
    {
      "cell_type": "code",
      "metadata": {
        "id": "uqpLdBW9L1vq"
      },
      "source": [
        "from sklearn.neighbors import KNeighborsClassifier"
      ],
      "execution_count": 26,
      "outputs": []
    },
    {
      "cell_type": "code",
      "metadata": {
        "colab": {
          "base_uri": "https://localhost:8080/"
        },
        "id": "RsDFaXh5KyIS",
        "outputId": "6666fa1a-e2a9-409b-833f-b60d98b11e00"
      },
      "source": [
        "teste_lista = []\n",
        "treino_lista = []\n",
        "\n",
        "for i in range(1, 21):\n",
        "  modelo_knn = KNeighborsClassifier(n_neighbors = i)\n",
        "  teste, treino = roda_modelo_cv_titanic(modelo_knn, tc_ohe, 5, 10)\n",
        "  teste_lista.append(teste)\n",
        "  treino_lista.append(treino)"
      ],
      "execution_count": 27,
      "outputs": [
        {
          "output_type": "stream",
          "text": [
            "AUC 0.6496533880339794 - 0.9875013210502991\n",
            "AUC 0.6970146474197664 - 0.9424824828547436\n",
            "AUC 0.7244897576090327 - 0.9122482492335842\n",
            "AUC 0.7246744345651146 - 0.8900143096146196\n",
            "AUC 0.7229221862973865 - 0.8690247057683708\n",
            "AUC 0.7268186058452418 - 0.8499941652289071\n",
            "AUC 0.7296929468702181 - 0.8387994704073989\n",
            "AUC 0.7317098273066033 - 0.8320470418519408\n",
            "AUC 0.7322132066982873 - 0.8246440301861413\n",
            "AUC 0.7359160782280244 - 0.8181465097069878\n",
            "AUC 0.7358751328117453 - 0.8115905209913551\n",
            "AUC 0.73459135541694 - 0.8062824489768857\n",
            "AUC 0.7340528972024382 - 0.8009968909235201\n",
            "AUC 0.7342976838648344 - 0.7958450286848098\n",
            "AUC 0.7335621749607283 - 0.7916436158363913\n",
            "AUC 0.7338928190150834 - 0.7876287688806678\n",
            "AUC 0.7325173481370771 - 0.7848119307491908\n",
            "AUC 0.732631857280117 - 0.7823202602246023\n",
            "AUC 0.7333560117331868 - 0.7809561020429954\n",
            "AUC 0.7344538348914884 - 0.7790710534687832\n"
          ],
          "name": "stdout"
        }
      ]
    },
    {
      "cell_type": "code",
      "metadata": {
        "id": "TdGFcW2xKyIf"
      },
      "source": [
        "lista_knn = pd.DataFrame({\n",
        "    \"teste\": teste_lista,\n",
        "    \"treino\": treino_lista,\n",
        "    \"x\": list(range(1, 21))})"
      ],
      "execution_count": 28,
      "outputs": []
    },
    {
      "cell_type": "code",
      "metadata": {
        "colab": {
          "base_uri": "https://localhost:8080/",
          "height": 419
        },
        "id": "QJ6qRfnvKyIf",
        "outputId": "e633fb95-6f38-476d-bf79-dec2ec57ca38"
      },
      "source": [
        "plt.figure(figsize = (10, 6))\n",
        "ax = plt.gca()\n",
        "plt.title(\"AUC teste e treino KNN - Titanic\", fontsize = 15)\n",
        "lista_knn.plot(kind='line', x=\"x\", y='teste',ax=ax)\n",
        "lista_knn.plot(kind='line', x=\"x\", y='treino', ax=ax)\n",
        "plt.legend(fontsize = 15, labels = [\"Teste\", \"Treino\"])\n",
        "plt.xlabel(\"K\", fontsize = 20)\n",
        "plt.xticks(list(range(1,21)))\n",
        "plt.tick_params(axis = \"both\", which = \"major\", labelsize = 14)\n",
        "plt.show()"
      ],
      "execution_count": 29,
      "outputs": [
        {
          "output_type": "display_data",
          "data": {
            "image/png": "[encoded data removed]",
            "text/plain": [
              "<Figure size 720x432 with 1 Axes>"
            ]
          },
          "metadata": {
            "tags": [],
            "needs_background": "light"
          }
        }
      ]
    },
    {
      "cell_type": "markdown",
      "metadata": {
        "id": "NyPpoVzHODCk"
      },
      "source": [
        "Aqui podemos ver que o KNN tem um comportamento diferente, em que a AUC do treino diminui conforme se aumenta muito o valor de K, a medida que a AUC do teste mantém-se relativamente estável. Nesse caso também podemos escolher o valor de 3 para K (o valor iterável relativamente comparável com o max_depth do decision tree), pois há o melhor compromisso entre AUC treino/teste."
      ]
    },
    {
      "cell_type": "markdown",
      "metadata": {
        "id": "72dSJGSTYRq2"
      },
      "source": [
        "# Desafio 03 - Estudar um pouco mais sobre overfit e underfit"
      ]
    },
    {
      "cell_type": "markdown",
      "metadata": {
        "id": "h_cTghu-Z8bh"
      },
      "source": [
        "Primeiro, o que é o \"fit\"? A terminologia aplicada é derivada diretamente da estátística, em que se busca aproximar os nossos dados à função matemática que melhor os descreve. Aportuguesamos um pouco esses termos em dizer \"fitar\" ou \"fazer o fitting de modelos\", que nada mais é buscar qual a melhor função matemática que descreve como os dados, geralmente tentanto estimar os valores y em função de x. Quando buscamos \"a melhor função\" em machine learning, a função \"real\" não é conhecida, e tecnicamente utilizamos \"o melhor chute disponível\", o que pode levar aos fenômenos de underfitting e overfitting. \n",
        "O Overfitting é quando o modelo \"funciona bem até demais\": a função estimada capta todo o ruído nos dados e entende isso como propriedade do sistema, o que nem sempre é verdade, já que muitas vezes lidamos com amostras de uma população estatística. Dessa forma, o modelo acaba prevendo com exatidão todos os pontos dos dados de treino, mas é incapaz de generalizar quando apresentado à novas situações diferentes do conjunto de dados de treino. \n",
        "O Underfitting, portanto, é o contrário? Na verdade não. Se um modelo não é capaz de detectar os padrões e prever bem o conjunto de dados de treino, ele também não será capaz de generalizar para novos dados, portanto, é uma performance igualmente ruim que um modelo apresente underfitting."
      ]
    },
    {
      "cell_type": "markdown",
      "metadata": {
        "id": "VIhPq6LaYZ2j"
      },
      "source": [
        "# Desafio 04 - Escolha um modelo de ML, estude os hiperparametros desse modelo e teste vários hiperparametros"
      ]
    },
    {
      "cell_type": "markdown",
      "metadata": {
        "id": "2ndrwznhOjo7"
      },
      "source": [
        "Vamos brincar com o KNN que eu estudei anteriormente, agora voltando para o nosso dataset de covid do sirio libanes. Primeiro, gostaria de repetir o experimento que foi feito anteriormente, iterando o valor de K, que é peça fundamental no algoritmo KNN."
      ]
    },
    {
      "cell_type": "code",
      "metadata": {
        "colab": {
          "base_uri": "https://localhost:8080/"
        },
        "id": "qIFTKW1biXoN",
        "outputId": "e2f8b17a-68dc-44ce-9c70-304e9eef27a8"
      },
      "source": [
        "teste_lista = []\n",
        "treino_lista = []\n",
        "\n",
        "for i in range(1, 21):\n",
        "  modelo_knn = KNeighborsClassifier(n_neighbors = i)\n",
        "  teste, treino = roda_modelo_cv(modelo_knn, dados_limpos, 5, 10)\n",
        "  teste_lista.append(teste)\n",
        "  treino_lista.append(treino)"
      ],
      "execution_count": 30,
      "outputs": [
        {
          "output_type": "stream",
          "text": [
            "AUC 0.5955223420190526 - 1.0\n",
            "AUC 0.602352916612785 - 0.9193295245642211\n",
            "AUC 0.6029957042868228 - 0.8714441319953491\n",
            "AUC 0.5954506120953489 - 0.8450099732250328\n",
            "AUC 0.5811683289150394 - 0.818003509916378\n",
            "AUC 0.5714571816134316 - 0.7927338349870352\n",
            "AUC 0.55726237526402 - 0.7716735134336368\n",
            "AUC 0.5423663937561964 - 0.7451352714296445\n",
            "AUC 0.5286077120781069 - 0.7249447789325504\n",
            "AUC 0.5199221006293374 - 0.7090357909749407\n",
            "AUC 0.5071023804905384 - 0.6909990474644728\n",
            "AUC 0.49312421198111983 - 0.670022036236056\n",
            "AUC 0.475771888066296 - 0.6501672875681015\n",
            "AUC 0.4710731672162593 - 0.6345144165914333\n",
            "AUC 0.47414479072373816 - 0.6225119870271784\n",
            "AUC 0.4705258914716151 - 0.6129673485393807\n",
            "AUC 0.4697767751303936 - 0.603793489903717\n",
            "AUC 0.4670222180912971 - 0.5953499163512527\n",
            "AUC 0.46721082401181085 - 0.5895402071457766\n",
            "AUC 0.4691390792706583 - 0.5864774161174169\n"
          ],
          "name": "stdout"
        }
      ]
    },
    {
      "cell_type": "code",
      "metadata": {
        "id": "3OVaCLK1iXoO"
      },
      "source": [
        "lista_knn = pd.DataFrame({\n",
        "    \"teste\": teste_lista,\n",
        "    \"treino\": treino_lista,\n",
        "    \"x\": list(range(1, 21))})"
      ],
      "execution_count": 31,
      "outputs": []
    },
    {
      "cell_type": "code",
      "metadata": {
        "colab": {
          "base_uri": "https://localhost:8080/",
          "height": 419
        },
        "id": "FmXqGZLjiXoO",
        "outputId": "6de6a3a0-44cc-4fc1-d680-82b1cf10c9f5"
      },
      "source": [
        "plt.figure(figsize = (10, 6))\n",
        "ax = plt.gca()\n",
        "plt.title(\"AUC teste e treino KNN - Uniforme - covid\", fontsize = 15)\n",
        "lista_knn.plot(kind='line', x=\"x\", y='teste',ax=ax)\n",
        "lista_knn.plot(kind='line', x=\"x\", y='treino', ax=ax)\n",
        "plt.legend(fontsize = 15, labels = [\"Teste\", \"Treino\"])\n",
        "plt.xlabel(\"K\", fontsize = 20)\n",
        "plt.xticks(list(range(1,21)))\n",
        "plt.tick_params(axis = \"both\", which = \"major\", labelsize = 14)\n",
        "plt.show()"
      ],
      "execution_count": 32,
      "outputs": [
        {
          "output_type": "display_data",
          "data": {
            "image/png": "[encoded data removed]",
            "text/plain": [
              "<Figure size 720x432 with 1 Axes>"
            ]
          },
          "metadata": {
            "tags": [],
            "needs_background": "light"
          }
        }
      ]
    },
    {
      "cell_type": "markdown",
      "metadata": {
        "id": "CentetCLjBFG"
      },
      "source": [
        "É interessante notar que há uma queda de performance constante em ambos dados de treino e de teste. Por que isso ocorre? Uma particularidade do KNN é que com k = 1, a AUC tem score de 1, sendo na verdade um caso severo de overfitting. Da forma como o algoritmo funciona, o vizinho mais próximo de qualquer ponto é ele mesmo, então o algoritmo é incapaz de generalizar."
      ]
    },
    {
      "cell_type": "markdown",
      "metadata": {
        "id": "N2nQ_cymo4Gb"
      },
      "source": [
        "Outros parametros que podemos testar sobre o modelo KNN, são weight e metric. Todos eles são relativos a forma como a distância entre os pontos (nosso dados) em um plano n dimensional é calculada e interpretada.\n",
        "- Weight diz a forma como as distâncias são interpretadas, se todas as distâncias tem o mesmo peso ou se distâncias maiores tem menor influência no algoritmo. Padrão = uniforme\n",
        "- Metric indica qual a métrica utilizada para se calcular a distância no plano n dimensional, seja distância euclideana, distância de manhattan, minkowski, etc. Padrão = minkowski\n",
        "\n",
        "Vamos testar então com o mesmo framework utilizado anteriormente, iterando os valores de K:"
      ]
    },
    {
      "cell_type": "code",
      "metadata": {
        "colab": {
          "base_uri": "https://localhost:8080/"
        },
        "id": "UbtOiwpQrpxL",
        "outputId": "1bfa0f88-cfbb-4937-bb70-fbb505350cc8"
      },
      "source": [
        "teste_lista = []\n",
        "treino_lista = []\n",
        "\n",
        "for i in range(1, 21):\n",
        "  modelo_knn = KNeighborsClassifier(n_neighbors = i, weights=\"distance\")\n",
        "  teste, treino = roda_modelo_cv(modelo_knn, dados_limpos, 5, 10)\n",
        "  teste_lista.append(teste)\n",
        "  treino_lista.append(treino)"
      ],
      "execution_count": 33,
      "outputs": [
        {
          "output_type": "stream",
          "text": [
            "AUC 0.5955223420190526 - 1.0\n",
            "AUC 0.6198093263718263 - 1.0\n",
            "AUC 0.6222200512414329 - 1.0\n",
            "AUC 0.6223821406633906 - 1.0\n",
            "AUC 0.611228299172378 - 1.0\n",
            "AUC 0.5991563887452045 - 1.0\n",
            "AUC 0.5886327670373723 - 1.0\n",
            "AUC 0.5782797345790767 - 1.0\n",
            "AUC 0.5712340914479072 - 1.0\n",
            "AUC 0.5657252063666537 - 1.0\n",
            "AUC 0.5592556791241001 - 1.0\n",
            "AUC 0.5516676769472822 - 1.0\n",
            "AUC 0.5421285400232769 - 1.0\n",
            "AUC 0.5396963231173757 - 1.0\n",
            "AUC 0.5401141482391483 - 1.0\n",
            "AUC 0.5388103070175437 - 1.0\n",
            "AUC 0.5378895103237209 - 1.0\n",
            "AUC 0.5359608172766067 - 1.0\n",
            "AUC 0.5366762710677184 - 1.0\n",
            "AUC 0.5375354002327686 - 1.0\n"
          ],
          "name": "stdout"
        }
      ]
    },
    {
      "cell_type": "code",
      "metadata": {
        "id": "rnnR8OdlrpxO"
      },
      "source": [
        "lista_knn = pd.DataFrame({\n",
        "    \"teste\": teste_lista,\n",
        "    \"treino\": treino_lista,\n",
        "    \"x\": list(range(1, 21))})"
      ],
      "execution_count": 34,
      "outputs": []
    },
    {
      "cell_type": "code",
      "metadata": {
        "colab": {
          "base_uri": "https://localhost:8080/",
          "height": 419
        },
        "id": "u5BOS9fBrpxO",
        "outputId": "55edb577-dcce-493e-cfcf-f6e83c975d94"
      },
      "source": [
        "plt.figure(figsize = (10, 6))\n",
        "ax = plt.gca()\n",
        "plt.title(\"AUC teste e treino KNN - Distância - covid\", fontsize = 15)\n",
        "lista_knn.plot(kind='line', x=\"x\", y='teste',ax=ax)\n",
        "lista_knn.plot(kind='line', x=\"x\", y='treino', ax=ax)\n",
        "plt.legend(fontsize = 15, labels = [\"Teste\", \"Treino\"])\n",
        "plt.xlabel(\"K\", fontsize = 20)\n",
        "plt.xticks(list(range(1,21)))\n",
        "plt.tick_params(axis = \"both\", which = \"major\", labelsize = 14)\n",
        "plt.show()"
      ],
      "execution_count": 35,
      "outputs": [
        {
          "output_type": "display_data",
          "data": {
            "image/png": "[encoded data removed]",
            "text/plain": [
              "<Figure size 720x432 with 1 Axes>"
            ]
          },
          "metadata": {
            "tags": [],
            "needs_background": "light"
          }
        }
      ]
    },
    {
      "cell_type": "markdown",
      "metadata": {
        "id": "ICI_2cCmsYJ-"
      },
      "source": [
        "Overfitting exagerado. Se é que existe tal redundância!"
      ]
    },
    {
      "cell_type": "code",
      "metadata": {
        "colab": {
          "base_uri": "https://localhost:8080/"
        },
        "id": "IBmCkjJLselM",
        "outputId": "dbfe34d3-d784-44be-ad98-3426984fbabd"
      },
      "source": [
        "teste_lista = []\n",
        "treino_lista = []\n",
        "\n",
        "for i in range(1, 21):\n",
        "  modelo_knn = KNeighborsClassifier(n_neighbors = i, metric = \"euclidean\")\n",
        "  teste, treino = roda_modelo_cv(modelo_knn, dados_limpos, 5, 10)\n",
        "  teste_lista.append(teste)\n",
        "  treino_lista.append(treino)"
      ],
      "execution_count": 36,
      "outputs": [
        {
          "output_type": "stream",
          "text": [
            "AUC 0.5955223420190526 - 1.0\n",
            "AUC 0.602352916612785 - 0.9193295245642211\n",
            "AUC 0.6029957042868228 - 0.8714441319953491\n",
            "AUC 0.5954506120953489 - 0.8450099732250328\n",
            "AUC 0.5811683289150394 - 0.818003509916378\n",
            "AUC 0.5714571816134316 - 0.7927338349870352\n",
            "AUC 0.55726237526402 - 0.7716735134336368\n",
            "AUC 0.5423663937561964 - 0.7451352714296445\n",
            "AUC 0.5286077120781069 - 0.7249447789325504\n",
            "AUC 0.5199221006293374 - 0.7090357909749407\n",
            "AUC 0.5071023804905384 - 0.6909990474644728\n",
            "AUC 0.49312421198111983 - 0.670022036236056\n",
            "AUC 0.475771888066296 - 0.6501672875681015\n",
            "AUC 0.4710731672162593 - 0.6345144165914333\n",
            "AUC 0.47414479072373816 - 0.6225119870271784\n",
            "AUC 0.4705258914716151 - 0.6129673485393807\n",
            "AUC 0.4697767751303936 - 0.603793489903717\n",
            "AUC 0.4670222180912971 - 0.5953499163512527\n",
            "AUC 0.46721082401181085 - 0.5895402071457766\n",
            "AUC 0.4691390792706583 - 0.5864774161174169\n"
          ],
          "name": "stdout"
        }
      ]
    },
    {
      "cell_type": "code",
      "metadata": {
        "id": "B1OM-RNrselO"
      },
      "source": [
        "lista_knn = pd.DataFrame({\n",
        "    \"teste\": teste_lista,\n",
        "    \"treino\": treino_lista,\n",
        "    \"x\": list(range(1, 21))})"
      ],
      "execution_count": 37,
      "outputs": []
    },
    {
      "cell_type": "code",
      "metadata": {
        "colab": {
          "base_uri": "https://localhost:8080/",
          "height": 419
        },
        "id": "skhlXx2zselO",
        "outputId": "aa4051aa-a2ba-43d7-cd9d-4692f5925884"
      },
      "source": [
        "plt.figure(figsize = (10, 6))\n",
        "ax = plt.gca()\n",
        "plt.title(\"AUC teste e treino KNN - Euclideana - covid\", fontsize = 15)\n",
        "lista_knn.plot(kind='line', x=\"x\", y='teste',ax=ax)\n",
        "lista_knn.plot(kind='line', x=\"x\", y='treino', ax=ax)\n",
        "plt.legend(fontsize = 15, labels = [\"Teste\", \"Treino\"])\n",
        "plt.xlabel(\"K\", fontsize = 20)\n",
        "plt.xticks(list(range(1,21)))\n",
        "plt.tick_params(axis = \"both\", which = \"major\", labelsize = 14)\n",
        "plt.show()"
      ],
      "execution_count": 38,
      "outputs": [
        {
          "output_type": "display_data",
          "data": {
            "image/png": "[encoded data removed]",
            "text/plain": [
              "<Figure size 720x432 with 1 Axes>"
            ]
          },
          "metadata": {
            "tags": [],
            "needs_background": "light"
          }
        }
      ]
    },
    {
      "cell_type": "code",
      "metadata": {
        "colab": {
          "base_uri": "https://localhost:8080/"
        },
        "id": "UauVnxCxs2C8",
        "outputId": "eb1a7ea5-a2d2-4f60-9e9e-da820ad41643"
      },
      "source": [
        "teste_lista = []\n",
        "treino_lista = []\n",
        "\n",
        "for i in range(1, 21):\n",
        "  modelo_knn = KNeighborsClassifier(n_neighbors = i, metric = \"manhattan\")\n",
        "  teste, treino = roda_modelo_cv(modelo_knn, dados_limpos, 5, 10)\n",
        "  teste_lista.append(teste)\n",
        "  treino_lista.append(treino)"
      ],
      "execution_count": 39,
      "outputs": [
        {
          "output_type": "stream",
          "text": [
            "AUC 0.5777277037803354 - 1.0\n",
            "AUC 0.5930942807340833 - 0.9242418240871142\n",
            "AUC 0.615588865629984 - 0.8801772329835587\n",
            "AUC 0.6315220618345618 - 0.8612897915883376\n",
            "AUC 0.637059975645502 - 0.8483256146709302\n",
            "AUC 0.6384384496637786 - 0.8346527813822491\n",
            "AUC 0.6418677461851804 - 0.8189271806647159\n",
            "AUC 0.6387139599228415 - 0.8047359911629509\n",
            "AUC 0.6254783880770723 - 0.7939347914061812\n",
            "AUC 0.6116130813828182 - 0.7781512691502315\n",
            "AUC 0.6046308973447131 - 0.7623183467010322\n",
            "AUC 0.6080785742381137 - 0.7496406457388567\n",
            "AUC 0.6116089392322944 - 0.7426861948815235\n",
            "AUC 0.6097188523751024 - 0.7409092595806674\n",
            "AUC 0.6109742607439975 - 0.7387515797476294\n",
            "AUC 0.605591593387646 - 0.7302038833322042\n",
            "AUC 0.6034733447562395 - 0.7219725273372988\n",
            "AUC 0.597060689577137 - 0.7144908695560517\n",
            "AUC 0.5956264817449027 - 0.70936971280358\n",
            "AUC 0.5964220171128065 - 0.7042616011469314\n"
          ],
          "name": "stdout"
        }
      ]
    },
    {
      "cell_type": "code",
      "metadata": {
        "id": "f3bVVvAqs2DP"
      },
      "source": [
        "lista_knn = pd.DataFrame({\n",
        "    \"teste\": teste_lista,\n",
        "    \"treino\": treino_lista,\n",
        "    \"x\": list(range(1, 21))})"
      ],
      "execution_count": 40,
      "outputs": []
    },
    {
      "cell_type": "code",
      "metadata": {
        "colab": {
          "base_uri": "https://localhost:8080/",
          "height": 419
        },
        "id": "C_PphTkHs2DP",
        "outputId": "8bcaac21-17c9-4e0a-a895-eb1406aaa905"
      },
      "source": [
        "plt.figure(figsize = (10, 6))\n",
        "ax = plt.gca()\n",
        "plt.title(\"AUC teste e treino KNN - Manhattan - covid\", fontsize = 15)\n",
        "lista_knn.plot(kind='line', x=\"x\", y='teste',ax=ax)\n",
        "lista_knn.plot(kind='line', x=\"x\", y='treino', ax=ax)\n",
        "plt.legend(fontsize = 15, labels = [\"Teste\", \"Treino\"])\n",
        "plt.xlabel(\"K\", fontsize = 20)\n",
        "plt.xticks(list(range(1,21)))\n",
        "plt.tick_params(axis = \"both\", which = \"major\", labelsize = 14)\n",
        "plt.show()"
      ],
      "execution_count": 41,
      "outputs": [
        {
          "output_type": "display_data",
          "data": {
            "image/png": "[encoded data removed]",
            "text/plain": [
              "<Figure size 720x432 with 1 Axes>"
            ]
          },
          "metadata": {
            "tags": [],
            "needs_background": "light"
          }
        }
      ]
    },
    {
      "cell_type": "code",
      "metadata": {
        "colab": {
          "base_uri": "https://localhost:8080/"
        },
        "id": "SC8Ay1pDtQ5H",
        "outputId": "7300da83-c0d9-4de5-91c7-89496d21dd2c"
      },
      "source": [
        "teste_lista = []\n",
        "treino_lista = []\n",
        "\n",
        "for i in range(1, 21):\n",
        "  modelo_knn = KNeighborsClassifier(n_neighbors = i, metric = \"chebyshev\")\n",
        "  teste, treino = roda_modelo_cv(modelo_knn, dados_limpos, 5, 10)\n",
        "  teste_lista.append(teste)\n",
        "  treino_lista.append(treino)"
      ],
      "execution_count": 42,
      "outputs": [
        {
          "output_type": "stream",
          "text": [
            "AUC 0.5646357062804431 - 1.0\n",
            "AUC 0.5652167186624424 - 0.9037418436842944\n",
            "AUC 0.5727396520324153 - 0.8480208876775592\n",
            "AUC 0.5762801871847925 - 0.8188386941001948\n",
            "AUC 0.5648094880167249 - 0.7994855034592347\n",
            "AUC 0.5524426025906289 - 0.7796938497294359\n",
            "AUC 0.5446801788331392 - 0.7573797748555182\n",
            "AUC 0.5277863539376697 - 0.7380831383507709\n",
            "AUC 0.5052981540152593 - 0.7138827046339605\n",
            "AUC 0.48285213667614973 - 0.6851585708139758\n",
            "AUC 0.4663580932906591 - 0.6604540675098808\n",
            "AUC 0.459388066295961 - 0.638774015193085\n",
            "AUC 0.4523999283374283 - 0.6208006956026793\n",
            "AUC 0.447563378270615 - 0.6102461977376974\n",
            "AUC 0.45508332794517 - 0.6028217844455492\n",
            "AUC 0.4567838996292944 - 0.5968403080789298\n",
            "AUC 0.4564979767446873 - 0.5885984493002016\n",
            "AUC 0.4570121961075908 - 0.5833549749309596\n",
            "AUC 0.45858306796629167 - 0.5797340621710565\n",
            "AUC 0.46074941942540626 - 0.5789216568438572\n"
          ],
          "name": "stdout"
        }
      ]
    },
    {
      "cell_type": "code",
      "metadata": {
        "id": "g-YQJf0DtQ5I"
      },
      "source": [
        "lista_knn = pd.DataFrame({\n",
        "    \"teste\": teste_lista,\n",
        "    \"treino\": treino_lista,\n",
        "    \"x\": list(range(1, 21))})"
      ],
      "execution_count": 43,
      "outputs": []
    },
    {
      "cell_type": "code",
      "metadata": {
        "colab": {
          "base_uri": "https://localhost:8080/",
          "height": 419
        },
        "id": "atYnKopQtQ5I",
        "outputId": "f5916571-db7d-4037-d830-0158015a53ee"
      },
      "source": [
        "plt.figure(figsize = (10, 6))\n",
        "ax = plt.gca()\n",
        "plt.title(\"AUC teste e treino KNN - Chebyshev - covid\", fontsize = 15)\n",
        "lista_knn.plot(kind='line', x=\"x\", y='teste',ax=ax)\n",
        "lista_knn.plot(kind='line', x=\"x\", y='treino', ax=ax)\n",
        "plt.legend(fontsize = 15, labels = [\"Teste\", \"Treino\"])\n",
        "plt.xlabel(\"K\", fontsize = 20)\n",
        "plt.xticks(list(range(1,21)))\n",
        "plt.tick_params(axis = \"both\", which = \"major\", labelsize = 14)\n",
        "plt.show()"
      ],
      "execution_count": 44,
      "outputs": [
        {
          "output_type": "display_data",
          "data": {
            "image/png": "[encoded data removed]",
            "text/plain": [
              "<Figure size 720x432 with 1 Axes>"
            ]
          },
          "metadata": {
            "tags": [],
            "needs_background": "light"
          }
        }
      ]
    },
    {
      "cell_type": "markdown",
      "metadata": {
        "id": "mODIzcHstCA4"
      },
      "source": [
        "A distância de manhattan nesse caso parece ser a que possui melhor peformance! A forma como a distância é calculada parece ter bastante influência na acurácia do algoritmo, pode ser um caminho interessante explorar mais todas as métricas disponíveis e avaliar qual a melhor alternativa."
      ]
    },
    {
      "cell_type": "markdown",
      "metadata": {
        "id": "iaL72qHYYhbu"
      },
      "source": [
        "# Desafio 05 - Pesquisar como salvar um modelo treinado"
      ]
    },
    {
      "cell_type": "markdown",
      "metadata": {
        "id": "ZSjPTKG2vjOt"
      },
      "source": [
        "Em alguns exemplos online, encontrei a biblioteca pickle, que parece ser bastante utilizada para o armazenamento de objetos de modelos de ML."
      ]
    },
    {
      "cell_type": "code",
      "metadata": {
        "id": "hquViVxjvjnr"
      },
      "source": [
        "import pickle"
      ],
      "execution_count": 45,
      "outputs": []
    },
    {
      "cell_type": "code",
      "metadata": {
        "id": "l9_VO1WXyod9"
      },
      "source": [
        "dados_pickle = dados_limpos.sample(frac = 1).reset_index(drop = True)\n",
        "x_columns = dados_pickle.columns\n",
        "y = dados_pickle[\"ICU\"]\n",
        "x = dados_pickle[x_columns].drop([\"ICU\", \"WINDOW\"], axis = 1)\n",
        "\n",
        "x_train, x_test, y_train, y_test = train_test_split(x, y, test_size = 0.2)\n",
        "\n",
        "model_pickle = DecisionTreeClassifier(max_depth = 3)"
      ],
      "execution_count": 46,
      "outputs": []
    },
    {
      "cell_type": "code",
      "metadata": {
        "id": "IMHJEISiz-0_"
      },
      "source": [
        "model_pickle.fit(x_train, y_train)\n",
        "filename = \"modelo_dt_teste_pickle.sav\""
      ],
      "execution_count": 47,
      "outputs": []
    },
    {
      "cell_type": "code",
      "metadata": {
        "id": "BWnstMkY0JlJ"
      },
      "source": [
        "pickle.dump(model_pickle, open(filename, \"wb\"))"
      ],
      "execution_count": 48,
      "outputs": []
    },
    {
      "cell_type": "markdown",
      "metadata": {
        "id": "ljJGT-zS0zN6"
      },
      "source": [
        "Agora o arquivo está salvo no workspace: ![Screenshot from 2021-08-11 17-06-43.png](data:image/png;base64,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)"
      ]
    },
    {
      "cell_type": "code",
      "metadata": {
        "id": "NWR4C24H06_H"
      },
      "source": [
        "loaded_model = pickle.load(open(filename, \"rb\"))"
      ],
      "execution_count": 49,
      "outputs": []
    },
    {
      "cell_type": "code",
      "metadata": {
        "colab": {
          "base_uri": "https://localhost:8080/"
        },
        "id": "FT-mE5-51EpX",
        "outputId": "fe502503-ea05-444e-e505-8c7e3c17920d"
      },
      "source": [
        "result = loaded_model.score(x_test, y_test)\n",
        "print(result)"
      ],
      "execution_count": 50,
      "outputs": [
        {
          "output_type": "stream",
          "text": [
            "0.6338028169014085\n"
          ],
          "name": "stdout"
        }
      ]
    },
    {
      "cell_type": "markdown",
      "metadata": {
        "id": "ffkToLCp1xIF"
      },
      "source": [
        "Outra biblioteca que parece atuar de forma muito parecida (e com uma sintaxe inclusive mais simples) é o joblib:"
      ]
    },
    {
      "cell_type": "code",
      "metadata": {
        "id": "WQDiwnyK108d"
      },
      "source": [
        "import joblib"
      ],
      "execution_count": 51,
      "outputs": []
    },
    {
      "cell_type": "code",
      "metadata": {
        "colab": {
          "base_uri": "https://localhost:8080/"
        },
        "id": "pfgeZqI812P0",
        "outputId": "314c5388-4f2a-43e2-fc44-453d64af8f42"
      },
      "source": [
        "filename = \"modelo_dt_teste_joblib.sav\"\n",
        "joblib.dump(model_pickle, filename)"
      ],
      "execution_count": 52,
      "outputs": [
        {
          "output_type": "execute_result",
          "data": {
            "text/plain": [
              "['modelo_dt_teste_joblib.sav']"
            ]
          },
          "metadata": {
            "tags": []
          },
          "execution_count": 52
        }
      ]
    },
    {
      "cell_type": "markdown",
      "metadata": {
        "id": "wFcLf1rZ2W1y"
      },
      "source": [
        "![Screenshot from 2021-08-11 17-13-39.png](data:image/png;base64,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)"
      ]
    },
    {
      "cell_type": "code",
      "metadata": {
        "id": "ggjtQMX92IPP"
      },
      "source": [
        "loaded_model_2 = joblib.load(filename)"
      ],
      "execution_count": 53,
      "outputs": []
    },
    {
      "cell_type": "code",
      "metadata": {
        "colab": {
          "base_uri": "https://localhost:8080/"
        },
        "id": "--E_GEqN2c-g",
        "outputId": "6b19ecc2-3bd9-443e-bccb-186ab0408d17"
      },
      "source": [
        "result = loaded_model_2.score(x_test, y_test)\n",
        "print(result)"
      ],
      "execution_count": 54,
      "outputs": [
        {
          "output_type": "stream",
          "text": [
            "0.6338028169014085\n"
          ],
          "name": "stdout"
        }
      ]
    },
    {
      "cell_type": "code",
      "metadata": {
        "id": "iyr3Z7UK2hs1"
      },
      "source": [
        ""
      ],
      "execution_count": 54,
      "outputs": []
    }
  ]
}