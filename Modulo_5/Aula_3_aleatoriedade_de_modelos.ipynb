{
  "nbformat": 4,
  "nbformat_minor": 0,
  "metadata": {
    "colab": {
      "name": "Aula_3_aleatoriedade_de_modelos.ipynb",
      "provenance": [],
      "collapsed_sections": [],
      "authorship_tag": "ABX9TyNFKncfrKKsD6BGlP4fSuZn",
      "include_colab_link": true
    },
    "kernelspec": {
      "name": "python3",
      "display_name": "Python 3"
    },
    "language_info": {
      "name": "python"
    }
  },
  "cells": [
    {
      "cell_type": "markdown",
      "metadata": {
        "id": "view-in-github",
        "colab_type": "text"
      },
      "source": [
        "<a href=\"https://colab.research.google.com/github/RPGraciotti/BootCampAlura/blob/main/Modulo_5/Aula_3_aleatoriedade_de_modelos.ipynb\" target=\"_parent\"><img src=\"https://colab.research.google.com/assets/colab-badge.svg\" alt=\"Open In Colab\"/></a>"
      ]
    },
    {
      "cell_type": "markdown",
      "metadata": {
        "id": "xVxoHsIy_70h"
      },
      "source": [
        "Preparando conteúdo anterior"
      ]
    },
    {
      "cell_type": "code",
      "metadata": {
        "colab": {
          "base_uri": "https://localhost:8080/"
        },
        "id": "uwuyY8_P-3OY",
        "outputId": "2161bc7e-2121-4dcd-e37d-c601921cbb6f"
      },
      "source": [
        "import pandas as pd\n",
        "import numpy as np\n",
        "import matplotlib.pyplot as plt\n",
        "from sklearn.model_selection import train_test_split\n",
        "from sklearn.linear_model import LogisticRegression\n",
        "from sklearn.dummy import DummyClassifier\n",
        "from sklearn.metrics import accuracy_score\n",
        "from sklearn.tree import DecisionTreeClassifier\n",
        "from sklearn.metrics import plot_confusion_matrix\n",
        "from sklearn.metrics import classification_report\n",
        "from sklearn.metrics import roc_auc_score\n",
        "\n",
        "dados = pd.read_excel(\"https://github.com/alura-cursos/covid-19-clinical/blob/main/Kaggle_Sirio_Libanes_ICU_Prediction.xlsx?raw=true\")\n",
        "### também posso usar o link no meu repositório\n",
        "\n",
        "def preenche_tabela(dados):\n",
        "    features_continuas_colunas = dados.iloc[:, 13:-2].columns\n",
        "    features_continuas = dados.groupby(\"PATIENT_VISIT_IDENTIFIER\", as_index=False)[features_continuas_colunas].fillna(method='bfill').fillna(method='ffill')\n",
        "    features_categoricas = dados.iloc[:, :13]\n",
        "    saida = dados.iloc[:, -2:]\n",
        "    dados_finais = pd.concat([features_categoricas, features_continuas, saida], ignore_index=True,axis=1)\n",
        "    dados_finais.columns = dados.columns\n",
        "    return dados_finais\n",
        "\n",
        "dados_limpos = preenche_tabela(dados)\n",
        "a_remover = dados_limpos.query(\"WINDOW=='0-2' and ICU==1\")['PATIENT_VISIT_IDENTIFIER'].values\n",
        "dados_limpos = dados_limpos.query(\"PATIENT_VISIT_IDENTIFIER not in @a_remover\")\n",
        "dados_limpos = dados_limpos.dropna()\n",
        "\n",
        "def prepare_window(rows):\n",
        "    if(np.any(rows[\"ICU\"])):\n",
        "        rows.loc[rows[\"WINDOW\"]==\"0-2\", \"ICU\"] = 1\n",
        "    return rows.loc[rows[\"WINDOW\"] == \"0-2\"]\n",
        "\n",
        "dados_limpos = dados_limpos.groupby(\"PATIENT_VISIT_IDENTIFIER\").apply(prepare_window)\n",
        "dados_limpos.AGE_PERCENTIL = dados_limpos.AGE_PERCENTIL.astype(\"category\").cat.codes # transformando em variaveis categoricas\n",
        "\n",
        "\n",
        "np.random.seed(73246)\n",
        "\n",
        "x_columns = dados.columns\n",
        "y = dados_limpos[\"ICU\"]\n",
        "x = dados_limpos[x_columns].drop([\"ICU\",\"WINDOW\"], axis=1)\n",
        "x_train, x_test, y_train, y_test = train_test_split(x, y, stratify=y)\n",
        "modelo = DummyClassifier()\n",
        "modelo.fit(x_train, y_train)\n",
        "\n",
        "y_prediction = modelo.predict(x_test)\n",
        "accuracy_score(y_test, y_prediction)"
      ],
      "execution_count": 1,
      "outputs": [
        {
          "output_type": "stream",
          "text": [
            "/usr/local/lib/python3.7/dist-packages/sklearn/dummy.py:132: FutureWarning: The default value of strategy will change from stratified to prior in 0.24.\n",
            "  \"stratified to prior in 0.24.\", FutureWarning)\n"
          ],
          "name": "stderr"
        },
        {
          "output_type": "execute_result",
          "data": {
            "text/plain": [
              "0.48863636363636365"
            ]
          },
          "metadata": {
            "tags": []
          },
          "execution_count": 1
        }
      ]
    },
    {
      "cell_type": "code",
      "metadata": {
        "colab": {
          "base_uri": "https://localhost:8080/"
        },
        "id": "1fJosvs3AMQp",
        "outputId": "6067f896-9501-43cd-ac33-62413bd995c3"
      },
      "source": [
        "modelo = LogisticRegression(max_iter=10000)\n",
        "modelo.fit(x_train, y_train)\n",
        "\n",
        "y_prediction = modelo.predict(x_test)\n",
        "accuracy_score(y_test, y_prediction)"
      ],
      "execution_count": 2,
      "outputs": [
        {
          "output_type": "execute_result",
          "data": {
            "text/plain": [
              "0.6818181818181818"
            ]
          },
          "metadata": {
            "tags": []
          },
          "execution_count": 2
        }
      ]
    },
    {
      "cell_type": "code",
      "metadata": {
        "colab": {
          "base_uri": "https://localhost:8080/"
        },
        "id": "gXeqSucGAOXi",
        "outputId": "a61f4865-c9e3-4452-ef38-207e51257191"
      },
      "source": [
        "modelo_arvore = DecisionTreeClassifier()\n",
        "\n",
        "modelo_arvore.fit(x_train, y_train)\n",
        "pred_arvore = modelo_arvore.predict(x_test)\n",
        "accuracy_score(y_test, pred_arvore)\n"
      ],
      "execution_count": 3,
      "outputs": [
        {
          "output_type": "execute_result",
          "data": {
            "text/plain": [
              "0.6590909090909091"
            ]
          },
          "metadata": {
            "tags": []
          },
          "execution_count": 3
        }
      ]
    },
    {
      "cell_type": "markdown",
      "metadata": {
        "id": "518wyBkdBp_K"
      },
      "source": [
        "# Aula 3"
      ]
    },
    {
      "cell_type": "code",
      "metadata": {
        "id": "9ofpac4ZAqfR"
      },
      "source": [
        "\n",
        "def roda_n_modelos(modelo, dados, n):\n",
        "\n",
        "  x_columns = dados.columns\n",
        "  y = dados[\"ICU\"]\n",
        "  x = dados[x_columns].drop([\"ICU\",\"WINDOW\"], axis=1)\n",
        "  auc_lista = []\n",
        "\n",
        "  for _ in range(n):\n",
        "\n",
        "    x_train, x_test, y_train, y_test = train_test_split(x, y, stratify=y)\n",
        "    modelo.fit(x_train, y_train)\n",
        "    prob_predic = modelo.predict_proba(x_test)\n",
        "    auc = roc_auc_score(y_test, prob_predic[:,1])\n",
        "    auc_lista.append(auc)\n",
        "\n",
        "  auc_medio = np.mean(auc_lista)\n",
        "  auc_std = np.std(auc_lista)\n",
        "  print(f\"AUC {auc_medio}\")\n",
        "  print(f\"Intervalo {auc_medio - 2 * auc_std} - {auc_medio + 2 * auc_std}\") # confidence interval\n",
        "  #plt.hist(auc_lista)"
      ],
      "execution_count": 4,
      "outputs": []
    },
    {
      "cell_type": "code",
      "metadata": {
        "colab": {
          "base_uri": "https://localhost:8080/"
        },
        "id": "_gbEJ-0eBu_R",
        "outputId": "127c3cf1-71f4-4d9b-eb95-2fa6deef23de"
      },
      "source": [
        "roda_n_modelos(modelo_arvore, dados = dados_limpos, n = 100)"
      ],
      "execution_count": 5,
      "outputs": [
        {
          "output_type": "stream",
          "text": [
            "AUC 0.6290710949662688\n",
            "Intervalo 0.5455964028876362 - 0.7125457870449013\n"
          ],
          "name": "stdout"
        }
      ]
    },
    {
      "cell_type": "code",
      "metadata": {
        "colab": {
          "base_uri": "https://localhost:8080/"
        },
        "id": "1J3ORO5odZed",
        "outputId": "8137a305-8c36-405b-c38f-e8f14981940b"
      },
      "source": [
        "roda_n_modelos(modelo, dados = dados_limpos, n = 100)"
      ],
      "execution_count": 6,
      "outputs": [
        {
          "output_type": "stream",
          "text": [
            "AUC 0.7581733264141151\n",
            "Intervalo 0.6716374311886243 - 0.8447092216396058\n"
          ],
          "name": "stdout"
        }
      ]
    },
    {
      "cell_type": "markdown",
      "metadata": {
        "id": "M6-UYrIqhIdG"
      },
      "source": [
        "# Desafio 01 - Estudar a documentação do sklearn e testar outros modelos"
      ]
    },
    {
      "cell_type": "markdown",
      "metadata": {
        "id": "h8J5gOWWQ2l9"
      },
      "source": [
        "Um tipo de algoritmo que me interessou enquanto estudava modelos básicos de machine learning é o modelo de Naive Bayes, que utiliza preceitos de estatística bayesiana para gerar classificações. Sem entrar muito a fundo nos ajustes do modelo, vamos realizar um teste simples de Naive Bayes usando os nossos métodos aplicados anteriormente. Utilizarei o algoritmos de Naive Bayes Gaussiano e multinomial, a forma mais básica desse tipo de algoritmo."
      ]
    },
    {
      "cell_type": "code",
      "metadata": {
        "id": "_M_J0xYlfKtm"
      },
      "source": [
        "from sklearn.naive_bayes import GaussianNB"
      ],
      "execution_count": 7,
      "outputs": []
    },
    {
      "cell_type": "code",
      "metadata": {
        "colab": {
          "base_uri": "https://localhost:8080/"
        },
        "id": "VaVaukV8RiAm",
        "outputId": "c0544656-8882-4c4c-ecda-a14b7928aaa4"
      },
      "source": [
        "gnb = GaussianNB()\n",
        "\n",
        "roda_n_modelos(modelo = gnb, dados = dados_limpos, n = 1000)"
      ],
      "execution_count": 8,
      "outputs": [
        {
          "output_type": "stream",
          "text": [
            "AUC 0.7318051375194602\n",
            "Intervalo 0.6411485907821692 - 0.8224616842567511\n"
          ],
          "name": "stdout"
        }
      ]
    },
    {
      "cell_type": "markdown",
      "metadata": {
        "id": "OlvRyoYGTfi6"
      },
      "source": [
        "Esse tipo de modelo é muito utilizado em classificações binárias, e parece dar um resultado interessante de alta acurácia. Reforço aqui que é apenas uma exploração da facilidade de aplicação de modelos, sem entrar em muitos detalhes sobre a real melhora ou adequabiliade de um modelo em relação ao outro."
      ]
    }
  ]
}