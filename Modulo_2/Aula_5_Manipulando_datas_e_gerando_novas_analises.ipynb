{
  "nbformat": 4,
  "nbformat_minor": 0,
  "metadata": {
    "colab": {
      "name": "Aula_5_Manipulando_datas_e_gerando_novas_analises.ipynb",
      "provenance": [],
      "collapsed_sections": [],
      "authorship_tag": "ABX9TyPMClqT1az00JR6XdL1Dex6",
      "include_colab_link": true
    },
    "kernelspec": {
      "name": "python3",
      "display_name": "Python 3"
    },
    "language_info": {
      "name": "python"
    }
  },
  "cells": [
    {
      "cell_type": "markdown",
      "metadata": {
        "id": "view-in-github",
        "colab_type": "text"
      },
      "source": [
        "<a href=\"https://colab.research.google.com/github/RPGraciotti/BootCampAlura/blob/main/Modulo_2/Aula_5_Manipulando_datas_e_gerando_novas_analises.ipynb\" target=\"_parent\"><img src=\"https://colab.research.google.com/assets/colab-badge.svg\" alt=\"Open In Colab\"/></a>"
      ]
    },
    {
      "cell_type": "markdown",
      "metadata": {
        "id": "yIkyEvtMMfLY"
      },
      "source": [
        "# Aula 5\n",
        "## Preparando conteúdo anterior"
      ]
    },
    {
      "cell_type": "code",
      "metadata": {
        "id": "HqZX-_hxMeKZ"
      },
      "source": [
        "import pandas as pd\n",
        "import matplotlib.pyplot as plt\n",
        "import matplotlib.ticker as ticker\n",
        "import numpy as np\n",
        "import seaborn as sns\n",
        "from datetime import date\n",
        "\n",
        "df = pd.read_csv(\"https://raw.githubusercontent.com/RPGraciotti/agendamento-hospitalar/main/dados/A160324189_28_143_208.csv\", encoding = \"ISO-8859-1\",\n",
        "                 skiprows = 3, sep = \";\", skipfooter = 12,\n",
        "                 thousands = \".\", decimal = \",\", engine = \"python\")\n",
        "pd.options.display.float_format = \"{:.2f}\".format\n",
        "use_col = df.mean().index.tolist()\n",
        "use_col.insert(0, \"Unidade da Federação\")\n",
        "use = df.loc[:,use_col]\n",
        "use = use.set_index(\"Unidade da Federação\")\n",
        "use.sort_values(by = \"Total\") # crescente\n",
        "total_ord = use.sort_values(by = \"Total\", ascending = False) # decrescente\n",
        "total_ord = total_ord.drop(\"Total\", axis = 1)\n",
        "main_cols = total_ord.columns[6:]\n",
        "total_ord = total_ord[main_cols]\n",
        "total_ord = total_ord/1000000\n",
        "total_ord.index = total_ord.index.str[3:] # Matar esse problema aqui de vez\n",
        "ultimo_mes = total_ord.columns[-1]\n",
        "gastos_ultimo_mes = total_ord[ultimo_mes]\n",
        "gastos_prop_estado = gastos_ultimo_mes / gastos_ultimo_mes.sum()\n",
        "tabelas_wiki = pd.read_html(\"https://pt.wikipedia.org/wiki/Lista_de_unidades_federativas_do_Brasil_por_popula%C3%A7%C3%A3o\")\n",
        "dados_populacao_raw = tabelas_wiki[0]\n",
        "dados_populacao_raw\n",
        "\n",
        "def limpeza(df1, df2):\n",
        "  \"\"\"limpeza, tratamento e join de dados\"\"\"\n",
        "  df1 = df1.dropna().copy()\n",
        "  df1.columns = [\"posicao\", \"uf\", \"populacao\", \"porc\", \"pais\"]\n",
        "  df1.loc[:,\"populacao\"] = pd.to_numeric(df1.loc[:,\"populacao\"].str.replace(\" \",\"\"))\n",
        "  df1 = df1.loc[:,[\"populacao\", \"uf\"]]\n",
        "  df1 = df1.set_index(\"uf\")\n",
        "  df1.index = df1.index.str.strip()\n",
        "\n",
        "  for i in df2.index:\n",
        "    df1.index = df1.index.str.replace(f\"{i} {i}\", i)\n",
        "\n",
        "  return df1.join(df2)\n",
        "\n",
        "gastos_e_populacao_recente = limpeza(dados_populacao_raw, gastos_ultimo_mes)\n",
        "\n",
        "def insere_gastos_e_gasto_por_habitante_para(todos_os_gastos: pd.DataFrame, dados: pd.DataFrame, mes: str): \n",
        "  # mes: str define que o tipo de mes só pode ser string\n",
        "  # pd.DataFrame para definir que só pode ser DataFrame\n",
        "  gastos_do_mes = todos_os_gastos.loc[:,mes]\n",
        "  dados.loc[:, f\"gastos_{mes}\"] = gastos_do_mes * 1000000\n",
        "  dados.loc[:, f\"gasto_por_habitante_{mes}\"] = dados.loc[:, f\"gastos_{mes}\"] / dados.loc[:, \"populacao\"]\n",
        "\n",
        "mensal = total_ord.T\n",
        "\n",
        "# criando dicionario\n",
        "\n",
        "meses = {\n",
        "    \"Jan\" : 1,\n",
        "    \"Fev\" : 2,\n",
        "    \"Mar\" : 3,\n",
        "    \"Abr\" : 4,\n",
        "    \"Mai\" : 5,\n",
        "    \"Jun\" : 6,\n",
        "    \"Jul\" : 7,\n",
        "    \"Ago\" : 8,\n",
        "    \"Set\" : 9,\n",
        "    \"Out\" : 10,\n",
        "    \"Nov\" : 11,\n",
        "    \"Dez\" : 12\n",
        "}\n",
        "\n",
        "def para_dia(ano_mes: str):\n",
        "  ano: int = int(ano_mes[:4])\n",
        "  mes: str = ano_mes[5:]\n",
        "  mes_numero: int = meses[mes]\n",
        "  return date(ano, mes_numero, 1)\n",
        "\n",
        "mensal.index = mensal.index.map(para_dia)\n",
        "\n",
        "mensal_aberto = mensal.reset_index().melt(id_vars = [\"index\"], value_vars = mensal.columns)\n",
        "mensal_aberto.columns = [\"mes\", \"uf\", \"gasto\"]"
      ],
      "execution_count": 4,
      "outputs": []
    },
    {
      "cell_type": "code",
      "metadata": {
        "colab": {
          "base_uri": "https://localhost:8080/"
        },
        "id": "IoUEgvp8NKoV",
        "outputId": "dd6f0c5b-d0b0-4af0-92f1-7d2025c7ffb4"
      },
      "source": [
        "mensal_aberto.loc[:,\"mes\"]"
      ],
      "execution_count": 8,
      "outputs": [
        {
          "output_type": "execute_result",
          "data": {
            "text/plain": [
              "0       2008-02-01\n",
              "1       2008-03-01\n",
              "2       2008-04-01\n",
              "3       2008-05-01\n",
              "4       2008-06-01\n",
              "           ...    \n",
              "4045    2020-03-01\n",
              "4046    2020-04-01\n",
              "4047    2020-05-01\n",
              "4048    2020-06-01\n",
              "4049    2020-07-01\n",
              "Name: mes, Length: 4050, dtype: object"
            ]
          },
          "metadata": {
            "tags": []
          },
          "execution_count": 8
        }
      ]
    }
  ]
}