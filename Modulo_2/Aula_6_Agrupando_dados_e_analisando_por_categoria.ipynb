{
  "nbformat": 4,
  "nbformat_minor": 0,
  "metadata": {
    "colab": {
      "name": "Aula_6_Agrupando_dados_e_analisando_por_categoria.ipynb",
      "provenance": [],
      "collapsed_sections": [],
      "authorship_tag": "ABX9TyN6roOlGSLLMebntuFOJZqR",
      "include_colab_link": true
    },
    "kernelspec": {
      "name": "python3",
      "display_name": "Python 3"
    },
    "language_info": {
      "name": "python"
    }
  },
  "cells": [
    {
      "cell_type": "markdown",
      "metadata": {
        "id": "view-in-github",
        "colab_type": "text"
      },
      "source": [
        "<a href=\"https://colab.research.google.com/github/RPGraciotti/BootCampAlura/blob/main/Modulo_2/Aula_6_Agrupando_dados_e_analisando_por_categoria.ipynb\" target=\"_parent\"><img src=\"https://colab.research.google.com/assets/colab-badge.svg\" alt=\"Open In Colab\"/></a>"
      ]
    },
    {
      "cell_type": "markdown",
      "metadata": {
        "id": "SKs13R6SRfG0"
      },
      "source": [
        "# Aula 6\n",
        "Preparando conteúdo anterior: "
      ]
    },
    {
      "cell_type": "code",
      "metadata": {
        "id": "xTrLev2j6PUv"
      },
      "source": [
        "import pandas as pd\n",
        "import matplotlib.pyplot as plt\n",
        "import matplotlib.ticker as ticker\n",
        "import numpy as np\n",
        "import seaborn as sns\n",
        "from datetime import date\n",
        "\n",
        "df = pd.read_csv(\"https://raw.githubusercontent.com/RPGraciotti/agendamento-hospitalar/main/dados/A160324189_28_143_208.csv\", encoding = \"ISO-8859-1\",\n",
        "                 skiprows = 3, sep = \";\", skipfooter = 12,\n",
        "                 thousands = \".\", decimal = \",\", engine = \"python\")\n",
        "pd.options.display.float_format = \"{:.2f}\".format\n",
        "use_col = df.mean().index.tolist()\n",
        "use_col.insert(0, \"Unidade da Federação\")\n",
        "use = df.loc[:,use_col]\n",
        "use = use.set_index(\"Unidade da Federação\")\n",
        "use.sort_values(by = \"Total\") # crescente\n",
        "total_ord = use.sort_values(by = \"Total\", ascending = False) # decrescente\n",
        "total_ord = total_ord.drop(\"Total\", axis = 1)\n",
        "main_cols = total_ord.columns[6:]\n",
        "total_ord = total_ord[main_cols]\n",
        "total_ord = total_ord/1000000\n",
        "total_ord.index = total_ord.index.str[3:] # Matar esse problema aqui de vez\n",
        "ultimo_mes = total_ord.columns[-1]\n",
        "gastos_ultimo_mes = total_ord[ultimo_mes]\n",
        "gastos_prop_estado = gastos_ultimo_mes / gastos_ultimo_mes.sum()\n",
        "tabelas_wiki = pd.read_html(\"https://pt.wikipedia.org/wiki/Lista_de_unidades_federativas_do_Brasil_por_popula%C3%A7%C3%A3o\")\n",
        "dados_populacao_raw = tabelas_wiki[0]\n",
        "dados_populacao_raw\n",
        "\n",
        "def limpeza(df1, df2):\n",
        "  \"\"\"limpeza, tratamento e join de dados\"\"\"\n",
        "  df1 = df1.dropna().copy()\n",
        "  df1.columns = [\"posicao\", \"uf\", \"populacao\", \"porc\", \"pais\"]\n",
        "  df1.loc[:,\"populacao\"] = pd.to_numeric(df1.loc[:,\"populacao\"].str.replace(\" \",\"\"))\n",
        "  df1 = df1.loc[:,[\"populacao\", \"uf\"]]\n",
        "  df1 = df1.set_index(\"uf\")\n",
        "  df1.index = df1.index.str.strip()\n",
        "\n",
        "  for i in df2.index:\n",
        "    df1.index = df1.index.str.replace(f\"{i} {i}\", i)\n",
        "\n",
        "  return df1.join(df2)\n",
        "\n",
        "gastos_e_populacao_recente = limpeza(dados_populacao_raw, gastos_ultimo_mes)\n",
        "\n",
        "def insere_gastos_e_gasto_por_habitante_para(todos_os_gastos: pd.DataFrame, dados: pd.DataFrame, mes: str): \n",
        "  # mes: str define que o tipo de mes só pode ser string\n",
        "  # pd.DataFrame para definir que só pode ser DataFrame\n",
        "  gastos_do_mes = todos_os_gastos.loc[:,mes]\n",
        "  dados.loc[:, f\"gastos_{mes}\"] = gastos_do_mes * 1000000\n",
        "  dados.loc[:, f\"gasto_por_habitante_{mes}\"] = dados.loc[:, f\"gastos_{mes}\"] / dados.loc[:, \"populacao\"]\n",
        "\n",
        "mensal = total_ord.T\n",
        "\n",
        "# criando dicionario\n",
        "\n",
        "meses = {\n",
        "    \"Jan\" : 1,\n",
        "    \"Fev\" : 2,\n",
        "    \"Mar\" : 3,\n",
        "    \"Abr\" : 4,\n",
        "    \"Mai\" : 5,\n",
        "    \"Jun\" : 6,\n",
        "    \"Jul\" : 7,\n",
        "    \"Ago\" : 8,\n",
        "    \"Set\" : 9,\n",
        "    \"Out\" : 10,\n",
        "    \"Nov\" : 11,\n",
        "    \"Dez\" : 12\n",
        "}\n",
        "\n",
        "def para_dia(ano_mes: str):\n",
        "  ano: int = int(ano_mes[:4])\n",
        "  mes: str = ano_mes[5:]\n",
        "  mes_numero: int = meses[mes]\n",
        "  return date(ano, mes_numero, 1)\n",
        "\n",
        "mensal.index = mensal.index.map(para_dia)\n",
        "\n",
        "mensal_aberto = mensal.reset_index().melt(id_vars = [\"index\"], value_vars = mensal.columns)\n",
        "mensal_aberto.columns = [\"mes\", \"uf\", \"gasto\"]\n",
        "\n",
        "mensal_aberto.columns = [\"dia_mes_ano\", \"uf\", \"gasto\"]\n",
        "mensal_aberto.loc[:,\"dia_mes_ano\"] = mensal_aberto.loc[:,\"dia_mes_ano\"].astype(\"datetime64\")\n",
        "\n",
        "mensal_aberto.loc[:,\"mes\"] = mensal_aberto.loc[:,\"dia_mes_ano\"].dt.month\n",
        "mensal_aberto.loc[:,\"ano\"] = mensal_aberto.loc[:,\"dia_mes_ano\"].dt.year\n",
        "\n",
        "\n",
        "inv_meses = {v: k for k, v in meses.items()} # aqui precisaremos fazer a conversão contrária do que foi feito antes, invertendo o dicionário\n",
        "mensal_aberto.loc[:,\"mes_str\"] = mensal_aberto.loc[:,\"mes\"].map(inv_meses)\n",
        "mensal_aberto.loc[:,\"mes_str\"] = pd.Categorical(mensal_aberto.loc[:,'mes_str'],[\"Jan\", \"Fev\", \"Mar\", \"Abr\", \"Mai\", \"Jun\", \"Jul\", \"Ago\", \"Set\", \"Out\", \"Nov\", \"Dez\"])\n",
        "\n",
        "dias_por_mes = {\n",
        "    1 : 31,\n",
        "    2 : 28,\n",
        "    3 : 31,\n",
        "    4 : 30,\n",
        "    5 : 31,\n",
        "    6 : 30,\n",
        "    7 : 31,\n",
        "    8 : 31,\n",
        "    9 : 30,\n",
        "    10 : 31,\n",
        "    11 : 30,\n",
        "    12 : 31\n",
        "}\n",
        "\n",
        "mensal_aberto.loc[:, \"gasto_diario\"] = mensal_aberto.loc[:, \"gasto\"] / mensal_aberto.loc[:,\"mes\"].map(dias_por_mes)"
      ],
      "execution_count": 1,
      "outputs": []
    },
    {
      "cell_type": "code",
      "metadata": {
        "colab": {
          "base_uri": "https://localhost:8080/",
          "height": 201
        },
        "id": "jX2sNxlGFcRO",
        "outputId": "396780ac-42d8-4e5a-e9ed-eb829a3b6f57"
      },
      "source": [
        "mensal_aberto.head()"
      ],
      "execution_count": 2,
      "outputs": [
        {
          "output_type": "execute_result",
          "data": {
            "text/html": [
              "<div>\n",
              "<style scoped>\n",
              "    .dataframe tbody tr th:only-of-type {\n",
              "        vertical-align: middle;\n",
              "    }\n",
              "\n",
              "    .dataframe tbody tr th {\n",
              "        vertical-align: top;\n",
              "    }\n",
              "\n",
              "    .dataframe thead th {\n",
              "        text-align: right;\n",
              "    }\n",
              "</style>\n",
              "<table border=\"1\" class=\"dataframe\">\n",
              "  <thead>\n",
              "    <tr style=\"text-align: right;\">\n",
              "      <th></th>\n",
              "      <th>dia_mes_ano</th>\n",
              "      <th>uf</th>\n",
              "      <th>gasto</th>\n",
              "      <th>mes</th>\n",
              "      <th>ano</th>\n",
              "      <th>mes_str</th>\n",
              "      <th>gasto_diario</th>\n",
              "    </tr>\n",
              "  </thead>\n",
              "  <tbody>\n",
              "    <tr>\n",
              "      <th>0</th>\n",
              "      <td>2008-02-01</td>\n",
              "      <td>São Paulo</td>\n",
              "      <td>172.83</td>\n",
              "      <td>2</td>\n",
              "      <td>2008</td>\n",
              "      <td>Fev</td>\n",
              "      <td>6.17</td>\n",
              "    </tr>\n",
              "    <tr>\n",
              "      <th>1</th>\n",
              "      <td>2008-03-01</td>\n",
              "      <td>São Paulo</td>\n",
              "      <td>170.48</td>\n",
              "      <td>3</td>\n",
              "      <td>2008</td>\n",
              "      <td>Mar</td>\n",
              "      <td>5.50</td>\n",
              "    </tr>\n",
              "    <tr>\n",
              "      <th>2</th>\n",
              "      <td>2008-04-01</td>\n",
              "      <td>São Paulo</td>\n",
              "      <td>170.28</td>\n",
              "      <td>4</td>\n",
              "      <td>2008</td>\n",
              "      <td>Abr</td>\n",
              "      <td>5.68</td>\n",
              "    </tr>\n",
              "    <tr>\n",
              "      <th>3</th>\n",
              "      <td>2008-05-01</td>\n",
              "      <td>São Paulo</td>\n",
              "      <td>172.40</td>\n",
              "      <td>5</td>\n",
              "      <td>2008</td>\n",
              "      <td>Mai</td>\n",
              "      <td>5.56</td>\n",
              "    </tr>\n",
              "    <tr>\n",
              "      <th>4</th>\n",
              "      <td>2008-06-01</td>\n",
              "      <td>São Paulo</td>\n",
              "      <td>175.42</td>\n",
              "      <td>6</td>\n",
              "      <td>2008</td>\n",
              "      <td>Jun</td>\n",
              "      <td>5.85</td>\n",
              "    </tr>\n",
              "  </tbody>\n",
              "</table>\n",
              "</div>"
            ],
            "text/plain": [
              "  dia_mes_ano         uf  gasto  mes   ano mes_str  gasto_diario\n",
              "0  2008-02-01  São Paulo 172.83    2  2008     Fev          6.17\n",
              "1  2008-03-01  São Paulo 170.48    3  2008     Mar          5.50\n",
              "2  2008-04-01  São Paulo 170.28    4  2008     Abr          5.68\n",
              "3  2008-05-01  São Paulo 172.40    5  2008     Mai          5.56\n",
              "4  2008-06-01  São Paulo 175.42    6  2008     Jun          5.85"
            ]
          },
          "metadata": {
            "tags": []
          },
          "execution_count": 2
        }
      ]
    },
    {
      "cell_type": "code",
      "metadata": {
        "colab": {
          "base_uri": "https://localhost:8080/",
          "height": 201
        },
        "id": "TntBxyMKFjSS",
        "outputId": "76dc0707-ef39-4389-9b59-17f71fdc12c4"
      },
      "source": [
        "estado_a_analisar = mensal_aberto.query(\"uf == 'São Paulo'\")\n",
        "\n",
        "estado_a_analisar.head()"
      ],
      "execution_count": 3,
      "outputs": [
        {
          "output_type": "execute_result",
          "data": {
            "text/html": [
              "<div>\n",
              "<style scoped>\n",
              "    .dataframe tbody tr th:only-of-type {\n",
              "        vertical-align: middle;\n",
              "    }\n",
              "\n",
              "    .dataframe tbody tr th {\n",
              "        vertical-align: top;\n",
              "    }\n",
              "\n",
              "    .dataframe thead th {\n",
              "        text-align: right;\n",
              "    }\n",
              "</style>\n",
              "<table border=\"1\" class=\"dataframe\">\n",
              "  <thead>\n",
              "    <tr style=\"text-align: right;\">\n",
              "      <th></th>\n",
              "      <th>dia_mes_ano</th>\n",
              "      <th>uf</th>\n",
              "      <th>gasto</th>\n",
              "      <th>mes</th>\n",
              "      <th>ano</th>\n",
              "      <th>mes_str</th>\n",
              "      <th>gasto_diario</th>\n",
              "    </tr>\n",
              "  </thead>\n",
              "  <tbody>\n",
              "    <tr>\n",
              "      <th>0</th>\n",
              "      <td>2008-02-01</td>\n",
              "      <td>São Paulo</td>\n",
              "      <td>172.83</td>\n",
              "      <td>2</td>\n",
              "      <td>2008</td>\n",
              "      <td>Fev</td>\n",
              "      <td>6.17</td>\n",
              "    </tr>\n",
              "    <tr>\n",
              "      <th>1</th>\n",
              "      <td>2008-03-01</td>\n",
              "      <td>São Paulo</td>\n",
              "      <td>170.48</td>\n",
              "      <td>3</td>\n",
              "      <td>2008</td>\n",
              "      <td>Mar</td>\n",
              "      <td>5.50</td>\n",
              "    </tr>\n",
              "    <tr>\n",
              "      <th>2</th>\n",
              "      <td>2008-04-01</td>\n",
              "      <td>São Paulo</td>\n",
              "      <td>170.28</td>\n",
              "      <td>4</td>\n",
              "      <td>2008</td>\n",
              "      <td>Abr</td>\n",
              "      <td>5.68</td>\n",
              "    </tr>\n",
              "    <tr>\n",
              "      <th>3</th>\n",
              "      <td>2008-05-01</td>\n",
              "      <td>São Paulo</td>\n",
              "      <td>172.40</td>\n",
              "      <td>5</td>\n",
              "      <td>2008</td>\n",
              "      <td>Mai</td>\n",
              "      <td>5.56</td>\n",
              "    </tr>\n",
              "    <tr>\n",
              "      <th>4</th>\n",
              "      <td>2008-06-01</td>\n",
              "      <td>São Paulo</td>\n",
              "      <td>175.42</td>\n",
              "      <td>6</td>\n",
              "      <td>2008</td>\n",
              "      <td>Jun</td>\n",
              "      <td>5.85</td>\n",
              "    </tr>\n",
              "  </tbody>\n",
              "</table>\n",
              "</div>"
            ],
            "text/plain": [
              "  dia_mes_ano         uf  gasto  mes   ano mes_str  gasto_diario\n",
              "0  2008-02-01  São Paulo 172.83    2  2008     Fev          6.17\n",
              "1  2008-03-01  São Paulo 170.48    3  2008     Mar          5.50\n",
              "2  2008-04-01  São Paulo 170.28    4  2008     Abr          5.68\n",
              "3  2008-05-01  São Paulo 172.40    5  2008     Mai          5.56\n",
              "4  2008-06-01  São Paulo 175.42    6  2008     Jun          5.85"
            ]
          },
          "metadata": {
            "tags": []
          },
          "execution_count": 3
        }
      ]
    },
    {
      "cell_type": "code",
      "metadata": {
        "id": "Kw_bmgP8Fwi9"
      },
      "source": [
        "gastos_por_ano = estado_a_analisar.groupby(\"ano\").sum()"
      ],
      "execution_count": 4,
      "outputs": []
    },
    {
      "cell_type": "code",
      "metadata": {
        "colab": {
          "base_uri": "https://localhost:8080/",
          "height": 231
        },
        "id": "vm4_34HbGN4d",
        "outputId": "9c937365-f676-4920-9bc2-dd8c4b283417"
      },
      "source": [
        "gastos_por_ano.head()"
      ],
      "execution_count": 5,
      "outputs": [
        {
          "output_type": "execute_result",
          "data": {
            "text/html": [
              "<div>\n",
              "<style scoped>\n",
              "    .dataframe tbody tr th:only-of-type {\n",
              "        vertical-align: middle;\n",
              "    }\n",
              "\n",
              "    .dataframe tbody tr th {\n",
              "        vertical-align: top;\n",
              "    }\n",
              "\n",
              "    .dataframe thead th {\n",
              "        text-align: right;\n",
              "    }\n",
              "</style>\n",
              "<table border=\"1\" class=\"dataframe\">\n",
              "  <thead>\n",
              "    <tr style=\"text-align: right;\">\n",
              "      <th></th>\n",
              "      <th>gasto</th>\n",
              "      <th>mes</th>\n",
              "      <th>gasto_diario</th>\n",
              "    </tr>\n",
              "    <tr>\n",
              "      <th>ano</th>\n",
              "      <th></th>\n",
              "      <th></th>\n",
              "      <th></th>\n",
              "    </tr>\n",
              "  </thead>\n",
              "  <tbody>\n",
              "    <tr>\n",
              "      <th>2008</th>\n",
              "      <td>1960.23</td>\n",
              "      <td>77</td>\n",
              "      <td>64.60</td>\n",
              "    </tr>\n",
              "    <tr>\n",
              "      <th>2009</th>\n",
              "      <td>2489.03</td>\n",
              "      <td>78</td>\n",
              "      <td>81.82</td>\n",
              "    </tr>\n",
              "    <tr>\n",
              "      <th>2010</th>\n",
              "      <td>2696.62</td>\n",
              "      <td>78</td>\n",
              "      <td>88.63</td>\n",
              "    </tr>\n",
              "    <tr>\n",
              "      <th>2011</th>\n",
              "      <td>2794.55</td>\n",
              "      <td>78</td>\n",
              "      <td>91.91</td>\n",
              "    </tr>\n",
              "    <tr>\n",
              "      <th>2012</th>\n",
              "      <td>2873.97</td>\n",
              "      <td>78</td>\n",
              "      <td>94.47</td>\n",
              "    </tr>\n",
              "  </tbody>\n",
              "</table>\n",
              "</div>"
            ],
            "text/plain": [
              "       gasto  mes  gasto_diario\n",
              "ano                            \n",
              "2008 1960.23   77         64.60\n",
              "2009 2489.03   78         81.82\n",
              "2010 2696.62   78         88.63\n",
              "2011 2794.55   78         91.91\n",
              "2012 2873.97   78         94.47"
            ]
          },
          "metadata": {
            "tags": []
          },
          "execution_count": 5
        }
      ]
    },
    {
      "cell_type": "code",
      "metadata": {
        "colab": {
          "base_uri": "https://localhost:8080/",
          "height": 296
        },
        "id": "2ygOtHhzF9Lh",
        "outputId": "69821915-6aec-47d4-9458-e11df29482ae"
      },
      "source": [
        "sns.lineplot(data = gastos_por_ano, x = gastos_por_ano.index, y = \"gasto\")\n",
        "# arrumar limite"
      ],
      "execution_count": 6,
      "outputs": [
        {
          "output_type": "execute_result",
          "data": {
            "text/plain": [
              "<matplotlib.axes._subplots.AxesSubplot at 0x7efdd6875190>"
            ]
          },
          "metadata": {
            "tags": []
          },
          "execution_count": 6
        },
        {
          "output_type": "display_data",
          "data": {
            "image/png": "[encoded data removed]",
            "text/plain": [
              "<Figure size 432x288 with 1 Axes>"
            ]
          },
          "metadata": {
            "tags": [],
            "needs_background": "light"
          }
        }
      ]
    },
    {
      "cell_type": "code",
      "metadata": {
        "colab": {
          "base_uri": "https://localhost:8080/",
          "height": 296
        },
        "id": "mZ5ELi4IGo3L",
        "outputId": "bc551f0b-caf0-4f78-e962-7dc3f52d90a6"
      },
      "source": [
        "sns.barplot(data = gastos_por_ano, x = gastos_por_ano.index, y = \"gasto\", \n",
        "            palette = sns.color_palette(\"rocket_r\", 13))"
      ],
      "execution_count": 7,
      "outputs": [
        {
          "output_type": "execute_result",
          "data": {
            "text/plain": [
              "<matplotlib.axes._subplots.AxesSubplot at 0x7efdc68dc310>"
            ]
          },
          "metadata": {
            "tags": []
          },
          "execution_count": 7
        },
        {
          "output_type": "display_data",
          "data": {
            "image/png": "[encoded data removed]",
            "text/plain": [
              "<Figure size 432x288 with 1 Axes>"
            ]
          },
          "metadata": {
            "tags": [],
            "needs_background": "light"
          }
        }
      ]
    },
    {
      "cell_type": "markdown",
      "metadata": {
        "id": "T1qAL6IVJPEw"
      },
      "source": [
        "## Desafio 01 - Reordenar as cores pelo valor do eixo y:\n",
        "\"A cor passa uma mensagem nova ou reforça uma mensagem que queremos reforçar\""
      ]
    },
    {
      "cell_type": "markdown",
      "metadata": {
        "id": "D8Mg_kdkMAGA"
      },
      "source": [
        "É possível indicar para o barplot colorir o eixo y passando ele como hue também, mas é necessário também passar o argumento \"dodge = False\" :\n",
        "\n",
        "\n",
        "![Screenshot from 2021-06-09 16-22-26.png](data:image/png;base64,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)\n",
        "\n",
        "Importante notar que também que isso gera uma legenda \"desnecessária\", pois ela indicaria cada valor categórico separadamente, por isso escolhi suprimir a legenda."
      ]
    },
    {
      "cell_type": "code",
      "metadata": {
        "colab": {
          "base_uri": "https://localhost:8080/",
          "height": 279
        },
        "id": "gXfsRVhfK826",
        "outputId": "b85792da-2005-447e-f0dc-3dac0e205d2b"
      },
      "source": [
        "sns.barplot(data = gastos_por_ano, x = gastos_por_ano.index, y = \"gasto\", hue = \"gasto\", dodge = False, \n",
        "            palette = sns.color_palette(\"rocket_r\", 13))\n",
        "plt.legend(\"\")\n",
        "plt.show()"
      ],
      "execution_count": 8,
      "outputs": [
        {
          "output_type": "display_data",
          "data": {
            "image/png": "[encoded data removed]",
            "text/plain": [
              "<Figure size 432x288 with 1 Axes>"
            ]
          },
          "metadata": {
            "tags": [],
            "needs_background": "light"
          }
        }
      ]
    },
    {
      "cell_type": "markdown",
      "metadata": {
        "id": "icWq3N2bJAlh"
      },
      "source": [
        "## Desafio 02 - Estudar a documentação do Seaborn: \n",
        "\n",
        "- https://seaborn.pydata.org/index.html (pagina inicial)\n",
        "- https://seaborn.pydata.org/tutorial.html (tutorial com exemplos mais comuns)\n",
        "- https://seaborn.pydata.org/api.html (API com referência para os agrupadores de tipos principais de gráficos)\n",
        "- https://seaborn.pydata.org/generated/seaborn.barplot.html (exemplo de documentação sobre um tipo específico, no caso, barplot que usamos)"
      ]
    },
    {
      "cell_type": "markdown",
      "metadata": {
        "id": "ue69LpcZI9w4"
      },
      "source": [
        "## Seguindo"
      ]
    },
    {
      "cell_type": "code",
      "metadata": {
        "colab": {
          "base_uri": "https://localhost:8080/",
          "height": 231
        },
        "id": "u_IETHlvB-Mw",
        "outputId": "4fd3e183-e6fe-4cc5-ddbf-d7db898694dd"
      },
      "source": [
        "gastos_por_ano.head()"
      ],
      "execution_count": 9,
      "outputs": [
        {
          "output_type": "execute_result",
          "data": {
            "text/html": [
              "<div>\n",
              "<style scoped>\n",
              "    .dataframe tbody tr th:only-of-type {\n",
              "        vertical-align: middle;\n",
              "    }\n",
              "\n",
              "    .dataframe tbody tr th {\n",
              "        vertical-align: top;\n",
              "    }\n",
              "\n",
              "    .dataframe thead th {\n",
              "        text-align: right;\n",
              "    }\n",
              "</style>\n",
              "<table border=\"1\" class=\"dataframe\">\n",
              "  <thead>\n",
              "    <tr style=\"text-align: right;\">\n",
              "      <th></th>\n",
              "      <th>gasto</th>\n",
              "      <th>mes</th>\n",
              "      <th>gasto_diario</th>\n",
              "    </tr>\n",
              "    <tr>\n",
              "      <th>ano</th>\n",
              "      <th></th>\n",
              "      <th></th>\n",
              "      <th></th>\n",
              "    </tr>\n",
              "  </thead>\n",
              "  <tbody>\n",
              "    <tr>\n",
              "      <th>2008</th>\n",
              "      <td>1960.23</td>\n",
              "      <td>77</td>\n",
              "      <td>64.60</td>\n",
              "    </tr>\n",
              "    <tr>\n",
              "      <th>2009</th>\n",
              "      <td>2489.03</td>\n",
              "      <td>78</td>\n",
              "      <td>81.82</td>\n",
              "    </tr>\n",
              "    <tr>\n",
              "      <th>2010</th>\n",
              "      <td>2696.62</td>\n",
              "      <td>78</td>\n",
              "      <td>88.63</td>\n",
              "    </tr>\n",
              "    <tr>\n",
              "      <th>2011</th>\n",
              "      <td>2794.55</td>\n",
              "      <td>78</td>\n",
              "      <td>91.91</td>\n",
              "    </tr>\n",
              "    <tr>\n",
              "      <th>2012</th>\n",
              "      <td>2873.97</td>\n",
              "      <td>78</td>\n",
              "      <td>94.47</td>\n",
              "    </tr>\n",
              "  </tbody>\n",
              "</table>\n",
              "</div>"
            ],
            "text/plain": [
              "       gasto  mes  gasto_diario\n",
              "ano                            \n",
              "2008 1960.23   77         64.60\n",
              "2009 2489.03   78         81.82\n",
              "2010 2696.62   78         88.63\n",
              "2011 2794.55   78         91.91\n",
              "2012 2873.97   78         94.47"
            ]
          },
          "metadata": {
            "tags": []
          },
          "execution_count": 9
        }
      ]
    },
    {
      "cell_type": "code",
      "metadata": {
        "id": "r_rzDrHIJTp-"
      },
      "source": [
        "estados = [\"São Paulo\", \"Minas Gerais\", \"Pernambuco\"]\n",
        "estados_por_ano = mensal_aberto.query(\"uf in @estados\").groupby([\"uf\", \"ano\"]).sum().reset_index()"
      ],
      "execution_count": 10,
      "outputs": []
    },
    {
      "cell_type": "code",
      "metadata": {
        "colab": {
          "base_uri": "https://localhost:8080/",
          "height": 1000
        },
        "id": "ESgYnzqRK1ei",
        "outputId": "e4618f73-0a7c-448a-a996-477e773bb45a"
      },
      "source": [
        "estados_por_ano"
      ],
      "execution_count": 11,
      "outputs": [
        {
          "output_type": "execute_result",
          "data": {
            "text/html": [
              "<div>\n",
              "<style scoped>\n",
              "    .dataframe tbody tr th:only-of-type {\n",
              "        vertical-align: middle;\n",
              "    }\n",
              "\n",
              "    .dataframe tbody tr th {\n",
              "        vertical-align: top;\n",
              "    }\n",
              "\n",
              "    .dataframe thead th {\n",
              "        text-align: right;\n",
              "    }\n",
              "</style>\n",
              "<table border=\"1\" class=\"dataframe\">\n",
              "  <thead>\n",
              "    <tr style=\"text-align: right;\">\n",
              "      <th></th>\n",
              "      <th>uf</th>\n",
              "      <th>ano</th>\n",
              "      <th>gasto</th>\n",
              "      <th>mes</th>\n",
              "      <th>gasto_diario</th>\n",
              "    </tr>\n",
              "  </thead>\n",
              "  <tbody>\n",
              "    <tr>\n",
              "      <th>0</th>\n",
              "      <td>Minas Gerais</td>\n",
              "      <td>2008</td>\n",
              "      <td>894.35</td>\n",
              "      <td>77</td>\n",
              "      <td>29.44</td>\n",
              "    </tr>\n",
              "    <tr>\n",
              "      <th>1</th>\n",
              "      <td>Minas Gerais</td>\n",
              "      <td>2009</td>\n",
              "      <td>1149.14</td>\n",
              "      <td>78</td>\n",
              "      <td>37.77</td>\n",
              "    </tr>\n",
              "    <tr>\n",
              "      <th>2</th>\n",
              "      <td>Minas Gerais</td>\n",
              "      <td>2010</td>\n",
              "      <td>1217.49</td>\n",
              "      <td>78</td>\n",
              "      <td>40.03</td>\n",
              "    </tr>\n",
              "    <tr>\n",
              "      <th>3</th>\n",
              "      <td>Minas Gerais</td>\n",
              "      <td>2011</td>\n",
              "      <td>1315.02</td>\n",
              "      <td>78</td>\n",
              "      <td>43.24</td>\n",
              "    </tr>\n",
              "    <tr>\n",
              "      <th>4</th>\n",
              "      <td>Minas Gerais</td>\n",
              "      <td>2012</td>\n",
              "      <td>1408.35</td>\n",
              "      <td>78</td>\n",
              "      <td>46.29</td>\n",
              "    </tr>\n",
              "    <tr>\n",
              "      <th>5</th>\n",
              "      <td>Minas Gerais</td>\n",
              "      <td>2013</td>\n",
              "      <td>1514.84</td>\n",
              "      <td>78</td>\n",
              "      <td>49.79</td>\n",
              "    </tr>\n",
              "    <tr>\n",
              "      <th>6</th>\n",
              "      <td>Minas Gerais</td>\n",
              "      <td>2014</td>\n",
              "      <td>1646.22</td>\n",
              "      <td>78</td>\n",
              "      <td>54.14</td>\n",
              "    </tr>\n",
              "    <tr>\n",
              "      <th>7</th>\n",
              "      <td>Minas Gerais</td>\n",
              "      <td>2015</td>\n",
              "      <td>1660.81</td>\n",
              "      <td>78</td>\n",
              "      <td>54.61</td>\n",
              "    </tr>\n",
              "    <tr>\n",
              "      <th>8</th>\n",
              "      <td>Minas Gerais</td>\n",
              "      <td>2016</td>\n",
              "      <td>1639.97</td>\n",
              "      <td>78</td>\n",
              "      <td>53.93</td>\n",
              "    </tr>\n",
              "    <tr>\n",
              "      <th>9</th>\n",
              "      <td>Minas Gerais</td>\n",
              "      <td>2017</td>\n",
              "      <td>1727.89</td>\n",
              "      <td>78</td>\n",
              "      <td>56.79</td>\n",
              "    </tr>\n",
              "    <tr>\n",
              "      <th>10</th>\n",
              "      <td>Minas Gerais</td>\n",
              "      <td>2018</td>\n",
              "      <td>1797.03</td>\n",
              "      <td>78</td>\n",
              "      <td>59.06</td>\n",
              "    </tr>\n",
              "    <tr>\n",
              "      <th>11</th>\n",
              "      <td>Minas Gerais</td>\n",
              "      <td>2019</td>\n",
              "      <td>1879.92</td>\n",
              "      <td>78</td>\n",
              "      <td>61.80</td>\n",
              "    </tr>\n",
              "    <tr>\n",
              "      <th>12</th>\n",
              "      <td>Minas Gerais</td>\n",
              "      <td>2020</td>\n",
              "      <td>966.14</td>\n",
              "      <td>28</td>\n",
              "      <td>31.94</td>\n",
              "    </tr>\n",
              "    <tr>\n",
              "      <th>13</th>\n",
              "      <td>Pernambuco</td>\n",
              "      <td>2008</td>\n",
              "      <td>333.09</td>\n",
              "      <td>77</td>\n",
              "      <td>10.97</td>\n",
              "    </tr>\n",
              "    <tr>\n",
              "      <th>14</th>\n",
              "      <td>Pernambuco</td>\n",
              "      <td>2009</td>\n",
              "      <td>443.70</td>\n",
              "      <td>78</td>\n",
              "      <td>14.57</td>\n",
              "    </tr>\n",
              "    <tr>\n",
              "      <th>15</th>\n",
              "      <td>Pernambuco</td>\n",
              "      <td>2010</td>\n",
              "      <td>499.93</td>\n",
              "      <td>78</td>\n",
              "      <td>16.40</td>\n",
              "    </tr>\n",
              "    <tr>\n",
              "      <th>16</th>\n",
              "      <td>Pernambuco</td>\n",
              "      <td>2011</td>\n",
              "      <td>502.23</td>\n",
              "      <td>78</td>\n",
              "      <td>16.51</td>\n",
              "    </tr>\n",
              "    <tr>\n",
              "      <th>17</th>\n",
              "      <td>Pernambuco</td>\n",
              "      <td>2012</td>\n",
              "      <td>538.78</td>\n",
              "      <td>78</td>\n",
              "      <td>17.71</td>\n",
              "    </tr>\n",
              "    <tr>\n",
              "      <th>18</th>\n",
              "      <td>Pernambuco</td>\n",
              "      <td>2013</td>\n",
              "      <td>638.75</td>\n",
              "      <td>78</td>\n",
              "      <td>20.99</td>\n",
              "    </tr>\n",
              "    <tr>\n",
              "      <th>19</th>\n",
              "      <td>Pernambuco</td>\n",
              "      <td>2014</td>\n",
              "      <td>701.82</td>\n",
              "      <td>78</td>\n",
              "      <td>23.08</td>\n",
              "    </tr>\n",
              "    <tr>\n",
              "      <th>20</th>\n",
              "      <td>Pernambuco</td>\n",
              "      <td>2015</td>\n",
              "      <td>714.39</td>\n",
              "      <td>78</td>\n",
              "      <td>23.48</td>\n",
              "    </tr>\n",
              "    <tr>\n",
              "      <th>21</th>\n",
              "      <td>Pernambuco</td>\n",
              "      <td>2016</td>\n",
              "      <td>722.52</td>\n",
              "      <td>78</td>\n",
              "      <td>23.76</td>\n",
              "    </tr>\n",
              "    <tr>\n",
              "      <th>22</th>\n",
              "      <td>Pernambuco</td>\n",
              "      <td>2017</td>\n",
              "      <td>780.31</td>\n",
              "      <td>78</td>\n",
              "      <td>25.64</td>\n",
              "    </tr>\n",
              "    <tr>\n",
              "      <th>23</th>\n",
              "      <td>Pernambuco</td>\n",
              "      <td>2018</td>\n",
              "      <td>797.45</td>\n",
              "      <td>78</td>\n",
              "      <td>26.21</td>\n",
              "    </tr>\n",
              "    <tr>\n",
              "      <th>24</th>\n",
              "      <td>Pernambuco</td>\n",
              "      <td>2019</td>\n",
              "      <td>819.32</td>\n",
              "      <td>78</td>\n",
              "      <td>26.94</td>\n",
              "    </tr>\n",
              "    <tr>\n",
              "      <th>25</th>\n",
              "      <td>Pernambuco</td>\n",
              "      <td>2020</td>\n",
              "      <td>441.55</td>\n",
              "      <td>28</td>\n",
              "      <td>14.59</td>\n",
              "    </tr>\n",
              "    <tr>\n",
              "      <th>26</th>\n",
              "      <td>São Paulo</td>\n",
              "      <td>2008</td>\n",
              "      <td>1960.23</td>\n",
              "      <td>77</td>\n",
              "      <td>64.60</td>\n",
              "    </tr>\n",
              "    <tr>\n",
              "      <th>27</th>\n",
              "      <td>São Paulo</td>\n",
              "      <td>2009</td>\n",
              "      <td>2489.03</td>\n",
              "      <td>78</td>\n",
              "      <td>81.82</td>\n",
              "    </tr>\n",
              "    <tr>\n",
              "      <th>28</th>\n",
              "      <td>São Paulo</td>\n",
              "      <td>2010</td>\n",
              "      <td>2696.62</td>\n",
              "      <td>78</td>\n",
              "      <td>88.63</td>\n",
              "    </tr>\n",
              "    <tr>\n",
              "      <th>29</th>\n",
              "      <td>São Paulo</td>\n",
              "      <td>2011</td>\n",
              "      <td>2794.55</td>\n",
              "      <td>78</td>\n",
              "      <td>91.91</td>\n",
              "    </tr>\n",
              "    <tr>\n",
              "      <th>30</th>\n",
              "      <td>São Paulo</td>\n",
              "      <td>2012</td>\n",
              "      <td>2873.97</td>\n",
              "      <td>78</td>\n",
              "      <td>94.47</td>\n",
              "    </tr>\n",
              "    <tr>\n",
              "      <th>31</th>\n",
              "      <td>São Paulo</td>\n",
              "      <td>2013</td>\n",
              "      <td>3062.81</td>\n",
              "      <td>78</td>\n",
              "      <td>100.67</td>\n",
              "    </tr>\n",
              "    <tr>\n",
              "      <th>32</th>\n",
              "      <td>São Paulo</td>\n",
              "      <td>2014</td>\n",
              "      <td>3200.55</td>\n",
              "      <td>78</td>\n",
              "      <td>105.25</td>\n",
              "    </tr>\n",
              "    <tr>\n",
              "      <th>33</th>\n",
              "      <td>São Paulo</td>\n",
              "      <td>2015</td>\n",
              "      <td>3187.85</td>\n",
              "      <td>78</td>\n",
              "      <td>104.79</td>\n",
              "    </tr>\n",
              "    <tr>\n",
              "      <th>34</th>\n",
              "      <td>São Paulo</td>\n",
              "      <td>2016</td>\n",
              "      <td>3200.67</td>\n",
              "      <td>78</td>\n",
              "      <td>105.26</td>\n",
              "    </tr>\n",
              "    <tr>\n",
              "      <th>35</th>\n",
              "      <td>São Paulo</td>\n",
              "      <td>2017</td>\n",
              "      <td>3302.18</td>\n",
              "      <td>78</td>\n",
              "      <td>108.53</td>\n",
              "    </tr>\n",
              "    <tr>\n",
              "      <th>36</th>\n",
              "      <td>São Paulo</td>\n",
              "      <td>2018</td>\n",
              "      <td>3379.99</td>\n",
              "      <td>78</td>\n",
              "      <td>111.11</td>\n",
              "    </tr>\n",
              "    <tr>\n",
              "      <th>37</th>\n",
              "      <td>São Paulo</td>\n",
              "      <td>2019</td>\n",
              "      <td>3488.39</td>\n",
              "      <td>78</td>\n",
              "      <td>114.69</td>\n",
              "    </tr>\n",
              "    <tr>\n",
              "      <th>38</th>\n",
              "      <td>São Paulo</td>\n",
              "      <td>2020</td>\n",
              "      <td>1986.28</td>\n",
              "      <td>28</td>\n",
              "      <td>65.60</td>\n",
              "    </tr>\n",
              "  </tbody>\n",
              "</table>\n",
              "</div>"
            ],
            "text/plain": [
              "              uf   ano   gasto  mes  gasto_diario\n",
              "0   Minas Gerais  2008  894.35   77         29.44\n",
              "1   Minas Gerais  2009 1149.14   78         37.77\n",
              "2   Minas Gerais  2010 1217.49   78         40.03\n",
              "3   Minas Gerais  2011 1315.02   78         43.24\n",
              "4   Minas Gerais  2012 1408.35   78         46.29\n",
              "5   Minas Gerais  2013 1514.84   78         49.79\n",
              "6   Minas Gerais  2014 1646.22   78         54.14\n",
              "7   Minas Gerais  2015 1660.81   78         54.61\n",
              "8   Minas Gerais  2016 1639.97   78         53.93\n",
              "9   Minas Gerais  2017 1727.89   78         56.79\n",
              "10  Minas Gerais  2018 1797.03   78         59.06\n",
              "11  Minas Gerais  2019 1879.92   78         61.80\n",
              "12  Minas Gerais  2020  966.14   28         31.94\n",
              "13    Pernambuco  2008  333.09   77         10.97\n",
              "14    Pernambuco  2009  443.70   78         14.57\n",
              "15    Pernambuco  2010  499.93   78         16.40\n",
              "16    Pernambuco  2011  502.23   78         16.51\n",
              "17    Pernambuco  2012  538.78   78         17.71\n",
              "18    Pernambuco  2013  638.75   78         20.99\n",
              "19    Pernambuco  2014  701.82   78         23.08\n",
              "20    Pernambuco  2015  714.39   78         23.48\n",
              "21    Pernambuco  2016  722.52   78         23.76\n",
              "22    Pernambuco  2017  780.31   78         25.64\n",
              "23    Pernambuco  2018  797.45   78         26.21\n",
              "24    Pernambuco  2019  819.32   78         26.94\n",
              "25    Pernambuco  2020  441.55   28         14.59\n",
              "26     São Paulo  2008 1960.23   77         64.60\n",
              "27     São Paulo  2009 2489.03   78         81.82\n",
              "28     São Paulo  2010 2696.62   78         88.63\n",
              "29     São Paulo  2011 2794.55   78         91.91\n",
              "30     São Paulo  2012 2873.97   78         94.47\n",
              "31     São Paulo  2013 3062.81   78        100.67\n",
              "32     São Paulo  2014 3200.55   78        105.25\n",
              "33     São Paulo  2015 3187.85   78        104.79\n",
              "34     São Paulo  2016 3200.67   78        105.26\n",
              "35     São Paulo  2017 3302.18   78        108.53\n",
              "36     São Paulo  2018 3379.99   78        111.11\n",
              "37     São Paulo  2019 3488.39   78        114.69\n",
              "38     São Paulo  2020 1986.28   28         65.60"
            ]
          },
          "metadata": {
            "tags": []
          },
          "execution_count": 11
        }
      ]
    },
    {
      "cell_type": "code",
      "metadata": {
        "colab": {
          "base_uri": "https://localhost:8080/",
          "height": 296
        },
        "id": "33KtcGtEK5mu",
        "outputId": "099563d9-5c0a-4ad9-95ea-c6450d712b1b"
      },
      "source": [
        "sns.barplot(data = estados_por_ano, x = \"ano\", y = \"gasto\", hue = \"uf\")"
      ],
      "execution_count": 12,
      "outputs": [
        {
          "output_type": "execute_result",
          "data": {
            "text/plain": [
              "<matplotlib.axes._subplots.AxesSubplot at 0x7efdc5fa36d0>"
            ]
          },
          "metadata": {
            "tags": []
          },
          "execution_count": 12
        },
        {
          "output_type": "display_data",
          "data": {
            "image/png": "[encoded data removed]",
            "text/plain": [
              "<Figure size 432x288 with 1 Axes>"
            ]
          },
          "metadata": {
            "tags": [],
            "needs_background": "light"
          }
        }
      ]
    },
    {
      "cell_type": "code",
      "metadata": {
        "colab": {
          "base_uri": "https://localhost:8080/",
          "height": 296
        },
        "id": "TMrTTw0DL3Qn",
        "outputId": "971f141d-2de8-46cf-ec24-da06a8894db4"
      },
      "source": [
        "sns.lineplot(data = estados_por_ano, x = \"ano\", y = \"gasto\", hue = \"uf\")"
      ],
      "execution_count": 13,
      "outputs": [
        {
          "output_type": "execute_result",
          "data": {
            "text/plain": [
              "<matplotlib.axes._subplots.AxesSubplot at 0x7efdc5f3de50>"
            ]
          },
          "metadata": {
            "tags": []
          },
          "execution_count": 13
        },
        {
          "output_type": "display_data",
          "data": {
            "image/png": "[encoded data removed]",
            "text/plain": [
              "<Figure size 432x288 with 1 Axes>"
            ]
          },
          "metadata": {
            "tags": [],
            "needs_background": "light"
          }
        }
      ]
    },
    {
      "cell_type": "code",
      "metadata": {
        "colab": {
          "base_uri": "https://localhost:8080/",
          "height": 400
        },
        "id": "ufOg9TP8Livk",
        "outputId": "fa5279ab-a27a-49a1-be0d-3bf47e359909"
      },
      "source": [
        "sns.catplot(data = estados_por_ano, x = \"ano\", y = \"gasto\", kind = \"bar\", col = \"uf\")"
      ],
      "execution_count": 14,
      "outputs": [
        {
          "output_type": "execute_result",
          "data": {
            "text/plain": [
              "<seaborn.axisgrid.FacetGrid at 0x7efdc5dd7410>"
            ]
          },
          "metadata": {
            "tags": []
          },
          "execution_count": 14
        },
        {
          "output_type": "display_data",
          "data": {
            "image/png": "[encoded data removed]",
            "text/plain": [
              "<Figure size 1080x360 with 3 Axes>"
            ]
          },
          "metadata": {
            "tags": [],
            "needs_background": "light"
          }
        }
      ]
    },
    {
      "cell_type": "code",
      "metadata": {
        "colab": {
          "base_uri": "https://localhost:8080/",
          "height": 1000
        },
        "id": "3vwUpocOMD05",
        "outputId": "fee34bde-5a43-4446-cfaf-55bbf8fa9a59"
      },
      "source": [
        "sns.catplot(data = estados_por_ano, x = \"ano\", y = \"gasto\", kind = \"bar\", row = \"uf\")"
      ],
      "execution_count": 15,
      "outputs": [
        {
          "output_type": "execute_result",
          "data": {
            "text/plain": [
              "<seaborn.axisgrid.FacetGrid at 0x7efdbd374710>"
            ]
          },
          "metadata": {
            "tags": []
          },
          "execution_count": 15
        },
        {
          "output_type": "display_data",
          "data": {
            "image/png": "[encoded data removed]",
            "text/plain": [
              "<Figure size 360x1080 with 3 Axes>"
            ]
          },
          "metadata": {
            "tags": [],
            "needs_background": "light"
          }
        }
      ]
    },
    {
      "cell_type": "markdown",
      "metadata": {
        "id": "6o8iVUHxRbXd"
      },
      "source": [
        "## Desafio 03 - Pensar e elaborar novos gráficos depois de estudar o seaborn, compartilhar com uma breve descrição no discord, para que outros colegas aprendam sobre o gráfico usado:"
      ]
    },
    {
      "cell_type": "markdown",
      "metadata": {
        "id": "XX3xseDBjJNG"
      },
      "source": [
        "Para esse exercício, resolvi comparar dois estados de gastos semelhantes da mesma região, Minas Gerais e Rio de Janeiro. Escolhi trabalhar com boxplots no agrupador catplot, usando o eixo x como ano e y como gasto. Dessa forma, eu quero olhar para as distrubuições dos gastos por mês de cada ano, e também verificar se há valores muito discrepantes (outliers) em algum ano específico; e também comparar essa estimativa entre estados diferentes. Ressalto que é mais um exercício de treino de visualização de dados com diferentes combinações de parâmetros para conhecer mais a fundo o funcionamento do seaborn, sem que haja necessariamente uma hipótese ou uma pergunta prévia relevante."
      ]
    },
    {
      "cell_type": "code",
      "metadata": {
        "colab": {
          "base_uri": "https://localhost:8080/",
          "height": 412
        },
        "id": "P4-JKkR8f03V",
        "outputId": "3dda1862-5f15-41df-938b-5582ec62f757"
      },
      "source": [
        "estados_lista = [\"Minas Gerais\", \"Rio de Janeiro\"]\n",
        "estados = mensal_aberto.query(\"uf in @estados_lista\")\n",
        "estados"
      ],
      "execution_count": 40,
      "outputs": [
        {
          "output_type": "execute_result",
          "data": {
            "text/html": [
              "<div>\n",
              "<style scoped>\n",
              "    .dataframe tbody tr th:only-of-type {\n",
              "        vertical-align: middle;\n",
              "    }\n",
              "\n",
              "    .dataframe tbody tr th {\n",
              "        vertical-align: top;\n",
              "    }\n",
              "\n",
              "    .dataframe thead th {\n",
              "        text-align: right;\n",
              "    }\n",
              "</style>\n",
              "<table border=\"1\" class=\"dataframe\">\n",
              "  <thead>\n",
              "    <tr style=\"text-align: right;\">\n",
              "      <th></th>\n",
              "      <th>dia_mes_ano</th>\n",
              "      <th>uf</th>\n",
              "      <th>gasto</th>\n",
              "      <th>mes</th>\n",
              "      <th>ano</th>\n",
              "      <th>mes_str</th>\n",
              "      <th>gasto_diario</th>\n",
              "    </tr>\n",
              "  </thead>\n",
              "  <tbody>\n",
              "    <tr>\n",
              "      <th>150</th>\n",
              "      <td>2008-02-01</td>\n",
              "      <td>Minas Gerais</td>\n",
              "      <td>70.30</td>\n",
              "      <td>2</td>\n",
              "      <td>2008</td>\n",
              "      <td>Fev</td>\n",
              "      <td>2.51</td>\n",
              "    </tr>\n",
              "    <tr>\n",
              "      <th>151</th>\n",
              "      <td>2008-03-01</td>\n",
              "      <td>Minas Gerais</td>\n",
              "      <td>79.12</td>\n",
              "      <td>3</td>\n",
              "      <td>2008</td>\n",
              "      <td>Mar</td>\n",
              "      <td>2.55</td>\n",
              "    </tr>\n",
              "    <tr>\n",
              "      <th>152</th>\n",
              "      <td>2008-04-01</td>\n",
              "      <td>Minas Gerais</td>\n",
              "      <td>79.05</td>\n",
              "      <td>4</td>\n",
              "      <td>2008</td>\n",
              "      <td>Abr</td>\n",
              "      <td>2.63</td>\n",
              "    </tr>\n",
              "    <tr>\n",
              "      <th>153</th>\n",
              "      <td>2008-05-01</td>\n",
              "      <td>Minas Gerais</td>\n",
              "      <td>79.27</td>\n",
              "      <td>5</td>\n",
              "      <td>2008</td>\n",
              "      <td>Mai</td>\n",
              "      <td>2.56</td>\n",
              "    </tr>\n",
              "    <tr>\n",
              "      <th>154</th>\n",
              "      <td>2008-06-01</td>\n",
              "      <td>Minas Gerais</td>\n",
              "      <td>79.61</td>\n",
              "      <td>6</td>\n",
              "      <td>2008</td>\n",
              "      <td>Jun</td>\n",
              "      <td>2.65</td>\n",
              "    </tr>\n",
              "    <tr>\n",
              "      <th>...</th>\n",
              "      <td>...</td>\n",
              "      <td>...</td>\n",
              "      <td>...</td>\n",
              "      <td>...</td>\n",
              "      <td>...</td>\n",
              "      <td>...</td>\n",
              "      <td>...</td>\n",
              "    </tr>\n",
              "    <tr>\n",
              "      <th>745</th>\n",
              "      <td>2020-03-01</td>\n",
              "      <td>Rio de Janeiro</td>\n",
              "      <td>73.59</td>\n",
              "      <td>3</td>\n",
              "      <td>2020</td>\n",
              "      <td>Mar</td>\n",
              "      <td>2.37</td>\n",
              "    </tr>\n",
              "    <tr>\n",
              "      <th>746</th>\n",
              "      <td>2020-04-01</td>\n",
              "      <td>Rio de Janeiro</td>\n",
              "      <td>68.16</td>\n",
              "      <td>4</td>\n",
              "      <td>2020</td>\n",
              "      <td>Abr</td>\n",
              "      <td>2.27</td>\n",
              "    </tr>\n",
              "    <tr>\n",
              "      <th>747</th>\n",
              "      <td>2020-05-01</td>\n",
              "      <td>Rio de Janeiro</td>\n",
              "      <td>86.28</td>\n",
              "      <td>5</td>\n",
              "      <td>2020</td>\n",
              "      <td>Mai</td>\n",
              "      <td>2.78</td>\n",
              "    </tr>\n",
              "    <tr>\n",
              "      <th>748</th>\n",
              "      <td>2020-06-01</td>\n",
              "      <td>Rio de Janeiro</td>\n",
              "      <td>77.60</td>\n",
              "      <td>6</td>\n",
              "      <td>2020</td>\n",
              "      <td>Jun</td>\n",
              "      <td>2.59</td>\n",
              "    </tr>\n",
              "    <tr>\n",
              "      <th>749</th>\n",
              "      <td>2020-07-01</td>\n",
              "      <td>Rio de Janeiro</td>\n",
              "      <td>71.54</td>\n",
              "      <td>7</td>\n",
              "      <td>2020</td>\n",
              "      <td>Jul</td>\n",
              "      <td>2.31</td>\n",
              "    </tr>\n",
              "  </tbody>\n",
              "</table>\n",
              "<p>300 rows × 7 columns</p>\n",
              "</div>"
            ],
            "text/plain": [
              "    dia_mes_ano              uf  gasto  mes   ano mes_str  gasto_diario\n",
              "150  2008-02-01    Minas Gerais  70.30    2  2008     Fev          2.51\n",
              "151  2008-03-01    Minas Gerais  79.12    3  2008     Mar          2.55\n",
              "152  2008-04-01    Minas Gerais  79.05    4  2008     Abr          2.63\n",
              "153  2008-05-01    Minas Gerais  79.27    5  2008     Mai          2.56\n",
              "154  2008-06-01    Minas Gerais  79.61    6  2008     Jun          2.65\n",
              "..          ...             ...    ...  ...   ...     ...           ...\n",
              "745  2020-03-01  Rio de Janeiro  73.59    3  2020     Mar          2.37\n",
              "746  2020-04-01  Rio de Janeiro  68.16    4  2020     Abr          2.27\n",
              "747  2020-05-01  Rio de Janeiro  86.28    5  2020     Mai          2.78\n",
              "748  2020-06-01  Rio de Janeiro  77.60    6  2020     Jun          2.59\n",
              "749  2020-07-01  Rio de Janeiro  71.54    7  2020     Jul          2.31\n",
              "\n",
              "[300 rows x 7 columns]"
            ]
          },
          "metadata": {
            "tags": []
          },
          "execution_count": 40
        }
      ]
    },
    {
      "cell_type": "code",
      "metadata": {
        "colab": {
          "base_uri": "https://localhost:8080/",
          "height": 396
        },
        "id": "wQbrOhDOfge0",
        "outputId": "7caa39dc-f0e8-455a-9de5-6dc3f5341d52"
      },
      "source": [
        "ax = sns.catplot(data = estados, kind = \"box\", x = \"ano\", y = \"gasto\", hue = \"uf\", \n",
        "            height = 5, aspect = 1.5, fliersize = 10, dodge = False, col = \"uf\")\n",
        "ax.fig.subplots_adjust(top = 0.9)\n",
        "ax.fig.suptitle(\"Valor total gasto em procedimentos hospitalares a cada mês agrupados por ano em dois estados brasileiros\", \n",
        "          fontsize = 15)\n",
        "ax.set_xlabels(\"Ano\", fontsize = 15)\n",
        "ax.set_ylabels(\"Gasto (milhões de reais)\", fontsize = 15)\n",
        "ax.fig.axes[0].set_title(\"Minas Gerais\")\n",
        "ax.fig.axes[1].set_title(\"Rio de Janeiro\")\n",
        "ax.fig.axes[0].tick_params(axis = \"both\", which = \"major\", labelsize = 14)\n",
        "ax.fig.axes[1].tick_params(axis = \"both\", which = \"major\", labelsize = 14)\n",
        "\n",
        "plt.show()"
      ],
      "execution_count": 74,
      "outputs": [
        {
          "output_type": "display_data",
          "data": {
            "image/png": "[encoded data removed]",
            "text/plain": [
              "<Figure size 1080x360 with 2 Axes>"
            ]
          },
          "metadata": {
            "tags": [],
            "needs_background": "light"
          }
        }
      ]
    },
    {
      "cell_type": "markdown",
      "metadata": {
        "id": "8ub16K1hn2W5"
      },
      "source": [
        "Nessa visualização relativamente simples, vemos que Minas Gerais costuma ter valores outliers sempre abaixo, nunca acima da distribuição, enquanto que no Rio de Janeiro, temos mais valores acima do que abaixo. Talvez no Rio de Janeiro tenham mais gastos excedentes nos meses de verão? Devido à grande quantidade de chuvas provocando deslizamentos, ou maiores casos de doenças? Podemos ver que no ano de 2013 houve o maior valor excedente no Rio de Janeiro, será que houve algum episódio de saúde pública mais intensa este ano? Perguntas que podem ser respondidas olhando esses dados mais a fundo."
      ]
    },
    {
      "cell_type": "markdown",
      "metadata": {
        "id": "ZVM4FmI_qA6B"
      },
      "source": [
        "## Desafio 04 - Baixe uma outra base de dados do tabnet e exeucte sua análise de forma similar a aula:"
      ]
    }
  ]
}