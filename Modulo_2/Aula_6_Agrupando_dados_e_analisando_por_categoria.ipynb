{
  "nbformat": 4,
  "nbformat_minor": 0,
  "metadata": {
    "colab": {
      "name": "Aula_6_Agrupando_dados_e_analisando_por_categoria.ipynb",
      "provenance": [],
      "authorship_tag": "ABX9TyOfdAKuVrl8DtdO/8SdXMK5",
      "include_colab_link": true
    },
    "kernelspec": {
      "name": "python3",
      "display_name": "Python 3"
    },
    "language_info": {
      "name": "python"
    }
  },
  "cells": [
    {
      "cell_type": "markdown",
      "metadata": {
        "id": "view-in-github",
        "colab_type": "text"
      },
      "source": [
        "<a href=\"https://colab.research.google.com/github/RPGraciotti/BootCampAlura/blob/main/Modulo_2/Aula_6_Agrupando_dados_e_analisando_por_categoria.ipynb\" target=\"_parent\"><img src=\"https://colab.research.google.com/assets/colab-badge.svg\" alt=\"Open In Colab\"/></a>"
      ]
    },
    {
      "cell_type": "code",
      "metadata": {
        "id": "xTrLev2j6PUv"
      },
      "source": [
        "import pandas as pd\n",
        "import matplotlib.pyplot as plt\n",
        "import matplotlib.ticker as ticker\n",
        "import numpy as np\n",
        "import seaborn as sns\n",
        "from datetime import date\n",
        "\n",
        "df = pd.read_csv(\"https://raw.githubusercontent.com/RPGraciotti/agendamento-hospitalar/main/dados/A160324189_28_143_208.csv\", encoding = \"ISO-8859-1\",\n",
        "                 skiprows = 3, sep = \";\", skipfooter = 12,\n",
        "                 thousands = \".\", decimal = \",\", engine = \"python\")\n",
        "pd.options.display.float_format = \"{:.2f}\".format\n",
        "use_col = df.mean().index.tolist()\n",
        "use_col.insert(0, \"Unidade da Federação\")\n",
        "use = df.loc[:,use_col]\n",
        "use = use.set_index(\"Unidade da Federação\")\n",
        "use.sort_values(by = \"Total\") # crescente\n",
        "total_ord = use.sort_values(by = \"Total\", ascending = False) # decrescente\n",
        "total_ord = total_ord.drop(\"Total\", axis = 1)\n",
        "main_cols = total_ord.columns[6:]\n",
        "total_ord = total_ord[main_cols]\n",
        "total_ord = total_ord/1000000\n",
        "total_ord.index = total_ord.index.str[3:] # Matar esse problema aqui de vez\n",
        "ultimo_mes = total_ord.columns[-1]\n",
        "gastos_ultimo_mes = total_ord[ultimo_mes]\n",
        "gastos_prop_estado = gastos_ultimo_mes / gastos_ultimo_mes.sum()\n",
        "tabelas_wiki = pd.read_html(\"https://pt.wikipedia.org/wiki/Lista_de_unidades_federativas_do_Brasil_por_popula%C3%A7%C3%A3o\")\n",
        "dados_populacao_raw = tabelas_wiki[0]\n",
        "dados_populacao_raw\n",
        "\n",
        "def limpeza(df1, df2):\n",
        "  \"\"\"limpeza, tratamento e join de dados\"\"\"\n",
        "  df1 = df1.dropna().copy()\n",
        "  df1.columns = [\"posicao\", \"uf\", \"populacao\", \"porc\", \"pais\"]\n",
        "  df1.loc[:,\"populacao\"] = pd.to_numeric(df1.loc[:,\"populacao\"].str.replace(\" \",\"\"))\n",
        "  df1 = df1.loc[:,[\"populacao\", \"uf\"]]\n",
        "  df1 = df1.set_index(\"uf\")\n",
        "  df1.index = df1.index.str.strip()\n",
        "\n",
        "  for i in df2.index:\n",
        "    df1.index = df1.index.str.replace(f\"{i} {i}\", i)\n",
        "\n",
        "  return df1.join(df2)\n",
        "\n",
        "gastos_e_populacao_recente = limpeza(dados_populacao_raw, gastos_ultimo_mes)\n",
        "\n",
        "def insere_gastos_e_gasto_por_habitante_para(todos_os_gastos: pd.DataFrame, dados: pd.DataFrame, mes: str): \n",
        "  # mes: str define que o tipo de mes só pode ser string\n",
        "  # pd.DataFrame para definir que só pode ser DataFrame\n",
        "  gastos_do_mes = todos_os_gastos.loc[:,mes]\n",
        "  dados.loc[:, f\"gastos_{mes}\"] = gastos_do_mes * 1000000\n",
        "  dados.loc[:, f\"gasto_por_habitante_{mes}\"] = dados.loc[:, f\"gastos_{mes}\"] / dados.loc[:, \"populacao\"]\n",
        "\n",
        "mensal = total_ord.T\n",
        "\n",
        "# criando dicionario\n",
        "\n",
        "meses = {\n",
        "    \"Jan\" : 1,\n",
        "    \"Fev\" : 2,\n",
        "    \"Mar\" : 3,\n",
        "    \"Abr\" : 4,\n",
        "    \"Mai\" : 5,\n",
        "    \"Jun\" : 6,\n",
        "    \"Jul\" : 7,\n",
        "    \"Ago\" : 8,\n",
        "    \"Set\" : 9,\n",
        "    \"Out\" : 10,\n",
        "    \"Nov\" : 11,\n",
        "    \"Dez\" : 12\n",
        "}\n",
        "\n",
        "def para_dia(ano_mes: str):\n",
        "  ano: int = int(ano_mes[:4])\n",
        "  mes: str = ano_mes[5:]\n",
        "  mes_numero: int = meses[mes]\n",
        "  return date(ano, mes_numero, 1)\n",
        "\n",
        "mensal.index = mensal.index.map(para_dia)\n",
        "\n",
        "mensal_aberto = mensal.reset_index().melt(id_vars = [\"index\"], value_vars = mensal.columns)\n",
        "mensal_aberto.columns = [\"mes\", \"uf\", \"gasto\"]\n",
        "\n",
        "mensal_aberto.columns = [\"dia_mes_ano\", \"uf\", \"gasto\"]\n",
        "mensal_aberto.loc[:,\"dia_mes_ano\"] = mensal_aberto.loc[:,\"dia_mes_ano\"].astype(\"datetime64\")\n",
        "\n",
        "mensal_aberto.loc[:,\"mes\"] = mensal_aberto.loc[:,\"dia_mes_ano\"].dt.month\n",
        "mensal_aberto.loc[:,\"ano\"] = mensal_aberto.loc[:,\"dia_mes_ano\"].dt.year\n",
        "\n",
        "\n",
        "inv_meses = {v: k for k, v in meses.items()} # aqui precisaremos fazer a conversão contrária do que foi feito antes, invertendo o dicionário\n",
        "mensal_aberto.loc[:,\"mes_str\"] = mensal_aberto.loc[:,\"mes\"].map(inv_meses)\n",
        "mensal_aberto.loc[:,\"mes_str\"] = pd.Categorical(mensal_aberto.loc[:,'mes_str'],[\"Jan\", \"Fev\", \"Mar\", \"Abr\", \"Mai\", \"Jun\", \"Jul\", \"Ago\", \"Set\", \"Out\", \"Nov\", \"Dez\"])\n",
        "\n",
        "dias_por_mes = {\n",
        "    1 : 31,\n",
        "    2 : 28,\n",
        "    3 : 31,\n",
        "    4 : 30,\n",
        "    5 : 31,\n",
        "    6 : 30,\n",
        "    7 : 31,\n",
        "    8 : 31,\n",
        "    9 : 30,\n",
        "    10 : 31,\n",
        "    11 : 30,\n",
        "    12 : 31\n",
        "}\n",
        "\n",
        "mensal_aberto.loc[:, \"gasto_diario\"] = mensal_aberto.loc[:, \"gasto\"] / mensal_aberto.loc[:,\"mes\"].map(dias_por_mes)"
      ],
      "execution_count": 1,
      "outputs": []
    },
    {
      "cell_type": "code",
      "metadata": {
        "colab": {
          "base_uri": "https://localhost:8080/",
          "height": 201
        },
        "id": "jX2sNxlGFcRO",
        "outputId": "9e26f0d5-ae74-45e5-c02e-84b26d6d6920"
      },
      "source": [
        "mensal_aberto.head()"
      ],
      "execution_count": 2,
      "outputs": [
        {
          "output_type": "execute_result",
          "data": {
            "text/html": [
              "<div>\n",
              "<style scoped>\n",
              "    .dataframe tbody tr th:only-of-type {\n",
              "        vertical-align: middle;\n",
              "    }\n",
              "\n",
              "    .dataframe tbody tr th {\n",
              "        vertical-align: top;\n",
              "    }\n",
              "\n",
              "    .dataframe thead th {\n",
              "        text-align: right;\n",
              "    }\n",
              "</style>\n",
              "<table border=\"1\" class=\"dataframe\">\n",
              "  <thead>\n",
              "    <tr style=\"text-align: right;\">\n",
              "      <th></th>\n",
              "      <th>dia_mes_ano</th>\n",
              "      <th>uf</th>\n",
              "      <th>gasto</th>\n",
              "      <th>mes</th>\n",
              "      <th>ano</th>\n",
              "      <th>mes_str</th>\n",
              "      <th>gasto_diario</th>\n",
              "    </tr>\n",
              "  </thead>\n",
              "  <tbody>\n",
              "    <tr>\n",
              "      <th>0</th>\n",
              "      <td>2008-02-01</td>\n",
              "      <td>São Paulo</td>\n",
              "      <td>172.83</td>\n",
              "      <td>2</td>\n",
              "      <td>2008</td>\n",
              "      <td>Fev</td>\n",
              "      <td>6.17</td>\n",
              "    </tr>\n",
              "    <tr>\n",
              "      <th>1</th>\n",
              "      <td>2008-03-01</td>\n",
              "      <td>São Paulo</td>\n",
              "      <td>170.48</td>\n",
              "      <td>3</td>\n",
              "      <td>2008</td>\n",
              "      <td>Mar</td>\n",
              "      <td>5.50</td>\n",
              "    </tr>\n",
              "    <tr>\n",
              "      <th>2</th>\n",
              "      <td>2008-04-01</td>\n",
              "      <td>São Paulo</td>\n",
              "      <td>170.28</td>\n",
              "      <td>4</td>\n",
              "      <td>2008</td>\n",
              "      <td>Abr</td>\n",
              "      <td>5.68</td>\n",
              "    </tr>\n",
              "    <tr>\n",
              "      <th>3</th>\n",
              "      <td>2008-05-01</td>\n",
              "      <td>São Paulo</td>\n",
              "      <td>172.40</td>\n",
              "      <td>5</td>\n",
              "      <td>2008</td>\n",
              "      <td>Mai</td>\n",
              "      <td>5.56</td>\n",
              "    </tr>\n",
              "    <tr>\n",
              "      <th>4</th>\n",
              "      <td>2008-06-01</td>\n",
              "      <td>São Paulo</td>\n",
              "      <td>175.42</td>\n",
              "      <td>6</td>\n",
              "      <td>2008</td>\n",
              "      <td>Jun</td>\n",
              "      <td>5.85</td>\n",
              "    </tr>\n",
              "  </tbody>\n",
              "</table>\n",
              "</div>"
            ],
            "text/plain": [
              "  dia_mes_ano         uf  gasto  mes   ano mes_str  gasto_diario\n",
              "0  2008-02-01  São Paulo 172.83    2  2008     Fev          6.17\n",
              "1  2008-03-01  São Paulo 170.48    3  2008     Mar          5.50\n",
              "2  2008-04-01  São Paulo 170.28    4  2008     Abr          5.68\n",
              "3  2008-05-01  São Paulo 172.40    5  2008     Mai          5.56\n",
              "4  2008-06-01  São Paulo 175.42    6  2008     Jun          5.85"
            ]
          },
          "metadata": {
            "tags": []
          },
          "execution_count": 2
        }
      ]
    },
    {
      "cell_type": "code",
      "metadata": {
        "colab": {
          "base_uri": "https://localhost:8080/",
          "height": 201
        },
        "id": "TntBxyMKFjSS",
        "outputId": "3cd90341-b041-4f07-db11-56e8d7dd614e"
      },
      "source": [
        "estado_a_analisar = mensal_aberto.query(\"uf == 'São Paulo'\")\n",
        "\n",
        "estado_a_analisar.head()"
      ],
      "execution_count": 3,
      "outputs": [
        {
          "output_type": "execute_result",
          "data": {
            "text/html": [
              "<div>\n",
              "<style scoped>\n",
              "    .dataframe tbody tr th:only-of-type {\n",
              "        vertical-align: middle;\n",
              "    }\n",
              "\n",
              "    .dataframe tbody tr th {\n",
              "        vertical-align: top;\n",
              "    }\n",
              "\n",
              "    .dataframe thead th {\n",
              "        text-align: right;\n",
              "    }\n",
              "</style>\n",
              "<table border=\"1\" class=\"dataframe\">\n",
              "  <thead>\n",
              "    <tr style=\"text-align: right;\">\n",
              "      <th></th>\n",
              "      <th>dia_mes_ano</th>\n",
              "      <th>uf</th>\n",
              "      <th>gasto</th>\n",
              "      <th>mes</th>\n",
              "      <th>ano</th>\n",
              "      <th>mes_str</th>\n",
              "      <th>gasto_diario</th>\n",
              "    </tr>\n",
              "  </thead>\n",
              "  <tbody>\n",
              "    <tr>\n",
              "      <th>0</th>\n",
              "      <td>2008-02-01</td>\n",
              "      <td>São Paulo</td>\n",
              "      <td>172.83</td>\n",
              "      <td>2</td>\n",
              "      <td>2008</td>\n",
              "      <td>Fev</td>\n",
              "      <td>6.17</td>\n",
              "    </tr>\n",
              "    <tr>\n",
              "      <th>1</th>\n",
              "      <td>2008-03-01</td>\n",
              "      <td>São Paulo</td>\n",
              "      <td>170.48</td>\n",
              "      <td>3</td>\n",
              "      <td>2008</td>\n",
              "      <td>Mar</td>\n",
              "      <td>5.50</td>\n",
              "    </tr>\n",
              "    <tr>\n",
              "      <th>2</th>\n",
              "      <td>2008-04-01</td>\n",
              "      <td>São Paulo</td>\n",
              "      <td>170.28</td>\n",
              "      <td>4</td>\n",
              "      <td>2008</td>\n",
              "      <td>Abr</td>\n",
              "      <td>5.68</td>\n",
              "    </tr>\n",
              "    <tr>\n",
              "      <th>3</th>\n",
              "      <td>2008-05-01</td>\n",
              "      <td>São Paulo</td>\n",
              "      <td>172.40</td>\n",
              "      <td>5</td>\n",
              "      <td>2008</td>\n",
              "      <td>Mai</td>\n",
              "      <td>5.56</td>\n",
              "    </tr>\n",
              "    <tr>\n",
              "      <th>4</th>\n",
              "      <td>2008-06-01</td>\n",
              "      <td>São Paulo</td>\n",
              "      <td>175.42</td>\n",
              "      <td>6</td>\n",
              "      <td>2008</td>\n",
              "      <td>Jun</td>\n",
              "      <td>5.85</td>\n",
              "    </tr>\n",
              "  </tbody>\n",
              "</table>\n",
              "</div>"
            ],
            "text/plain": [
              "  dia_mes_ano         uf  gasto  mes   ano mes_str  gasto_diario\n",
              "0  2008-02-01  São Paulo 172.83    2  2008     Fev          6.17\n",
              "1  2008-03-01  São Paulo 170.48    3  2008     Mar          5.50\n",
              "2  2008-04-01  São Paulo 170.28    4  2008     Abr          5.68\n",
              "3  2008-05-01  São Paulo 172.40    5  2008     Mai          5.56\n",
              "4  2008-06-01  São Paulo 175.42    6  2008     Jun          5.85"
            ]
          },
          "metadata": {
            "tags": []
          },
          "execution_count": 3
        }
      ]
    },
    {
      "cell_type": "code",
      "metadata": {
        "id": "Kw_bmgP8Fwi9"
      },
      "source": [
        "gastos_por_ano = estado_a_analisar.groupby(\"ano\").sum()"
      ],
      "execution_count": 4,
      "outputs": []
    },
    {
      "cell_type": "code",
      "metadata": {
        "colab": {
          "base_uri": "https://localhost:8080/",
          "height": 231
        },
        "id": "vm4_34HbGN4d",
        "outputId": "173f55c8-ee70-4987-f3b8-45ae7b8856c6"
      },
      "source": [
        "gastos_por_ano.head()"
      ],
      "execution_count": 5,
      "outputs": [
        {
          "output_type": "execute_result",
          "data": {
            "text/html": [
              "<div>\n",
              "<style scoped>\n",
              "    .dataframe tbody tr th:only-of-type {\n",
              "        vertical-align: middle;\n",
              "    }\n",
              "\n",
              "    .dataframe tbody tr th {\n",
              "        vertical-align: top;\n",
              "    }\n",
              "\n",
              "    .dataframe thead th {\n",
              "        text-align: right;\n",
              "    }\n",
              "</style>\n",
              "<table border=\"1\" class=\"dataframe\">\n",
              "  <thead>\n",
              "    <tr style=\"text-align: right;\">\n",
              "      <th></th>\n",
              "      <th>gasto</th>\n",
              "      <th>mes</th>\n",
              "      <th>gasto_diario</th>\n",
              "    </tr>\n",
              "    <tr>\n",
              "      <th>ano</th>\n",
              "      <th></th>\n",
              "      <th></th>\n",
              "      <th></th>\n",
              "    </tr>\n",
              "  </thead>\n",
              "  <tbody>\n",
              "    <tr>\n",
              "      <th>2008</th>\n",
              "      <td>1960.23</td>\n",
              "      <td>77</td>\n",
              "      <td>64.60</td>\n",
              "    </tr>\n",
              "    <tr>\n",
              "      <th>2009</th>\n",
              "      <td>2489.03</td>\n",
              "      <td>78</td>\n",
              "      <td>81.82</td>\n",
              "    </tr>\n",
              "    <tr>\n",
              "      <th>2010</th>\n",
              "      <td>2696.62</td>\n",
              "      <td>78</td>\n",
              "      <td>88.63</td>\n",
              "    </tr>\n",
              "    <tr>\n",
              "      <th>2011</th>\n",
              "      <td>2794.55</td>\n",
              "      <td>78</td>\n",
              "      <td>91.91</td>\n",
              "    </tr>\n",
              "    <tr>\n",
              "      <th>2012</th>\n",
              "      <td>2873.97</td>\n",
              "      <td>78</td>\n",
              "      <td>94.47</td>\n",
              "    </tr>\n",
              "  </tbody>\n",
              "</table>\n",
              "</div>"
            ],
            "text/plain": [
              "       gasto  mes  gasto_diario\n",
              "ano                            \n",
              "2008 1960.23   77         64.60\n",
              "2009 2489.03   78         81.82\n",
              "2010 2696.62   78         88.63\n",
              "2011 2794.55   78         91.91\n",
              "2012 2873.97   78         94.47"
            ]
          },
          "metadata": {
            "tags": []
          },
          "execution_count": 5
        }
      ]
    },
    {
      "cell_type": "code",
      "metadata": {
        "colab": {
          "base_uri": "https://localhost:8080/",
          "height": 296
        },
        "id": "2ygOtHhzF9Lh",
        "outputId": "6d273c86-081e-49db-8b57-9182f52c67b6"
      },
      "source": [
        "sns.lineplot(data = gastos_por_ano, x = gastos_por_ano.index, y = \"gasto\")\n",
        "# arrumar limite"
      ],
      "execution_count": 10,
      "outputs": [
        {
          "output_type": "execute_result",
          "data": {
            "text/plain": [
              "<matplotlib.axes._subplots.AxesSubplot at 0x7f20eeef1850>"
            ]
          },
          "metadata": {
            "tags": []
          },
          "execution_count": 10
        },
        {
          "output_type": "display_data",
          "data": {
            "image/png": "[encoded data removed]",
            "text/plain": [
              "<Figure size 432x288 with 1 Axes>"
            ]
          },
          "metadata": {
            "tags": [],
            "needs_background": "light"
          }
        }
      ]
    },
    {
      "cell_type": "code",
      "metadata": {
        "colab": {
          "base_uri": "https://localhost:8080/",
          "height": 296
        },
        "id": "mZ5ELi4IGo3L",
        "outputId": "6965d644-ba06-4b18-b71d-9b383154fb0d"
      },
      "source": [
        "sns.barplot(data = gastos_por_ano, x = gastos_por_ano.index, y = \"gasto\", \n",
        "            palette = sns.color_palette(\"rocket_r\", 13))"
      ],
      "execution_count": 15,
      "outputs": [
        {
          "output_type": "execute_result",
          "data": {
            "text/plain": [
              "<matplotlib.axes._subplots.AxesSubplot at 0x7f20ee345ad0>"
            ]
          },
          "metadata": {
            "tags": []
          },
          "execution_count": 15
        },
        {
          "output_type": "display_data",
          "data": {
            "image/png": "[encoded data removed]",
            "text/plain": [
              "<Figure size 432x288 with 1 Axes>"
            ]
          },
          "metadata": {
            "tags": [],
            "needs_background": "light"
          }
        }
      ]
    },
    {
      "cell_type": "markdown",
      "metadata": {
        "id": "T1qAL6IVJPEw"
      },
      "source": [
        "## Desafio: tom de cor ordenado PELO VALOR\n",
        "\"A cor passa uma mensagem nova ou reforça uma mensagem que queremos reforçar\""
      ]
    },
    {
      "cell_type": "code",
      "metadata": {
        "id": "r_rzDrHIJTp-"
      },
      "source": [
        "estados = [\"São Paulo\", \"Minas Gerais\", \"Pernambuco\"]\n",
        "estados_por_ano = mensal_aberto.query(\"uf in @estados\").groupby([\"uf\", \"ano\"]).sum().reset_index()"
      ],
      "execution_count": 18,
      "outputs": []
    },
    {
      "cell_type": "code",
      "metadata": {
        "colab": {
          "base_uri": "https://localhost:8080/",
          "height": 201
        },
        "id": "ESgYnzqRK1ei",
        "outputId": "05d429cb-4319-421a-fa9f-2b51742e97d3"
      },
      "source": [
        "estados_por_ano.head()"
      ],
      "execution_count": 19,
      "outputs": [
        {
          "output_type": "execute_result",
          "data": {
            "text/html": [
              "<div>\n",
              "<style scoped>\n",
              "    .dataframe tbody tr th:only-of-type {\n",
              "        vertical-align: middle;\n",
              "    }\n",
              "\n",
              "    .dataframe tbody tr th {\n",
              "        vertical-align: top;\n",
              "    }\n",
              "\n",
              "    .dataframe thead th {\n",
              "        text-align: right;\n",
              "    }\n",
              "</style>\n",
              "<table border=\"1\" class=\"dataframe\">\n",
              "  <thead>\n",
              "    <tr style=\"text-align: right;\">\n",
              "      <th></th>\n",
              "      <th>uf</th>\n",
              "      <th>ano</th>\n",
              "      <th>gasto</th>\n",
              "      <th>mes</th>\n",
              "      <th>gasto_diario</th>\n",
              "    </tr>\n",
              "  </thead>\n",
              "  <tbody>\n",
              "    <tr>\n",
              "      <th>0</th>\n",
              "      <td>Minas Gerais</td>\n",
              "      <td>2008</td>\n",
              "      <td>894.35</td>\n",
              "      <td>77</td>\n",
              "      <td>29.44</td>\n",
              "    </tr>\n",
              "    <tr>\n",
              "      <th>1</th>\n",
              "      <td>Minas Gerais</td>\n",
              "      <td>2009</td>\n",
              "      <td>1149.14</td>\n",
              "      <td>78</td>\n",
              "      <td>37.77</td>\n",
              "    </tr>\n",
              "    <tr>\n",
              "      <th>2</th>\n",
              "      <td>Minas Gerais</td>\n",
              "      <td>2010</td>\n",
              "      <td>1217.49</td>\n",
              "      <td>78</td>\n",
              "      <td>40.03</td>\n",
              "    </tr>\n",
              "    <tr>\n",
              "      <th>3</th>\n",
              "      <td>Minas Gerais</td>\n",
              "      <td>2011</td>\n",
              "      <td>1315.02</td>\n",
              "      <td>78</td>\n",
              "      <td>43.24</td>\n",
              "    </tr>\n",
              "    <tr>\n",
              "      <th>4</th>\n",
              "      <td>Minas Gerais</td>\n",
              "      <td>2012</td>\n",
              "      <td>1408.35</td>\n",
              "      <td>78</td>\n",
              "      <td>46.29</td>\n",
              "    </tr>\n",
              "  </tbody>\n",
              "</table>\n",
              "</div>"
            ],
            "text/plain": [
              "             uf   ano   gasto  mes  gasto_diario\n",
              "0  Minas Gerais  2008  894.35   77         29.44\n",
              "1  Minas Gerais  2009 1149.14   78         37.77\n",
              "2  Minas Gerais  2010 1217.49   78         40.03\n",
              "3  Minas Gerais  2011 1315.02   78         43.24\n",
              "4  Minas Gerais  2012 1408.35   78         46.29"
            ]
          },
          "metadata": {
            "tags": []
          },
          "execution_count": 19
        }
      ]
    },
    {
      "cell_type": "code",
      "metadata": {
        "colab": {
          "base_uri": "https://localhost:8080/",
          "height": 296
        },
        "id": "33KtcGtEK5mu",
        "outputId": "9a911cf8-4a3f-4cd6-e759-2bc477ba31db"
      },
      "source": [
        "sns.barplot(data = estados_por_ano, x = \"ano\", y = \"gasto\", hue = \"uf\")"
      ],
      "execution_count": 23,
      "outputs": [
        {
          "output_type": "execute_result",
          "data": {
            "text/plain": [
              "<matplotlib.axes._subplots.AxesSubplot at 0x7f20e9776f90>"
            ]
          },
          "metadata": {
            "tags": []
          },
          "execution_count": 23
        },
        {
          "output_type": "display_data",
          "data": {
            "image/png": "[encoded data removed]",
            "text/plain": [
              "<Figure size 432x288 with 1 Axes>"
            ]
          },
          "metadata": {
            "tags": [],
            "needs_background": "light"
          }
        }
      ]
    },
    {
      "cell_type": "code",
      "metadata": {
        "colab": {
          "base_uri": "https://localhost:8080/",
          "height": 296
        },
        "id": "TMrTTw0DL3Qn",
        "outputId": "11df6d10-edd7-4260-fb64-49357a0e85d0"
      },
      "source": [
        "sns.lineplot(data = estados_por_ano, x = \"ano\", y = \"gasto\", hue = \"uf\")"
      ],
      "execution_count": 27,
      "outputs": [
        {
          "output_type": "execute_result",
          "data": {
            "text/plain": [
              "<matplotlib.axes._subplots.AxesSubplot at 0x7f20e078be50>"
            ]
          },
          "metadata": {
            "tags": []
          },
          "execution_count": 27
        },
        {
          "output_type": "display_data",
          "data": {
            "image/png": "[encoded data removed]",
            "text/plain": [
              "<Figure size 432x288 with 1 Axes>"
            ]
          },
          "metadata": {
            "tags": [],
            "needs_background": "light"
          }
        }
      ]
    },
    {
      "cell_type": "code",
      "metadata": {
        "colab": {
          "base_uri": "https://localhost:8080/",
          "height": 400
        },
        "id": "ufOg9TP8Livk",
        "outputId": "f44e0811-0ed1-4f3a-8e48-04e3163063f5"
      },
      "source": [
        "sns.catplot(data = estados_por_ano, x = \"ano\", y = \"gasto\", kind = \"bar\", col = \"uf\")"
      ],
      "execution_count": 25,
      "outputs": [
        {
          "output_type": "execute_result",
          "data": {
            "text/plain": [
              "<seaborn.axisgrid.FacetGrid at 0x7f20e0baac50>"
            ]
          },
          "metadata": {
            "tags": []
          },
          "execution_count": 25
        },
        {
          "output_type": "display_data",
          "data": {
            "image/png": "[encoded data removed]",
            "text/plain": [
              "<Figure size 1080x360 with 3 Axes>"
            ]
          },
          "metadata": {
            "tags": [],
            "needs_background": "light"
          }
        }
      ]
    },
    {
      "cell_type": "code",
      "metadata": {
        "colab": {
          "base_uri": "https://localhost:8080/",
          "height": 1000
        },
        "id": "3vwUpocOMD05",
        "outputId": "3af878a5-1f17-4d81-b03f-68c17d9f757b"
      },
      "source": [
        "sns.catplot(data = estados_por_ano, x = \"ano\", y = \"gasto\", kind = \"bar\", row = \"uf\")"
      ],
      "execution_count": 29,
      "outputs": [
        {
          "output_type": "execute_result",
          "data": {
            "text/plain": [
              "<seaborn.axisgrid.FacetGrid at 0x7f20e0514910>"
            ]
          },
          "metadata": {
            "tags": []
          },
          "execution_count": 29
        },
        {
          "output_type": "display_data",
          "data": {
            "image/png": "[encoded data removed]",
            "text/plain": [
              "<Figure size 360x1080 with 3 Axes>"
            ]
          },
          "metadata": {
            "tags": [],
            "needs_background": "light"
          }
        }
      ]
    }
  ]
}