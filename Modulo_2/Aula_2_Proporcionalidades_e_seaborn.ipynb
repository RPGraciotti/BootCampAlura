{
  "nbformat": 4,
  "nbformat_minor": 0,
  "metadata": {
    "colab": {
      "name": "Aula_2_Proporcionalidades_e_seaborn.ipynb",
      "provenance": [],
      "authorship_tag": "ABX9TyP0S8ukHuMZ7v50/n2scMOP",
      "include_colab_link": true
    },
    "kernelspec": {
      "name": "python3",
      "display_name": "Python 3"
    },
    "language_info": {
      "name": "python"
    }
  },
  "cells": [
    {
      "cell_type": "markdown",
      "metadata": {
        "id": "view-in-github",
        "colab_type": "text"
      },
      "source": [
        "<a href=\"https://colab.research.google.com/github/RPGraciotti/BootCampAlura/blob/main/Modulo_2/Aula_2_Proporcionalidades_e_seaborn.ipynb\" target=\"_parent\"><img src=\"https://colab.research.google.com/assets/colab-badge.svg\" alt=\"Open In Colab\"/></a>"
      ]
    },
    {
      "cell_type": "markdown",
      "metadata": {
        "id": "GZdRj5k3hRBA"
      },
      "source": [
        "# Aula 2"
      ]
    },
    {
      "cell_type": "markdown",
      "metadata": {
        "id": "ItD45yf9hVOY"
      },
      "source": [
        "## Preparando conteúdo anterior"
      ]
    },
    {
      "cell_type": "code",
      "metadata": {
        "colab": {
          "base_uri": "https://localhost:8080/",
          "height": 870
        },
        "id": "q8-ozEADYBK3",
        "outputId": "04d0fad7-b22f-4130-aea5-8bde55489fb2"
      },
      "source": [
        "import pandas as pd\n",
        "import matplotlib.pyplot as plt\n",
        "import matplotlib.ticker as ticker\n",
        "import numpy as np\n",
        "\n",
        "df = pd.read_csv(\"https://raw.githubusercontent.com/RPGraciotti/agendamento-hospitalar/main/dados/A160324189_28_143_208.csv\", encoding = \"ISO-8859-1\",\n",
        "                 skiprows = 3, sep = \";\", skipfooter = 12,\n",
        "                 thousands = \".\", decimal = \",\", engine = \"python\")\n",
        "pd.options.display.float_format = \"{:.2f}\".format\n",
        "use_col = df.mean().index.tolist()\n",
        "use_col.insert(0, \"Unidade da Federação\")\n",
        "use = df.loc[:,use_col]\n",
        "use = use.set_index(\"Unidade da Federação\")\n",
        "use.sort_values(by = \"Total\") # crescente\n",
        "total_ord = use.sort_values(by = \"Total\", ascending = False) # decrescente\n",
        "total_ord = total_ord.drop(\"Total\", axis = 1)\n",
        "main_cols = total_ord.columns[6:]\n",
        "total_ord = total_ord[main_cols]\n",
        "total_ord = total_ord/1000000\n",
        "total_ord.index = total_ord.index.str[3:] # Matar esse problema aqui de vez\n",
        "ultimo_mes = total_ord.columns[-1]\n",
        "gastos_ultimo_mes = total_ord[ultimo_mes]\n",
        "gastos_prop_estado = gastos_ultimo_mes / gastos_ultimo_mes.sum()\n",
        "tabelas_wiki = pd.read_html(\"https://pt.wikipedia.org/wiki/Lista_de_unidades_federativas_do_Brasil_por_popula%C3%A7%C3%A3o\")\n",
        "dados_populacao_raw = tabelas_wiki[0]\n",
        "dados_populacao_raw"
      ],
      "execution_count": 1,
      "outputs": [
        {
          "output_type": "execute_result",
          "data": {
            "text/html": [
              "<div>\n",
              "<style scoped>\n",
              "    .dataframe tbody tr th:only-of-type {\n",
              "        vertical-align: middle;\n",
              "    }\n",
              "\n",
              "    .dataframe tbody tr th {\n",
              "        vertical-align: top;\n",
              "    }\n",
              "\n",
              "    .dataframe thead th {\n",
              "        text-align: right;\n",
              "    }\n",
              "</style>\n",
              "<table border=\"1\" class=\"dataframe\">\n",
              "  <thead>\n",
              "    <tr style=\"text-align: right;\">\n",
              "      <th></th>\n",
              "      <th>Posição</th>\n",
              "      <th>Unidade federativa</th>\n",
              "      <th>População</th>\n",
              "      <th>% da pop. total</th>\n",
              "      <th>País comparável (habitantes)</th>\n",
              "    </tr>\n",
              "  </thead>\n",
              "  <tbody>\n",
              "    <tr>\n",
              "      <th>0</th>\n",
              "      <td>1</td>\n",
              "      <td>São Paulo</td>\n",
              "      <td>46 289 333</td>\n",
              "      <td>21,9%</td>\n",
              "      <td>Espanha (46 439 864)</td>\n",
              "    </tr>\n",
              "    <tr>\n",
              "      <th>1</th>\n",
              "      <td>2</td>\n",
              "      <td>Minas Gerais</td>\n",
              "      <td>21 292 666</td>\n",
              "      <td>10,1%</td>\n",
              "      <td>Sri Lanka (20 675 000)</td>\n",
              "    </tr>\n",
              "    <tr>\n",
              "      <th>2</th>\n",
              "      <td>3</td>\n",
              "      <td>Rio de Janeiro</td>\n",
              "      <td>17 366 189</td>\n",
              "      <td>8,2%</td>\n",
              "      <td>Países Baixos (16 922 900)</td>\n",
              "    </tr>\n",
              "    <tr>\n",
              "      <th>3</th>\n",
              "      <td>4</td>\n",
              "      <td>Bahia</td>\n",
              "      <td>14 930 634</td>\n",
              "      <td>7,1%</td>\n",
              "      <td>Chade (14 037 000)</td>\n",
              "    </tr>\n",
              "    <tr>\n",
              "      <th>4</th>\n",
              "      <td>5</td>\n",
              "      <td>Paraná</td>\n",
              "      <td>11 516 840</td>\n",
              "      <td>5,4%</td>\n",
              "      <td>Bolívia (11 410 651)</td>\n",
              "    </tr>\n",
              "    <tr>\n",
              "      <th>5</th>\n",
              "      <td>6</td>\n",
              "      <td>Rio Grande do Sul</td>\n",
              "      <td>11 422 973</td>\n",
              "      <td>5,4%</td>\n",
              "      <td>Bélgica (11 250 659)</td>\n",
              "    </tr>\n",
              "    <tr>\n",
              "      <th>6</th>\n",
              "      <td>7</td>\n",
              "      <td>Pernambuco</td>\n",
              "      <td>9 616 621</td>\n",
              "      <td>4,5%</td>\n",
              "      <td>Bielorrússia (9 485 300)</td>\n",
              "    </tr>\n",
              "    <tr>\n",
              "      <th>7</th>\n",
              "      <td>8</td>\n",
              "      <td>Ceará</td>\n",
              "      <td>9 187 103</td>\n",
              "      <td>4,3%</td>\n",
              "      <td>Emirados Árabes Unidos (9 157 000)</td>\n",
              "    </tr>\n",
              "    <tr>\n",
              "      <th>8</th>\n",
              "      <td>9</td>\n",
              "      <td>Pará</td>\n",
              "      <td>8 690 745</td>\n",
              "      <td>4,1%</td>\n",
              "      <td>Áustria (8 602 112)</td>\n",
              "    </tr>\n",
              "    <tr>\n",
              "      <th>9</th>\n",
              "      <td>10</td>\n",
              "      <td>Santa Catarina</td>\n",
              "      <td>7 252 502</td>\n",
              "      <td>3,4%</td>\n",
              "      <td>Sérvia (7 114 393)</td>\n",
              "    </tr>\n",
              "    <tr>\n",
              "      <th>10</th>\n",
              "      <td>11</td>\n",
              "      <td>Maranhão</td>\n",
              "      <td>7 114 598</td>\n",
              "      <td>3,4%</td>\n",
              "      <td>Paraguai (7 003 406)</td>\n",
              "    </tr>\n",
              "    <tr>\n",
              "      <th>11</th>\n",
              "      <td>12</td>\n",
              "      <td>Goiás</td>\n",
              "      <td>7 113 540</td>\n",
              "      <td>3,4%</td>\n",
              "      <td>Paraguai (7 003 406)</td>\n",
              "    </tr>\n",
              "    <tr>\n",
              "      <th>12</th>\n",
              "      <td>13</td>\n",
              "      <td>Amazonas</td>\n",
              "      <td>4 207 714</td>\n",
              "      <td>2,0%</td>\n",
              "      <td>Líbano (4 168 000)</td>\n",
              "    </tr>\n",
              "    <tr>\n",
              "      <th>13</th>\n",
              "      <td>14</td>\n",
              "      <td>Espírito Santo</td>\n",
              "      <td>4 064 052</td>\n",
              "      <td>1,9%</td>\n",
              "      <td>Líbano (4 168 000)</td>\n",
              "    </tr>\n",
              "    <tr>\n",
              "      <th>14</th>\n",
              "      <td>15</td>\n",
              "      <td>Paraíba</td>\n",
              "      <td>4 039 277</td>\n",
              "      <td>1,9%</td>\n",
              "      <td>Líbano (4 168 000)</td>\n",
              "    </tr>\n",
              "    <tr>\n",
              "      <th>15</th>\n",
              "      <td>16</td>\n",
              "      <td>Rio Grande do Norte</td>\n",
              "      <td>3 534 165</td>\n",
              "      <td>1,7%</td>\n",
              "      <td>Uruguai (3 415 866)</td>\n",
              "    </tr>\n",
              "    <tr>\n",
              "      <th>16</th>\n",
              "      <td>17</td>\n",
              "      <td>Mato Grosso</td>\n",
              "      <td>3 526 220</td>\n",
              "      <td>1,7%</td>\n",
              "      <td>Uruguai (3 415 866)</td>\n",
              "    </tr>\n",
              "    <tr>\n",
              "      <th>17</th>\n",
              "      <td>18</td>\n",
              "      <td>Alagoas</td>\n",
              "      <td>3 351 543</td>\n",
              "      <td>1,6%</td>\n",
              "      <td>Uruguai (3 415 866)</td>\n",
              "    </tr>\n",
              "    <tr>\n",
              "      <th>18</th>\n",
              "      <td>19</td>\n",
              "      <td>Piauí</td>\n",
              "      <td>3 281 480</td>\n",
              "      <td>1,6%</td>\n",
              "      <td>Kuwait (3 268 431)</td>\n",
              "    </tr>\n",
              "    <tr>\n",
              "      <th>19</th>\n",
              "      <td>20</td>\n",
              "      <td>Distrito Federal</td>\n",
              "      <td>3 055 149</td>\n",
              "      <td>1,4%</td>\n",
              "      <td>Lituânia (2 900 787)</td>\n",
              "    </tr>\n",
              "    <tr>\n",
              "      <th>20</th>\n",
              "      <td>21</td>\n",
              "      <td>Mato Grosso do Sul</td>\n",
              "      <td>2 809 394</td>\n",
              "      <td>1,3%</td>\n",
              "      <td>Jamaica (2 717 991)</td>\n",
              "    </tr>\n",
              "    <tr>\n",
              "      <th>21</th>\n",
              "      <td>22</td>\n",
              "      <td>Sergipe</td>\n",
              "      <td>2 318 822</td>\n",
              "      <td>1,1%</td>\n",
              "      <td>Namíbia (2 280 700)</td>\n",
              "    </tr>\n",
              "    <tr>\n",
              "      <th>22</th>\n",
              "      <td>23</td>\n",
              "      <td>Rondônia</td>\n",
              "      <td>1 796 460</td>\n",
              "      <td>0,8%</td>\n",
              "      <td>Gabão (1 725 000)</td>\n",
              "    </tr>\n",
              "    <tr>\n",
              "      <th>23</th>\n",
              "      <td>24</td>\n",
              "      <td>Tocantins</td>\n",
              "      <td>1 590 248</td>\n",
              "      <td>0,7%</td>\n",
              "      <td>Bahrein (1 359 800)</td>\n",
              "    </tr>\n",
              "    <tr>\n",
              "      <th>24</th>\n",
              "      <td>25</td>\n",
              "      <td>Acre</td>\n",
              "      <td>894 470</td>\n",
              "      <td>0,4%</td>\n",
              "      <td>Fiji (859 178)</td>\n",
              "    </tr>\n",
              "    <tr>\n",
              "      <th>25</th>\n",
              "      <td>26</td>\n",
              "      <td>Amapá</td>\n",
              "      <td>861 773</td>\n",
              "      <td>0,4%</td>\n",
              "      <td>Fiji (859 178)</td>\n",
              "    </tr>\n",
              "    <tr>\n",
              "      <th>26</th>\n",
              "      <td>27</td>\n",
              "      <td>Roraima</td>\n",
              "      <td>631 181</td>\n",
              "      <td>0,3%</td>\n",
              "      <td>Luxemburgo (562 958)</td>\n",
              "    </tr>\n",
              "  </tbody>\n",
              "</table>\n",
              "</div>"
            ],
            "text/plain": [
              "    Posição  ...        País comparável (habitantes)\n",
              "0         1  ...                Espanha (46 439 864)\n",
              "1         2  ...              Sri Lanka (20 675 000)\n",
              "2         3  ...          Países Baixos (16 922 900)\n",
              "3         4  ...                  Chade (14 037 000)\n",
              "4         5  ...                Bolívia (11 410 651)\n",
              "5         6  ...                Bélgica (11 250 659)\n",
              "6         7  ...            Bielorrússia (9 485 300)\n",
              "7         8  ...  Emirados Árabes Unidos (9 157 000)\n",
              "8         9  ...                 Áustria (8 602 112)\n",
              "9        10  ...                  Sérvia (7 114 393)\n",
              "10       11  ...                Paraguai (7 003 406)\n",
              "11       12  ...                Paraguai (7 003 406)\n",
              "12       13  ...                  Líbano (4 168 000)\n",
              "13       14  ...                  Líbano (4 168 000)\n",
              "14       15  ...                  Líbano (4 168 000)\n",
              "15       16  ...                 Uruguai (3 415 866)\n",
              "16       17  ...                 Uruguai (3 415 866)\n",
              "17       18  ...                 Uruguai (3 415 866)\n",
              "18       19  ...                  Kuwait (3 268 431)\n",
              "19       20  ...                Lituânia (2 900 787)\n",
              "20       21  ...                 Jamaica (2 717 991)\n",
              "21       22  ...                 Namíbia (2 280 700)\n",
              "22       23  ...                   Gabão (1 725 000)\n",
              "23       24  ...                 Bahrein (1 359 800)\n",
              "24       25  ...                      Fiji (859 178)\n",
              "25       26  ...                      Fiji (859 178)\n",
              "26       27  ...                Luxemburgo (562 958)\n",
              "\n",
              "[27 rows x 5 columns]"
            ]
          },
          "metadata": {
            "tags": []
          },
          "execution_count": 1
        }
      ]
    },
    {
      "cell_type": "code",
      "metadata": {
        "id": "Z3WNaxK3YnqI"
      },
      "source": [
        "def limpeza(df1, df2):\n",
        "  \"\"\"limpeza, tratamento e join de dados\"\"\"\n",
        "  df1 = df1.dropna().copy()\n",
        "  df1.columns = [\"posicao\", \"uf\", \"populacao\", \"porc\", \"pais\"]\n",
        "  df1.loc[:,\"populacao\"] = pd.to_numeric(df1.loc[:,\"populacao\"].str.replace(\" \",\"\"))\n",
        "  df1 = df1.loc[:,[\"populacao\", \"uf\"]]\n",
        "  df1 = df1.set_index(\"uf\")\n",
        "  df1.index = df1.index.str.strip()\n",
        "\n",
        "  for i in df2.index:\n",
        "    df1.index = df1.index.str.replace(f\"{i} {i}\", i)\n",
        "\n",
        "  return df1.join(df2)"
      ],
      "execution_count": 2,
      "outputs": []
    },
    {
      "cell_type": "code",
      "metadata": {
        "colab": {
          "base_uri": "https://localhost:8080/",
          "height": 901
        },
        "id": "7Nk1j_n3YoPX",
        "outputId": "977a1fc4-d2ae-4e32-9465-178d1c53b9bf"
      },
      "source": [
        "gastos_e_populacao_recente = limpeza(dados_populacao_raw, gastos_ultimo_mes)\n",
        "gastos_e_populacao_recente"
      ],
      "execution_count": 3,
      "outputs": [
        {
          "output_type": "execute_result",
          "data": {
            "text/html": [
              "<div>\n",
              "<style scoped>\n",
              "    .dataframe tbody tr th:only-of-type {\n",
              "        vertical-align: middle;\n",
              "    }\n",
              "\n",
              "    .dataframe tbody tr th {\n",
              "        vertical-align: top;\n",
              "    }\n",
              "\n",
              "    .dataframe thead th {\n",
              "        text-align: right;\n",
              "    }\n",
              "</style>\n",
              "<table border=\"1\" class=\"dataframe\">\n",
              "  <thead>\n",
              "    <tr style=\"text-align: right;\">\n",
              "      <th></th>\n",
              "      <th>populacao</th>\n",
              "      <th>2020/Jul</th>\n",
              "    </tr>\n",
              "    <tr>\n",
              "      <th>uf</th>\n",
              "      <th></th>\n",
              "      <th></th>\n",
              "    </tr>\n",
              "  </thead>\n",
              "  <tbody>\n",
              "    <tr>\n",
              "      <th>São Paulo</th>\n",
              "      <td>46289333</td>\n",
              "      <td>282.71</td>\n",
              "    </tr>\n",
              "    <tr>\n",
              "      <th>Minas Gerais</th>\n",
              "      <td>21292666</td>\n",
              "      <td>120.47</td>\n",
              "    </tr>\n",
              "    <tr>\n",
              "      <th>Rio de Janeiro</th>\n",
              "      <td>17366189</td>\n",
              "      <td>71.54</td>\n",
              "    </tr>\n",
              "    <tr>\n",
              "      <th>Bahia</th>\n",
              "      <td>14930634</td>\n",
              "      <td>58.90</td>\n",
              "    </tr>\n",
              "    <tr>\n",
              "      <th>Paraná</th>\n",
              "      <td>11516840</td>\n",
              "      <td>80.32</td>\n",
              "    </tr>\n",
              "    <tr>\n",
              "      <th>Rio Grande do Sul</th>\n",
              "      <td>11422973</td>\n",
              "      <td>78.93</td>\n",
              "    </tr>\n",
              "    <tr>\n",
              "      <th>Pernambuco</th>\n",
              "      <td>9616621</td>\n",
              "      <td>62.33</td>\n",
              "    </tr>\n",
              "    <tr>\n",
              "      <th>Ceará</th>\n",
              "      <td>9187103</td>\n",
              "      <td>30.81</td>\n",
              "    </tr>\n",
              "    <tr>\n",
              "      <th>Pará</th>\n",
              "      <td>8690745</td>\n",
              "      <td>27.62</td>\n",
              "    </tr>\n",
              "    <tr>\n",
              "      <th>Santa Catarina</th>\n",
              "      <td>7252502</td>\n",
              "      <td>51.76</td>\n",
              "    </tr>\n",
              "    <tr>\n",
              "      <th>Maranhão</th>\n",
              "      <td>7114598</td>\n",
              "      <td>24.37</td>\n",
              "    </tr>\n",
              "    <tr>\n",
              "      <th>Goiás</th>\n",
              "      <td>7113540</td>\n",
              "      <td>33.50</td>\n",
              "    </tr>\n",
              "    <tr>\n",
              "      <th>Amazonas</th>\n",
              "      <td>4207714</td>\n",
              "      <td>13.36</td>\n",
              "    </tr>\n",
              "    <tr>\n",
              "      <th>Espírito Santo</th>\n",
              "      <td>4064052</td>\n",
              "      <td>27.46</td>\n",
              "    </tr>\n",
              "    <tr>\n",
              "      <th>Paraíba</th>\n",
              "      <td>4039277</td>\n",
              "      <td>15.49</td>\n",
              "    </tr>\n",
              "    <tr>\n",
              "      <th>Rio Grande do Norte</th>\n",
              "      <td>3534165</td>\n",
              "      <td>19.59</td>\n",
              "    </tr>\n",
              "    <tr>\n",
              "      <th>Mato Grosso</th>\n",
              "      <td>3526220</td>\n",
              "      <td>13.08</td>\n",
              "    </tr>\n",
              "    <tr>\n",
              "      <th>Alagoas</th>\n",
              "      <td>3351543</td>\n",
              "      <td>13.09</td>\n",
              "    </tr>\n",
              "    <tr>\n",
              "      <th>Piauí</th>\n",
              "      <td>3281480</td>\n",
              "      <td>18.02</td>\n",
              "    </tr>\n",
              "    <tr>\n",
              "      <th>Distrito Federal</th>\n",
              "      <td>3055149</td>\n",
              "      <td>22.23</td>\n",
              "    </tr>\n",
              "    <tr>\n",
              "      <th>Mato Grosso do Sul</th>\n",
              "      <td>2809394</td>\n",
              "      <td>12.51</td>\n",
              "    </tr>\n",
              "    <tr>\n",
              "      <th>Sergipe</th>\n",
              "      <td>2318822</td>\n",
              "      <td>3.31</td>\n",
              "    </tr>\n",
              "    <tr>\n",
              "      <th>Rondônia</th>\n",
              "      <td>1796460</td>\n",
              "      <td>7.41</td>\n",
              "    </tr>\n",
              "    <tr>\n",
              "      <th>Tocantins</th>\n",
              "      <td>1590248</td>\n",
              "      <td>4.49</td>\n",
              "    </tr>\n",
              "    <tr>\n",
              "      <th>Acre</th>\n",
              "      <td>894470</td>\n",
              "      <td>1.16</td>\n",
              "    </tr>\n",
              "    <tr>\n",
              "      <th>Amapá</th>\n",
              "      <td>861773</td>\n",
              "      <td>2.16</td>\n",
              "    </tr>\n",
              "    <tr>\n",
              "      <th>Roraima</th>\n",
              "      <td>631181</td>\n",
              "      <td>2.74</td>\n",
              "    </tr>\n",
              "  </tbody>\n",
              "</table>\n",
              "</div>"
            ],
            "text/plain": [
              "                     populacao  2020/Jul\n",
              "uf                                      \n",
              "São Paulo             46289333    282.71\n",
              "Minas Gerais          21292666    120.47\n",
              "Rio de Janeiro        17366189     71.54\n",
              "Bahia                 14930634     58.90\n",
              "Paraná                11516840     80.32\n",
              "Rio Grande do Sul     11422973     78.93\n",
              "Pernambuco             9616621     62.33\n",
              "Ceará                  9187103     30.81\n",
              "Pará                   8690745     27.62\n",
              "Santa Catarina         7252502     51.76\n",
              "Maranhão               7114598     24.37\n",
              "Goiás                  7113540     33.50\n",
              "Amazonas               4207714     13.36\n",
              "Espírito Santo         4064052     27.46\n",
              "Paraíba                4039277     15.49\n",
              "Rio Grande do Norte    3534165     19.59\n",
              "Mato Grosso            3526220     13.08\n",
              "Alagoas                3351543     13.09\n",
              "Piauí                  3281480     18.02\n",
              "Distrito Federal       3055149     22.23\n",
              "Mato Grosso do Sul     2809394     12.51\n",
              "Sergipe                2318822      3.31\n",
              "Rondônia               1796460      7.41\n",
              "Tocantins              1590248      4.49\n",
              "Acre                    894470      1.16\n",
              "Amapá                   861773      2.16\n",
              "Roraima                 631181      2.74"
            ]
          },
          "metadata": {
            "tags": []
          },
          "execution_count": 3
        }
      ]
    },
    {
      "cell_type": "markdown",
      "metadata": {
        "id": "sc_aMKv1hZTb"
      },
      "source": [
        "## Seguindo aula"
      ]
    },
    {
      "cell_type": "code",
      "metadata": {
        "colab": {
          "base_uri": "https://localhost:8080/",
          "height": 418
        },
        "id": "ANHVFhNOY6Cj",
        "outputId": "cb5dea41-7d16-49f6-fdf0-26e5398f6ea5"
      },
      "source": [
        "### Gráfico feio e horroroso, horripilante:\n",
        "gastos_e_populacao_recente.loc[:,\"gastos\"] = gastos_e_populacao_recente.loc[:,\"2020/Jul\"] * 1000000\n",
        "gastos_e_populacao_recente.loc[:,[\"gastos\", \"populacao\"]].plot(figsize = (10, 6))"
      ],
      "execution_count": 4,
      "outputs": [
        {
          "output_type": "execute_result",
          "data": {
            "text/plain": [
              "<matplotlib.axes._subplots.AxesSubplot at 0x7f842becc410>"
            ]
          },
          "metadata": {
            "tags": []
          },
          "execution_count": 4
        },
        {
          "output_type": "display_data",
          "data": {
            "image/png": "[encoded data removed]",
            "text/plain": [
              "<Figure size 720x432 with 1 Axes>"
            ]
          },
          "metadata": {
            "tags": [],
            "needs_background": "light"
          }
        }
      ]
    },
    {
      "cell_type": "code",
      "metadata": {
        "colab": {
          "base_uri": "https://localhost:8080/",
          "height": 140
        },
        "id": "87Djc_5geTH-",
        "outputId": "dffe5afc-eb88-4ca2-f8bc-822183d0d30c"
      },
      "source": [
        "gastos_e_populacao_recente.loc[[\"Rio Grande do Sul\", \"São Paulo\"]]"
      ],
      "execution_count": 5,
      "outputs": [
        {
          "output_type": "execute_result",
          "data": {
            "text/html": [
              "<div>\n",
              "<style scoped>\n",
              "    .dataframe tbody tr th:only-of-type {\n",
              "        vertical-align: middle;\n",
              "    }\n",
              "\n",
              "    .dataframe tbody tr th {\n",
              "        vertical-align: top;\n",
              "    }\n",
              "\n",
              "    .dataframe thead th {\n",
              "        text-align: right;\n",
              "    }\n",
              "</style>\n",
              "<table border=\"1\" class=\"dataframe\">\n",
              "  <thead>\n",
              "    <tr style=\"text-align: right;\">\n",
              "      <th></th>\n",
              "      <th>populacao</th>\n",
              "      <th>2020/Jul</th>\n",
              "      <th>gastos</th>\n",
              "    </tr>\n",
              "    <tr>\n",
              "      <th>uf</th>\n",
              "      <th></th>\n",
              "      <th></th>\n",
              "      <th></th>\n",
              "    </tr>\n",
              "  </thead>\n",
              "  <tbody>\n",
              "    <tr>\n",
              "      <th>Rio Grande do Sul</th>\n",
              "      <td>11422973</td>\n",
              "      <td>78.93</td>\n",
              "      <td>78929703.81</td>\n",
              "    </tr>\n",
              "    <tr>\n",
              "      <th>São Paulo</th>\n",
              "      <td>46289333</td>\n",
              "      <td>282.71</td>\n",
              "      <td>282709570.31</td>\n",
              "    </tr>\n",
              "  </tbody>\n",
              "</table>\n",
              "</div>"
            ],
            "text/plain": [
              "                   populacao  2020/Jul       gastos\n",
              "uf                                                 \n",
              "Rio Grande do Sul   11422973     78.93  78929703.81\n",
              "São Paulo           46289333    282.71 282709570.31"
            ]
          },
          "metadata": {
            "tags": []
          },
          "execution_count": 5
        }
      ]
    },
    {
      "cell_type": "code",
      "metadata": {
        "colab": {
          "base_uri": "https://localhost:8080/"
        },
        "id": "_vlavkumfDiv",
        "outputId": "4e36d7aa-a4e3-4937-c889-57cee06c2884"
      },
      "source": [
        "gastos_e_populacao_recente.loc[:,\"gasto_por_habitante\"] = gastos_e_populacao_recente.loc[:,\"gastos\"] / gastos_e_populacao_recente.loc[:,\"populacao\"]\n",
        "gastos_e_populacao_recente.loc[:,\"gasto_por_habitante\"]"
      ],
      "execution_count": 6,
      "outputs": [
        {
          "output_type": "execute_result",
          "data": {
            "text/plain": [
              "uf\n",
              "São Paulo             6.11\n",
              "Minas Gerais          5.66\n",
              "Rio de Janeiro        4.12\n",
              "Bahia                 3.94\n",
              "Paraná                6.97\n",
              "Rio Grande do Sul     6.91\n",
              "Pernambuco            6.48\n",
              "Ceará                 3.35\n",
              "Pará                  3.18\n",
              "Santa Catarina        7.14\n",
              "Maranhão              3.43\n",
              "Goiás                 4.71\n",
              "Amazonas              3.17\n",
              "Espírito Santo        6.76\n",
              "Paraíba               3.84\n",
              "Rio Grande do Norte   5.54\n",
              "Mato Grosso           3.71\n",
              "Alagoas               3.91\n",
              "Piauí                 5.49\n",
              "Distrito Federal      7.28\n",
              "Mato Grosso do Sul    4.45\n",
              "Sergipe               1.43\n",
              "Rondônia              4.12\n",
              "Tocantins             2.82\n",
              "Acre                  1.30\n",
              "Amapá                 2.50\n",
              "Roraima               4.34\n",
              "Name: gasto_por_habitante, dtype: float64"
            ]
          },
          "metadata": {
            "tags": []
          },
          "execution_count": 6
        }
      ]
    },
    {
      "cell_type": "code",
      "metadata": {
        "colab": {
          "base_uri": "https://localhost:8080/",
          "height": 389
        },
        "id": "0w2BnGiXfjqr",
        "outputId": "c526951d-cb60-49c6-8618-6060f356ce14"
      },
      "source": [
        "gastos_e_populacao_recente.loc[:,\"gasto_por_habitante\"].plot(kind = \"bar\")"
      ],
      "execution_count": 7,
      "outputs": [
        {
          "output_type": "execute_result",
          "data": {
            "text/plain": [
              "<matplotlib.axes._subplots.AxesSubplot at 0x7f8424226910>"
            ]
          },
          "metadata": {
            "tags": []
          },
          "execution_count": 7
        },
        {
          "output_type": "display_data",
          "data": {
            "image/png": "[encoded data removed]",
            "text/plain": [
              "<Figure size 432x288 with 1 Axes>"
            ]
          },
          "metadata": {
            "tags": [],
            "needs_background": "light"
          }
        }
      ]
    },
    {
      "cell_type": "markdown",
      "metadata": {
        "id": "KSxId43ckobK"
      },
      "source": [
        "## Desafio 01 - Ordenar o gráfico e criar uma visualização de gastos por habitante ordenada:"
      ]
    },
    {
      "cell_type": "code",
      "metadata": {
        "colab": {
          "base_uri": "https://localhost:8080/",
          "height": 389
        },
        "id": "ETqQOt22kzX_",
        "outputId": "b91aa155-2f80-47c7-90b3-fba1e51cd320"
      },
      "source": [
        "gastos_e_populacao_recente.sort_values(by = \"gasto_por_habitante\", ascending = False).loc[:,\"gasto_por_habitante\"].plot(kind = \"bar\")"
      ],
      "execution_count": 8,
      "outputs": [
        {
          "output_type": "execute_result",
          "data": {
            "text/plain": [
              "<matplotlib.axes._subplots.AxesSubplot at 0x7f842412dc50>"
            ]
          },
          "metadata": {
            "tags": []
          },
          "execution_count": 8
        },
        {
          "output_type": "display_data",
          "data": {
            "image/png": "[encoded data removed]",
            "text/plain": [
              "<Figure size 432x288 with 1 Axes>"
            ]
          },
          "metadata": {
            "tags": [],
            "needs_background": "light"
          }
        }
      ]
    },
    {
      "cell_type": "markdown",
      "metadata": {
        "id": "YJnZAlCalFhG"
      },
      "source": [
        "**Em aula, o Gui sugeriu fazer o gráfico ordenado por população também, mas o gráfico que foi feito em aula já está ordenado dessa forma. Acredito que ele se confundiu e quis dizer ordenar por gasto absoluto, que seria o seguinte:**"
      ]
    },
    {
      "cell_type": "code",
      "metadata": {
        "colab": {
          "base_uri": "https://localhost:8080/",
          "height": 389
        },
        "id": "62yVtuizlE15",
        "outputId": "e128be84-0c1a-42be-b26d-3f972e0864ce"
      },
      "source": [
        "gastos_e_populacao_recente.sort_values(by = \"gastos\", ascending = False).loc[:,\"gasto_por_habitante\"].plot(kind = \"bar\")"
      ],
      "execution_count": 9,
      "outputs": [
        {
          "output_type": "execute_result",
          "data": {
            "text/plain": [
              "<matplotlib.axes._subplots.AxesSubplot at 0x7f84240e39d0>"
            ]
          },
          "metadata": {
            "tags": []
          },
          "execution_count": 9
        },
        {
          "output_type": "display_data",
          "data": {
            "image/png": "[encoded data removed]",
            "text/plain": [
              "<Figure size 432x288 with 1 Axes>"
            ]
          },
          "metadata": {
            "tags": [],
            "needs_background": "light"
          }
        }
      ]
    },
    {
      "cell_type": "code",
      "metadata": {
        "id": "yO5K-oBvc_J1"
      },
      "source": [
        "import seaborn as sns"
      ],
      "execution_count": 10,
      "outputs": []
    },
    {
      "cell_type": "code",
      "metadata": {
        "colab": {
          "base_uri": "https://localhost:8080/",
          "height": 296
        },
        "id": "WhW9P-Yvgd8q",
        "outputId": "8ede0cf7-504f-4512-f17e-fe5a27abf8c6"
      },
      "source": [
        "sns.scatterplot(data = gastos_e_populacao_recente/1000000, x = \"populacao\", y = \"gastos\")"
      ],
      "execution_count": 11,
      "outputs": [
        {
          "output_type": "execute_result",
          "data": {
            "text/plain": [
              "<matplotlib.axes._subplots.AxesSubplot at 0x7f8415cd64d0>"
            ]
          },
          "metadata": {
            "tags": []
          },
          "execution_count": 11
        },
        {
          "output_type": "display_data",
          "data": {
            "image/png": "[encoded data removed]",
            "text/plain": [
              "<Figure size 432x288 with 1 Axes>"
            ]
          },
          "metadata": {
            "tags": [],
            "needs_background": "light"
          }
        }
      ]
    },
    {
      "cell_type": "code",
      "metadata": {
        "colab": {
          "base_uri": "https://localhost:8080/",
          "height": 459
        },
        "id": "q5L8OzXoiJTG",
        "outputId": "2f9cd598-ea42-482b-b6b6-d868be35477d"
      },
      "source": [
        "plt.figure(figsize = (7,7))\n",
        "sns.scatterplot(data = gastos_e_populacao_recente/1000000, x = \"populacao\", y = \"gastos\")"
      ],
      "execution_count": 12,
      "outputs": [
        {
          "output_type": "execute_result",
          "data": {
            "text/plain": [
              "<matplotlib.axes._subplots.AxesSubplot at 0x7f8415513bd0>"
            ]
          },
          "metadata": {
            "tags": []
          },
          "execution_count": 12
        },
        {
          "output_type": "display_data",
          "data": {
            "image/png": "[encoded data removed]",
            "text/plain": [
              "<Figure size 504x504 with 1 Axes>"
            ]
          },
          "metadata": {
            "tags": [],
            "needs_background": "light"
          }
        }
      ]
    },
    {
      "cell_type": "code",
      "metadata": {
        "colab": {
          "base_uri": "https://localhost:8080/",
          "height": 459
        },
        "id": "2tQP8a0qj3x6",
        "outputId": "39a0d11c-f96b-4d0a-f334-85e2d844852f"
      },
      "source": [
        "plt.figure(figsize = (7,7))\n",
        "sns.scatterplot(data = gastos_e_populacao_recente, x = \"populacao\", y = \"gasto_por_habitante\")"
      ],
      "execution_count": 13,
      "outputs": [
        {
          "output_type": "execute_result",
          "data": {
            "text/plain": [
              "<matplotlib.axes._subplots.AxesSubplot at 0x7f8415540250>"
            ]
          },
          "metadata": {
            "tags": []
          },
          "execution_count": 13
        },
        {
          "output_type": "display_data",
          "data": {
            "image/png": "[encoded data removed]",
            "text/plain": [
              "<Figure size 504x504 with 1 Axes>"
            ]
          },
          "metadata": {
            "tags": [],
            "needs_background": "light"
          }
        }
      ]
    },
    {
      "cell_type": "code",
      "metadata": {
        "colab": {
          "base_uri": "https://localhost:8080/",
          "height": 459
        },
        "id": "bFyW7ijqkP0L",
        "outputId": "86ca0706-792a-4b1e-c7c5-2b7a673af49a"
      },
      "source": [
        "plt.figure(figsize = (7,7))\n",
        "ax = sns.scatterplot(data = gastos_e_populacao_recente, x = \"populacao\", y = \"gasto_por_habitante\")\n",
        "ax.set_xlim(0, 2.5e7)"
      ],
      "execution_count": 14,
      "outputs": [
        {
          "output_type": "execute_result",
          "data": {
            "text/plain": [
              "(0.0, 25000000.0)"
            ]
          },
          "metadata": {
            "tags": []
          },
          "execution_count": 14
        },
        {
          "output_type": "display_data",
          "data": {
            "image/png": "[encoded data removed]",
            "text/plain": [
              "<Figure size 504x504 with 1 Axes>"
            ]
          },
          "metadata": {
            "tags": [],
            "needs_background": "light"
          }
        }
      ]
    },
    {
      "cell_type": "markdown",
      "metadata": {
        "id": "wKCXxELNltzj"
      },
      "source": [
        "## Desafio 02 - Fazer os mesmos gráficos do final da aula para meses anteriores, analisar compartilhar suas hipóteses"
      ]
    },
    {
      "cell_type": "code",
      "metadata": {
        "colab": {
          "base_uri": "https://localhost:8080/",
          "height": 901
        },
        "id": "UvYDuUF4l2kv",
        "outputId": "e729fd99-dc18-4f5a-b0b8-d6d4f0168e3e"
      },
      "source": [
        "jun_20 = total_ord.loc[:,\"2020/Jun\"].copy()\n",
        "jun_20 = limpeza(dados_populacao_raw, jun_20)\n",
        "jun_20.loc[:,\"gastos\"] = jun_20.loc[:,\"2020/Jun\"] * 1000000\n",
        "jun_20.loc[:,\"gasto_por_habitante\"] = jun_20.loc[:,\"gastos\"] / jun_20.loc[:,\"populacao\"]\n",
        "jun_20"
      ],
      "execution_count": 15,
      "outputs": [
        {
          "output_type": "execute_result",
          "data": {
            "text/html": [
              "<div>\n",
              "<style scoped>\n",
              "    .dataframe tbody tr th:only-of-type {\n",
              "        vertical-align: middle;\n",
              "    }\n",
              "\n",
              "    .dataframe tbody tr th {\n",
              "        vertical-align: top;\n",
              "    }\n",
              "\n",
              "    .dataframe thead th {\n",
              "        text-align: right;\n",
              "    }\n",
              "</style>\n",
              "<table border=\"1\" class=\"dataframe\">\n",
              "  <thead>\n",
              "    <tr style=\"text-align: right;\">\n",
              "      <th></th>\n",
              "      <th>populacao</th>\n",
              "      <th>2020/Jun</th>\n",
              "      <th>gastos</th>\n",
              "      <th>gasto_por_habitante</th>\n",
              "    </tr>\n",
              "    <tr>\n",
              "      <th>uf</th>\n",
              "      <th></th>\n",
              "      <th></th>\n",
              "      <th></th>\n",
              "      <th></th>\n",
              "    </tr>\n",
              "  </thead>\n",
              "  <tbody>\n",
              "    <tr>\n",
              "      <th>São Paulo</th>\n",
              "      <td>46289333</td>\n",
              "      <td>299.06</td>\n",
              "      <td>299060851.62</td>\n",
              "      <td>6.46</td>\n",
              "    </tr>\n",
              "    <tr>\n",
              "      <th>Minas Gerais</th>\n",
              "      <td>21292666</td>\n",
              "      <td>135.98</td>\n",
              "      <td>135977571.87</td>\n",
              "      <td>6.39</td>\n",
              "    </tr>\n",
              "    <tr>\n",
              "      <th>Rio de Janeiro</th>\n",
              "      <td>17366189</td>\n",
              "      <td>77.60</td>\n",
              "      <td>77604925.21</td>\n",
              "      <td>4.47</td>\n",
              "    </tr>\n",
              "    <tr>\n",
              "      <th>Bahia</th>\n",
              "      <td>14930634</td>\n",
              "      <td>65.16</td>\n",
              "      <td>65159300.63</td>\n",
              "      <td>4.36</td>\n",
              "    </tr>\n",
              "    <tr>\n",
              "      <th>Paraná</th>\n",
              "      <td>11516840</td>\n",
              "      <td>92.90</td>\n",
              "      <td>92901461.36</td>\n",
              "      <td>8.07</td>\n",
              "    </tr>\n",
              "    <tr>\n",
              "      <th>Rio Grande do Sul</th>\n",
              "      <td>11422973</td>\n",
              "      <td>89.02</td>\n",
              "      <td>89019478.82</td>\n",
              "      <td>7.79</td>\n",
              "    </tr>\n",
              "    <tr>\n",
              "      <th>Pernambuco</th>\n",
              "      <td>9616621</td>\n",
              "      <td>68.15</td>\n",
              "      <td>68145110.59</td>\n",
              "      <td>7.09</td>\n",
              "    </tr>\n",
              "    <tr>\n",
              "      <th>Ceará</th>\n",
              "      <td>9187103</td>\n",
              "      <td>42.15</td>\n",
              "      <td>42146555.81</td>\n",
              "      <td>4.59</td>\n",
              "    </tr>\n",
              "    <tr>\n",
              "      <th>Pará</th>\n",
              "      <td>8690745</td>\n",
              "      <td>35.40</td>\n",
              "      <td>35396030.78</td>\n",
              "      <td>4.07</td>\n",
              "    </tr>\n",
              "    <tr>\n",
              "      <th>Santa Catarina</th>\n",
              "      <td>7252502</td>\n",
              "      <td>56.50</td>\n",
              "      <td>56503747.99</td>\n",
              "      <td>7.79</td>\n",
              "    </tr>\n",
              "    <tr>\n",
              "      <th>Maranhão</th>\n",
              "      <td>7114598</td>\n",
              "      <td>31.13</td>\n",
              "      <td>31128144.66</td>\n",
              "      <td>4.38</td>\n",
              "    </tr>\n",
              "    <tr>\n",
              "      <th>Goiás</th>\n",
              "      <td>7113540</td>\n",
              "      <td>34.44</td>\n",
              "      <td>34437633.20</td>\n",
              "      <td>4.84</td>\n",
              "    </tr>\n",
              "    <tr>\n",
              "      <th>Amazonas</th>\n",
              "      <td>4207714</td>\n",
              "      <td>17.51</td>\n",
              "      <td>17509334.66</td>\n",
              "      <td>4.16</td>\n",
              "    </tr>\n",
              "    <tr>\n",
              "      <th>Espírito Santo</th>\n",
              "      <td>4064052</td>\n",
              "      <td>27.45</td>\n",
              "      <td>27450865.16</td>\n",
              "      <td>6.75</td>\n",
              "    </tr>\n",
              "    <tr>\n",
              "      <th>Paraíba</th>\n",
              "      <td>4039277</td>\n",
              "      <td>19.67</td>\n",
              "      <td>19666096.87</td>\n",
              "      <td>4.87</td>\n",
              "    </tr>\n",
              "    <tr>\n",
              "      <th>Rio Grande do Norte</th>\n",
              "      <td>3534165</td>\n",
              "      <td>20.22</td>\n",
              "      <td>20219961.81</td>\n",
              "      <td>5.72</td>\n",
              "    </tr>\n",
              "    <tr>\n",
              "      <th>Mato Grosso</th>\n",
              "      <td>3526220</td>\n",
              "      <td>14.59</td>\n",
              "      <td>14585009.42</td>\n",
              "      <td>4.14</td>\n",
              "    </tr>\n",
              "    <tr>\n",
              "      <th>Alagoas</th>\n",
              "      <td>3351543</td>\n",
              "      <td>14.28</td>\n",
              "      <td>14278872.07</td>\n",
              "      <td>4.26</td>\n",
              "    </tr>\n",
              "    <tr>\n",
              "      <th>Piauí</th>\n",
              "      <td>3281480</td>\n",
              "      <td>15.38</td>\n",
              "      <td>15375523.59</td>\n",
              "      <td>4.69</td>\n",
              "    </tr>\n",
              "    <tr>\n",
              "      <th>Distrito Federal</th>\n",
              "      <td>3055149</td>\n",
              "      <td>23.48</td>\n",
              "      <td>23479773.03</td>\n",
              "      <td>7.69</td>\n",
              "    </tr>\n",
              "    <tr>\n",
              "      <th>Mato Grosso do Sul</th>\n",
              "      <td>2809394</td>\n",
              "      <td>15.84</td>\n",
              "      <td>15838659.34</td>\n",
              "      <td>5.64</td>\n",
              "    </tr>\n",
              "    <tr>\n",
              "      <th>Sergipe</th>\n",
              "      <td>2318822</td>\n",
              "      <td>6.71</td>\n",
              "      <td>6705923.03</td>\n",
              "      <td>2.89</td>\n",
              "    </tr>\n",
              "    <tr>\n",
              "      <th>Rondônia</th>\n",
              "      <td>1796460</td>\n",
              "      <td>9.19</td>\n",
              "      <td>9193593.76</td>\n",
              "      <td>5.12</td>\n",
              "    </tr>\n",
              "    <tr>\n",
              "      <th>Tocantins</th>\n",
              "      <td>1590248</td>\n",
              "      <td>5.02</td>\n",
              "      <td>5018138.13</td>\n",
              "      <td>3.16</td>\n",
              "    </tr>\n",
              "    <tr>\n",
              "      <th>Acre</th>\n",
              "      <td>894470</td>\n",
              "      <td>2.20</td>\n",
              "      <td>2199920.70</td>\n",
              "      <td>2.46</td>\n",
              "    </tr>\n",
              "    <tr>\n",
              "      <th>Amapá</th>\n",
              "      <td>861773</td>\n",
              "      <td>2.70</td>\n",
              "      <td>2699492.23</td>\n",
              "      <td>3.13</td>\n",
              "    </tr>\n",
              "    <tr>\n",
              "      <th>Roraima</th>\n",
              "      <td>631181</td>\n",
              "      <td>3.22</td>\n",
              "      <td>3216466.51</td>\n",
              "      <td>5.10</td>\n",
              "    </tr>\n",
              "  </tbody>\n",
              "</table>\n",
              "</div>"
            ],
            "text/plain": [
              "                     populacao  2020/Jun       gastos  gasto_por_habitante\n",
              "uf                                                                        \n",
              "São Paulo             46289333    299.06 299060851.62                 6.46\n",
              "Minas Gerais          21292666    135.98 135977571.87                 6.39\n",
              "Rio de Janeiro        17366189     77.60  77604925.21                 4.47\n",
              "Bahia                 14930634     65.16  65159300.63                 4.36\n",
              "Paraná                11516840     92.90  92901461.36                 8.07\n",
              "Rio Grande do Sul     11422973     89.02  89019478.82                 7.79\n",
              "Pernambuco             9616621     68.15  68145110.59                 7.09\n",
              "Ceará                  9187103     42.15  42146555.81                 4.59\n",
              "Pará                   8690745     35.40  35396030.78                 4.07\n",
              "Santa Catarina         7252502     56.50  56503747.99                 7.79\n",
              "Maranhão               7114598     31.13  31128144.66                 4.38\n",
              "Goiás                  7113540     34.44  34437633.20                 4.84\n",
              "Amazonas               4207714     17.51  17509334.66                 4.16\n",
              "Espírito Santo         4064052     27.45  27450865.16                 6.75\n",
              "Paraíba                4039277     19.67  19666096.87                 4.87\n",
              "Rio Grande do Norte    3534165     20.22  20219961.81                 5.72\n",
              "Mato Grosso            3526220     14.59  14585009.42                 4.14\n",
              "Alagoas                3351543     14.28  14278872.07                 4.26\n",
              "Piauí                  3281480     15.38  15375523.59                 4.69\n",
              "Distrito Federal       3055149     23.48  23479773.03                 7.69\n",
              "Mato Grosso do Sul     2809394     15.84  15838659.34                 5.64\n",
              "Sergipe                2318822      6.71   6705923.03                 2.89\n",
              "Rondônia               1796460      9.19   9193593.76                 5.12\n",
              "Tocantins              1590248      5.02   5018138.13                 3.16\n",
              "Acre                    894470      2.20   2199920.70                 2.46\n",
              "Amapá                   861773      2.70   2699492.23                 3.13\n",
              "Roraima                 631181      3.22   3216466.51                 5.10"
            ]
          },
          "metadata": {
            "tags": []
          },
          "execution_count": 15
        }
      ]
    },
    {
      "cell_type": "code",
      "metadata": {
        "colab": {
          "base_uri": "https://localhost:8080/",
          "height": 334
        },
        "id": "ksBx3FLEni33",
        "outputId": "734ec11a-3064-4c9f-ad17-c8a5a7a1b079"
      },
      "source": [
        "fig, ax = plt.subplots(1,2, figsize = (12,5))\n",
        "\n",
        "sns.scatterplot(data = jun_20, x = \"populacao\", y = \"gasto_por_habitante\", ax = ax[0])\n",
        "sns.scatterplot(data = jun_20/1000000, x = \"populacao\", y = \"gastos\", ax = ax[1])\n",
        "\n",
        "fig.show()"
      ],
      "execution_count": 16,
      "outputs": [
        {
          "output_type": "display_data",
          "data": {
            "image/png": "[encoded data removed]",
            "text/plain": [
              "<Figure size 864x360 with 2 Axes>"
            ]
          },
          "metadata": {
            "tags": [],
            "needs_background": "light"
          }
        }
      ]
    },
    {
      "cell_type": "markdown",
      "metadata": {
        "id": "wmgW5Fftrh0p"
      },
      "source": [
        "Somente batendo o olho no mês anterior, parece não haver diferença nenhuma entre os dois meses. Ambos os gráficos se comportam de maneira muito semelhante aos dois gráficos observados para Jul/2020. Claro, é um resultado esperado, o gasto de meses adjacentes a princípio é esperado que seja semelhante. Não houve nenhuma mudança drástica na situação sanitária de Junho para Julho de 2020. Vamos olhar para os dois juntos:"
      ]
    },
    {
      "cell_type": "markdown",
      "metadata": {
        "id": "WLn_0PWso_dO"
      },
      "source": [
        "## Desafio 03 - Plotar no mesmo gráfico do final da aula o mês anterior e o mês corrente, analisar e compartilhar suas hipóteses"
      ]
    },
    {
      "cell_type": "markdown",
      "metadata": {
        "id": "MC1rvBTIp6lv"
      },
      "source": [
        "https://stackoverflow.com/questions/51732867/seaborn-plot-two-data-sets-on-the-same-scatter-plot/51733133"
      ]
    },
    {
      "cell_type": "code",
      "metadata": {
        "colab": {
          "base_uri": "https://localhost:8080/",
          "height": 231
        },
        "id": "fs9d_0pBpK2l",
        "outputId": "bdd2b6c3-8119-47e7-d121-9bba6afe8843"
      },
      "source": [
        "mes_comb = pd.concat([gastos_e_populacao_recente.assign(dataset = 'jul_20'), \n",
        "                      jun_20.assign(dataset = 'jun_20')])\n",
        "\n",
        "mes_comb.head()"
      ],
      "execution_count": 17,
      "outputs": [
        {
          "output_type": "execute_result",
          "data": {
            "text/html": [
              "<div>\n",
              "<style scoped>\n",
              "    .dataframe tbody tr th:only-of-type {\n",
              "        vertical-align: middle;\n",
              "    }\n",
              "\n",
              "    .dataframe tbody tr th {\n",
              "        vertical-align: top;\n",
              "    }\n",
              "\n",
              "    .dataframe thead th {\n",
              "        text-align: right;\n",
              "    }\n",
              "</style>\n",
              "<table border=\"1\" class=\"dataframe\">\n",
              "  <thead>\n",
              "    <tr style=\"text-align: right;\">\n",
              "      <th></th>\n",
              "      <th>populacao</th>\n",
              "      <th>2020/Jul</th>\n",
              "      <th>gastos</th>\n",
              "      <th>gasto_por_habitante</th>\n",
              "      <th>dataset</th>\n",
              "      <th>2020/Jun</th>\n",
              "    </tr>\n",
              "    <tr>\n",
              "      <th>uf</th>\n",
              "      <th></th>\n",
              "      <th></th>\n",
              "      <th></th>\n",
              "      <th></th>\n",
              "      <th></th>\n",
              "      <th></th>\n",
              "    </tr>\n",
              "  </thead>\n",
              "  <tbody>\n",
              "    <tr>\n",
              "      <th>São Paulo</th>\n",
              "      <td>46289333</td>\n",
              "      <td>282.71</td>\n",
              "      <td>282709570.31</td>\n",
              "      <td>6.11</td>\n",
              "      <td>jul_20</td>\n",
              "      <td>nan</td>\n",
              "    </tr>\n",
              "    <tr>\n",
              "      <th>Minas Gerais</th>\n",
              "      <td>21292666</td>\n",
              "      <td>120.47</td>\n",
              "      <td>120467187.34</td>\n",
              "      <td>5.66</td>\n",
              "      <td>jul_20</td>\n",
              "      <td>nan</td>\n",
              "    </tr>\n",
              "    <tr>\n",
              "      <th>Rio de Janeiro</th>\n",
              "      <td>17366189</td>\n",
              "      <td>71.54</td>\n",
              "      <td>71540227.33</td>\n",
              "      <td>4.12</td>\n",
              "      <td>jul_20</td>\n",
              "      <td>nan</td>\n",
              "    </tr>\n",
              "    <tr>\n",
              "      <th>Bahia</th>\n",
              "      <td>14930634</td>\n",
              "      <td>58.90</td>\n",
              "      <td>58898100.40</td>\n",
              "      <td>3.94</td>\n",
              "      <td>jul_20</td>\n",
              "      <td>nan</td>\n",
              "    </tr>\n",
              "    <tr>\n",
              "      <th>Paraná</th>\n",
              "      <td>11516840</td>\n",
              "      <td>80.32</td>\n",
              "      <td>80320852.69</td>\n",
              "      <td>6.97</td>\n",
              "      <td>jul_20</td>\n",
              "      <td>nan</td>\n",
              "    </tr>\n",
              "  </tbody>\n",
              "</table>\n",
              "</div>"
            ],
            "text/plain": [
              "                populacao  2020/Jul  ...  dataset  2020/Jun\n",
              "uf                                   ...                   \n",
              "São Paulo        46289333    282.71  ...   jul_20       nan\n",
              "Minas Gerais     21292666    120.47  ...   jul_20       nan\n",
              "Rio de Janeiro   17366189     71.54  ...   jul_20       nan\n",
              "Bahia            14930634     58.90  ...   jul_20       nan\n",
              "Paraná           11516840     80.32  ...   jul_20       nan\n",
              "\n",
              "[5 rows x 6 columns]"
            ]
          },
          "metadata": {
            "tags": []
          },
          "execution_count": 17
        }
      ]
    },
    {
      "cell_type": "code",
      "metadata": {
        "colab": {
          "base_uri": "https://localhost:8080/",
          "height": 345
        },
        "id": "5O4afLOpqA1T",
        "outputId": "19ad0a2e-fae1-447f-aa48-f5cfeba83b41"
      },
      "source": [
        "fig, ax = plt.subplots(1,2, figsize = (12,5))\n",
        "\n",
        "sns.scatterplot(x = 'populacao', y = 'gasto_por_habitante', \n",
        "                data = mes_comb,\n",
        "                hue = 'dataset', style = 'dataset', ax = ax[0])\n",
        "\n",
        "sns.scatterplot(x = 'populacao', y = 'gastos', \n",
        "                data = mes_comb,\n",
        "                hue = 'dataset', style = 'dataset', ax = ax[1]) # atenção para o problema de escala\n",
        "plt.show()"
      ],
      "execution_count": 18,
      "outputs": [
        {
          "output_type": "display_data",
          "data": {
            "image/png": "[encoded data removed]",
            "text/plain": [
              "<Figure size 864x360 with 2 Axes>"
            ]
          },
          "metadata": {
            "tags": [],
            "needs_background": "light"
          }
        }
      ]
    },
    {
      "cell_type": "markdown",
      "metadata": {
        "id": "X9aEVMo6sU5G"
      },
      "source": [
        "Parece que houve uma ligeira queda nos valores totais gastos entre Junho e Julho de 2020, mas n fatores podem estar associados, aqui estamos fazendo uma leitura bastante simples desses dados. Vimos que o mês de processamento não é uma boa medida para analisar os reais padrões de gastos..."
      ]
    },
    {
      "cell_type": "markdown",
      "metadata": {
        "id": "ObzKAdQBslHy"
      },
      "source": [
        "Será que eu consegui resolver de um jeito parecido ou completamente diferente do que foi feito na próxima aula? Veremos!"
      ]
    },
    {
      "cell_type": "markdown",
      "metadata": {
        "id": "sKY6kqtwssE7"
      },
      "source": [
        "### Resolução da aula"
      ]
    },
    {
      "cell_type": "markdown",
      "metadata": {
        "id": "tafaVsUItQNY"
      },
      "source": [
        "**A ideia do Gui foi criar uma função que automatiza esse processo de extrair um mês**"
      ]
    },
    {
      "cell_type": "code",
      "metadata": {
        "id": "Mgg8nYw5tZv_"
      },
      "source": [
        "def insere_gastos_e_gasto_por_habitante_para(todos_os_gastos: pd.DataFrame, dados: pd.DataFrame, mes: str): \n",
        "  # mes: str define que o tipo de mes só pode ser string\n",
        "  # pd.DataFrame para definir que só pode ser DataFrame\n",
        "  gastos_do_mes = todos_os_gastos.loc[:,mes]\n",
        "  dados.loc[:, f\"gastos_{mes}\"] = gastos_do_mes * 1000000\n",
        "  dados.loc[:, f\"gasto_por_habitante_{mes}\"] = dados.loc[:, f\"gastos_{mes}\"] / dados.loc[:, \"populacao\"]"
      ],
      "execution_count": 19,
      "outputs": []
    },
    {
      "cell_type": "code",
      "metadata": {
        "colab": {
          "base_uri": "https://localhost:8080/",
          "height": 308
        },
        "id": "PO0LGZFTt_Gl",
        "outputId": "0b4f3b7e-26fe-4c44-f730-2469dba543f8"
      },
      "source": [
        "insere_gastos_e_gasto_por_habitante_para(total_ord, gastos_e_populacao_recente, \"2020/Jul\")\n",
        "gastos_e_populacao_recente[[\"gastos_2020/Jul\", \"populacao\"]].plot()"
      ],
      "execution_count": 20,
      "outputs": [
        {
          "output_type": "execute_result",
          "data": {
            "text/plain": [
              "<matplotlib.axes._subplots.AxesSubplot at 0x7f84151d7890>"
            ]
          },
          "metadata": {
            "tags": []
          },
          "execution_count": 20
        },
        {
          "output_type": "display_data",
          "data": {
            "image/png": "[encoded data removed]",
            "text/plain": [
              "<Figure size 432x288 with 1 Axes>"
            ]
          },
          "metadata": {
            "tags": [],
            "needs_background": "light"
          }
        }
      ]
    },
    {
      "cell_type": "code",
      "metadata": {
        "colab": {
          "base_uri": "https://localhost:8080/",
          "height": 301
        },
        "id": "2Y7MIdOv0PbK",
        "outputId": "8ae1b01f-2729-436b-df20-2bb5ac6f4d72"
      },
      "source": [
        "insere_gastos_e_gasto_por_habitante_para(total_ord, gastos_e_populacao_recente, \"2020/Jun\")\n",
        "gastos_e_populacao_recente.head()"
      ],
      "execution_count": 21,
      "outputs": [
        {
          "output_type": "execute_result",
          "data": {
            "text/html": [
              "<div>\n",
              "<style scoped>\n",
              "    .dataframe tbody tr th:only-of-type {\n",
              "        vertical-align: middle;\n",
              "    }\n",
              "\n",
              "    .dataframe tbody tr th {\n",
              "        vertical-align: top;\n",
              "    }\n",
              "\n",
              "    .dataframe thead th {\n",
              "        text-align: right;\n",
              "    }\n",
              "</style>\n",
              "<table border=\"1\" class=\"dataframe\">\n",
              "  <thead>\n",
              "    <tr style=\"text-align: right;\">\n",
              "      <th></th>\n",
              "      <th>populacao</th>\n",
              "      <th>2020/Jul</th>\n",
              "      <th>gastos</th>\n",
              "      <th>gasto_por_habitante</th>\n",
              "      <th>gastos_2020/Jul</th>\n",
              "      <th>gasto_por_habitante_2020/Jul</th>\n",
              "      <th>gastos_2020/Jun</th>\n",
              "      <th>gasto_por_habitante_2020/Jun</th>\n",
              "    </tr>\n",
              "    <tr>\n",
              "      <th>uf</th>\n",
              "      <th></th>\n",
              "      <th></th>\n",
              "      <th></th>\n",
              "      <th></th>\n",
              "      <th></th>\n",
              "      <th></th>\n",
              "      <th></th>\n",
              "      <th></th>\n",
              "    </tr>\n",
              "  </thead>\n",
              "  <tbody>\n",
              "    <tr>\n",
              "      <th>São Paulo</th>\n",
              "      <td>46289333</td>\n",
              "      <td>282.71</td>\n",
              "      <td>282709570.31</td>\n",
              "      <td>6.11</td>\n",
              "      <td>282709570.31</td>\n",
              "      <td>6.11</td>\n",
              "      <td>299060851.62</td>\n",
              "      <td>6.46</td>\n",
              "    </tr>\n",
              "    <tr>\n",
              "      <th>Minas Gerais</th>\n",
              "      <td>21292666</td>\n",
              "      <td>120.47</td>\n",
              "      <td>120467187.34</td>\n",
              "      <td>5.66</td>\n",
              "      <td>120467187.34</td>\n",
              "      <td>5.66</td>\n",
              "      <td>135977571.87</td>\n",
              "      <td>6.39</td>\n",
              "    </tr>\n",
              "    <tr>\n",
              "      <th>Rio de Janeiro</th>\n",
              "      <td>17366189</td>\n",
              "      <td>71.54</td>\n",
              "      <td>71540227.33</td>\n",
              "      <td>4.12</td>\n",
              "      <td>71540227.33</td>\n",
              "      <td>4.12</td>\n",
              "      <td>77604925.21</td>\n",
              "      <td>4.47</td>\n",
              "    </tr>\n",
              "    <tr>\n",
              "      <th>Bahia</th>\n",
              "      <td>14930634</td>\n",
              "      <td>58.90</td>\n",
              "      <td>58898100.40</td>\n",
              "      <td>3.94</td>\n",
              "      <td>58898100.40</td>\n",
              "      <td>3.94</td>\n",
              "      <td>65159300.63</td>\n",
              "      <td>4.36</td>\n",
              "    </tr>\n",
              "    <tr>\n",
              "      <th>Paraná</th>\n",
              "      <td>11516840</td>\n",
              "      <td>80.32</td>\n",
              "      <td>80320852.69</td>\n",
              "      <td>6.97</td>\n",
              "      <td>80320852.69</td>\n",
              "      <td>6.97</td>\n",
              "      <td>92901461.36</td>\n",
              "      <td>8.07</td>\n",
              "    </tr>\n",
              "  </tbody>\n",
              "</table>\n",
              "</div>"
            ],
            "text/plain": [
              "                populacao  ...  gasto_por_habitante_2020/Jun\n",
              "uf                         ...                              \n",
              "São Paulo        46289333  ...                          6.46\n",
              "Minas Gerais     21292666  ...                          6.39\n",
              "Rio de Janeiro   17366189  ...                          4.47\n",
              "Bahia            14930634  ...                          4.36\n",
              "Paraná           11516840  ...                          8.07\n",
              "\n",
              "[5 rows x 8 columns]"
            ]
          },
          "metadata": {
            "tags": []
          },
          "execution_count": 21
        }
      ]
    },
    {
      "cell_type": "code",
      "metadata": {
        "colab": {
          "base_uri": "https://localhost:8080/",
          "height": 459
        },
        "id": "8WaDXQcq2F3F",
        "outputId": "72c475f9-26c5-4a31-d821-835bf418dbb6"
      },
      "source": [
        "plt.figure(figsize = (7,7))\n",
        "sns.scatterplot(data = gastos_e_populacao_recente/1000000, x = \"populacao\", y = \"gastos_2020/Jul\")\n",
        "sns.scatterplot(data = gastos_e_populacao_recente/1000000, x = \"populacao\", y = \"gastos_2020/Jun\")"
      ],
      "execution_count": 22,
      "outputs": [
        {
          "output_type": "execute_result",
          "data": {
            "text/plain": [
              "<matplotlib.axes._subplots.AxesSubplot at 0x7f84151beb50>"
            ]
          },
          "metadata": {
            "tags": []
          },
          "execution_count": 22
        },
        {
          "output_type": "display_data",
          "data": {
            "image/png": "[encoded data removed]",
            "text/plain": [
              "<Figure size 504x504 with 1 Axes>"
            ]
          },
          "metadata": {
            "tags": [],
            "needs_background": "light"
          }
        }
      ]
    },
    {
      "cell_type": "markdown",
      "metadata": {
        "id": "sRjU7K1A24vm"
      },
      "source": [
        "Adicionando Maio"
      ]
    },
    {
      "cell_type": "code",
      "metadata": {
        "id": "G4jL-zmF2lEs"
      },
      "source": [
        "insere_gastos_e_gasto_por_habitante_para(total_ord, gastos_e_populacao_recente, \"2020/Mai\")"
      ],
      "execution_count": 23,
      "outputs": []
    },
    {
      "cell_type": "code",
      "metadata": {
        "colab": {
          "base_uri": "https://localhost:8080/",
          "height": 459
        },
        "id": "30uaVT0q2qDj",
        "outputId": "5d1a8b1f-a373-45fb-d12e-edc8e4b03548"
      },
      "source": [
        "plt.figure(figsize = (7,7))\n",
        "sns.scatterplot(data = gastos_e_populacao_recente/1000000, x = \"populacao\", y = \"gastos_2020/Jul\")\n",
        "sns.scatterplot(data = gastos_e_populacao_recente/1000000, x = \"populacao\", y = \"gastos_2020/Jun\")\n",
        "sns.scatterplot(data = gastos_e_populacao_recente/1000000, x = \"populacao\", y = \"gastos_2020/Mai\")"
      ],
      "execution_count": 24,
      "outputs": [
        {
          "output_type": "execute_result",
          "data": {
            "text/plain": [
              "<matplotlib.axes._subplots.AxesSubplot at 0x7f84151c9a50>"
            ]
          },
          "metadata": {
            "tags": []
          },
          "execution_count": 24
        },
        {
          "output_type": "display_data",
          "data": {
            "image/png": "[encoded data removed]",
            "text/plain": [
              "<Figure size 504x504 with 1 Axes>"
            ]
          },
          "metadata": {
            "tags": [],
            "needs_background": "light"
          }
        }
      ]
    },
    {
      "cell_type": "markdown",
      "metadata": {
        "id": "nFwrD2xr3C0n"
      },
      "source": [
        "O Gui ressaltou em aula que é difícil assumir grandes conclusões a partir desses dados de meses muito recentes (da análise), pois o valor de processamento ainda tende a mudar e ficar mais completo conforme o tempo passa."
      ]
    },
    {
      "cell_type": "code",
      "metadata": {
        "colab": {
          "base_uri": "https://localhost:8080/",
          "height": 459
        },
        "id": "7BUoxMsr3VAU",
        "outputId": "77a40666-5979-4f8f-dd4c-e36d9a846acd"
      },
      "source": [
        "plt.figure(figsize = (7,7))\n",
        "sns.scatterplot(data = gastos_e_populacao_recente, x = \"populacao\", y = \"gasto_por_habitante_2020/Jul\")\n",
        "sns.scatterplot(data = gastos_e_populacao_recente, x = \"populacao\", y = \"gasto_por_habitante_2020/Jun\")\n",
        "sns.scatterplot(data = gastos_e_populacao_recente, x = \"populacao\", y = \"gasto_por_habitante_2020/Mai\")"
      ],
      "execution_count": 25,
      "outputs": [
        {
          "output_type": "execute_result",
          "data": {
            "text/plain": [
              "<matplotlib.axes._subplots.AxesSubplot at 0x7f84151b3110>"
            ]
          },
          "metadata": {
            "tags": []
          },
          "execution_count": 25
        },
        {
          "output_type": "display_data",
          "data": {
            "image/png": "[encoded data removed]",
            "text/plain": [
              "<Figure size 504x504 with 1 Axes>"
            ]
          },
          "metadata": {
            "tags": [],
            "needs_background": "light"
          }
        }
      ]
    }
  ]
}