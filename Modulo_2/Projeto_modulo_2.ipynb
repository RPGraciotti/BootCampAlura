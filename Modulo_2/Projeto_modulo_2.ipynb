{
  "nbformat": 4,
  "nbformat_minor": 0,
  "metadata": {
    "colab": {
      "name": "Projeto_modulo_2.ipynb",
      "provenance": [],
      "collapsed_sections": [],
      "authorship_tag": "ABX9TyPkvelo3sDU7Q9P57bnUEB8",
      "include_colab_link": true
    },
    "kernelspec": {
      "name": "python3",
      "display_name": "Python 3"
    },
    "language_info": {
      "name": "python"
    }
  },
  "cells": [
    {
      "cell_type": "markdown",
      "metadata": {
        "id": "view-in-github",
        "colab_type": "text"
      },
      "source": [
        "<a href=\"https://colab.research.google.com/github/RPGraciotti/BootCampAlura/blob/main/Modulo_2/Projeto_modulo_2.ipynb\" target=\"_parent\"><img src=\"https://colab.research.google.com/assets/colab-badge.svg\" alt=\"Open In Colab\"/></a>"
      ]
    },
    {
      "cell_type": "markdown",
      "metadata": {
        "id": "ePgRmKyrO1Z0"
      },
      "source": [
        "# Introdução"
      ]
    },
    {
      "cell_type": "markdown",
      "metadata": {
        "id": "tuWdQDVIO3-q"
      },
      "source": [
        "# Tema"
      ]
    },
    {
      "cell_type": "markdown",
      "metadata": {
        "id": "A6EYZwSpO57b"
      },
      "source": [
        "# Carregamento de bibliotecas, importação dos dados e definição de funções"
      ]
    },
    {
      "cell_type": "code",
      "metadata": {
        "id": "Id5FfFMPskNx"
      },
      "source": [
        "import numpy as np\n",
        "import pandas as pd\n",
        "import matplotlib.pyplot as plt\n",
        "import seaborn as sns\n",
        "import datetime"
      ],
      "execution_count": 1,
      "outputs": []
    },
    {
      "cell_type": "code",
      "metadata": {
        "id": "lbULqK9Dsurf"
      },
      "source": [
        "cob_im_ano = pd.read_csv(\"https://raw.githubusercontent.com/RPGraciotti/BootCampAlura/main/Data/cobertura_imuno_ano.csv\",\n",
        "                              encoding = \"ISO-8859-1\", sep = \";\", decimal = \",\")\n",
        "\n",
        "tub_evo_ano = pd.read_csv(\"https://raw.githubusercontent.com/RPGraciotti/BootCampAlura/main/Data/tuberculose_evo_ano.csv\",\n",
        "                              encoding = \"ISO-8859-1\", sep = \";\", decimal = \",\", skiprows = 3,\n",
        "                          skipfooter = 19, engine = \"python\")\n",
        "tub_evo_ano.drop(\"Total\", axis = 1, inplace = True)\n",
        "tub_evo_ano = tub_evo_ano.rename(columns = {\"Situação Encerra.\":\"Evolução\"})\n",
        "\n",
        "tub_evo_eta = pd.read_csv(\"https://raw.githubusercontent.com/RPGraciotti/BootCampAlura/main/Data/tuberculose_evo_etaria.csv\",\n",
        "                              encoding = \"ISO-8859-1\", sep = \";\", decimal = \",\", skiprows = 3,\n",
        "                          skipfooter = 19, engine = \"python\")\n",
        "tub_evo_eta.drop([\"Em branco/IGN\",\"Total\"], axis = 1, inplace = True)\n",
        "tub_evo_eta = tub_evo_eta.rename(columns = {\"Situação Encerra.\":\"Evolução\"})\n",
        "\n",
        "coq_evo_ano1 = pd.read_csv(\"https://raw.githubusercontent.com/RPGraciotti/BootCampAlura/main/Data/coqueluche_evo_ano_1.csv\",\n",
        "                              encoding = \"ISO-8859-1\", sep = \";\", decimal = \",\", skiprows = 3,\n",
        "                          skipfooter = 13, engine = \"python\")\n",
        "coq_evo_ano1.drop(\"Total\", axis = 1, inplace = True)\n",
        "coq_evo_ano1 = coq_evo_ano1.rename(columns = {\"Evolução caso\":\"Evolução\"})\n",
        "\n",
        "coq_evo_ano2 = pd.read_csv(\"https://raw.githubusercontent.com/RPGraciotti/BootCampAlura/main/Data/coqueluche_evo_ano_2.csv\",\n",
        "                              encoding = \"ISO-8859-1\", sep = \";\", decimal = \",\", skiprows = 3,\n",
        "                          skipfooter = 15, engine = \"python\")\n",
        "coq_evo_ano2 = coq_evo_ano2.iloc[:, np.r_[0:1, 11:25]]\n",
        "coq_evo_ano2 = coq_evo_ano2.replace(r\"Óbito pelo agravo notificado\", \"Óbito\")\n",
        "\n",
        "coq_evo_eta1 = pd.read_csv(\"https://raw.githubusercontent.com/RPGraciotti/BootCampAlura/main/Data/coqueluche_evo_etaria_1.csv\",\n",
        "                              encoding = \"ISO-8859-1\", sep = \";\", decimal = \",\", skiprows = 3,\n",
        "                          skipfooter = 13, engine = \"python\")\n",
        "coq_evo_eta1.drop([\"Em branco/IGN\", \"Total\"], axis = 1, inplace=True)\n",
        "coq_evo_eta1 = coq_evo_eta1.rename(columns = {\"Evolução caso\":\"Evolução\"})\n",
        "coq_evo_eta1.iloc[:,1:] = coq_evo_eta1.iloc[:,1:].replace(r\"-\", \"0\").astype(int)\n",
        "                                                                            \n",
        "coq_evo_eta2 = pd.read_csv(\"https://raw.githubusercontent.com/RPGraciotti/BootCampAlura/main/Data/coqueluche_evo_etaria_2.csv\",\n",
        "                              encoding = \"ISO-8859-1\", sep = \";\", decimal = \",\", skiprows = 3,\n",
        "                          skipfooter = 15, engine = \"python\")\n",
        "coq_evo_eta2.drop([\"Em branco/IGN\", \"Total\"], axis = 1, inplace=True)\n",
        "coq_evo_eta2 = coq_evo_eta2.replace(r\"Óbito pelo agravo notificado\", \"Óbito\")\n",
        "coq_evo_eta2.iloc[:,1:] = coq_evo_eta2.iloc[:,1:].replace(r\"-\", \"0\").astype(int)\n",
        "\n",
        "tet_evo_ano1 = pd.read_csv(\"https://raw.githubusercontent.com/RPGraciotti/BootCampAlura/main/Data/tetano_evo_ano_1.csv\",\n",
        "                              encoding = \"ISO-8859-1\", sep = \";\", decimal = \",\", skiprows = 3,\n",
        "                          skipfooter = 13, engine = \"python\")\n",
        "tet_evo_ano1.drop(\"Total\", axis = 1, inplace = True)\n",
        "tet_evo_ano1 = tet_evo_ano1.rename(columns = {\"Evolução do caso\":\"Evolução\"})\n",
        "\n",
        "tet_evo_ano2 = pd.read_csv(\"https://raw.githubusercontent.com/RPGraciotti/BootCampAlura/main/Data/tetano_evo_ano_2.csv\",\n",
        "                              encoding = \"ISO-8859-1\", sep = \";\", decimal = \",\", skiprows = 3,\n",
        "                          skipfooter = 21, engine = \"python\")\n",
        "tet_evo_ano2 = tet_evo_ano2.iloc[:, np.r_[0, 5:19]]\n",
        "tet_evo_ano2 = tet_evo_ano2.replace(r\"Óbito pelo agravo notificado\", \"Óbito\")\n",
        "\n",
        "tet_evo_eta1 = pd.read_csv(\"https://raw.githubusercontent.com/RPGraciotti/BootCampAlura/main/Data/tetano_evo_etaria_1.csv\",\n",
        "                              encoding = \"ISO-8859-1\", sep = \";\", decimal = \",\", skiprows = 3,\n",
        "                          skipfooter = 13, engine = \"python\")\n",
        "tet_evo_eta1.drop([\"Em branco/IGN\", \"Total\"], axis = 1, inplace=True)\n",
        "tet_evo_eta1 = tet_evo_eta1.rename(columns = {\"Evolução do caso\":\"Evolução\"})\n",
        "tet_evo_eta1.iloc[:,1:] = tet_evo_eta1.iloc[:,1:].replace(r\"-\", \"0\").astype(int)\n",
        "\n",
        "                                                                            \n",
        "tet_evo_eta2 = pd.read_csv(\"https://raw.githubusercontent.com/RPGraciotti/BootCampAlura/main/Data/tetano_evo_etaria_2.csv\",\n",
        "                              encoding = \"ISO-8859-1\", sep = \";\", decimal = \",\", skiprows = 3,\n",
        "                          skipfooter = 21, engine = \"python\")\n",
        "tet_evo_eta2.drop(\"Total\", axis = 1, inplace=True)\n",
        "tet_evo_eta2 = tet_evo_eta2.replace(r\"Óbito pelo agravo notificado\", \"Óbito\")\n",
        "tet_evo_eta2.iloc[:,1:] = tet_evo_eta2.iloc[:,1:].replace(r\"-\", \"0\").astype(int)"
      ],
      "execution_count": 22,
      "outputs": []
    },
    {
      "cell_type": "code",
      "metadata": {
        "id": "l2KmZUOgHvPp"
      },
      "source": [
        "coq_evo_ano = pd.concat([coq_evo_ano1, coq_evo_ano2]).groupby(\"Evolução\").sum().reset_index()\n",
        "coq_evo_eta = pd.concat([coq_evo_eta1, coq_evo_eta2]).groupby(\"Evolução\").sum().reset_index()\n",
        "\n",
        "tet_evo_ano = pd.concat([tet_evo_ano1, tet_evo_ano2]).groupby(\"Evolução\").sum().reset_index()\n",
        "tet_evo_eta = pd.concat([tet_evo_eta1, tet_evo_eta2]).groupby(\"Evolução\").sum().reset_index()"
      ],
      "execution_count": 3,
      "outputs": []
    },
    {
      "cell_type": "markdown",
      "metadata": {
        "id": "Hjie8dl5PBqv"
      },
      "source": [
        "# Análises"
      ]
    },
    {
      "cell_type": "code",
      "metadata": {
        "id": "fXmFUGJIhjkj"
      },
      "source": [
        ""
      ],
      "execution_count": null,
      "outputs": []
    },
    {
      "cell_type": "markdown",
      "metadata": {
        "id": "4H__-Si8cyv_"
      },
      "source": [
        "# Doencas respiratórias\n",
        "## Tuberculose\n",
        "- fazer gráfico da evolução da doença com numero de casos totais e óbitos como barras empilhadas\n",
        "- A vacinação está sendo efetiva? fazer gráfico da BCG ao longo do tempo\n",
        "- veremos que é sempre alta, então está imunizando os pequenos?\n",
        "- fazer gráfico do total de casos e mortalidade como barras empilhadas em função da faixa etária\n",
        "- vemos que a mortalidade é maior em adultos\n",
        "\n",
        "\n",
        "- se sobrar tempo, fazer relplot da dose x obito / dose x total\n",
        "\n",
        "## Coqueluche\n",
        "- fazer gráfico da evolução da doença (totais e mortes como barras empilhadas ao longo do tempo)\n",
        "- grafico das 3 vacinas ao longo do tempo, atinge a imunidade de interesse?\n",
        "- ok, as crianças estão protegidas?\n",
        "- fazer mortalidade em barras por faixa etaria\n",
        "- vemos que a mortalidade é maior em crianças, mas mostrar estudos que os adultos é que transmitem mais, reforçar a possibilidade de haver uma segunda dose\n",
        "\n",
        "\n",
        "- se sobrar tempo, fazer relplot dose X obito\n",
        "\n",
        "# Tetano\n",
        "- fazer gráfico da evolução de casos e mortes em barras empilhadas por ano\n",
        "- olhar pra vacinação com o gráfico anterior, atinge a imunidade de interesse?\n",
        "- crianças cobertas\n",
        "- fazer gráfico de morte e total por faixa etaria com barras empilhadas\n",
        "- ver que a mortalidade também é um pouco maior em adolescentes\n",
        "\n",
        "- se sobrar tempo, relplot\n",
        "\n",
        "### Difteria --- assim, só se sobrar muuuuuito tempo"
      ]
    },
    {
      "cell_type": "code",
      "metadata": {
        "colab": {
          "base_uri": "https://localhost:8080/",
          "height": 353
        },
        "id": "O0gPS_1FRwEn",
        "outputId": "b68d0122-a694-46aa-b0b2-153128900baa"
      },
      "source": [
        "tub_evo_eta"
      ],
      "execution_count": 34,
      "outputs": [
        {
          "output_type": "execute_result",
          "data": {
            "text/html": [
              "<div>\n",
              "<style scoped>\n",
              "    .dataframe tbody tr th:only-of-type {\n",
              "        vertical-align: middle;\n",
              "    }\n",
              "\n",
              "    .dataframe tbody tr th {\n",
              "        vertical-align: top;\n",
              "    }\n",
              "\n",
              "    .dataframe thead th {\n",
              "        text-align: right;\n",
              "    }\n",
              "</style>\n",
              "<table border=\"1\" class=\"dataframe\">\n",
              "  <thead>\n",
              "    <tr style=\"text-align: right;\">\n",
              "      <th></th>\n",
              "      <th>Evolução</th>\n",
              "      <th>&lt;1 Ano</th>\n",
              "      <th>1-4</th>\n",
              "      <th>5-9</th>\n",
              "      <th>10-14</th>\n",
              "      <th>15-19</th>\n",
              "      <th>20-39</th>\n",
              "      <th>40-59</th>\n",
              "      <th>60-64</th>\n",
              "      <th>65-69</th>\n",
              "      <th>70-79</th>\n",
              "      <th>80 e +</th>\n",
              "    </tr>\n",
              "  </thead>\n",
              "  <tbody>\n",
              "    <tr>\n",
              "      <th>0</th>\n",
              "      <td>Ign/Branco</td>\n",
              "      <td>811</td>\n",
              "      <td>1127</td>\n",
              "      <td>1035</td>\n",
              "      <td>1426</td>\n",
              "      <td>6008</td>\n",
              "      <td>53477</td>\n",
              "      <td>35283</td>\n",
              "      <td>5333</td>\n",
              "      <td>3852</td>\n",
              "      <td>4485</td>\n",
              "      <td>1579</td>\n",
              "    </tr>\n",
              "    <tr>\n",
              "      <th>1</th>\n",
              "      <td>Cura</td>\n",
              "      <td>4930</td>\n",
              "      <td>10253</td>\n",
              "      <td>9667</td>\n",
              "      <td>17701</td>\n",
              "      <td>74577</td>\n",
              "      <td>531581</td>\n",
              "      <td>379534</td>\n",
              "      <td>53451</td>\n",
              "      <td>37598</td>\n",
              "      <td>43328</td>\n",
              "      <td>14632</td>\n",
              "    </tr>\n",
              "    <tr>\n",
              "      <th>2</th>\n",
              "      <td>Abandono</td>\n",
              "      <td>626</td>\n",
              "      <td>1004</td>\n",
              "      <td>849</td>\n",
              "      <td>1485</td>\n",
              "      <td>12141</td>\n",
              "      <td>118208</td>\n",
              "      <td>58898</td>\n",
              "      <td>4913</td>\n",
              "      <td>3297</td>\n",
              "      <td>3880</td>\n",
              "      <td>1557</td>\n",
              "    </tr>\n",
              "    <tr>\n",
              "      <th>3</th>\n",
              "      <td>Óbito por tuberculose</td>\n",
              "      <td>211</td>\n",
              "      <td>138</td>\n",
              "      <td>91</td>\n",
              "      <td>140</td>\n",
              "      <td>654</td>\n",
              "      <td>10654</td>\n",
              "      <td>18140</td>\n",
              "      <td>3868</td>\n",
              "      <td>3342</td>\n",
              "      <td>4936</td>\n",
              "      <td>3026</td>\n",
              "    </tr>\n",
              "    <tr>\n",
              "      <th>4</th>\n",
              "      <td>Óbito por outras causas</td>\n",
              "      <td>386</td>\n",
              "      <td>323</td>\n",
              "      <td>218</td>\n",
              "      <td>272</td>\n",
              "      <td>1045</td>\n",
              "      <td>25134</td>\n",
              "      <td>32497</td>\n",
              "      <td>6115</td>\n",
              "      <td>5362</td>\n",
              "      <td>8439</td>\n",
              "      <td>4899</td>\n",
              "    </tr>\n",
              "    <tr>\n",
              "      <th>5</th>\n",
              "      <td>Transferência</td>\n",
              "      <td>910</td>\n",
              "      <td>1302</td>\n",
              "      <td>1098</td>\n",
              "      <td>1695</td>\n",
              "      <td>6301</td>\n",
              "      <td>56430</td>\n",
              "      <td>37283</td>\n",
              "      <td>4956</td>\n",
              "      <td>3741</td>\n",
              "      <td>4497</td>\n",
              "      <td>1621</td>\n",
              "    </tr>\n",
              "    <tr>\n",
              "      <th>6</th>\n",
              "      <td>TB-DR</td>\n",
              "      <td>35</td>\n",
              "      <td>10</td>\n",
              "      <td>8</td>\n",
              "      <td>69</td>\n",
              "      <td>558</td>\n",
              "      <td>5484</td>\n",
              "      <td>4326</td>\n",
              "      <td>473</td>\n",
              "      <td>306</td>\n",
              "      <td>260</td>\n",
              "      <td>61</td>\n",
              "    </tr>\n",
              "    <tr>\n",
              "      <th>7</th>\n",
              "      <td>Mudança de Esquema</td>\n",
              "      <td>14</td>\n",
              "      <td>12</td>\n",
              "      <td>18</td>\n",
              "      <td>22</td>\n",
              "      <td>94</td>\n",
              "      <td>1375</td>\n",
              "      <td>1548</td>\n",
              "      <td>321</td>\n",
              "      <td>221</td>\n",
              "      <td>312</td>\n",
              "      <td>109</td>\n",
              "    </tr>\n",
              "    <tr>\n",
              "      <th>8</th>\n",
              "      <td>Falência</td>\n",
              "      <td>3</td>\n",
              "      <td>1</td>\n",
              "      <td>-</td>\n",
              "      <td>1</td>\n",
              "      <td>19</td>\n",
              "      <td>190</td>\n",
              "      <td>205</td>\n",
              "      <td>30</td>\n",
              "      <td>22</td>\n",
              "      <td>23</td>\n",
              "      <td>11</td>\n",
              "    </tr>\n",
              "    <tr>\n",
              "      <th>9</th>\n",
              "      <td>Abandono Primário</td>\n",
              "      <td>7</td>\n",
              "      <td>19</td>\n",
              "      <td>8</td>\n",
              "      <td>25</td>\n",
              "      <td>182</td>\n",
              "      <td>2311</td>\n",
              "      <td>1481</td>\n",
              "      <td>148</td>\n",
              "      <td>120</td>\n",
              "      <td>140</td>\n",
              "      <td>68</td>\n",
              "    </tr>\n",
              "  </tbody>\n",
              "</table>\n",
              "</div>"
            ],
            "text/plain": [
              "                  Evolução  <1 Ano    1-4   5-9  ...  60-64  65-69  70-79  80 e +\n",
              "0               Ign/Branco     811   1127  1035  ...   5333   3852   4485    1579\n",
              "1                     Cura    4930  10253  9667  ...  53451  37598  43328   14632\n",
              "2                 Abandono     626   1004   849  ...   4913   3297   3880    1557\n",
              "3    Óbito por tuberculose     211    138    91  ...   3868   3342   4936    3026\n",
              "4  Óbito por outras causas     386    323   218  ...   6115   5362   8439    4899\n",
              "5            Transferência     910   1302  1098  ...   4956   3741   4497    1621\n",
              "6                    TB-DR      35     10     8  ...    473    306    260      61\n",
              "7       Mudança de Esquema      14     12    18  ...    321    221    312     109\n",
              "8                 Falência       3      1     -  ...     30     22     23      11\n",
              "9        Abandono Primário       7     19     8  ...    148    120    140      68\n",
              "\n",
              "[10 rows x 12 columns]"
            ]
          },
          "metadata": {
            "tags": []
          },
          "execution_count": 34
        }
      ]
    },
    {
      "cell_type": "markdown",
      "metadata": {
        "id": "YoRxoWhMPK3D"
      },
      "source": [
        "# Conclusões"
      ]
    },
    {
      "cell_type": "markdown",
      "metadata": {
        "id": "QjRhBJMvPL-r"
      },
      "source": [
        "# Referências"
      ]
    },
    {
      "cell_type": "markdown",
      "metadata": {
        "id": "Qm0M_mw2ctx6"
      },
      "source": [
        ""
      ]
    }
  ]
}