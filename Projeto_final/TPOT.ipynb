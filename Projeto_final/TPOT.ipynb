{
  "nbformat": 4,
  "nbformat_minor": 0,
  "metadata": {
    "colab": {
      "name": "TPOT.ipynb",
      "provenance": [],
      "collapsed_sections": [],
      "authorship_tag": "ABX9TyOc/J7zL5rFSYh0L29CcBq5",
      "include_colab_link": true
    },
    "kernelspec": {
      "name": "python3",
      "display_name": "Python 3"
    },
    "language_info": {
      "name": "python"
    }
  },
  "cells": [
    {
      "cell_type": "markdown",
      "metadata": {
        "id": "view-in-github",
        "colab_type": "text"
      },
      "source": [
        "<a href=\"https://colab.research.google.com/github/RPGraciotti/BootCampAlura/blob/main/Projeto_final/TPOT.ipynb\" target=\"_parent\"><img src=\"https://colab.research.google.com/assets/colab-badge.svg\" alt=\"Open In Colab\"/></a>"
      ]
    },
    {
      "cell_type": "code",
      "metadata": {
        "id": "wc6mXsYW-D80"
      },
      "source": [
        "pip install tpot"
      ],
      "execution_count": null,
      "outputs": []
    },
    {
      "cell_type": "code",
      "metadata": {
        "id": "B3syLkDDpmyt"
      },
      "source": [
        "import numpy as np\n",
        "import pandas as pd\n",
        "import matplotlib.pyplot as plt\n",
        "import seaborn as sns\n",
        "\n",
        "from sklearn.model_selection import train_test_split\n",
        "from sklearn.model_selection import RepeatedStratifiedKFold\n",
        "from sklearn.model_selection import cross_validate\n",
        "\n",
        "from tpot import TPOTClassifier\n",
        "from tpot.builtins import StackingEstimator\n",
        "\n",
        "from sklearn.metrics import accuracy_score\n",
        "from sklearn.metrics import plot_confusion_matrix\n",
        "from sklearn.metrics import roc_auc_score\n",
        "from sklearn.metrics import classification_report\n",
        "\n"
      ],
      "execution_count": null,
      "outputs": []
    },
    {
      "cell_type": "code",
      "metadata": {
        "id": "8kqXu1_msaJC"
      },
      "source": [
        "path = \"https://raw.githubusercontent.com/RPGraciotti/BootCampAlura/main/Data/data_clean_ohe.csv\""
      ],
      "execution_count": null,
      "outputs": []
    },
    {
      "cell_type": "code",
      "metadata": {
        "id": "jpSS_mHKpKcO"
      },
      "source": [
        "df_clean = pd.read_csv(path)\n",
        "df_clean"
      ],
      "execution_count": null,
      "outputs": []
    },
    {
      "cell_type": "code",
      "metadata": {
        "id": "t5wzVluyO1ER"
      },
      "source": [
        "df_clean = df_clean.sample(frac = 1, random_state = 78329).reset_index(drop = True)\n",
        "x_columns = df_clean.columns\n",
        "y = df_clean.loc[:,\"ICU\"]\n",
        "x = df_clean.drop([\"PATIENT_VISIT_IDENTIFIER\", \"ICU\", \"WINDOW\"], axis = 1)"
      ],
      "execution_count": null,
      "outputs": []
    },
    {
      "cell_type": "code",
      "metadata": {
        "id": "tPq7LlfAN8RS"
      },
      "source": [
        "y = y.rename(\"target\")"
      ],
      "execution_count": null,
      "outputs": []
    },
    {
      "cell_type": "code",
      "metadata": {
        "id": "cVw9ANStOGPG"
      },
      "source": [
        "cv = RepeatedStratifiedKFold(n_splits = 5, n_repeats = 10, random_state = 78329)"
      ],
      "execution_count": null,
      "outputs": []
    },
    {
      "cell_type": "markdown",
      "metadata": {
        "id": "Yyoj3hK2_poI"
      },
      "source": [
        "TPOT"
      ]
    },
    {
      "cell_type": "markdown",
      "metadata": {
        "id": "T3uET1_LFErT"
      },
      "source": [
        "ACC"
      ]
    },
    {
      "cell_type": "code",
      "metadata": {
        "id": "hnGeXTj6FErb"
      },
      "source": [
        "ACC = TPOTClassifier(generations = 5, population_size = 20, cv = cv, \n",
        "                      scoring = \"accuracy\", verbosity = 2, random_state = 78329)"
      ],
      "execution_count": null,
      "outputs": []
    },
    {
      "cell_type": "code",
      "metadata": {
        "id": "REv6O1O6FErc"
      },
      "source": [
        "ACC.fit(x, y)"
      ],
      "execution_count": null,
      "outputs": []
    },
    {
      "cell_type": "code",
      "metadata": {
        "id": "80hQ0gkGFErd"
      },
      "source": [
        "ACC.export(\"shuffle_random_state_acc.py\")"
      ],
      "execution_count": null,
      "outputs": []
    },
    {
      "cell_type": "markdown",
      "metadata": {
        "id": "my0DXKCTElRS"
      },
      "source": [
        "PRECISION"
      ]
    },
    {
      "cell_type": "code",
      "metadata": {
        "id": "9BBwnUvBEm0P"
      },
      "source": [
        "Prec = TPOTClassifier(generations = 5, population_size = 20, cv = cv, \n",
        "                      scoring = \"precision\", verbosity = 2, random_state = 78329)"
      ],
      "execution_count": null,
      "outputs": []
    },
    {
      "cell_type": "code",
      "metadata": {
        "id": "EgMHA0njEz9X"
      },
      "source": [
        "Prec.fit(x, y)"
      ],
      "execution_count": null,
      "outputs": []
    },
    {
      "cell_type": "code",
      "metadata": {
        "id": "BYvLXTJdE2a7"
      },
      "source": [
        "Prec.export(\"shuffle_random_state_prec.py\")"
      ],
      "execution_count": null,
      "outputs": []
    },
    {
      "cell_type": "markdown",
      "metadata": {
        "id": "iupZC6zVl9kE"
      },
      "source": [
        "ROC AUC"
      ]
    },
    {
      "cell_type": "code",
      "metadata": {
        "id": "ADJ1cU4Jgcmn"
      },
      "source": [
        "ROC = TPOTClassifier(generations = 5, population_size = 20, cv = cv, \n",
        "                      scoring = \"roc_auc\", verbosity = 2, random_state = 78329)\n"
      ],
      "execution_count": null,
      "outputs": []
    },
    {
      "cell_type": "code",
      "metadata": {
        "id": "esw0LKTX_q07"
      },
      "source": [
        "ROC.fit(x, y)"
      ],
      "execution_count": null,
      "outputs": []
    },
    {
      "cell_type": "code",
      "metadata": {
        "id": "wUCHisIQ_q8C"
      },
      "source": [
        "ROC.export(\"shuffle_random_state_roc.py\")"
      ],
      "execution_count": null,
      "outputs": []
    },
    {
      "cell_type": "markdown",
      "metadata": {
        "id": "b26n5wYRDFfN"
      },
      "source": [
        "RECALL"
      ]
    },
    {
      "cell_type": "code",
      "metadata": {
        "id": "XdwaEEq8DGkM"
      },
      "source": [
        "REC = TPOTClassifier(generations = 50, population_size = 20, \n",
        "                      cv = cv, scoring = \"recall\", verbosity = 2, random_state = 78329)"
      ],
      "execution_count": null,
      "outputs": []
    },
    {
      "cell_type": "code",
      "metadata": {
        "id": "9Rzs81QbEmN5"
      },
      "source": [
        "REC.fit(x, y)"
      ],
      "execution_count": null,
      "outputs": []
    },
    {
      "cell_type": "code",
      "metadata": {
        "id": "JVmjf4q-En4Q"
      },
      "source": [
        "REC.export(\"shuffle_random_state_recall_50.py\")"
      ],
      "execution_count": null,
      "outputs": []
    },
    {
      "cell_type": "markdown",
      "metadata": {
        "id": "kLTJGrzuEqLs"
      },
      "source": [
        "F1"
      ]
    },
    {
      "cell_type": "code",
      "metadata": {
        "id": "_OkoAWIOErrH"
      },
      "source": [
        "F1 = TPOTClassifier(generations = 5, population_size = 20, cv = cv, \n",
        "                      scoring = \"f1\", verbosity = 2, random_state = 78329)"
      ],
      "execution_count": null,
      "outputs": []
    },
    {
      "cell_type": "code",
      "metadata": {
        "id": "dIiJ7DW1E6EK"
      },
      "source": [
        "F1.fit(x, y)"
      ],
      "execution_count": null,
      "outputs": []
    },
    {
      "cell_type": "code",
      "metadata": {
        "id": "RbEyR6CFE8FA"
      },
      "source": [
        "F1.export(\"shuffle_random_state_f1.py\")"
      ],
      "execution_count": null,
      "outputs": []
    }
  ]
}