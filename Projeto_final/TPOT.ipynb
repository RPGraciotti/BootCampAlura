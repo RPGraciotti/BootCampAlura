{
  "nbformat": 4,
  "nbformat_minor": 0,
  "metadata": {
    "colab": {
      "name": "TPOT.ipynb",
      "provenance": [],
      "collapsed_sections": [],
      "authorship_tag": "ABX9TyOD9GZDD1f5a25OYsm2MY25",
      "include_colab_link": true
    },
    "kernelspec": {
      "name": "python3",
      "display_name": "Python 3"
    },
    "language_info": {
      "name": "python"
    }
  },
  "cells": [
    {
      "cell_type": "markdown",
      "metadata": {
        "id": "view-in-github",
        "colab_type": "text"
      },
      "source": [
        "<a href=\"https://colab.research.google.com/github/RPGraciotti/BootCampAlura/blob/main/Projeto_final/TPOT.ipynb\" target=\"_parent\"><img src=\"https://colab.research.google.com/assets/colab-badge.svg\" alt=\"Open In Colab\"/></a>"
      ]
    },
    {
      "cell_type": "markdown",
      "metadata": {
        "id": "CDIcL1aFtbOV"
      },
      "source": [
        "# Seleção de modelos por AutoML\n",
        "\n",
        "Para a definição de quais modelos de ML buscar, eu optei por uma ferramenta de Auto Machine Learning, o [chamado AutoML](https://medium.com/data-hackers/automated-machine-learning-automl-parte-i-1d3219d57d31). Auto Machine Learning compreende uma série de etapas, de métodos e algoritmos desenvolvidos para buscar modelos, pipelines e otimizar parâmetros para um determinado propósito automaticamente. Existem diversas ferramentas que implementam AutoML, acessíveis a qualquer pessoa que faz uso da linguagem python, mesmo quem não tem muita familiaridade (como este que vos fala). \n",
        "Podemos citar o [Auto Sklearn](https://automl.github.io/auto-sklearn/master/), [HyperOpt](http://hyperopt.github.io/hyperopt-sklearn/), [LazyPredict](https://lazypredict.readthedocs.io/en/latest/#), [TPOT](http://epistasislab.github.io/tpot/), etc.\n",
        "\n",
        "Existem diversas vantagens e [também desvantagens](https://www.kdnuggets.com/2019/03/why-automl-wont-replace-data-scientists.html) associadas com o uso de ferramentas de AutoML, e seu uso também não é necessariamente trivial. Porém, são ferramentas extremamente úteis para se determinar um ponto de partida, podem ser utilizadas em etapas iniciais de um projeto para se delimitar seu escopo, e são ótimas ferramentas didáticas. Para este projeto, eu realizei testes com os algoritmos mencionados seguindo alguns [tutoriais](https://machinelearningmastery.com/automl-libraries-for-python/), e por fim preferi apresentar o uso do TPOT (Tree-based Pipeline Optmization Tool).\n",
        "\n",
        "Os pontos positivos que me atrairam no uso do TPOT foram a facilidade de implementação e exportação dos resultados, assim como a possibilidade de busca do melhor espaço de parâmetros, que as vezes é realizado com bibliotecas à parte do algoritmo de AutoML. Além disso, é possível determinar que a busca e validação dos modelos seja feita de forma bastante personalizada, a fim de atender a demanda do usuário dependendo do objetivo."
      ]
    },
    {
      "cell_type": "markdown",
      "metadata": {
        "id": "Iqij0GtE1q04"
      },
      "source": [
        "# TPOT\n",
        "\n",
        "![Logotipo TPOT](https://github.com/RPGraciotti/BootCampAlura/raw/main/Projeto_final/figs/tpot-logo.jpg)\n",
        "\n",
        "O objetivo do TPOT é determinar não somente um modelo de ML a ser aplicado, mas sim o melhor *Pipeline* a ser utilizado, incluindo etapas de pré-processamento. Também é possível buscar os melhores parâmetros daquele pipeline de forma conjunta. O raciocínio da aplicaçao do TPOT pode ser resumida na seguinte figura (disponível na própria [documentação](http://epistasislab.github.io/tpot/)):\n",
        "\n",
        "![descrição do funcionamento do TPOT](https://github.com/RPGraciotti/BootCampAlura/raw/main/Projeto_final/figs/tpot-ml-pipeline.png)\n",
        "\n",
        "Na página [\"como usar\"](http://epistasislab.github.io/tpot/) o TPOT, há uma série de exemplos e recomendações sobre como utilizar um algoritmo de AutoML, quais os cuidados a serem tomados, as limitações, etc. Estando ciente de que uma busca exaustiva envolve tempo e recursos, eu limitei alguns dos parâmetros de busca para que eu pudesse utilizá-lo de forma eficiente em um menor espaço de tempo e recursos computacionais. É possível instalá-lo facilmente pelo Google Colab, mas para uma busca exaustiva essa ferramenta acaba sendo relativamente limitada pelo limite de conexão. Portanto, os resultados apresentados aqui devem ser interpretados à luz de um exercício didático. Feitas as ressalvas necessárias, vou exemplificar o procedimento adotado."
      ]
    },
    {
      "cell_type": "markdown",
      "metadata": {
        "id": "BVfW3aQy5iqf"
      },
      "source": [
        "**Repare que algumas saídas desse notebook estão silenciadas, pois os procedimentos de aplicação do algoritmo foram aplicadas diversas vezes, em instâncias diferentes, e elas também tomam bastante tempo. Na hora de resumir tudo em um notebook para a construção da visualização do projeto final eu omiti as saídas de busca de modelos.**"
      ]
    },
    {
      "cell_type": "markdown",
      "metadata": {
        "id": "QBr6SNxa4uzU"
      },
      "source": [
        "A primeira etapa é instalar a biblioteca:"
      ]
    },
    {
      "cell_type": "code",
      "metadata": {
        "id": "wc6mXsYW-D80",
        "colab": {
          "base_uri": "https://localhost:8080/"
        },
        "outputId": "d3a45235-5e90-4f66-ded2-8820a8a79c19"
      },
      "source": [
        "pip install tpot"
      ],
      "execution_count": 1,
      "outputs": [
        {
          "output_type": "stream",
          "name": "stdout",
          "text": [
            "Requirement already satisfied: tpot in /usr/local/lib/python3.7/dist-packages (0.11.7)\n",
            "Requirement already satisfied: deap>=1.2 in /usr/local/lib/python3.7/dist-packages (from tpot) (1.3.1)\n",
            "Requirement already satisfied: numpy>=1.16.3 in /usr/local/lib/python3.7/dist-packages (from tpot) (1.19.5)\n",
            "Requirement already satisfied: joblib>=0.13.2 in /usr/local/lib/python3.7/dist-packages (from tpot) (1.0.1)\n",
            "Requirement already satisfied: scipy>=1.3.1 in /usr/local/lib/python3.7/dist-packages (from tpot) (1.4.1)\n",
            "Requirement already satisfied: pandas>=0.24.2 in /usr/local/lib/python3.7/dist-packages (from tpot) (1.1.5)\n",
            "Requirement already satisfied: tqdm>=4.36.1 in /usr/local/lib/python3.7/dist-packages (from tpot) (4.62.0)\n",
            "Requirement already satisfied: update-checker>=0.16 in /usr/local/lib/python3.7/dist-packages (from tpot) (0.18.0)\n",
            "Requirement already satisfied: stopit>=1.1.1 in /usr/local/lib/python3.7/dist-packages (from tpot) (1.1.2)\n",
            "Requirement already satisfied: xgboost>=1.1.0 in /usr/local/lib/python3.7/dist-packages (from tpot) (1.4.2)\n",
            "Requirement already satisfied: scikit-learn>=0.22.0 in /usr/local/lib/python3.7/dist-packages (from tpot) (0.22.2.post1)\n",
            "Requirement already satisfied: pytz>=2017.2 in /usr/local/lib/python3.7/dist-packages (from pandas>=0.24.2->tpot) (2018.9)\n",
            "Requirement already satisfied: python-dateutil>=2.7.3 in /usr/local/lib/python3.7/dist-packages (from pandas>=0.24.2->tpot) (2.8.2)\n",
            "Requirement already satisfied: six>=1.5 in /usr/local/lib/python3.7/dist-packages (from python-dateutil>=2.7.3->pandas>=0.24.2->tpot) (1.15.0)\n",
            "Requirement already satisfied: requests>=2.3.0 in /usr/local/lib/python3.7/dist-packages (from update-checker>=0.16->tpot) (2.23.0)\n",
            "Requirement already satisfied: idna<3,>=2.5 in /usr/local/lib/python3.7/dist-packages (from requests>=2.3.0->update-checker>=0.16->tpot) (2.10)\n",
            "Requirement already satisfied: chardet<4,>=3.0.2 in /usr/local/lib/python3.7/dist-packages (from requests>=2.3.0->update-checker>=0.16->tpot) (3.0.4)\n",
            "Requirement already satisfied: urllib3!=1.25.0,!=1.25.1,<1.26,>=1.21.1 in /usr/local/lib/python3.7/dist-packages (from requests>=2.3.0->update-checker>=0.16->tpot) (1.24.3)\n",
            "Requirement already satisfied: certifi>=2017.4.17 in /usr/local/lib/python3.7/dist-packages (from requests>=2.3.0->update-checker>=0.16->tpot) (2021.5.30)\n"
          ]
        }
      ]
    },
    {
      "cell_type": "markdown",
      "metadata": {
        "id": "62g9Iq1J40lF"
      },
      "source": [
        "Depois, definir as bibliotecas utilizadas nessa etapa. Numpy e pandas para importação e eventual manipuação do dataset, e algumas ferramentas do Slkearn para pré-processamento e validação de modelos."
      ]
    },
    {
      "cell_type": "code",
      "metadata": {
        "id": "B3syLkDDpmyt",
        "colab": {
          "base_uri": "https://localhost:8080/"
        },
        "outputId": "fbe30f24-884e-4902-c114-e1f7a8fb7ad3"
      },
      "source": [
        "import numpy as np\n",
        "import pandas as pd\n",
        "\n",
        "from sklearn.model_selection import train_test_split\n",
        "from sklearn.model_selection import RepeatedStratifiedKFold\n",
        "from sklearn.model_selection import cross_validate\n",
        "\n",
        "from tpot import TPOTClassifier"
      ],
      "execution_count": 2,
      "outputs": [
        {
          "output_type": "stream",
          "name": "stderr",
          "text": [
            "/usr/local/lib/python3.7/dist-packages/sklearn/externals/six.py:31: FutureWarning: The module is deprecated in version 0.21 and will be removed in version 0.23 since we've dropped support for Python 2.7. Please rely on the official version of six (https://pypi.org/project/six/).\n",
            "  \"(https://pypi.org/project/six/).\", FutureWarning)\n",
            "/usr/local/lib/python3.7/dist-packages/sklearn/utils/deprecation.py:144: FutureWarning: The sklearn.neighbors.base module is  deprecated in version 0.22 and will be removed in version 0.24. The corresponding classes / functions should instead be imported from sklearn.neighbors. Anything that cannot be imported from sklearn.neighbors is now part of the private API.\n",
            "  warnings.warn(message, FutureWarning)\n"
          ]
        }
      ]
    },
    {
      "cell_type": "markdown",
      "metadata": {
        "id": "h_1JeqaV5WxS"
      },
      "source": [
        "Leitura dos dados:"
      ]
    },
    {
      "cell_type": "code",
      "metadata": {
        "id": "8kqXu1_msaJC"
      },
      "source": [
        "path = \"https://raw.githubusercontent.com/RPGraciotti/BootCampAlura/main/Data/data_clean_ohe.csv\""
      ],
      "execution_count": 3,
      "outputs": []
    },
    {
      "cell_type": "code",
      "metadata": {
        "id": "jpSS_mHKpKcO",
        "colab": {
          "base_uri": "https://localhost:8080/",
          "height": 465
        },
        "outputId": "e89b0e7e-67c6-4097-af16-ed52e5e1b00d"
      },
      "source": [
        "df_clean = pd.read_csv(path)\n",
        "df_clean"
      ],
      "execution_count": 4,
      "outputs": [
        {
          "output_type": "execute_result",
          "data": {
            "text/html": [
              "<div>\n",
              "<style scoped>\n",
              "    .dataframe tbody tr th:only-of-type {\n",
              "        vertical-align: middle;\n",
              "    }\n",
              "\n",
              "    .dataframe tbody tr th {\n",
              "        vertical-align: top;\n",
              "    }\n",
              "\n",
              "    .dataframe thead th {\n",
              "        text-align: right;\n",
              "    }\n",
              "</style>\n",
              "<table border=\"1\" class=\"dataframe\">\n",
              "  <thead>\n",
              "    <tr style=\"text-align: right;\">\n",
              "      <th></th>\n",
              "      <th>PATIENT_VISIT_IDENTIFIER</th>\n",
              "      <th>AGE_ABOVE65</th>\n",
              "      <th>GENDER</th>\n",
              "      <th>DISEASE GROUPING 1</th>\n",
              "      <th>DISEASE GROUPING 2</th>\n",
              "      <th>DISEASE GROUPING 3</th>\n",
              "      <th>DISEASE GROUPING 4</th>\n",
              "      <th>DISEASE GROUPING 5</th>\n",
              "      <th>DISEASE GROUPING 6</th>\n",
              "      <th>HTN</th>\n",
              "      <th>IMMUNOCOMPROMISED</th>\n",
              "      <th>OTHER</th>\n",
              "      <th>AGE_PERCENTIL_10th</th>\n",
              "      <th>AGE_PERCENTIL_20th</th>\n",
              "      <th>AGE_PERCENTIL_30th</th>\n",
              "      <th>AGE_PERCENTIL_40th</th>\n",
              "      <th>AGE_PERCENTIL_50th</th>\n",
              "      <th>AGE_PERCENTIL_60th</th>\n",
              "      <th>AGE_PERCENTIL_70th</th>\n",
              "      <th>AGE_PERCENTIL_80th</th>\n",
              "      <th>AGE_PERCENTIL_90th</th>\n",
              "      <th>ALBUMIN_MEDIAN</th>\n",
              "      <th>BE_ARTERIAL_MEDIAN</th>\n",
              "      <th>BE_VENOUS_MEDIAN</th>\n",
              "      <th>BIC_ARTERIAL_MEDIAN</th>\n",
              "      <th>BIC_VENOUS_MEDIAN</th>\n",
              "      <th>BILLIRUBIN_MEDIAN</th>\n",
              "      <th>BLAST_MEDIAN</th>\n",
              "      <th>CALCIUM_MEDIAN</th>\n",
              "      <th>CREATININ_MEDIAN</th>\n",
              "      <th>FFA_MEDIAN</th>\n",
              "      <th>GGT_MEDIAN</th>\n",
              "      <th>GLUCOSE_MEDIAN</th>\n",
              "      <th>HEMATOCRITE_MEDIAN</th>\n",
              "      <th>INR_MEDIAN</th>\n",
              "      <th>LACTATE_MEDIAN</th>\n",
              "      <th>LEUKOCYTES_MEDIAN</th>\n",
              "      <th>LINFOCITOS_MEDIAN</th>\n",
              "      <th>P02_VENOUS_MEDIAN</th>\n",
              "      <th>PC02_ARTERIAL_MEDIAN</th>\n",
              "      <th>PC02_VENOUS_MEDIAN</th>\n",
              "      <th>PCR_MEDIAN</th>\n",
              "      <th>PH_VENOUS_MEDIAN</th>\n",
              "      <th>PLATELETS_MEDIAN</th>\n",
              "      <th>POTASSIUM_MEDIAN</th>\n",
              "      <th>SAT02_VENOUS_MEDIAN</th>\n",
              "      <th>SODIUM_MEDIAN</th>\n",
              "      <th>TGO_MEDIAN</th>\n",
              "      <th>TGP_MEDIAN</th>\n",
              "      <th>TTPA_MEDIAN</th>\n",
              "      <th>UREA_MEDIAN</th>\n",
              "      <th>DIMER_MEDIAN</th>\n",
              "      <th>BLOODPRESSURE_DIASTOLIC_MEAN</th>\n",
              "      <th>BLOODPRESSURE_SISTOLIC_MEAN</th>\n",
              "      <th>HEART_RATE_MEAN</th>\n",
              "      <th>RESPIRATORY_RATE_MEAN</th>\n",
              "      <th>TEMPERATURE_MEAN</th>\n",
              "      <th>OXYGEN_SATURATION_MEAN</th>\n",
              "      <th>OXYGEN_SATURATION_MIN</th>\n",
              "      <th>OXYGEN_SATURATION_MAX</th>\n",
              "      <th>BLOODPRESSURE_DIASTOLIC_DIFF</th>\n",
              "      <th>BLOODPRESSURE_SISTOLIC_DIFF</th>\n",
              "      <th>HEART_RATE_DIFF</th>\n",
              "      <th>RESPIRATORY_RATE_DIFF</th>\n",
              "      <th>TEMPERATURE_DIFF</th>\n",
              "      <th>OXYGEN_SATURATION_DIFF</th>\n",
              "      <th>HEART_RATE_DIFF_REL</th>\n",
              "      <th>WINDOW</th>\n",
              "      <th>ICU</th>\n",
              "    </tr>\n",
              "  </thead>\n",
              "  <tbody>\n",
              "    <tr>\n",
              "      <th>0</th>\n",
              "      <td>0</td>\n",
              "      <td>1</td>\n",
              "      <td>0</td>\n",
              "      <td>0.0</td>\n",
              "      <td>0.0</td>\n",
              "      <td>0.0</td>\n",
              "      <td>0.0</td>\n",
              "      <td>1.0</td>\n",
              "      <td>1.0</td>\n",
              "      <td>0.0</td>\n",
              "      <td>0.0</td>\n",
              "      <td>1.0</td>\n",
              "      <td>0</td>\n",
              "      <td>0</td>\n",
              "      <td>0</td>\n",
              "      <td>0</td>\n",
              "      <td>0</td>\n",
              "      <td>1</td>\n",
              "      <td>0</td>\n",
              "      <td>0</td>\n",
              "      <td>0</td>\n",
              "      <td>0.605263</td>\n",
              "      <td>-1.0</td>\n",
              "      <td>-1.000000</td>\n",
              "      <td>-0.317073</td>\n",
              "      <td>-0.317073</td>\n",
              "      <td>-0.938950</td>\n",
              "      <td>-1.0</td>\n",
              "      <td>0.183673</td>\n",
              "      <td>-0.868365</td>\n",
              "      <td>-0.742004</td>\n",
              "      <td>-0.945093</td>\n",
              "      <td>-0.891993</td>\n",
              "      <td>0.090147</td>\n",
              "      <td>-0.932246</td>\n",
              "      <td>1.000000</td>\n",
              "      <td>-0.835844</td>\n",
              "      <td>-0.914938</td>\n",
              "      <td>-0.704142</td>\n",
              "      <td>-0.77931</td>\n",
              "      <td>-0.754601</td>\n",
              "      <td>-0.875236</td>\n",
              "      <td>0.363636</td>\n",
              "      <td>-0.540721</td>\n",
              "      <td>-0.518519</td>\n",
              "      <td>0.345679</td>\n",
              "      <td>-0.028571</td>\n",
              "      <td>-0.997201</td>\n",
              "      <td>-0.990854</td>\n",
              "      <td>-0.825613</td>\n",
              "      <td>-0.836145</td>\n",
              "      <td>-0.994912</td>\n",
              "      <td>0.086420</td>\n",
              "      <td>-0.230769</td>\n",
              "      <td>-0.283019</td>\n",
              "      <td>-0.593220</td>\n",
              "      <td>-0.285714</td>\n",
              "      <td>0.736842</td>\n",
              "      <td>0.898990</td>\n",
              "      <td>0.736842</td>\n",
              "      <td>-1.000000</td>\n",
              "      <td>-1.000000</td>\n",
              "      <td>-1.000000</td>\n",
              "      <td>-1.000000</td>\n",
              "      <td>-1.000000</td>\n",
              "      <td>-1.000000</td>\n",
              "      <td>-1.000000</td>\n",
              "      <td>0-2</td>\n",
              "      <td>1</td>\n",
              "    </tr>\n",
              "    <tr>\n",
              "      <th>1</th>\n",
              "      <td>2</td>\n",
              "      <td>0</td>\n",
              "      <td>0</td>\n",
              "      <td>0.0</td>\n",
              "      <td>0.0</td>\n",
              "      <td>0.0</td>\n",
              "      <td>0.0</td>\n",
              "      <td>0.0</td>\n",
              "      <td>0.0</td>\n",
              "      <td>0.0</td>\n",
              "      <td>0.0</td>\n",
              "      <td>1.0</td>\n",
              "      <td>1</td>\n",
              "      <td>0</td>\n",
              "      <td>0</td>\n",
              "      <td>0</td>\n",
              "      <td>0</td>\n",
              "      <td>0</td>\n",
              "      <td>0</td>\n",
              "      <td>0</td>\n",
              "      <td>0</td>\n",
              "      <td>0.605263</td>\n",
              "      <td>-1.0</td>\n",
              "      <td>-1.000000</td>\n",
              "      <td>-0.317073</td>\n",
              "      <td>-0.317073</td>\n",
              "      <td>-0.938950</td>\n",
              "      <td>-1.0</td>\n",
              "      <td>0.357143</td>\n",
              "      <td>-0.912243</td>\n",
              "      <td>-0.742004</td>\n",
              "      <td>-0.958528</td>\n",
              "      <td>-0.780261</td>\n",
              "      <td>0.144654</td>\n",
              "      <td>-0.959849</td>\n",
              "      <td>1.000000</td>\n",
              "      <td>-0.382773</td>\n",
              "      <td>-0.908714</td>\n",
              "      <td>-0.704142</td>\n",
              "      <td>-0.77931</td>\n",
              "      <td>-0.754601</td>\n",
              "      <td>-0.939887</td>\n",
              "      <td>0.363636</td>\n",
              "      <td>-0.399199</td>\n",
              "      <td>-0.703704</td>\n",
              "      <td>0.345679</td>\n",
              "      <td>0.085714</td>\n",
              "      <td>-0.995428</td>\n",
              "      <td>-0.986662</td>\n",
              "      <td>-0.846633</td>\n",
              "      <td>-0.836145</td>\n",
              "      <td>-0.978029</td>\n",
              "      <td>-0.489712</td>\n",
              "      <td>-0.685470</td>\n",
              "      <td>-0.048218</td>\n",
              "      <td>-0.645951</td>\n",
              "      <td>0.357143</td>\n",
              "      <td>0.935673</td>\n",
              "      <td>0.959596</td>\n",
              "      <td>1.000000</td>\n",
              "      <td>-0.547826</td>\n",
              "      <td>-0.533742</td>\n",
              "      <td>-0.603053</td>\n",
              "      <td>-0.764706</td>\n",
              "      <td>-1.000000</td>\n",
              "      <td>-0.959596</td>\n",
              "      <td>-0.747001</td>\n",
              "      <td>0-2</td>\n",
              "      <td>1</td>\n",
              "    </tr>\n",
              "    <tr>\n",
              "      <th>2</th>\n",
              "      <td>3</td>\n",
              "      <td>0</td>\n",
              "      <td>1</td>\n",
              "      <td>0.0</td>\n",
              "      <td>0.0</td>\n",
              "      <td>0.0</td>\n",
              "      <td>0.0</td>\n",
              "      <td>0.0</td>\n",
              "      <td>0.0</td>\n",
              "      <td>0.0</td>\n",
              "      <td>1.0</td>\n",
              "      <td>1.0</td>\n",
              "      <td>0</td>\n",
              "      <td>0</td>\n",
              "      <td>0</td>\n",
              "      <td>1</td>\n",
              "      <td>0</td>\n",
              "      <td>0</td>\n",
              "      <td>0</td>\n",
              "      <td>0</td>\n",
              "      <td>0</td>\n",
              "      <td>-0.263158</td>\n",
              "      <td>-1.0</td>\n",
              "      <td>-1.000000</td>\n",
              "      <td>-0.317073</td>\n",
              "      <td>-0.317073</td>\n",
              "      <td>-0.972789</td>\n",
              "      <td>-1.0</td>\n",
              "      <td>0.326531</td>\n",
              "      <td>-0.968861</td>\n",
              "      <td>-0.194030</td>\n",
              "      <td>-0.316589</td>\n",
              "      <td>-0.891993</td>\n",
              "      <td>-0.203354</td>\n",
              "      <td>-0.959849</td>\n",
              "      <td>-0.828421</td>\n",
              "      <td>-0.729239</td>\n",
              "      <td>-0.836100</td>\n",
              "      <td>-0.633136</td>\n",
              "      <td>-0.77931</td>\n",
              "      <td>-0.779141</td>\n",
              "      <td>-0.503592</td>\n",
              "      <td>0.363636</td>\n",
              "      <td>-0.564753</td>\n",
              "      <td>-0.777778</td>\n",
              "      <td>0.580247</td>\n",
              "      <td>0.200000</td>\n",
              "      <td>-0.989549</td>\n",
              "      <td>-0.956555</td>\n",
              "      <td>-0.846633</td>\n",
              "      <td>-0.937349</td>\n",
              "      <td>-0.978029</td>\n",
              "      <td>0.012346</td>\n",
              "      <td>-0.369231</td>\n",
              "      <td>-0.528302</td>\n",
              "      <td>-0.457627</td>\n",
              "      <td>-0.285714</td>\n",
              "      <td>0.684211</td>\n",
              "      <td>0.878788</td>\n",
              "      <td>0.684211</td>\n",
              "      <td>-1.000000</td>\n",
              "      <td>-1.000000</td>\n",
              "      <td>-1.000000</td>\n",
              "      <td>-1.000000</td>\n",
              "      <td>-1.000000</td>\n",
              "      <td>-1.000000</td>\n",
              "      <td>-1.000000</td>\n",
              "      <td>0-2</td>\n",
              "      <td>0</td>\n",
              "    </tr>\n",
              "    <tr>\n",
              "      <th>3</th>\n",
              "      <td>4</td>\n",
              "      <td>0</td>\n",
              "      <td>0</td>\n",
              "      <td>0.0</td>\n",
              "      <td>0.0</td>\n",
              "      <td>0.0</td>\n",
              "      <td>0.0</td>\n",
              "      <td>0.0</td>\n",
              "      <td>0.0</td>\n",
              "      <td>0.0</td>\n",
              "      <td>0.0</td>\n",
              "      <td>1.0</td>\n",
              "      <td>1</td>\n",
              "      <td>0</td>\n",
              "      <td>0</td>\n",
              "      <td>0</td>\n",
              "      <td>0</td>\n",
              "      <td>0</td>\n",
              "      <td>0</td>\n",
              "      <td>0</td>\n",
              "      <td>0</td>\n",
              "      <td>0.605263</td>\n",
              "      <td>-1.0</td>\n",
              "      <td>-1.000000</td>\n",
              "      <td>-0.317073</td>\n",
              "      <td>-0.317073</td>\n",
              "      <td>-0.935113</td>\n",
              "      <td>-1.0</td>\n",
              "      <td>0.357143</td>\n",
              "      <td>-0.913659</td>\n",
              "      <td>-0.829424</td>\n",
              "      <td>-0.938084</td>\n",
              "      <td>-0.851024</td>\n",
              "      <td>0.358491</td>\n",
              "      <td>-0.959849</td>\n",
              "      <td>1.000000</td>\n",
              "      <td>-0.702202</td>\n",
              "      <td>-0.641079</td>\n",
              "      <td>-0.704142</td>\n",
              "      <td>-0.77931</td>\n",
              "      <td>-0.754601</td>\n",
              "      <td>-0.990926</td>\n",
              "      <td>0.363636</td>\n",
              "      <td>-0.457944</td>\n",
              "      <td>-0.592593</td>\n",
              "      <td>0.345679</td>\n",
              "      <td>0.142857</td>\n",
              "      <td>-0.998507</td>\n",
              "      <td>-0.991235</td>\n",
              "      <td>-0.846633</td>\n",
              "      <td>-0.903614</td>\n",
              "      <td>-1.000000</td>\n",
              "      <td>0.333333</td>\n",
              "      <td>-0.153846</td>\n",
              "      <td>0.160377</td>\n",
              "      <td>-0.593220</td>\n",
              "      <td>0.285714</td>\n",
              "      <td>0.868421</td>\n",
              "      <td>0.939394</td>\n",
              "      <td>0.894737</td>\n",
              "      <td>-1.000000</td>\n",
              "      <td>-0.877301</td>\n",
              "      <td>-0.923664</td>\n",
              "      <td>-0.882353</td>\n",
              "      <td>-0.952381</td>\n",
              "      <td>-0.979798</td>\n",
              "      <td>-0.956805</td>\n",
              "      <td>0-2</td>\n",
              "      <td>0</td>\n",
              "    </tr>\n",
              "    <tr>\n",
              "      <th>4</th>\n",
              "      <td>5</td>\n",
              "      <td>0</td>\n",
              "      <td>0</td>\n",
              "      <td>0.0</td>\n",
              "      <td>0.0</td>\n",
              "      <td>0.0</td>\n",
              "      <td>0.0</td>\n",
              "      <td>0.0</td>\n",
              "      <td>0.0</td>\n",
              "      <td>0.0</td>\n",
              "      <td>0.0</td>\n",
              "      <td>1.0</td>\n",
              "      <td>1</td>\n",
              "      <td>0</td>\n",
              "      <td>0</td>\n",
              "      <td>0</td>\n",
              "      <td>0</td>\n",
              "      <td>0</td>\n",
              "      <td>0</td>\n",
              "      <td>0</td>\n",
              "      <td>0</td>\n",
              "      <td>0.605263</td>\n",
              "      <td>-1.0</td>\n",
              "      <td>-1.000000</td>\n",
              "      <td>-0.317073</td>\n",
              "      <td>-0.317073</td>\n",
              "      <td>-0.938950</td>\n",
              "      <td>-1.0</td>\n",
              "      <td>0.357143</td>\n",
              "      <td>-0.891012</td>\n",
              "      <td>-0.742004</td>\n",
              "      <td>-0.958528</td>\n",
              "      <td>-0.891993</td>\n",
              "      <td>0.291405</td>\n",
              "      <td>-0.959849</td>\n",
              "      <td>1.000000</td>\n",
              "      <td>-0.706450</td>\n",
              "      <td>-0.340249</td>\n",
              "      <td>-0.704142</td>\n",
              "      <td>-0.77931</td>\n",
              "      <td>-0.754601</td>\n",
              "      <td>-0.997732</td>\n",
              "      <td>0.363636</td>\n",
              "      <td>-0.292390</td>\n",
              "      <td>-0.666667</td>\n",
              "      <td>0.345679</td>\n",
              "      <td>0.085714</td>\n",
              "      <td>-0.997947</td>\n",
              "      <td>-0.988948</td>\n",
              "      <td>-0.846633</td>\n",
              "      <td>-0.884337</td>\n",
              "      <td>-1.000000</td>\n",
              "      <td>-0.037037</td>\n",
              "      <td>-0.538462</td>\n",
              "      <td>-0.537736</td>\n",
              "      <td>-0.525424</td>\n",
              "      <td>-0.196429</td>\n",
              "      <td>0.815789</td>\n",
              "      <td>0.919192</td>\n",
              "      <td>0.842105</td>\n",
              "      <td>-0.826087</td>\n",
              "      <td>-0.754601</td>\n",
              "      <td>-0.984733</td>\n",
              "      <td>-1.000000</td>\n",
              "      <td>-0.976190</td>\n",
              "      <td>-0.979798</td>\n",
              "      <td>-0.986481</td>\n",
              "      <td>0-2</td>\n",
              "      <td>0</td>\n",
              "    </tr>\n",
              "    <tr>\n",
              "      <th>...</th>\n",
              "      <td>...</td>\n",
              "      <td>...</td>\n",
              "      <td>...</td>\n",
              "      <td>...</td>\n",
              "      <td>...</td>\n",
              "      <td>...</td>\n",
              "      <td>...</td>\n",
              "      <td>...</td>\n",
              "      <td>...</td>\n",
              "      <td>...</td>\n",
              "      <td>...</td>\n",
              "      <td>...</td>\n",
              "      <td>...</td>\n",
              "      <td>...</td>\n",
              "      <td>...</td>\n",
              "      <td>...</td>\n",
              "      <td>...</td>\n",
              "      <td>...</td>\n",
              "      <td>...</td>\n",
              "      <td>...</td>\n",
              "      <td>...</td>\n",
              "      <td>...</td>\n",
              "      <td>...</td>\n",
              "      <td>...</td>\n",
              "      <td>...</td>\n",
              "      <td>...</td>\n",
              "      <td>...</td>\n",
              "      <td>...</td>\n",
              "      <td>...</td>\n",
              "      <td>...</td>\n",
              "      <td>...</td>\n",
              "      <td>...</td>\n",
              "      <td>...</td>\n",
              "      <td>...</td>\n",
              "      <td>...</td>\n",
              "      <td>...</td>\n",
              "      <td>...</td>\n",
              "      <td>...</td>\n",
              "      <td>...</td>\n",
              "      <td>...</td>\n",
              "      <td>...</td>\n",
              "      <td>...</td>\n",
              "      <td>...</td>\n",
              "      <td>...</td>\n",
              "      <td>...</td>\n",
              "      <td>...</td>\n",
              "      <td>...</td>\n",
              "      <td>...</td>\n",
              "      <td>...</td>\n",
              "      <td>...</td>\n",
              "      <td>...</td>\n",
              "      <td>...</td>\n",
              "      <td>...</td>\n",
              "      <td>...</td>\n",
              "      <td>...</td>\n",
              "      <td>...</td>\n",
              "      <td>...</td>\n",
              "      <td>...</td>\n",
              "      <td>...</td>\n",
              "      <td>...</td>\n",
              "      <td>...</td>\n",
              "      <td>...</td>\n",
              "      <td>...</td>\n",
              "      <td>...</td>\n",
              "      <td>...</td>\n",
              "      <td>...</td>\n",
              "      <td>...</td>\n",
              "      <td>...</td>\n",
              "      <td>...</td>\n",
              "    </tr>\n",
              "    <tr>\n",
              "      <th>289</th>\n",
              "      <td>380</td>\n",
              "      <td>0</td>\n",
              "      <td>1</td>\n",
              "      <td>0.0</td>\n",
              "      <td>0.0</td>\n",
              "      <td>0.0</td>\n",
              "      <td>0.0</td>\n",
              "      <td>0.0</td>\n",
              "      <td>0.0</td>\n",
              "      <td>0.0</td>\n",
              "      <td>1.0</td>\n",
              "      <td>1.0</td>\n",
              "      <td>0</td>\n",
              "      <td>0</td>\n",
              "      <td>0</td>\n",
              "      <td>1</td>\n",
              "      <td>0</td>\n",
              "      <td>0</td>\n",
              "      <td>0</td>\n",
              "      <td>0</td>\n",
              "      <td>0</td>\n",
              "      <td>-0.578947</td>\n",
              "      <td>-1.0</td>\n",
              "      <td>-1.000000</td>\n",
              "      <td>-0.317073</td>\n",
              "      <td>-0.317073</td>\n",
              "      <td>-0.293564</td>\n",
              "      <td>-1.0</td>\n",
              "      <td>0.326531</td>\n",
              "      <td>-0.937721</td>\n",
              "      <td>1.000000</td>\n",
              "      <td>-0.147196</td>\n",
              "      <td>-0.824953</td>\n",
              "      <td>-0.253669</td>\n",
              "      <td>-0.806775</td>\n",
              "      <td>1.000000</td>\n",
              "      <td>-0.704519</td>\n",
              "      <td>-0.879668</td>\n",
              "      <td>-0.704142</td>\n",
              "      <td>-0.77931</td>\n",
              "      <td>-0.754601</td>\n",
              "      <td>-0.565974</td>\n",
              "      <td>0.363636</td>\n",
              "      <td>-0.895861</td>\n",
              "      <td>-0.629630</td>\n",
              "      <td>0.345679</td>\n",
              "      <td>-0.428571</td>\n",
              "      <td>-0.925725</td>\n",
              "      <td>-0.981326</td>\n",
              "      <td>-0.629428</td>\n",
              "      <td>-0.860241</td>\n",
              "      <td>-0.978029</td>\n",
              "      <td>-0.160494</td>\n",
              "      <td>-0.692308</td>\n",
              "      <td>0.339623</td>\n",
              "      <td>-0.457627</td>\n",
              "      <td>0.142857</td>\n",
              "      <td>0.736842</td>\n",
              "      <td>0.898990</td>\n",
              "      <td>0.736842</td>\n",
              "      <td>-1.000000</td>\n",
              "      <td>-1.000000</td>\n",
              "      <td>-1.000000</td>\n",
              "      <td>-1.000000</td>\n",
              "      <td>-1.000000</td>\n",
              "      <td>-1.000000</td>\n",
              "      <td>-1.000000</td>\n",
              "      <td>0-2</td>\n",
              "      <td>1</td>\n",
              "    </tr>\n",
              "    <tr>\n",
              "      <th>290</th>\n",
              "      <td>381</td>\n",
              "      <td>1</td>\n",
              "      <td>0</td>\n",
              "      <td>0.0</td>\n",
              "      <td>0.0</td>\n",
              "      <td>0.0</td>\n",
              "      <td>0.0</td>\n",
              "      <td>0.0</td>\n",
              "      <td>0.0</td>\n",
              "      <td>0.0</td>\n",
              "      <td>1.0</td>\n",
              "      <td>1.0</td>\n",
              "      <td>0</td>\n",
              "      <td>0</td>\n",
              "      <td>0</td>\n",
              "      <td>0</td>\n",
              "      <td>0</td>\n",
              "      <td>0</td>\n",
              "      <td>0</td>\n",
              "      <td>0</td>\n",
              "      <td>0</td>\n",
              "      <td>0.605263</td>\n",
              "      <td>-1.0</td>\n",
              "      <td>-1.000000</td>\n",
              "      <td>-0.317073</td>\n",
              "      <td>-0.317073</td>\n",
              "      <td>-0.938950</td>\n",
              "      <td>-1.0</td>\n",
              "      <td>0.285714</td>\n",
              "      <td>-0.886766</td>\n",
              "      <td>-0.742004</td>\n",
              "      <td>-0.958528</td>\n",
              "      <td>-0.891993</td>\n",
              "      <td>-0.241090</td>\n",
              "      <td>-0.959849</td>\n",
              "      <td>1.000000</td>\n",
              "      <td>-0.794129</td>\n",
              "      <td>-0.921162</td>\n",
              "      <td>-0.704142</td>\n",
              "      <td>-0.77931</td>\n",
              "      <td>-0.754601</td>\n",
              "      <td>-0.993195</td>\n",
              "      <td>0.363636</td>\n",
              "      <td>-0.516689</td>\n",
              "      <td>-0.518519</td>\n",
              "      <td>0.345679</td>\n",
              "      <td>-0.314286</td>\n",
              "      <td>-0.998507</td>\n",
              "      <td>-0.995808</td>\n",
              "      <td>-0.846633</td>\n",
              "      <td>-0.855422</td>\n",
              "      <td>-0.978029</td>\n",
              "      <td>-0.407407</td>\n",
              "      <td>-0.692308</td>\n",
              "      <td>-0.283019</td>\n",
              "      <td>-0.457627</td>\n",
              "      <td>-0.059524</td>\n",
              "      <td>0.526316</td>\n",
              "      <td>0.818182</td>\n",
              "      <td>0.526316</td>\n",
              "      <td>-1.000000</td>\n",
              "      <td>-1.000000</td>\n",
              "      <td>-1.000000</td>\n",
              "      <td>-1.000000</td>\n",
              "      <td>-0.619048</td>\n",
              "      <td>-1.000000</td>\n",
              "      <td>-1.000000</td>\n",
              "      <td>0-2</td>\n",
              "      <td>0</td>\n",
              "    </tr>\n",
              "    <tr>\n",
              "      <th>291</th>\n",
              "      <td>382</td>\n",
              "      <td>0</td>\n",
              "      <td>0</td>\n",
              "      <td>0.0</td>\n",
              "      <td>0.0</td>\n",
              "      <td>0.0</td>\n",
              "      <td>0.0</td>\n",
              "      <td>0.0</td>\n",
              "      <td>0.0</td>\n",
              "      <td>0.0</td>\n",
              "      <td>0.0</td>\n",
              "      <td>0.0</td>\n",
              "      <td>0</td>\n",
              "      <td>0</td>\n",
              "      <td>0</td>\n",
              "      <td>0</td>\n",
              "      <td>1</td>\n",
              "      <td>0</td>\n",
              "      <td>0</td>\n",
              "      <td>0</td>\n",
              "      <td>0</td>\n",
              "      <td>0.605263</td>\n",
              "      <td>-1.0</td>\n",
              "      <td>-1.000000</td>\n",
              "      <td>-0.317073</td>\n",
              "      <td>-0.317073</td>\n",
              "      <td>-0.938950</td>\n",
              "      <td>-1.0</td>\n",
              "      <td>0.357143</td>\n",
              "      <td>-0.905166</td>\n",
              "      <td>-0.742004</td>\n",
              "      <td>-0.958528</td>\n",
              "      <td>-0.891993</td>\n",
              "      <td>0.064990</td>\n",
              "      <td>-0.959849</td>\n",
              "      <td>1.000000</td>\n",
              "      <td>-0.718038</td>\n",
              "      <td>-0.838174</td>\n",
              "      <td>-0.704142</td>\n",
              "      <td>-0.77931</td>\n",
              "      <td>-0.754601</td>\n",
              "      <td>-0.034405</td>\n",
              "      <td>0.363636</td>\n",
              "      <td>-0.658211</td>\n",
              "      <td>-0.407407</td>\n",
              "      <td>0.345679</td>\n",
              "      <td>-0.085714</td>\n",
              "      <td>-0.995428</td>\n",
              "      <td>-0.986662</td>\n",
              "      <td>-0.846633</td>\n",
              "      <td>-0.787952</td>\n",
              "      <td>-0.964461</td>\n",
              "      <td>0.012346</td>\n",
              "      <td>-0.384615</td>\n",
              "      <td>-0.320755</td>\n",
              "      <td>-0.457627</td>\n",
              "      <td>-0.071429</td>\n",
              "      <td>0.894737</td>\n",
              "      <td>0.959596</td>\n",
              "      <td>0.894737</td>\n",
              "      <td>-1.000000</td>\n",
              "      <td>-1.000000</td>\n",
              "      <td>-1.000000</td>\n",
              "      <td>-1.000000</td>\n",
              "      <td>-1.000000</td>\n",
              "      <td>-1.000000</td>\n",
              "      <td>-1.000000</td>\n",
              "      <td>0-2</td>\n",
              "      <td>1</td>\n",
              "    </tr>\n",
              "    <tr>\n",
              "      <th>292</th>\n",
              "      <td>383</td>\n",
              "      <td>0</td>\n",
              "      <td>1</td>\n",
              "      <td>0.0</td>\n",
              "      <td>0.0</td>\n",
              "      <td>0.0</td>\n",
              "      <td>0.0</td>\n",
              "      <td>0.0</td>\n",
              "      <td>0.0</td>\n",
              "      <td>0.0</td>\n",
              "      <td>0.0</td>\n",
              "      <td>0.0</td>\n",
              "      <td>0</td>\n",
              "      <td>0</td>\n",
              "      <td>0</td>\n",
              "      <td>1</td>\n",
              "      <td>0</td>\n",
              "      <td>0</td>\n",
              "      <td>0</td>\n",
              "      <td>0</td>\n",
              "      <td>0</td>\n",
              "      <td>0.605263</td>\n",
              "      <td>-1.0</td>\n",
              "      <td>-1.000000</td>\n",
              "      <td>-0.317073</td>\n",
              "      <td>-0.317073</td>\n",
              "      <td>-0.938950</td>\n",
              "      <td>-1.0</td>\n",
              "      <td>0.357143</td>\n",
              "      <td>-0.922151</td>\n",
              "      <td>-0.742004</td>\n",
              "      <td>-0.958528</td>\n",
              "      <td>-0.843575</td>\n",
              "      <td>-0.069182</td>\n",
              "      <td>-0.959849</td>\n",
              "      <td>1.000000</td>\n",
              "      <td>-0.877559</td>\n",
              "      <td>-0.819502</td>\n",
              "      <td>-0.704142</td>\n",
              "      <td>-0.77931</td>\n",
              "      <td>-0.754601</td>\n",
              "      <td>-0.804159</td>\n",
              "      <td>0.363636</td>\n",
              "      <td>-0.623498</td>\n",
              "      <td>-0.555556</td>\n",
              "      <td>0.345679</td>\n",
              "      <td>0.085714</td>\n",
              "      <td>-0.995428</td>\n",
              "      <td>-0.986662</td>\n",
              "      <td>-0.846633</td>\n",
              "      <td>-0.937349</td>\n",
              "      <td>-0.978029</td>\n",
              "      <td>0.086420</td>\n",
              "      <td>-0.230769</td>\n",
              "      <td>-0.301887</td>\n",
              "      <td>-0.661017</td>\n",
              "      <td>-0.107143</td>\n",
              "      <td>0.736842</td>\n",
              "      <td>0.898990</td>\n",
              "      <td>0.736842</td>\n",
              "      <td>-1.000000</td>\n",
              "      <td>-1.000000</td>\n",
              "      <td>-1.000000</td>\n",
              "      <td>-1.000000</td>\n",
              "      <td>-1.000000</td>\n",
              "      <td>-1.000000</td>\n",
              "      <td>-1.000000</td>\n",
              "      <td>0-2</td>\n",
              "      <td>0</td>\n",
              "    </tr>\n",
              "    <tr>\n",
              "      <th>293</th>\n",
              "      <td>384</td>\n",
              "      <td>0</td>\n",
              "      <td>1</td>\n",
              "      <td>0.0</td>\n",
              "      <td>0.0</td>\n",
              "      <td>0.0</td>\n",
              "      <td>0.0</td>\n",
              "      <td>0.0</td>\n",
              "      <td>0.0</td>\n",
              "      <td>0.0</td>\n",
              "      <td>0.0</td>\n",
              "      <td>1.0</td>\n",
              "      <td>0</td>\n",
              "      <td>0</td>\n",
              "      <td>0</td>\n",
              "      <td>0</td>\n",
              "      <td>1</td>\n",
              "      <td>0</td>\n",
              "      <td>0</td>\n",
              "      <td>0</td>\n",
              "      <td>0</td>\n",
              "      <td>0.605263</td>\n",
              "      <td>-1.0</td>\n",
              "      <td>-0.717277</td>\n",
              "      <td>-0.317073</td>\n",
              "      <td>-0.170732</td>\n",
              "      <td>-0.982208</td>\n",
              "      <td>-1.0</td>\n",
              "      <td>0.244898</td>\n",
              "      <td>-0.934890</td>\n",
              "      <td>-0.782516</td>\n",
              "      <td>-0.960280</td>\n",
              "      <td>-0.862197</td>\n",
              "      <td>-0.064990</td>\n",
              "      <td>-0.957340</td>\n",
              "      <td>-0.897773</td>\n",
              "      <td>-0.848590</td>\n",
              "      <td>-0.686722</td>\n",
              "      <td>-0.857988</td>\n",
              "      <td>-0.77931</td>\n",
              "      <td>-0.730061</td>\n",
              "      <td>-0.906238</td>\n",
              "      <td>0.424242</td>\n",
              "      <td>-0.479306</td>\n",
              "      <td>-0.333333</td>\n",
              "      <td>-0.333333</td>\n",
              "      <td>-0.085714</td>\n",
              "      <td>-0.997387</td>\n",
              "      <td>-0.992378</td>\n",
              "      <td>-0.869210</td>\n",
              "      <td>-0.879518</td>\n",
              "      <td>-0.979571</td>\n",
              "      <td>0.012346</td>\n",
              "      <td>-0.292308</td>\n",
              "      <td>0.056604</td>\n",
              "      <td>-0.525424</td>\n",
              "      <td>0.535714</td>\n",
              "      <td>0.789474</td>\n",
              "      <td>0.919192</td>\n",
              "      <td>0.789474</td>\n",
              "      <td>-1.000000</td>\n",
              "      <td>-1.000000</td>\n",
              "      <td>-1.000000</td>\n",
              "      <td>-1.000000</td>\n",
              "      <td>-1.000000</td>\n",
              "      <td>-1.000000</td>\n",
              "      <td>-1.000000</td>\n",
              "      <td>0-2</td>\n",
              "      <td>0</td>\n",
              "    </tr>\n",
              "  </tbody>\n",
              "</table>\n",
              "<p>294 rows × 69 columns</p>\n",
              "</div>"
            ],
            "text/plain": [
              "     PATIENT_VISIT_IDENTIFIER  AGE_ABOVE65  ...  WINDOW  ICU\n",
              "0                           0            1  ...     0-2    1\n",
              "1                           2            0  ...     0-2    1\n",
              "2                           3            0  ...     0-2    0\n",
              "3                           4            0  ...     0-2    0\n",
              "4                           5            0  ...     0-2    0\n",
              "..                        ...          ...  ...     ...  ...\n",
              "289                       380            0  ...     0-2    1\n",
              "290                       381            1  ...     0-2    0\n",
              "291                       382            0  ...     0-2    1\n",
              "292                       383            0  ...     0-2    0\n",
              "293                       384            0  ...     0-2    0\n",
              "\n",
              "[294 rows x 69 columns]"
            ]
          },
          "metadata": {},
          "execution_count": 4
        }
      ]
    },
    {
      "cell_type": "markdown",
      "metadata": {
        "id": "AqC8eKax6BUa"
      },
      "source": [
        "O TPOT implementa a busca de modelos de forma semelhante ao procedimento adotado para se implementar um modelo no sklearn: determinação de x e y, adoção de um método de validação, chamada do modelo e \"fit\" do modelo. \n",
        "\n",
        "A busca foi realizada diversas vezes, com parâmetros diferentes. A fim de promover a replicabilidade dos dados a serem testados a cada vez que uma nova rodada do algoritmo foi feita, eu optei por padronizar alguns elementos com aleatoridade embutida, com o \"shuffle\" do dataset e procedimento de estratificação cruzada:"
      ]
    },
    {
      "cell_type": "code",
      "metadata": {
        "id": "t5wzVluyO1ER"
      },
      "source": [
        "df_clean = df_clean.sample(frac = 1, random_state = 78329).reset_index(drop = True)\n",
        "x_columns = df_clean.columns\n",
        "y = df_clean.loc[:,\"ICU\"]\n",
        "x = df_clean.drop([\"PATIENT_VISIT_IDENTIFIER\", \"ICU\", \"WINDOW\"], axis = 1)"
      ],
      "execution_count": 5,
      "outputs": []
    },
    {
      "cell_type": "code",
      "metadata": {
        "id": "tPq7LlfAN8RS"
      },
      "source": [
        "y = y.rename(\"target\")"
      ],
      "execution_count": 6,
      "outputs": []
    },
    {
      "cell_type": "markdown",
      "metadata": {
        "id": "A_IB57Ax6oJf"
      },
      "source": [
        "Como mencionado, o TPOT permite que a busca pelo melhor pipeline seja feita atráves de diversos algoritmos. Uma vantagem que eu identifiquei foi a possibilidade de implementar um algoritmo de validação cruzada, ao invés de separar em conjuntos de treino e de teste a cada nova rodada. Utilizei o método \"[RepeatedStratifiedKFold](https://scikit-learn.org/stable/modules/generated/sklearn.model_selection.RepeatedStratifiedKFold.html)\":"
      ]
    },
    {
      "cell_type": "code",
      "metadata": {
        "id": "cVw9ANStOGPG"
      },
      "source": [
        "cv = RepeatedStratifiedKFold(n_splits = 5, n_repeats = 10, random_state = 78329)"
      ],
      "execution_count": 7,
      "outputs": []
    },
    {
      "cell_type": "markdown",
      "metadata": {
        "id": "Yyoj3hK2_poI"
      },
      "source": [
        "# O que buscar?\n",
        "\n",
        "A implementação do TPOT permite personalizações interessantes. Além de parâmetros próprios para manipular a permissividade do modelo como ```generations``` e ```population_size```, como dito anteriormente, é possível fazer a validação cruzada de algum parâmetro que se queira maximizar (ou minimizar parâmetros de erro). O meu objetivo aqui foi buscar alguns parâmetros que julguei os mais relevantes para se avaliar os modelos de forma geral, e também olhando mais a fundo alguns indicadores mais específicos relativos ao tipo de modelo e objetivo original (identificar corretamente a necessidade de pacientes serem admitidos em leitos de UTI). Dessa forma, busquei otimizar os parâmetros de Acurácia (accuracy), Precisão (precision), Recall,,ROC AUC e F1 score (média harmônica de precisão e recall).\n",
        "\n",
        "\n",
        "![exemplo de comandos do TPOT](https://github.com/RPGraciotti/BootCampAlura/raw/main/Projeto_final/figs/tpot_exemplo.png)\n",
        "\n",
        "Os parâmetros ```generations``` e ```population_size``` tem ambos 100 por padrão. Isso faria com que o TPOT executasse 10.000 configurações diferentes, uma tarefa que consome muito tempo e poder computacional, ainda mais utilizando-se da busca com validação cruzada. Embora seja a melhor estratégia a longo prazo, reduzi esse espaço de parâmetros de acordo com os exemplos do próprio TPOT e o [tutorial](https://machinelearningmastery.com/automl-libraries-for-python/) mencionado anteriormente.\n",
        "\n",
        "\n"
      ]
    },
    {
      "cell_type": "markdown",
      "metadata": {
        "id": "T3uET1_LFErT"
      },
      "source": [
        "ACC"
      ]
    },
    {
      "cell_type": "markdown",
      "metadata": {
        "id": "rvfxgBbxAz9E"
      },
      "source": [
        "Primeiro, a chamada do modelo. Como dito, determinei o mesmo ```random_state``` para todas as buscas."
      ]
    },
    {
      "cell_type": "code",
      "metadata": {
        "id": "hnGeXTj6FErb"
      },
      "source": [
        "ACC = TPOTClassifier(generations = 5, population_size = 20, cv = cv, \n",
        "                      scoring = \"accuracy\", verbosity = 2, random_state = 78329)"
      ],
      "execution_count": 8,
      "outputs": []
    },
    {
      "cell_type": "markdown",
      "metadata": {
        "id": "udTm3xXwEj99"
      },
      "source": [
        "A busca do modelo é feita de forma similar ao \"fit\" de um modelo no sklearn:\n",
        "\n",
        "PS: essa é a etapa lenta do processo."
      ]
    },
    {
      "cell_type": "code",
      "metadata": {
        "id": "REv6O1O6FErc"
      },
      "source": [
        "ACC.fit(x, y)"
      ],
      "execution_count": null,
      "outputs": []
    },
    {
      "cell_type": "markdown",
      "metadata": {
        "id": "pvdSzFJpEwXa"
      },
      "source": [
        "Por último, o modelo pode ser exportado em forma de script.py:"
      ]
    },
    {
      "cell_type": "code",
      "metadata": {
        "id": "80hQ0gkGFErd"
      },
      "source": [
        "ACC.export(\"shuffle_random_state_acc.py\")"
      ],
      "execution_count": null,
      "outputs": []
    },
    {
      "cell_type": "markdown",
      "metadata": {
        "id": "HX7_fw-ZIX7o"
      },
      "source": [
        "![saída do modelo que maximiza acurácia](https://github.com/RPGraciotti/BootCampAlura/raw/main/Projeto_final/figs/TPOT_output.png)"
      ]
    },
    {
      "cell_type": "markdown",
      "metadata": {
        "id": "-yMtswQ2I0f2"
      },
      "source": [
        "Seguindo para os outros pipelines de otimização de parâmetros de performance:"
      ]
    },
    {
      "cell_type": "markdown",
      "metadata": {
        "id": "my0DXKCTElRS"
      },
      "source": [
        "PRECISION"
      ]
    },
    {
      "cell_type": "code",
      "metadata": {
        "id": "9BBwnUvBEm0P"
      },
      "source": [
        "Prec = TPOTClassifier(generations = 5, population_size = 20, cv = cv, \n",
        "                      scoring = \"precision\", verbosity = 2, random_state = 78329)"
      ],
      "execution_count": 9,
      "outputs": []
    },
    {
      "cell_type": "code",
      "metadata": {
        "id": "EgMHA0njEz9X"
      },
      "source": [
        "Prec.fit(x, y)"
      ],
      "execution_count": null,
      "outputs": []
    },
    {
      "cell_type": "code",
      "metadata": {
        "id": "BYvLXTJdE2a7"
      },
      "source": [
        "Prec.export(\"shuffle_random_state_prec.py\")"
      ],
      "execution_count": null,
      "outputs": []
    },
    {
      "cell_type": "markdown",
      "metadata": {
        "id": "iupZC6zVl9kE"
      },
      "source": [
        "ROC AUC"
      ]
    },
    {
      "cell_type": "code",
      "metadata": {
        "id": "ADJ1cU4Jgcmn"
      },
      "source": [
        "ROC = TPOTClassifier(generations = 5, population_size = 20, cv = cv, \n",
        "                      scoring = \"roc_auc\", verbosity = 2, random_state = 78329)\n"
      ],
      "execution_count": 10,
      "outputs": []
    },
    {
      "cell_type": "code",
      "metadata": {
        "id": "esw0LKTX_q07"
      },
      "source": [
        "ROC.fit(x, y)"
      ],
      "execution_count": null,
      "outputs": []
    },
    {
      "cell_type": "code",
      "metadata": {
        "id": "wUCHisIQ_q8C"
      },
      "source": [
        "ROC.export(\"shuffle_random_state_roc.py\")"
      ],
      "execution_count": null,
      "outputs": []
    },
    {
      "cell_type": "markdown",
      "metadata": {
        "id": "b26n5wYRDFfN"
      },
      "source": [
        "RECALL"
      ]
    },
    {
      "cell_type": "markdown",
      "metadata": {
        "id": "70Q7tudaJAyl"
      },
      "source": [
        "Um detalhe sobre a otimização do \"recall\", é que esta busca precisou ser mais aprofundada. Enquanto todas as outras buscas começam de um bom ponto inicial e não apresentam melhora significativa com maior número de gerações; a busca por recall não retorna bons resultados com poucas gerações, portanto, eu expandi o espaço para busca."
      ]
    },
    {
      "cell_type": "code",
      "metadata": {
        "id": "XdwaEEq8DGkM"
      },
      "source": [
        "REC = TPOTClassifier(generations = 50, population_size = 20, \n",
        "                      cv = cv, scoring = \"recall\", verbosity = 2, random_state = 78329)"
      ],
      "execution_count": 11,
      "outputs": []
    },
    {
      "cell_type": "code",
      "metadata": {
        "id": "9Rzs81QbEmN5"
      },
      "source": [
        "REC.fit(x, y)"
      ],
      "execution_count": null,
      "outputs": []
    },
    {
      "cell_type": "code",
      "metadata": {
        "id": "JVmjf4q-En4Q"
      },
      "source": [
        "REC.export(\"shuffle_random_state_recall_50.py\")"
      ],
      "execution_count": null,
      "outputs": []
    },
    {
      "cell_type": "markdown",
      "metadata": {
        "id": "kLTJGrzuEqLs"
      },
      "source": [
        "F1"
      ]
    },
    {
      "cell_type": "code",
      "metadata": {
        "id": "_OkoAWIOErrH"
      },
      "source": [
        "F1 = TPOTClassifier(generations = 5, population_size = 20, cv = cv, \n",
        "                      scoring = \"f1\", verbosity = 2, random_state = 78329)"
      ],
      "execution_count": 12,
      "outputs": []
    },
    {
      "cell_type": "code",
      "metadata": {
        "id": "dIiJ7DW1E6EK"
      },
      "source": [
        "F1.fit(x, y)"
      ],
      "execution_count": null,
      "outputs": []
    },
    {
      "cell_type": "code",
      "metadata": {
        "id": "RbEyR6CFE8FA"
      },
      "source": [
        "F1.export(\"shuffle_random_state_f1.py\")"
      ],
      "execution_count": null,
      "outputs": []
    }
  ]
}