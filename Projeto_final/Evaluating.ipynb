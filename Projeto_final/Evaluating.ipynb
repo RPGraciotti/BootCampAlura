{
  "nbformat": 4,
  "nbformat_minor": 0,
  "metadata": {
    "colab": {
      "name": "Evaluating.ipynb",
      "provenance": [],
      "collapsed_sections": [],
      "authorship_tag": "ABX9TyOj1W/X36t9d+tnlEjzieAK",
      "include_colab_link": true
    },
    "kernelspec": {
      "name": "python3",
      "display_name": "Python 3"
    },
    "language_info": {
      "name": "python"
    }
  },
  "cells": [
    {
      "cell_type": "markdown",
      "metadata": {
        "id": "view-in-github",
        "colab_type": "text"
      },
      "source": [
        "<a href=\"https://colab.research.google.com/github/RPGraciotti/BootCampAlura/blob/main/Projeto_final/Evaluating.ipynb\" target=\"_parent\"><img src=\"https://colab.research.google.com/assets/colab-badge.svg\" alt=\"Open In Colab\"/></a>"
      ]
    },
    {
      "cell_type": "code",
      "metadata": {
        "colab": {
          "base_uri": "https://localhost:8080/"
        },
        "id": "1I3fvVXZGc9D",
        "outputId": "30957343-4ccf-4409-a3e4-cc69e90c46ee"
      },
      "source": [
        "pip install tpot"
      ],
      "execution_count": 1,
      "outputs": [
        {
          "output_type": "stream",
          "text": [
            "Collecting tpot\n",
            "  Downloading TPOT-0.11.7-py3-none-any.whl (87 kB)\n",
            "\u001b[?25l\r\u001b[K     |███▊                            | 10 kB 13.1 MB/s eta 0:00:01\r\u001b[K     |███████▌                        | 20 kB 17.5 MB/s eta 0:00:01\r\u001b[K     |███████████▎                    | 30 kB 12.0 MB/s eta 0:00:01\r\u001b[K     |███████████████                 | 40 kB 9.2 MB/s eta 0:00:01\r\u001b[K     |██████████████████▉             | 51 kB 5.2 MB/s eta 0:00:01\r\u001b[K     |██████████████████████▋         | 61 kB 5.7 MB/s eta 0:00:01\r\u001b[K     |██████████████████████████▎     | 71 kB 5.6 MB/s eta 0:00:01\r\u001b[K     |██████████████████████████████  | 81 kB 6.2 MB/s eta 0:00:01\r\u001b[K     |████████████████████████████████| 87 kB 3.4 MB/s \n",
            "\u001b[?25hRequirement already satisfied: tqdm>=4.36.1 in /usr/local/lib/python3.7/dist-packages (from tpot) (4.62.0)\n",
            "Collecting xgboost>=1.1.0\n",
            "  Downloading xgboost-1.4.2-py3-none-manylinux2010_x86_64.whl (166.7 MB)\n",
            "\u001b[K     |████████████████████████████████| 166.7 MB 10 kB/s \n",
            "\u001b[?25hRequirement already satisfied: scipy>=1.3.1 in /usr/local/lib/python3.7/dist-packages (from tpot) (1.4.1)\n",
            "Collecting deap>=1.2\n",
            "  Downloading deap-1.3.1-cp37-cp37m-manylinux_2_5_x86_64.manylinux1_x86_64.manylinux_2_12_x86_64.manylinux2010_x86_64.whl (160 kB)\n",
            "\u001b[K     |████████████████████████████████| 160 kB 55.7 MB/s \n",
            "\u001b[?25hCollecting update-checker>=0.16\n",
            "  Downloading update_checker-0.18.0-py3-none-any.whl (7.0 kB)\n",
            "Requirement already satisfied: pandas>=0.24.2 in /usr/local/lib/python3.7/dist-packages (from tpot) (1.1.5)\n",
            "Collecting stopit>=1.1.1\n",
            "  Downloading stopit-1.1.2.tar.gz (18 kB)\n",
            "Requirement already satisfied: scikit-learn>=0.22.0 in /usr/local/lib/python3.7/dist-packages (from tpot) (0.22.2.post1)\n",
            "Requirement already satisfied: numpy>=1.16.3 in /usr/local/lib/python3.7/dist-packages (from tpot) (1.19.5)\n",
            "Requirement already satisfied: joblib>=0.13.2 in /usr/local/lib/python3.7/dist-packages (from tpot) (1.0.1)\n",
            "Requirement already satisfied: pytz>=2017.2 in /usr/local/lib/python3.7/dist-packages (from pandas>=0.24.2->tpot) (2018.9)\n",
            "Requirement already satisfied: python-dateutil>=2.7.3 in /usr/local/lib/python3.7/dist-packages (from pandas>=0.24.2->tpot) (2.8.2)\n",
            "Requirement already satisfied: six>=1.5 in /usr/local/lib/python3.7/dist-packages (from python-dateutil>=2.7.3->pandas>=0.24.2->tpot) (1.15.0)\n",
            "Requirement already satisfied: requests>=2.3.0 in /usr/local/lib/python3.7/dist-packages (from update-checker>=0.16->tpot) (2.23.0)\n",
            "Requirement already satisfied: chardet<4,>=3.0.2 in /usr/local/lib/python3.7/dist-packages (from requests>=2.3.0->update-checker>=0.16->tpot) (3.0.4)\n",
            "Requirement already satisfied: certifi>=2017.4.17 in /usr/local/lib/python3.7/dist-packages (from requests>=2.3.0->update-checker>=0.16->tpot) (2021.5.30)\n",
            "Requirement already satisfied: urllib3!=1.25.0,!=1.25.1,<1.26,>=1.21.1 in /usr/local/lib/python3.7/dist-packages (from requests>=2.3.0->update-checker>=0.16->tpot) (1.24.3)\n",
            "Requirement already satisfied: idna<3,>=2.5 in /usr/local/lib/python3.7/dist-packages (from requests>=2.3.0->update-checker>=0.16->tpot) (2.10)\n",
            "Building wheels for collected packages: stopit\n",
            "  Building wheel for stopit (setup.py) ... \u001b[?25l\u001b[?25hdone\n",
            "  Created wheel for stopit: filename=stopit-1.1.2-py3-none-any.whl size=11952 sha256=08bb82e5d1ebd3c82c8545aac99c5de7787b4a10e91e299f088ce0d8a3c3d7e5\n",
            "  Stored in directory: /root/.cache/pip/wheels/e2/d2/79/eaf81edb391e27c87f51b8ef901ecc85a5363dc96b8b8d71e3\n",
            "Successfully built stopit\n",
            "Installing collected packages: xgboost, update-checker, stopit, deap, tpot\n",
            "  Attempting uninstall: xgboost\n",
            "    Found existing installation: xgboost 0.90\n",
            "    Uninstalling xgboost-0.90:\n",
            "      Successfully uninstalled xgboost-0.90\n",
            "Successfully installed deap-1.3.1 stopit-1.1.2 tpot-0.11.7 update-checker-0.18.0 xgboost-1.4.2\n"
          ],
          "name": "stdout"
        }
      ]
    },
    {
      "cell_type": "code",
      "metadata": {
        "id": "B3syLkDDpmyt"
      },
      "source": [
        "import numpy as np\n",
        "import pandas as pd\n",
        "import matplotlib.pyplot as plt\n",
        "import seaborn as sns\n",
        "\n",
        "from sklearn.model_selection import train_test_split\n",
        "from sklearn.model_selection import RepeatedStratifiedKFold\n",
        "from sklearn.model_selection import cross_validate\n",
        "from sklearn.pipeline import make_pipeline\n",
        "\n",
        "from tpot.builtins import StackingEstimator\n",
        "from tpot.builtins import ZeroCount\n",
        "from tpot.export_utils import set_param_recursive\n",
        "\n",
        "from sklearn.ensemble import RandomForestClassifier\n",
        "from sklearn.naive_bayes import BernoulliNB\n",
        "from sklearn.preprocessing import StandardScaler\n",
        "from sklearn.feature_selection import SelectPercentile, f_classif, SelectFwe\n",
        "\n",
        "from sklearn.metrics import roc_auc_score\n",
        "from sklearn.metrics import accuracy_score\n",
        "from sklearn.metrics import plot_confusion_matrix\n",
        "from sklearn.metrics import classification_report\n",
        "from sklearn.metrics import plot_roc_curve\n",
        "\n",
        "import warnings"
      ],
      "execution_count": 343,
      "outputs": []
    },
    {
      "cell_type": "code",
      "metadata": {
        "id": "af-LeOYS6G1C"
      },
      "source": [
        "def multi_score_cv(model, x, y, cv, model_title, set_context = \"talk\", figsize = (10, 6)):\n",
        "  with warnings.catch_warnings():\n",
        "    warnings.simplefilter('ignore') # ignora warnings durante cross_validate\n",
        "    cv_results = cross_validate(model, x, y, \n",
        "                                cv = cv, scoring = [\"precision\", \"roc_auc\", \"recall\", \"f1\"]) # performa cross validate com parametros escolhidos e separa os scorings de itneresse\n",
        "  \n",
        "  precision = cv_results[\"test_precision\"] \n",
        "  roc_auc = cv_results[\"test_roc_auc\"]\n",
        "  recall = cv_results[\"test_recall\"]\n",
        "  f1 = cv_results[\"test_f1\"]\n",
        "  scores = pd.DataFrame(dict(Precision = precision, ROC_AUC = roc_auc, Recall = recall, F1 = f1))\n",
        "  scores_melt = scores.melt()\n",
        "\n",
        "  plt.figure(figsize = figsize)\n",
        "  sns.set_context(set_context)\n",
        "  sns.boxplot(data = scores_melt, x = \"value\", y = \"variable\", linewidth = 2.5)\n",
        "  plt.title(f\"Distribuição de valores de score - Modelo: {model_title}\")\n",
        "  plt.xlabel(\"\")\n",
        "  plt.xlim(-0.1, 1.1)\n",
        "  plt.ylabel(\"Métrica\")\n",
        "  plt.show()\n",
        "  sns.reset_orig()\n",
        "\n",
        "  return scores"
      ],
      "execution_count": 341,
      "outputs": []
    },
    {
      "cell_type": "code",
      "metadata": {
        "id": "8kqXu1_msaJC"
      },
      "source": [
        "path = \"https://raw.githubusercontent.com/RPGraciotti/BootCampAlura/main/Data/data_clean_ohe.csv\""
      ],
      "execution_count": 4,
      "outputs": []
    },
    {
      "cell_type": "code",
      "metadata": {
        "id": "jpSS_mHKpKcO"
      },
      "source": [
        "df_clean = pd.read_csv(path)\n",
        "# df_clean"
      ],
      "execution_count": 5,
      "outputs": []
    },
    {
      "cell_type": "markdown",
      "metadata": {
        "id": "O7Af11kjInoB"
      },
      "source": [
        "AVALIAÇÃO DOS MODELOS"
      ]
    },
    {
      "cell_type": "markdown",
      "metadata": {
        "id": "5pe2GQHbItg1"
      },
      "source": [
        "MODELO 1 - MAXIMIZAÇÃO DO ROC"
      ]
    },
    {
      "cell_type": "code",
      "metadata": {
        "id": "_tLQClQjInQ7"
      },
      "source": [
        "m1 = make_pipeline(\n",
        "    SelectPercentile(score_func=f_classif, percentile=60),\n",
        "    RandomForestClassifier(bootstrap=True, criterion=\"gini\", max_features=0.1, min_samples_leaf=18, min_samples_split=9, n_estimators=100)\n",
        ")"
      ],
      "execution_count": 133,
      "outputs": []
    },
    {
      "cell_type": "code",
      "metadata": {
        "id": "t5wzVluyO1ER"
      },
      "source": [
        "df_clean = df_clean.sample(frac = 1).reset_index(drop = True)\n",
        "y = df_clean.loc[:,\"ICU\"]\n",
        "y = y.rename(\"target\")\n",
        "x = df_clean.drop([\"PATIENT_VISIT_IDENTIFIER\", \"ICU\", \"WINDOW\"], axis = 1)"
      ],
      "execution_count": 145,
      "outputs": []
    },
    {
      "cell_type": "code",
      "metadata": {
        "id": "1rB1b5rLKE6P"
      },
      "source": [
        "x_train, x_test, y_train, y_test = train_test_split(x, y, stratify = y, test_size = 0.2)"
      ],
      "execution_count": 146,
      "outputs": []
    },
    {
      "cell_type": "code",
      "metadata": {
        "id": "cVw9ANStOGPG"
      },
      "source": [
        "cv = RepeatedStratifiedKFold(n_splits = 5, n_repeats = 10)"
      ],
      "execution_count": 147,
      "outputs": []
    },
    {
      "cell_type": "code",
      "metadata": {
        "colab": {
          "base_uri": "https://localhost:8080/"
        },
        "id": "otGk67p8I1IM",
        "outputId": "f80fedc9-6a5c-497d-8fbf-fcc55168bd9c"
      },
      "source": [
        "m1_eval = m1.fit(x_train, y_train)"
      ],
      "execution_count": 148,
      "outputs": [
        {
          "output_type": "stream",
          "text": [
            "/usr/local/lib/python3.7/dist-packages/sklearn/feature_selection/_univariate_selection.py:114: UserWarning: Features [21] are constant.\n",
            "  UserWarning)\n",
            "/usr/local/lib/python3.7/dist-packages/sklearn/feature_selection/_univariate_selection.py:115: RuntimeWarning: invalid value encountered in true_divide\n",
            "  f = msb / msw\n"
          ],
          "name": "stderr"
        }
      ]
    },
    {
      "cell_type": "code",
      "metadata": {
        "colab": {
          "base_uri": "https://localhost:8080/",
          "height": 296
        },
        "id": "-zVSZ6KuJ9Oz",
        "outputId": "78d1f84e-cd79-43e0-f029-fe92a0d83bac"
      },
      "source": [
        "plot_confusion_matrix(m1_eval, x_test, y_test)"
      ],
      "execution_count": 149,
      "outputs": [
        {
          "output_type": "execute_result",
          "data": {
            "text/plain": [
              "<sklearn.metrics._plot.confusion_matrix.ConfusionMatrixDisplay at 0x7f6e08b7f5d0>"
            ]
          },
          "metadata": {},
          "execution_count": 149
        },
        {
          "output_type": "display_data",
          "data": {
            "image/png": "[encoded data removed]",
            "text/plain": [
              "<Figure size 432x288 with 2 Axes>"
            ]
          },
          "metadata": {
            "needs_background": "light"
          }
        }
      ]
    },
    {
      "cell_type": "code",
      "metadata": {
        "colab": {
          "base_uri": "https://localhost:8080/"
        },
        "id": "uq8qEWqPJ9RO",
        "outputId": "f9776947-fd94-4e60-bdf7-d6797b9edc17"
      },
      "source": [
        "print(classification_report(y_test, m1_eval.predict(x_test)))"
      ],
      "execution_count": 130,
      "outputs": [
        {
          "output_type": "stream",
          "text": [
            "              precision    recall  f1-score   support\n",
            "\n",
            "           0       0.86      0.66      0.75        38\n",
            "           1       0.57      0.81      0.67        21\n",
            "\n",
            "    accuracy                           0.71        59\n",
            "   macro avg       0.71      0.73      0.71        59\n",
            "weighted avg       0.76      0.71      0.72        59\n",
            "\n"
          ],
          "name": "stdout"
        }
      ]
    },
    {
      "cell_type": "code",
      "metadata": {
        "colab": {
          "base_uri": "https://localhost:8080/",
          "height": 279
        },
        "id": "HKYc7DGrJ9UW",
        "outputId": "ccab3079-7ea1-4492-cbd9-5fcec87d50aa"
      },
      "source": [
        "plot_roc_curve(m1_eval, x_test, y_test)\n",
        "plt.show()"
      ],
      "execution_count": 131,
      "outputs": [
        {
          "output_type": "display_data",
          "data": {
            "image/png": "[encoded data removed]",
            "text/plain": [
              "<Figure size 432x288 with 1 Axes>"
            ]
          },
          "metadata": {
            "needs_background": "light"
          }
        }
      ]
    },
    {
      "cell_type": "code",
      "metadata": {
        "colab": {
          "base_uri": "https://localhost:8080/"
        },
        "id": "lECvXNPYJ9Xx",
        "outputId": "c24906ca-3f66-4b9f-d6d8-9f95c3d534f1"
      },
      "source": [
        "roc_auc_score(y_test, m1_eval.predict_proba(x_test)[:,1])"
      ],
      "execution_count": 132,
      "outputs": [
        {
          "output_type": "execute_result",
          "data": {
            "text/plain": [
              "0.8295739348370927"
            ]
          },
          "metadata": {},
          "execution_count": 132
        }
      ]
    },
    {
      "cell_type": "markdown",
      "metadata": {
        "id": "9JIosYlcMGTK"
      },
      "source": [
        "RECALL"
      ]
    },
    {
      "cell_type": "code",
      "metadata": {
        "id": "SWulS-D2MPzr"
      },
      "source": [
        "m2 = make_pipeline(\n",
        "    StackingEstimator(estimator=RandomForestClassifier(bootstrap=True, criterion=\"gini\", max_features=0.7500000000000001, \n",
        "                                                       min_samples_leaf=2, min_samples_split=14, n_estimators=100, \n",
        "                                                       random_state = 78329)),\n",
        "    StandardScaler(),\n",
        "    BernoulliNB(alpha=0.01, fit_prior=False)\n",
        ")"
      ],
      "execution_count": 321,
      "outputs": []
    },
    {
      "cell_type": "code",
      "metadata": {
        "id": "8ASeyZq7UhFY"
      },
      "source": [
        "df_clean = df_clean.sample(frac = 1).reset_index(drop = True)\n",
        "y = df_clean.loc[:,\"ICU\"]\n",
        "y = y.rename(\"target\")\n",
        "x = df_clean.drop([\"PATIENT_VISIT_IDENTIFIER\", \"ICU\", \"WINDOW\"], axis = 1)"
      ],
      "execution_count": 322,
      "outputs": []
    },
    {
      "cell_type": "code",
      "metadata": {
        "id": "mlfUw21lUhFZ"
      },
      "source": [
        "x_train, x_test, y_train, y_test = train_test_split(x, y, stratify = y, test_size = 0.2)"
      ],
      "execution_count": 323,
      "outputs": []
    },
    {
      "cell_type": "code",
      "metadata": {
        "id": "3gVB1Bq5MYvv"
      },
      "source": [
        "m2_eval = m2.fit(x_train, y_train)"
      ],
      "execution_count": 324,
      "outputs": []
    },
    {
      "cell_type": "code",
      "metadata": {
        "colab": {
          "base_uri": "https://localhost:8080/",
          "height": 296
        },
        "id": "hUrhQ0q1MsL0",
        "outputId": "1f5b4b2b-75f0-4e52-d754-123032af3d96"
      },
      "source": [
        "plot_confusion_matrix(m2_eval, x_test, y_test)"
      ],
      "execution_count": 325,
      "outputs": [
        {
          "output_type": "execute_result",
          "data": {
            "text/plain": [
              "<sklearn.metrics._plot.confusion_matrix.ConfusionMatrixDisplay at 0x7f6e1771be10>"
            ]
          },
          "metadata": {},
          "execution_count": 325
        },
        {
          "output_type": "display_data",
          "data": {
            "image/png": "[encoded data removed]",
            "text/plain": [
              "<Figure size 432x288 with 2 Axes>"
            ]
          },
          "metadata": {
            "needs_background": "light"
          }
        }
      ]
    },
    {
      "cell_type": "code",
      "metadata": {
        "colab": {
          "base_uri": "https://localhost:8080/"
        },
        "id": "4ofU2JpMPvy4",
        "outputId": "b41c04b6-2941-42d3-f659-104b091fb53c"
      },
      "source": [
        "print(classification_report(y_test, m2_eval.predict(x_test)))"
      ],
      "execution_count": 327,
      "outputs": [
        {
          "output_type": "stream",
          "text": [
            "              precision    recall  f1-score   support\n",
            "\n",
            "           0       0.81      0.76      0.78        38\n",
            "           1       0.61      0.67      0.64        21\n",
            "\n",
            "    accuracy                           0.73        59\n",
            "   macro avg       0.71      0.71      0.71        59\n",
            "weighted avg       0.74      0.73      0.73        59\n",
            "\n"
          ],
          "name": "stdout"
        }
      ]
    },
    {
      "cell_type": "code",
      "metadata": {
        "id": "1ENl0_0N10zu"
      },
      "source": [
        "from sklearn import metrics"
      ],
      "execution_count": null,
      "outputs": []
    },
    {
      "cell_type": "code",
      "metadata": {
        "colab": {
          "base_uri": "https://localhost:8080/",
          "height": 279
        },
        "id": "Q-f3FErA1xtO",
        "outputId": "828b5dca-52c5-476e-a5cb-4980b54e80e3"
      },
      "source": [
        "metrics.plot_roc_curve(model_eval, x_test, y_test)\n",
        "plt.show()"
      ],
      "execution_count": null,
      "outputs": [
        {
          "output_type": "display_data",
          "data": {
            "image/png": "[encoded data removed]",
            "text/plain": [
              "<Figure size 432x288 with 1 Axes>"
            ]
          },
          "metadata": {
            "needs_background": "light"
          }
        }
      ]
    },
    {
      "cell_type": "code",
      "metadata": {
        "colab": {
          "base_uri": "https://localhost:8080/"
        },
        "id": "xgHtkhNd2F1b",
        "outputId": "7272e3a5-c794-401d-8474-0cce3e0a251b"
      },
      "source": [
        "roc_auc_score(y_test, m2_eval.predict_proba(x_test)[:,1])"
      ],
      "execution_count": 328,
      "outputs": [
        {
          "output_type": "execute_result",
          "data": {
            "text/plain": [
              "0.7556390977443609"
            ]
          },
          "metadata": {},
          "execution_count": 328
        }
      ]
    },
    {
      "cell_type": "code",
      "metadata": {
        "id": "IAZhBvlE7lLj"
      },
      "source": [
        ""
      ],
      "execution_count": 337,
      "outputs": []
    },
    {
      "cell_type": "code",
      "metadata": {
        "colab": {
          "base_uri": "https://localhost:8080/",
          "height": 408
        },
        "id": "Ae4ZiEEq68qv",
        "outputId": "6446f56b-f60a-46f6-f585-5596d441a7a2"
      },
      "source": [
        "m1_scores = multi_score_cv(model = m1_eval, x = x, y = y, cv = cv, model_title = \"ROC\")"
      ],
      "execution_count": 339,
      "outputs": [
        {
          "output_type": "display_data",
          "data": {
            "image/png": "[encoded data removed]",
            "text/plain": [
              "<Figure size 720x432 with 1 Axes>"
            ]
          },
          "metadata": {
            "needs_background": "light"
          }
        }
      ]
    },
    {
      "cell_type": "code",
      "metadata": {
        "colab": {
          "base_uri": "https://localhost:8080/",
          "height": 408
        },
        "id": "_L7rpLWB6V3R",
        "outputId": "f3effc7d-09b6-41d8-a091-61cea3e391b3"
      },
      "source": [
        "m2_scores = multi_score_cv(model = m2_eval, x = x, y = y, cv = cv, model_title = \"Recall\")"
      ],
      "execution_count": 340,
      "outputs": [
        {
          "output_type": "display_data",
          "data": {
            "image/png": "[encoded data removed]",
            "text/plain": [
              "<Figure size 720x432 with 1 Axes>"
            ]
          },
          "metadata": {
            "needs_background": "light"
          }
        }
      ]
    },
    {
      "cell_type": "markdown",
      "metadata": {
        "id": "aFJGAjFcRJRE"
      },
      "source": [
        "F1"
      ]
    },
    {
      "cell_type": "code",
      "metadata": {
        "id": "l2GUAEbbRKAk"
      },
      "source": [
        "m3 = make_pipeline(\n",
        "    ZeroCount(),\n",
        "    RandomForestClassifier(bootstrap=True, criterion=\"gini\", \n",
        "                           max_features=0.7500000000000001, min_samples_leaf=15, min_samples_split=13, n_estimators=100)\n",
        ")"
      ],
      "execution_count": 344,
      "outputs": []
    },
    {
      "cell_type": "code",
      "metadata": {
        "id": "z54241cURd6w"
      },
      "source": [
        "df_clean = df_clean.sample(frac = 1).reset_index(drop = True)\n",
        "y = df_clean.loc[:,\"ICU\"]\n",
        "y = y.rename(\"target\")\n",
        "x = df_clean.drop([\"PATIENT_VISIT_IDENTIFIER\", \"ICU\", \"WINDOW\"], axis = 1)"
      ],
      "execution_count": 345,
      "outputs": []
    },
    {
      "cell_type": "code",
      "metadata": {
        "id": "xUMtWMnARd6w"
      },
      "source": [
        "x_train, x_test, y_train, y_test = train_test_split(x, y, stratify = y, test_size = 0.2)"
      ],
      "execution_count": 346,
      "outputs": []
    },
    {
      "cell_type": "code",
      "metadata": {
        "id": "5ssWOMNlRd6x"
      },
      "source": [
        "cv = RepeatedStratifiedKFold(n_splits = 5, n_repeats = 10)"
      ],
      "execution_count": 347,
      "outputs": []
    },
    {
      "cell_type": "code",
      "metadata": {
        "id": "kZecLWHKRd6x"
      },
      "source": [
        "m3_eval = m3.fit(x_train, y_train)"
      ],
      "execution_count": 348,
      "outputs": []
    },
    {
      "cell_type": "code",
      "metadata": {
        "colab": {
          "base_uri": "https://localhost:8080/",
          "height": 296
        },
        "id": "h38JsBHARd6y",
        "outputId": "dce3029c-7a73-4aa1-82fb-16ac77043bed"
      },
      "source": [
        "plot_confusion_matrix(m3_eval, x_test, y_test)"
      ],
      "execution_count": 349,
      "outputs": [
        {
          "output_type": "execute_result",
          "data": {
            "text/plain": [
              "<sklearn.metrics._plot.confusion_matrix.ConfusionMatrixDisplay at 0x7f6e03147390>"
            ]
          },
          "metadata": {},
          "execution_count": 349
        },
        {
          "output_type": "display_data",
          "data": {
            "image/png": "[encoded data removed]",
            "text/plain": [
              "<Figure size 432x288 with 2 Axes>"
            ]
          },
          "metadata": {
            "needs_background": "light"
          }
        }
      ]
    },
    {
      "cell_type": "code",
      "metadata": {
        "colab": {
          "base_uri": "https://localhost:8080/"
        },
        "id": "_DlkXe0kRd6y",
        "outputId": "31c28f07-793b-486f-9d65-c1c46ffebab5"
      },
      "source": [
        "print(classification_report(y_test, m3_eval.predict(x_test)))"
      ],
      "execution_count": 350,
      "outputs": [
        {
          "output_type": "stream",
          "text": [
            "              precision    recall  f1-score   support\n",
            "\n",
            "           0       0.77      0.89      0.83        38\n",
            "           1       0.73      0.52      0.61        21\n",
            "\n",
            "    accuracy                           0.76        59\n",
            "   macro avg       0.75      0.71      0.72        59\n",
            "weighted avg       0.76      0.76      0.75        59\n",
            "\n"
          ],
          "name": "stdout"
        }
      ]
    },
    {
      "cell_type": "code",
      "metadata": {
        "colab": {
          "base_uri": "https://localhost:8080/",
          "height": 279
        },
        "id": "lqvBuCd-Rd6z",
        "outputId": "7057b1e1-0ea7-49e1-fed6-e430e2bad760"
      },
      "source": [
        "plot_roc_curve(m3_eval, x_test, y_test)\n",
        "plt.show()"
      ],
      "execution_count": 351,
      "outputs": [
        {
          "output_type": "display_data",
          "data": {
            "image/png": "[encoded data removed]",
            "text/plain": [
              "<Figure size 432x288 with 1 Axes>"
            ]
          },
          "metadata": {
            "needs_background": "light"
          }
        }
      ]
    },
    {
      "cell_type": "code",
      "metadata": {
        "colab": {
          "base_uri": "https://localhost:8080/"
        },
        "id": "b1tid8BJRd6z",
        "outputId": "2f4219e7-bb3f-40fc-dc20-9acca84ae02c"
      },
      "source": [
        "roc_auc_score(y_test, m3_eval.predict_proba(x_test)[:,1])"
      ],
      "execution_count": 352,
      "outputs": [
        {
          "output_type": "execute_result",
          "data": {
            "text/plain": [
              "0.8358395989974937"
            ]
          },
          "metadata": {},
          "execution_count": 352
        }
      ]
    },
    {
      "cell_type": "code",
      "metadata": {
        "colab": {
          "base_uri": "https://localhost:8080/",
          "height": 408
        },
        "id": "6AqBBWfARv-J",
        "outputId": "a82318cb-bd3a-4056-a3bb-9afbf2859f19"
      },
      "source": [
        "m3_scores = multi_score_cv(model = m3_eval, x = x, y = y, cv = cv,\n",
        "                           model_title = \"F1\")"
      ],
      "execution_count": 353,
      "outputs": [
        {
          "output_type": "display_data",
          "data": {
            "image/png": "[encoded data removed]",
            "text/plain": [
              "<Figure size 720x432 with 1 Axes>"
            ]
          },
          "metadata": {
            "needs_background": "light"
          }
        }
      ]
    },
    {
      "cell_type": "markdown",
      "metadata": {
        "id": "wEoEw3dYSZFG"
      },
      "source": [
        "PRECISION"
      ]
    },
    {
      "cell_type": "code",
      "metadata": {
        "id": "gCU8lA-GSXwt"
      },
      "source": [
        "m4 = RandomForestClassifier(bootstrap=True, criterion=\"gini\", \n",
        "                            max_features=0.1, min_samples_leaf=15, min_samples_split=9, n_estimators=100)"
      ],
      "execution_count": 354,
      "outputs": []
    },
    {
      "cell_type": "code",
      "metadata": {
        "id": "yL3IDcHUSXwu"
      },
      "source": [
        "df_clean = df_clean.sample(frac = 1).reset_index(drop = True)\n",
        "y = df_clean.loc[:,\"ICU\"]\n",
        "y = y.rename(\"target\")\n",
        "x = df_clean.drop([\"PATIENT_VISIT_IDENTIFIER\", \"ICU\", \"WINDOW\"], axis = 1)"
      ],
      "execution_count": 355,
      "outputs": []
    },
    {
      "cell_type": "code",
      "metadata": {
        "id": "FdxCnwloSXwu"
      },
      "source": [
        "x_train, x_test, y_train, y_test = train_test_split(x, y, stratify = y, test_size = 0.2)"
      ],
      "execution_count": 356,
      "outputs": []
    },
    {
      "cell_type": "code",
      "metadata": {
        "id": "mmJw4Fw2SXwu"
      },
      "source": [
        "cv = RepeatedStratifiedKFold(n_splits = 5, n_repeats = 10)"
      ],
      "execution_count": 357,
      "outputs": []
    },
    {
      "cell_type": "code",
      "metadata": {
        "id": "B2PldopfSXwv"
      },
      "source": [
        "m4_eval = m4.fit(x_train, y_train)"
      ],
      "execution_count": 358,
      "outputs": []
    },
    {
      "cell_type": "code",
      "metadata": {
        "colab": {
          "base_uri": "https://localhost:8080/",
          "height": 296
        },
        "id": "VaG0PFdySXwv",
        "outputId": "c9a61e50-4d21-4051-8cc8-a85ec4f6496f"
      },
      "source": [
        "plot_confusion_matrix(m4_eval, x_test, y_test)"
      ],
      "execution_count": 364,
      "outputs": [
        {
          "output_type": "execute_result",
          "data": {
            "text/plain": [
              "<sklearn.metrics._plot.confusion_matrix.ConfusionMatrixDisplay at 0x7f6e027cfad0>"
            ]
          },
          "metadata": {},
          "execution_count": 364
        },
        {
          "output_type": "display_data",
          "data": {
            "image/png": "[encoded data removed]",
            "text/plain": [
              "<Figure size 432x288 with 2 Axes>"
            ]
          },
          "metadata": {
            "needs_background": "light"
          }
        }
      ]
    },
    {
      "cell_type": "code",
      "metadata": {
        "colab": {
          "base_uri": "https://localhost:8080/"
        },
        "id": "s4m8xcunSXwv",
        "outputId": "15e6abb8-c5a7-4cd9-c8ba-d4dfda13dec7"
      },
      "source": [
        "print(classification_report(y_test, m4_eval.predict(x_test)))"
      ],
      "execution_count": 360,
      "outputs": [
        {
          "output_type": "stream",
          "text": [
            "              precision    recall  f1-score   support\n",
            "\n",
            "           0       0.73      0.97      0.83        38\n",
            "           1       0.88      0.33      0.48        21\n",
            "\n",
            "    accuracy                           0.75        59\n",
            "   macro avg       0.80      0.65      0.66        59\n",
            "weighted avg       0.78      0.75      0.71        59\n",
            "\n"
          ],
          "name": "stdout"
        }
      ]
    },
    {
      "cell_type": "code",
      "metadata": {
        "colab": {
          "base_uri": "https://localhost:8080/",
          "height": 279
        },
        "id": "v1CsDWY_SXww",
        "outputId": "0cc0fae8-3592-4ead-de53-89f3117f4f78"
      },
      "source": [
        "plot_roc_curve(m4_eval, x_test, y_test)\n",
        "plt.show()"
      ],
      "execution_count": 361,
      "outputs": [
        {
          "output_type": "display_data",
          "data": {
            "image/png": "[encoded data removed]",
            "text/plain": [
              "<Figure size 432x288 with 1 Axes>"
            ]
          },
          "metadata": {
            "needs_background": "light"
          }
        }
      ]
    },
    {
      "cell_type": "code",
      "metadata": {
        "colab": {
          "base_uri": "https://localhost:8080/",
          "height": 408
        },
        "id": "irJKmPZZSXwx",
        "outputId": "63f067f3-a74c-41c4-ae86-0be8ff3dce4e"
      },
      "source": [
        "m4_scores = multi_score_cv(model = m4_eval, x = x, y = y, cv = cv,\n",
        "                           model_title = \"Precision\")"
      ],
      "execution_count": 363,
      "outputs": [
        {
          "output_type": "display_data",
          "data": {
            "image/png": "[encoded data removed]",
            "text/plain": [
              "<Figure size 720x432 with 1 Axes>"
            ]
          },
          "metadata": {
            "needs_background": "light"
          }
        }
      ]
    },
    {
      "cell_type": "markdown",
      "metadata": {
        "id": "5KFjU7xWTQtt"
      },
      "source": [
        "Definindo plots de confusion matrix"
      ]
    },
    {
      "cell_type": "code",
      "metadata": {
        "id": "EjhFznBNVqv5"
      },
      "source": [
        "def roda_modelo_cv(modelo, dados, n_splits, n_repeats):\n",
        "\n",
        "    d = dados.sample(frac = 1).reset_index(drop = True) # embaralha\n",
        "    x_columns = dados.columns\n",
        "    y = dados[\"ICU\"]\n",
        "    x = dados[x_columns].drop([\"ICU\",\"WINDOW\"], axis=1)\n",
        "\n",
        "    cv = RepeatedStratifiedKFold(n_splits = n_splits, n_repeats = n_repeats)\n",
        "    resultados = cross_validate(modelo, x, y, cv = cv, scoring = \"roc_auc\")\n",
        "\n",
        "    auc_medio = np.mean(resultados[\"test_score\"])\n",
        "    auc_std = np.std(resultados[\"test_score\"])\n",
        "\n",
        "    print(f\"AUC Médio {auc_medio}\") \n",
        "    print(f\"Intervalo {auc_medio - (2 * auc_std)} - {auc_medio + (2 * auc_std)}\")"
      ],
      "execution_count": null,
      "outputs": []
    },
    {
      "cell_type": "code",
      "metadata": {
        "colab": {
          "base_uri": "https://localhost:8080/",
          "height": 296
        },
        "id": "0ySkV2c0TeY7",
        "outputId": "93ccfd64-d532-47bd-fdea-beb4f80a0697"
      },
      "source": [
        "plot_confusion_matrix(m2_eval, x_test, y_test)"
      ],
      "execution_count": 365,
      "outputs": [
        {
          "output_type": "execute_result",
          "data": {
            "text/plain": [
              "<sklearn.metrics._plot.confusion_matrix.ConfusionMatrixDisplay at 0x7f6e023b36d0>"
            ]
          },
          "metadata": {},
          "execution_count": 365
        },
        {
          "output_type": "display_data",
          "data": {
            "image/png": "[encoded data removed]",
            "text/plain": [
              "<Figure size 432x288 with 2 Axes>"
            ]
          },
          "metadata": {
            "needs_background": "light"
          }
        }
      ]
    }
  ]
}