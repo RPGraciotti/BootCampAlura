{
  "nbformat": 4,
  "nbformat_minor": 0,
  "metadata": {
    "colab": {
      "provenance": [],
      "authorship_tag": "ABX9TyOmptDJng8DJSTzMEIQycJH",
      "include_colab_link": true
    },
    "kernelspec": {
      "name": "python3",
      "display_name": "Python 3"
    },
    "language_info": {
      "name": "python"
    }
  },
  "cells": [
    {
      "cell_type": "markdown",
      "metadata": {
        "id": "view-in-github",
        "colab_type": "text"
      },
      "source": [
        "<a href=\"https://colab.research.google.com/github/RPGraciotti/BootCampAlura/blob/main/Modulo_6/Aula_2_Analisando_a_base_de_cadastro_de_clientes.ipynb\" target=\"_parent\"><img src=\"https://colab.research.google.com/assets/colab-badge.svg\" alt=\"Open In Colab\"/></a>"
      ]
    },
    {
      "cell_type": "markdown",
      "metadata": {
        "id": "gCueDzjXoSYe"
      },
      "source": [
        "# Preparando conteúdo anterior"
      ]
    },
    {
      "cell_type": "code",
      "metadata": {
        "id": "owoDOnTIqhP6"
      },
      "source": [
        "import pandas as pd\n",
        "import matplotlib.pyplot as plt"
      ],
      "execution_count": 1,
      "outputs": []
    },
    {
      "cell_type": "code",
      "metadata": {
        "id": "NCe3jRbH46kr"
      },
      "source": [
        "df_cadastrados = pd.read_csv(\"https://github.com/RPGraciotti/BootCampAlura/raw/main/Data/clientes_cadastrados.txt\")\n",
        "ids_repetidos = df_cadastrados[df_cadastrados.loc[:,\"ID_Cliente\"].duplicated(keep = False)].loc[:,\"ID_Cliente\"]\n",
        "df_cadastrados_no_rep = df_cadastrados.drop(ids_repetidos.index)"
      ],
      "execution_count": 2,
      "outputs": []
    },
    {
      "cell_type": "code",
      "metadata": {
        "id": "GArAIlnl-ZR6",
        "colab": {
          "base_uri": "https://localhost:8080/",
          "height": 371
        },
        "outputId": "957f3924-8381-4064-e946-f3dd8e15debe"
      },
      "source": [
        "df_cadastrados_no_rep.head(6)"
      ],
      "execution_count": 3,
      "outputs": [
        {
          "output_type": "execute_result",
          "data": {
            "text/plain": [
              "   ID_Cliente Genero  Tem_Carro  Tem_Casa_Propria  Qtd_Filhos  \\\n",
              "0     5008804      H          1                 1           0   \n",
              "1     5008805      H          1                 1           0   \n",
              "2     5008806      H          1                 1           0   \n",
              "3     5008808      M          0                 1           0   \n",
              "4     5008809      M          0                 1           0   \n",
              "5     5008810      M          0                 1           0   \n",
              "\n",
              "   Rendimento_Anual   Categoria_de_renda Grau_Escolaridade   Estado_Civil  \\\n",
              "0          427500.0            Empregado   Ensino superior  Uniao estavel   \n",
              "1          427500.0            Empregado   Ensino superior  Uniao estavel   \n",
              "2          112500.0            Empregado      Ensino medio         Casado   \n",
              "3          270000.0  Associado comercial      Ensino medio       Solteiro   \n",
              "4          270000.0  Associado comercial      Ensino medio       Solteiro   \n",
              "5          270000.0  Associado comercial      Ensino medio       Solteiro   \n",
              "\n",
              "        Moradia  Idade  Tem_Celular  Tem_telefone_trabalho  Tem_telefone_fixo  \\\n",
              "0       Alugado   33.0            1                      1                  0   \n",
              "1       Alugado   33.0            1                      1                  0   \n",
              "2  Casa propria   59.0            1                      0                  0   \n",
              "3  Casa propria   52.0            1                      0                  1   \n",
              "4  Casa propria   52.0            1                      0                  1   \n",
              "5  Casa propria   52.0            1                      0                  1   \n",
              "\n",
              "   Tem_email   Ocupacao  Tamanho_Familia  Anos_empregado  \n",
              "0          0     Outros              2.0            12.4  \n",
              "1          0     Outros              2.0            12.4  \n",
              "2          0  Seguranca              2.0             3.1  \n",
              "3          1      Venda              1.0             8.4  \n",
              "4          1      Venda              1.0             8.4  \n",
              "5          1      Venda              1.0             8.4  "
            ],
            "text/html": [
              "\n",
              "  <div id=\"df-5d57af63-003e-4c68-873f-a7cf8c16bfca\">\n",
              "    <div class=\"colab-df-container\">\n",
              "      <div>\n",
              "<style scoped>\n",
              "    .dataframe tbody tr th:only-of-type {\n",
              "        vertical-align: middle;\n",
              "    }\n",
              "\n",
              "    .dataframe tbody tr th {\n",
              "        vertical-align: top;\n",
              "    }\n",
              "\n",
              "    .dataframe thead th {\n",
              "        text-align: right;\n",
              "    }\n",
              "</style>\n",
              "<table border=\"1\" class=\"dataframe\">\n",
              "  <thead>\n",
              "    <tr style=\"text-align: right;\">\n",
              "      <th></th>\n",
              "      <th>ID_Cliente</th>\n",
              "      <th>Genero</th>\n",
              "      <th>Tem_Carro</th>\n",
              "      <th>Tem_Casa_Propria</th>\n",
              "      <th>Qtd_Filhos</th>\n",
              "      <th>Rendimento_Anual</th>\n",
              "      <th>Categoria_de_renda</th>\n",
              "      <th>Grau_Escolaridade</th>\n",
              "      <th>Estado_Civil</th>\n",
              "      <th>Moradia</th>\n",
              "      <th>Idade</th>\n",
              "      <th>Tem_Celular</th>\n",
              "      <th>Tem_telefone_trabalho</th>\n",
              "      <th>Tem_telefone_fixo</th>\n",
              "      <th>Tem_email</th>\n",
              "      <th>Ocupacao</th>\n",
              "      <th>Tamanho_Familia</th>\n",
              "      <th>Anos_empregado</th>\n",
              "    </tr>\n",
              "  </thead>\n",
              "  <tbody>\n",
              "    <tr>\n",
              "      <th>0</th>\n",
              "      <td>5008804</td>\n",
              "      <td>H</td>\n",
              "      <td>1</td>\n",
              "      <td>1</td>\n",
              "      <td>0</td>\n",
              "      <td>427500.0</td>\n",
              "      <td>Empregado</td>\n",
              "      <td>Ensino superior</td>\n",
              "      <td>Uniao estavel</td>\n",
              "      <td>Alugado</td>\n",
              "      <td>33.0</td>\n",
              "      <td>1</td>\n",
              "      <td>1</td>\n",
              "      <td>0</td>\n",
              "      <td>0</td>\n",
              "      <td>Outros</td>\n",
              "      <td>2.0</td>\n",
              "      <td>12.4</td>\n",
              "    </tr>\n",
              "    <tr>\n",
              "      <th>1</th>\n",
              "      <td>5008805</td>\n",
              "      <td>H</td>\n",
              "      <td>1</td>\n",
              "      <td>1</td>\n",
              "      <td>0</td>\n",
              "      <td>427500.0</td>\n",
              "      <td>Empregado</td>\n",
              "      <td>Ensino superior</td>\n",
              "      <td>Uniao estavel</td>\n",
              "      <td>Alugado</td>\n",
              "      <td>33.0</td>\n",
              "      <td>1</td>\n",
              "      <td>1</td>\n",
              "      <td>0</td>\n",
              "      <td>0</td>\n",
              "      <td>Outros</td>\n",
              "      <td>2.0</td>\n",
              "      <td>12.4</td>\n",
              "    </tr>\n",
              "    <tr>\n",
              "      <th>2</th>\n",
              "      <td>5008806</td>\n",
              "      <td>H</td>\n",
              "      <td>1</td>\n",
              "      <td>1</td>\n",
              "      <td>0</td>\n",
              "      <td>112500.0</td>\n",
              "      <td>Empregado</td>\n",
              "      <td>Ensino medio</td>\n",
              "      <td>Casado</td>\n",
              "      <td>Casa propria</td>\n",
              "      <td>59.0</td>\n",
              "      <td>1</td>\n",
              "      <td>0</td>\n",
              "      <td>0</td>\n",
              "      <td>0</td>\n",
              "      <td>Seguranca</td>\n",
              "      <td>2.0</td>\n",
              "      <td>3.1</td>\n",
              "    </tr>\n",
              "    <tr>\n",
              "      <th>3</th>\n",
              "      <td>5008808</td>\n",
              "      <td>M</td>\n",
              "      <td>0</td>\n",
              "      <td>1</td>\n",
              "      <td>0</td>\n",
              "      <td>270000.0</td>\n",
              "      <td>Associado comercial</td>\n",
              "      <td>Ensino medio</td>\n",
              "      <td>Solteiro</td>\n",
              "      <td>Casa propria</td>\n",
              "      <td>52.0</td>\n",
              "      <td>1</td>\n",
              "      <td>0</td>\n",
              "      <td>1</td>\n",
              "      <td>1</td>\n",
              "      <td>Venda</td>\n",
              "      <td>1.0</td>\n",
              "      <td>8.4</td>\n",
              "    </tr>\n",
              "    <tr>\n",
              "      <th>4</th>\n",
              "      <td>5008809</td>\n",
              "      <td>M</td>\n",
              "      <td>0</td>\n",
              "      <td>1</td>\n",
              "      <td>0</td>\n",
              "      <td>270000.0</td>\n",
              "      <td>Associado comercial</td>\n",
              "      <td>Ensino medio</td>\n",
              "      <td>Solteiro</td>\n",
              "      <td>Casa propria</td>\n",
              "      <td>52.0</td>\n",
              "      <td>1</td>\n",
              "      <td>0</td>\n",
              "      <td>1</td>\n",
              "      <td>1</td>\n",
              "      <td>Venda</td>\n",
              "      <td>1.0</td>\n",
              "      <td>8.4</td>\n",
              "    </tr>\n",
              "    <tr>\n",
              "      <th>5</th>\n",
              "      <td>5008810</td>\n",
              "      <td>M</td>\n",
              "      <td>0</td>\n",
              "      <td>1</td>\n",
              "      <td>0</td>\n",
              "      <td>270000.0</td>\n",
              "      <td>Associado comercial</td>\n",
              "      <td>Ensino medio</td>\n",
              "      <td>Solteiro</td>\n",
              "      <td>Casa propria</td>\n",
              "      <td>52.0</td>\n",
              "      <td>1</td>\n",
              "      <td>0</td>\n",
              "      <td>1</td>\n",
              "      <td>1</td>\n",
              "      <td>Venda</td>\n",
              "      <td>1.0</td>\n",
              "      <td>8.4</td>\n",
              "    </tr>\n",
              "  </tbody>\n",
              "</table>\n",
              "</div>\n",
              "      <button class=\"colab-df-convert\" onclick=\"convertToInteractive('df-5d57af63-003e-4c68-873f-a7cf8c16bfca')\"\n",
              "              title=\"Convert this dataframe to an interactive table.\"\n",
              "              style=\"display:none;\">\n",
              "        \n",
              "  <svg xmlns=\"http://www.w3.org/2000/svg\" height=\"24px\"viewBox=\"0 0 24 24\"\n",
              "       width=\"24px\">\n",
              "    <path d=\"M0 0h24v24H0V0z\" fill=\"none\"/>\n",
              "    <path d=\"M18.56 5.44l.94 2.06.94-2.06 2.06-.94-2.06-.94-.94-2.06-.94 2.06-2.06.94zm-11 1L8.5 8.5l.94-2.06 2.06-.94-2.06-.94L8.5 2.5l-.94 2.06-2.06.94zm10 10l.94 2.06.94-2.06 2.06-.94-2.06-.94-.94-2.06-.94 2.06-2.06.94z\"/><path d=\"M17.41 7.96l-1.37-1.37c-.4-.4-.92-.59-1.43-.59-.52 0-1.04.2-1.43.59L10.3 9.45l-7.72 7.72c-.78.78-.78 2.05 0 2.83L4 21.41c.39.39.9.59 1.41.59.51 0 1.02-.2 1.41-.59l7.78-7.78 2.81-2.81c.8-.78.8-2.07 0-2.86zM5.41 20L4 18.59l7.72-7.72 1.47 1.35L5.41 20z\"/>\n",
              "  </svg>\n",
              "      </button>\n",
              "      \n",
              "  <style>\n",
              "    .colab-df-container {\n",
              "      display:flex;\n",
              "      flex-wrap:wrap;\n",
              "      gap: 12px;\n",
              "    }\n",
              "\n",
              "    .colab-df-convert {\n",
              "      background-color: #E8F0FE;\n",
              "      border: none;\n",
              "      border-radius: 50%;\n",
              "      cursor: pointer;\n",
              "      display: none;\n",
              "      fill: #1967D2;\n",
              "      height: 32px;\n",
              "      padding: 0 0 0 0;\n",
              "      width: 32px;\n",
              "    }\n",
              "\n",
              "    .colab-df-convert:hover {\n",
              "      background-color: #E2EBFA;\n",
              "      box-shadow: 0px 1px 2px rgba(60, 64, 67, 0.3), 0px 1px 3px 1px rgba(60, 64, 67, 0.15);\n",
              "      fill: #174EA6;\n",
              "    }\n",
              "\n",
              "    [theme=dark] .colab-df-convert {\n",
              "      background-color: #3B4455;\n",
              "      fill: #D2E3FC;\n",
              "    }\n",
              "\n",
              "    [theme=dark] .colab-df-convert:hover {\n",
              "      background-color: #434B5C;\n",
              "      box-shadow: 0px 1px 3px 1px rgba(0, 0, 0, 0.15);\n",
              "      filter: drop-shadow(0px 1px 2px rgba(0, 0, 0, 0.3));\n",
              "      fill: #FFFFFF;\n",
              "    }\n",
              "  </style>\n",
              "\n",
              "      <script>\n",
              "        const buttonEl =\n",
              "          document.querySelector('#df-5d57af63-003e-4c68-873f-a7cf8c16bfca button.colab-df-convert');\n",
              "        buttonEl.style.display =\n",
              "          google.colab.kernel.accessAllowed ? 'block' : 'none';\n",
              "\n",
              "        async function convertToInteractive(key) {\n",
              "          const element = document.querySelector('#df-5d57af63-003e-4c68-873f-a7cf8c16bfca');\n",
              "          const dataTable =\n",
              "            await google.colab.kernel.invokeFunction('convertToInteractive',\n",
              "                                                     [key], {});\n",
              "          if (!dataTable) return;\n",
              "\n",
              "          const docLinkHtml = 'Like what you see? Visit the ' +\n",
              "            '<a target=\"_blank\" href=https://colab.research.google.com/notebooks/data_table.ipynb>data table notebook</a>'\n",
              "            + ' to learn more about interactive tables.';\n",
              "          element.innerHTML = '';\n",
              "          dataTable['output_type'] = 'display_data';\n",
              "          await google.colab.output.renderOutput(dataTable, element);\n",
              "          const docLink = document.createElement('div');\n",
              "          docLink.innerHTML = docLinkHtml;\n",
              "          element.appendChild(docLink);\n",
              "        }\n",
              "      </script>\n",
              "    </div>\n",
              "  </div>\n",
              "  "
            ]
          },
          "metadata": {},
          "execution_count": 3
        }
      ]
    },
    {
      "cell_type": "markdown",
      "metadata": {
        "id": "VwHwh0l-yZp-"
      },
      "source": [
        "# Sessão - Variáveis contínuas/quantitativas"
      ]
    },
    {
      "cell_type": "code",
      "metadata": {
        "id": "_e5BZHOKoIZ4"
      },
      "source": [
        "quant_cols = ['Idade', 'Qtd_Filhos', 'Rendimento_Anual', 'Anos_empregado', 'Tamanho_Familia']"
      ],
      "execution_count": 4,
      "outputs": []
    },
    {
      "cell_type": "code",
      "metadata": {
        "colab": {
          "base_uri": "https://localhost:8080/",
          "height": 300
        },
        "id": "kRYbk2yNo79Q",
        "outputId": "501d7399-a7fc-461f-a0f8-0bb4066b0214"
      },
      "source": [
        "df_cadastrados_no_rep.loc[:,quant_cols].describe()"
      ],
      "execution_count": 5,
      "outputs": [
        {
          "output_type": "execute_result",
          "data": {
            "text/plain": [
              "               Idade     Qtd_Filhos  Rendimento_Anual  Anos_empregado  \\\n",
              "count  438463.000000  438463.000000      4.384630e+05   438463.000000   \n",
              "mean       43.834032       0.427384      1.875220e+05     -165.936036   \n",
              "std        11.472815       0.724879      1.100832e+05      380.201131   \n",
              "min        21.000000       0.000000      2.610000e+04    -1000.700000   \n",
              "25%        34.000000       0.000000      1.215000e+05        1.000000   \n",
              "50%        43.000000       0.000000      1.611000e+05        4.000000   \n",
              "75%        53.000000       1.000000      2.250000e+05        8.500000   \n",
              "max        69.000000      19.000000      6.750000e+06       48.000000   \n",
              "\n",
              "       Tamanho_Familia  \n",
              "count    438463.000000  \n",
              "mean          2.194461  \n",
              "std           0.897194  \n",
              "min           1.000000  \n",
              "25%           2.000000  \n",
              "50%           2.000000  \n",
              "75%           3.000000  \n",
              "max          20.000000  "
            ],
            "text/html": [
              "\n",
              "  <div id=\"df-7a004053-9615-43fb-a0da-4c18ff6833b8\">\n",
              "    <div class=\"colab-df-container\">\n",
              "      <div>\n",
              "<style scoped>\n",
              "    .dataframe tbody tr th:only-of-type {\n",
              "        vertical-align: middle;\n",
              "    }\n",
              "\n",
              "    .dataframe tbody tr th {\n",
              "        vertical-align: top;\n",
              "    }\n",
              "\n",
              "    .dataframe thead th {\n",
              "        text-align: right;\n",
              "    }\n",
              "</style>\n",
              "<table border=\"1\" class=\"dataframe\">\n",
              "  <thead>\n",
              "    <tr style=\"text-align: right;\">\n",
              "      <th></th>\n",
              "      <th>Idade</th>\n",
              "      <th>Qtd_Filhos</th>\n",
              "      <th>Rendimento_Anual</th>\n",
              "      <th>Anos_empregado</th>\n",
              "      <th>Tamanho_Familia</th>\n",
              "    </tr>\n",
              "  </thead>\n",
              "  <tbody>\n",
              "    <tr>\n",
              "      <th>count</th>\n",
              "      <td>438463.000000</td>\n",
              "      <td>438463.000000</td>\n",
              "      <td>4.384630e+05</td>\n",
              "      <td>438463.000000</td>\n",
              "      <td>438463.000000</td>\n",
              "    </tr>\n",
              "    <tr>\n",
              "      <th>mean</th>\n",
              "      <td>43.834032</td>\n",
              "      <td>0.427384</td>\n",
              "      <td>1.875220e+05</td>\n",
              "      <td>-165.936036</td>\n",
              "      <td>2.194461</td>\n",
              "    </tr>\n",
              "    <tr>\n",
              "      <th>std</th>\n",
              "      <td>11.472815</td>\n",
              "      <td>0.724879</td>\n",
              "      <td>1.100832e+05</td>\n",
              "      <td>380.201131</td>\n",
              "      <td>0.897194</td>\n",
              "    </tr>\n",
              "    <tr>\n",
              "      <th>min</th>\n",
              "      <td>21.000000</td>\n",
              "      <td>0.000000</td>\n",
              "      <td>2.610000e+04</td>\n",
              "      <td>-1000.700000</td>\n",
              "      <td>1.000000</td>\n",
              "    </tr>\n",
              "    <tr>\n",
              "      <th>25%</th>\n",
              "      <td>34.000000</td>\n",
              "      <td>0.000000</td>\n",
              "      <td>1.215000e+05</td>\n",
              "      <td>1.000000</td>\n",
              "      <td>2.000000</td>\n",
              "    </tr>\n",
              "    <tr>\n",
              "      <th>50%</th>\n",
              "      <td>43.000000</td>\n",
              "      <td>0.000000</td>\n",
              "      <td>1.611000e+05</td>\n",
              "      <td>4.000000</td>\n",
              "      <td>2.000000</td>\n",
              "    </tr>\n",
              "    <tr>\n",
              "      <th>75%</th>\n",
              "      <td>53.000000</td>\n",
              "      <td>1.000000</td>\n",
              "      <td>2.250000e+05</td>\n",
              "      <td>8.500000</td>\n",
              "      <td>3.000000</td>\n",
              "    </tr>\n",
              "    <tr>\n",
              "      <th>max</th>\n",
              "      <td>69.000000</td>\n",
              "      <td>19.000000</td>\n",
              "      <td>6.750000e+06</td>\n",
              "      <td>48.000000</td>\n",
              "      <td>20.000000</td>\n",
              "    </tr>\n",
              "  </tbody>\n",
              "</table>\n",
              "</div>\n",
              "      <button class=\"colab-df-convert\" onclick=\"convertToInteractive('df-7a004053-9615-43fb-a0da-4c18ff6833b8')\"\n",
              "              title=\"Convert this dataframe to an interactive table.\"\n",
              "              style=\"display:none;\">\n",
              "        \n",
              "  <svg xmlns=\"http://www.w3.org/2000/svg\" height=\"24px\"viewBox=\"0 0 24 24\"\n",
              "       width=\"24px\">\n",
              "    <path d=\"M0 0h24v24H0V0z\" fill=\"none\"/>\n",
              "    <path d=\"M18.56 5.44l.94 2.06.94-2.06 2.06-.94-2.06-.94-.94-2.06-.94 2.06-2.06.94zm-11 1L8.5 8.5l.94-2.06 2.06-.94-2.06-.94L8.5 2.5l-.94 2.06-2.06.94zm10 10l.94 2.06.94-2.06 2.06-.94-2.06-.94-.94-2.06-.94 2.06-2.06.94z\"/><path d=\"M17.41 7.96l-1.37-1.37c-.4-.4-.92-.59-1.43-.59-.52 0-1.04.2-1.43.59L10.3 9.45l-7.72 7.72c-.78.78-.78 2.05 0 2.83L4 21.41c.39.39.9.59 1.41.59.51 0 1.02-.2 1.41-.59l7.78-7.78 2.81-2.81c.8-.78.8-2.07 0-2.86zM5.41 20L4 18.59l7.72-7.72 1.47 1.35L5.41 20z\"/>\n",
              "  </svg>\n",
              "      </button>\n",
              "      \n",
              "  <style>\n",
              "    .colab-df-container {\n",
              "      display:flex;\n",
              "      flex-wrap:wrap;\n",
              "      gap: 12px;\n",
              "    }\n",
              "\n",
              "    .colab-df-convert {\n",
              "      background-color: #E8F0FE;\n",
              "      border: none;\n",
              "      border-radius: 50%;\n",
              "      cursor: pointer;\n",
              "      display: none;\n",
              "      fill: #1967D2;\n",
              "      height: 32px;\n",
              "      padding: 0 0 0 0;\n",
              "      width: 32px;\n",
              "    }\n",
              "\n",
              "    .colab-df-convert:hover {\n",
              "      background-color: #E2EBFA;\n",
              "      box-shadow: 0px 1px 2px rgba(60, 64, 67, 0.3), 0px 1px 3px 1px rgba(60, 64, 67, 0.15);\n",
              "      fill: #174EA6;\n",
              "    }\n",
              "\n",
              "    [theme=dark] .colab-df-convert {\n",
              "      background-color: #3B4455;\n",
              "      fill: #D2E3FC;\n",
              "    }\n",
              "\n",
              "    [theme=dark] .colab-df-convert:hover {\n",
              "      background-color: #434B5C;\n",
              "      box-shadow: 0px 1px 3px 1px rgba(0, 0, 0, 0.15);\n",
              "      filter: drop-shadow(0px 1px 2px rgba(0, 0, 0, 0.3));\n",
              "      fill: #FFFFFF;\n",
              "    }\n",
              "  </style>\n",
              "\n",
              "      <script>\n",
              "        const buttonEl =\n",
              "          document.querySelector('#df-7a004053-9615-43fb-a0da-4c18ff6833b8 button.colab-df-convert');\n",
              "        buttonEl.style.display =\n",
              "          google.colab.kernel.accessAllowed ? 'block' : 'none';\n",
              "\n",
              "        async function convertToInteractive(key) {\n",
              "          const element = document.querySelector('#df-7a004053-9615-43fb-a0da-4c18ff6833b8');\n",
              "          const dataTable =\n",
              "            await google.colab.kernel.invokeFunction('convertToInteractive',\n",
              "                                                     [key], {});\n",
              "          if (!dataTable) return;\n",
              "\n",
              "          const docLinkHtml = 'Like what you see? Visit the ' +\n",
              "            '<a target=\"_blank\" href=https://colab.research.google.com/notebooks/data_table.ipynb>data table notebook</a>'\n",
              "            + ' to learn more about interactive tables.';\n",
              "          element.innerHTML = '';\n",
              "          dataTable['output_type'] = 'display_data';\n",
              "          await google.colab.output.renderOutput(dataTable, element);\n",
              "          const docLink = document.createElement('div');\n",
              "          docLink.innerHTML = docLinkHtml;\n",
              "          element.appendChild(docLink);\n",
              "        }\n",
              "      </script>\n",
              "    </div>\n",
              "  </div>\n",
              "  "
            ]
          },
          "metadata": {},
          "execution_count": 5
        }
      ]
    },
    {
      "cell_type": "code",
      "metadata": {
        "colab": {
          "base_uri": "https://localhost:8080/",
          "height": 265
        },
        "id": "3ZUZdhE3s3AZ",
        "outputId": "e261eb6b-eb3f-4c0b-8a93-04ada164be37"
      },
      "source": [
        "plt.hist(df_cadastrados_no_rep.loc[:,\"Anos_empregado\"]) # hum, tem algo errado!\n",
        "plt.show()"
      ],
      "execution_count": 6,
      "outputs": [
        {
          "output_type": "display_data",
          "data": {
            "text/plain": [
              "<Figure size 432x288 with 1 Axes>"
            ],
            "image/png": "[encoded data removed]"
          },
          "metadata": {
            "needs_background": "light"
          }
        }
      ]
    },
    {
      "cell_type": "code",
      "metadata": {
        "colab": {
          "base_uri": "https://localhost:8080/"
        },
        "id": "7Pyzpc0duPIh",
        "outputId": "a11a0d1c-a2b9-4aaf-bbb7-7e7d82b83481"
      },
      "source": [
        "print(df_cadastrados_no_rep.query(\"Anos_empregado <= 0\").loc[:,[\"Anos_empregado\", \"Categoria_de_renda\"]].value_counts())\n",
        "print()\n",
        "df_cadastrados_no_rep.query(\"Anos_empregado < 0\").loc[:,[\"Anos_empregado\", \"Categoria_de_renda\"]].value_counts()\n",
        "# valor de -1000 provavelmente é um identificador de pensionista"
      ],
      "execution_count": 7,
      "outputs": [
        {
          "output_type": "stream",
          "name": "stdout",
          "text": [
            "Anos_empregado  Categoria_de_renda \n",
            "-1000.7         Pensionista            75314\n",
            " 0.0            Empregado                 26\n",
            "                Servidor publico          11\n",
            "                Associado comercial        7\n",
            "dtype: int64\n",
            "\n"
          ]
        },
        {
          "output_type": "execute_result",
          "data": {
            "text/plain": [
              "Anos_empregado  Categoria_de_renda\n",
              "-1000.7         Pensionista           75314\n",
              "dtype: int64"
            ]
          },
          "metadata": {},
          "execution_count": 7
        }
      ]
    },
    {
      "cell_type": "code",
      "metadata": {
        "id": "P3G4T4zovDJo"
      },
      "source": [
        "df_cadastrados_no_rep.loc[:,\"Anos_empregado\"] = df_cadastrados_no_rep.loc[:,\"Anos_empregado\"].replace(-1000.7, -1) # convertendo para um valor simbólico que não altere a distribuição mas mantenha a natureza de < 0"
      ],
      "execution_count": 8,
      "outputs": []
    },
    {
      "cell_type": "code",
      "metadata": {
        "colab": {
          "base_uri": "https://localhost:8080/",
          "height": 644
        },
        "id": "kloKPzSEyTCp",
        "outputId": "451d8496-11b6-4a54-babd-f1bb7e31d343"
      },
      "source": [
        "df_cadastrados_no_rep"
      ],
      "execution_count": 9,
      "outputs": [
        {
          "output_type": "execute_result",
          "data": {
            "text/plain": [
              "        ID_Cliente Genero  Tem_Carro  Tem_Casa_Propria  Qtd_Filhos  \\\n",
              "0          5008804      H          1                 1           0   \n",
              "1          5008805      H          1                 1           0   \n",
              "2          5008806      H          1                 1           0   \n",
              "3          5008808      M          0                 1           0   \n",
              "4          5008809      M          0                 1           0   \n",
              "...            ...    ...        ...               ...         ...   \n",
              "438552     6840104      H          0                 1           0   \n",
              "438553     6840222      M          0                 0           0   \n",
              "438554     6841878      M          0                 0           0   \n",
              "438555     6842765      M          0                 1           0   \n",
              "438556     6842885      M          0                 1           0   \n",
              "\n",
              "        Rendimento_Anual   Categoria_de_renda Grau_Escolaridade  \\\n",
              "0               427500.0            Empregado   Ensino superior   \n",
              "1               427500.0            Empregado   Ensino superior   \n",
              "2               112500.0            Empregado      Ensino medio   \n",
              "3               270000.0  Associado comercial      Ensino medio   \n",
              "4               270000.0  Associado comercial      Ensino medio   \n",
              "...                  ...                  ...               ...   \n",
              "438552          135000.0          Pensionista      Ensino medio   \n",
              "438553          103500.0            Empregado      Ensino medio   \n",
              "438554           54000.0  Associado comercial   Ensino superior   \n",
              "438555           72000.0          Pensionista      Ensino medio   \n",
              "438556          121500.0            Empregado      Ensino medio   \n",
              "\n",
              "         Estado_Civil           Moradia  Idade  Tem_Celular  \\\n",
              "0       Uniao estavel           Alugado   33.0            1   \n",
              "1       Uniao estavel           Alugado   33.0            1   \n",
              "2              Casado      Casa propria   59.0            1   \n",
              "3            Solteiro      Casa propria   52.0            1   \n",
              "4            Solteiro      Casa propria   52.0            1   \n",
              "...               ...               ...    ...          ...   \n",
              "438552       Separado      Casa propria   62.0            1   \n",
              "438553       Solteiro      Casa propria   44.0            1   \n",
              "438554       Solteiro  Mora com os pais   22.0            1   \n",
              "438555         Casado      Casa propria   59.0            1   \n",
              "438556         Casado      Casa propria   52.0            1   \n",
              "\n",
              "        Tem_telefone_trabalho  Tem_telefone_fixo  Tem_email          Ocupacao  \\\n",
              "0                           1                  0          0            Outros   \n",
              "1                           1                  0          0            Outros   \n",
              "2                           0                  0          0         Seguranca   \n",
              "3                           0                  1          1             Venda   \n",
              "4                           0                  1          1             Venda   \n",
              "...                       ...                ...        ...               ...   \n",
              "438552                      0                  0          0            Outros   \n",
              "438553                      0                  0          0  Construcao Civil   \n",
              "438554                      1                  0          0             Venda   \n",
              "438555                      0                  0          0            Outros   \n",
              "438556                      0                  1          0             Venda   \n",
              "\n",
              "        Tamanho_Familia  Anos_empregado  \n",
              "0                   2.0            12.4  \n",
              "1                   2.0            12.4  \n",
              "2                   2.0             3.1  \n",
              "3                   1.0             8.4  \n",
              "4                   1.0             8.4  \n",
              "...                 ...             ...  \n",
              "438552              1.0            -1.0  \n",
              "438553              1.0             8.2  \n",
              "438554              1.0             1.0  \n",
              "438555              2.0            -1.0  \n",
              "438556              2.0             3.3  \n",
              "\n",
              "[438463 rows x 18 columns]"
            ],
            "text/html": [
              "\n",
              "  <div id=\"df-dddcac7f-62ad-4598-a136-ee6eeb1f05bc\">\n",
              "    <div class=\"colab-df-container\">\n",
              "      <div>\n",
              "<style scoped>\n",
              "    .dataframe tbody tr th:only-of-type {\n",
              "        vertical-align: middle;\n",
              "    }\n",
              "\n",
              "    .dataframe tbody tr th {\n",
              "        vertical-align: top;\n",
              "    }\n",
              "\n",
              "    .dataframe thead th {\n",
              "        text-align: right;\n",
              "    }\n",
              "</style>\n",
              "<table border=\"1\" class=\"dataframe\">\n",
              "  <thead>\n",
              "    <tr style=\"text-align: right;\">\n",
              "      <th></th>\n",
              "      <th>ID_Cliente</th>\n",
              "      <th>Genero</th>\n",
              "      <th>Tem_Carro</th>\n",
              "      <th>Tem_Casa_Propria</th>\n",
              "      <th>Qtd_Filhos</th>\n",
              "      <th>Rendimento_Anual</th>\n",
              "      <th>Categoria_de_renda</th>\n",
              "      <th>Grau_Escolaridade</th>\n",
              "      <th>Estado_Civil</th>\n",
              "      <th>Moradia</th>\n",
              "      <th>Idade</th>\n",
              "      <th>Tem_Celular</th>\n",
              "      <th>Tem_telefone_trabalho</th>\n",
              "      <th>Tem_telefone_fixo</th>\n",
              "      <th>Tem_email</th>\n",
              "      <th>Ocupacao</th>\n",
              "      <th>Tamanho_Familia</th>\n",
              "      <th>Anos_empregado</th>\n",
              "    </tr>\n",
              "  </thead>\n",
              "  <tbody>\n",
              "    <tr>\n",
              "      <th>0</th>\n",
              "      <td>5008804</td>\n",
              "      <td>H</td>\n",
              "      <td>1</td>\n",
              "      <td>1</td>\n",
              "      <td>0</td>\n",
              "      <td>427500.0</td>\n",
              "      <td>Empregado</td>\n",
              "      <td>Ensino superior</td>\n",
              "      <td>Uniao estavel</td>\n",
              "      <td>Alugado</td>\n",
              "      <td>33.0</td>\n",
              "      <td>1</td>\n",
              "      <td>1</td>\n",
              "      <td>0</td>\n",
              "      <td>0</td>\n",
              "      <td>Outros</td>\n",
              "      <td>2.0</td>\n",
              "      <td>12.4</td>\n",
              "    </tr>\n",
              "    <tr>\n",
              "      <th>1</th>\n",
              "      <td>5008805</td>\n",
              "      <td>H</td>\n",
              "      <td>1</td>\n",
              "      <td>1</td>\n",
              "      <td>0</td>\n",
              "      <td>427500.0</td>\n",
              "      <td>Empregado</td>\n",
              "      <td>Ensino superior</td>\n",
              "      <td>Uniao estavel</td>\n",
              "      <td>Alugado</td>\n",
              "      <td>33.0</td>\n",
              "      <td>1</td>\n",
              "      <td>1</td>\n",
              "      <td>0</td>\n",
              "      <td>0</td>\n",
              "      <td>Outros</td>\n",
              "      <td>2.0</td>\n",
              "      <td>12.4</td>\n",
              "    </tr>\n",
              "    <tr>\n",
              "      <th>2</th>\n",
              "      <td>5008806</td>\n",
              "      <td>H</td>\n",
              "      <td>1</td>\n",
              "      <td>1</td>\n",
              "      <td>0</td>\n",
              "      <td>112500.0</td>\n",
              "      <td>Empregado</td>\n",
              "      <td>Ensino medio</td>\n",
              "      <td>Casado</td>\n",
              "      <td>Casa propria</td>\n",
              "      <td>59.0</td>\n",
              "      <td>1</td>\n",
              "      <td>0</td>\n",
              "      <td>0</td>\n",
              "      <td>0</td>\n",
              "      <td>Seguranca</td>\n",
              "      <td>2.0</td>\n",
              "      <td>3.1</td>\n",
              "    </tr>\n",
              "    <tr>\n",
              "      <th>3</th>\n",
              "      <td>5008808</td>\n",
              "      <td>M</td>\n",
              "      <td>0</td>\n",
              "      <td>1</td>\n",
              "      <td>0</td>\n",
              "      <td>270000.0</td>\n",
              "      <td>Associado comercial</td>\n",
              "      <td>Ensino medio</td>\n",
              "      <td>Solteiro</td>\n",
              "      <td>Casa propria</td>\n",
              "      <td>52.0</td>\n",
              "      <td>1</td>\n",
              "      <td>0</td>\n",
              "      <td>1</td>\n",
              "      <td>1</td>\n",
              "      <td>Venda</td>\n",
              "      <td>1.0</td>\n",
              "      <td>8.4</td>\n",
              "    </tr>\n",
              "    <tr>\n",
              "      <th>4</th>\n",
              "      <td>5008809</td>\n",
              "      <td>M</td>\n",
              "      <td>0</td>\n",
              "      <td>1</td>\n",
              "      <td>0</td>\n",
              "      <td>270000.0</td>\n",
              "      <td>Associado comercial</td>\n",
              "      <td>Ensino medio</td>\n",
              "      <td>Solteiro</td>\n",
              "      <td>Casa propria</td>\n",
              "      <td>52.0</td>\n",
              "      <td>1</td>\n",
              "      <td>0</td>\n",
              "      <td>1</td>\n",
              "      <td>1</td>\n",
              "      <td>Venda</td>\n",
              "      <td>1.0</td>\n",
              "      <td>8.4</td>\n",
              "    </tr>\n",
              "    <tr>\n",
              "      <th>...</th>\n",
              "      <td>...</td>\n",
              "      <td>...</td>\n",
              "      <td>...</td>\n",
              "      <td>...</td>\n",
              "      <td>...</td>\n",
              "      <td>...</td>\n",
              "      <td>...</td>\n",
              "      <td>...</td>\n",
              "      <td>...</td>\n",
              "      <td>...</td>\n",
              "      <td>...</td>\n",
              "      <td>...</td>\n",
              "      <td>...</td>\n",
              "      <td>...</td>\n",
              "      <td>...</td>\n",
              "      <td>...</td>\n",
              "      <td>...</td>\n",
              "      <td>...</td>\n",
              "    </tr>\n",
              "    <tr>\n",
              "      <th>438552</th>\n",
              "      <td>6840104</td>\n",
              "      <td>H</td>\n",
              "      <td>0</td>\n",
              "      <td>1</td>\n",
              "      <td>0</td>\n",
              "      <td>135000.0</td>\n",
              "      <td>Pensionista</td>\n",
              "      <td>Ensino medio</td>\n",
              "      <td>Separado</td>\n",
              "      <td>Casa propria</td>\n",
              "      <td>62.0</td>\n",
              "      <td>1</td>\n",
              "      <td>0</td>\n",
              "      <td>0</td>\n",
              "      <td>0</td>\n",
              "      <td>Outros</td>\n",
              "      <td>1.0</td>\n",
              "      <td>-1.0</td>\n",
              "    </tr>\n",
              "    <tr>\n",
              "      <th>438553</th>\n",
              "      <td>6840222</td>\n",
              "      <td>M</td>\n",
              "      <td>0</td>\n",
              "      <td>0</td>\n",
              "      <td>0</td>\n",
              "      <td>103500.0</td>\n",
              "      <td>Empregado</td>\n",
              "      <td>Ensino medio</td>\n",
              "      <td>Solteiro</td>\n",
              "      <td>Casa propria</td>\n",
              "      <td>44.0</td>\n",
              "      <td>1</td>\n",
              "      <td>0</td>\n",
              "      <td>0</td>\n",
              "      <td>0</td>\n",
              "      <td>Construcao Civil</td>\n",
              "      <td>1.0</td>\n",
              "      <td>8.2</td>\n",
              "    </tr>\n",
              "    <tr>\n",
              "      <th>438554</th>\n",
              "      <td>6841878</td>\n",
              "      <td>M</td>\n",
              "      <td>0</td>\n",
              "      <td>0</td>\n",
              "      <td>0</td>\n",
              "      <td>54000.0</td>\n",
              "      <td>Associado comercial</td>\n",
              "      <td>Ensino superior</td>\n",
              "      <td>Solteiro</td>\n",
              "      <td>Mora com os pais</td>\n",
              "      <td>22.0</td>\n",
              "      <td>1</td>\n",
              "      <td>1</td>\n",
              "      <td>0</td>\n",
              "      <td>0</td>\n",
              "      <td>Venda</td>\n",
              "      <td>1.0</td>\n",
              "      <td>1.0</td>\n",
              "    </tr>\n",
              "    <tr>\n",
              "      <th>438555</th>\n",
              "      <td>6842765</td>\n",
              "      <td>M</td>\n",
              "      <td>0</td>\n",
              "      <td>1</td>\n",
              "      <td>0</td>\n",
              "      <td>72000.0</td>\n",
              "      <td>Pensionista</td>\n",
              "      <td>Ensino medio</td>\n",
              "      <td>Casado</td>\n",
              "      <td>Casa propria</td>\n",
              "      <td>59.0</td>\n",
              "      <td>1</td>\n",
              "      <td>0</td>\n",
              "      <td>0</td>\n",
              "      <td>0</td>\n",
              "      <td>Outros</td>\n",
              "      <td>2.0</td>\n",
              "      <td>-1.0</td>\n",
              "    </tr>\n",
              "    <tr>\n",
              "      <th>438556</th>\n",
              "      <td>6842885</td>\n",
              "      <td>M</td>\n",
              "      <td>0</td>\n",
              "      <td>1</td>\n",
              "      <td>0</td>\n",
              "      <td>121500.0</td>\n",
              "      <td>Empregado</td>\n",
              "      <td>Ensino medio</td>\n",
              "      <td>Casado</td>\n",
              "      <td>Casa propria</td>\n",
              "      <td>52.0</td>\n",
              "      <td>1</td>\n",
              "      <td>0</td>\n",
              "      <td>1</td>\n",
              "      <td>0</td>\n",
              "      <td>Venda</td>\n",
              "      <td>2.0</td>\n",
              "      <td>3.3</td>\n",
              "    </tr>\n",
              "  </tbody>\n",
              "</table>\n",
              "<p>438463 rows × 18 columns</p>\n",
              "</div>\n",
              "      <button class=\"colab-df-convert\" onclick=\"convertToInteractive('df-dddcac7f-62ad-4598-a136-ee6eeb1f05bc')\"\n",
              "              title=\"Convert this dataframe to an interactive table.\"\n",
              "              style=\"display:none;\">\n",
              "        \n",
              "  <svg xmlns=\"http://www.w3.org/2000/svg\" height=\"24px\"viewBox=\"0 0 24 24\"\n",
              "       width=\"24px\">\n",
              "    <path d=\"M0 0h24v24H0V0z\" fill=\"none\"/>\n",
              "    <path d=\"M18.56 5.44l.94 2.06.94-2.06 2.06-.94-2.06-.94-.94-2.06-.94 2.06-2.06.94zm-11 1L8.5 8.5l.94-2.06 2.06-.94-2.06-.94L8.5 2.5l-.94 2.06-2.06.94zm10 10l.94 2.06.94-2.06 2.06-.94-2.06-.94-.94-2.06-.94 2.06-2.06.94z\"/><path d=\"M17.41 7.96l-1.37-1.37c-.4-.4-.92-.59-1.43-.59-.52 0-1.04.2-1.43.59L10.3 9.45l-7.72 7.72c-.78.78-.78 2.05 0 2.83L4 21.41c.39.39.9.59 1.41.59.51 0 1.02-.2 1.41-.59l7.78-7.78 2.81-2.81c.8-.78.8-2.07 0-2.86zM5.41 20L4 18.59l7.72-7.72 1.47 1.35L5.41 20z\"/>\n",
              "  </svg>\n",
              "      </button>\n",
              "      \n",
              "  <style>\n",
              "    .colab-df-container {\n",
              "      display:flex;\n",
              "      flex-wrap:wrap;\n",
              "      gap: 12px;\n",
              "    }\n",
              "\n",
              "    .colab-df-convert {\n",
              "      background-color: #E8F0FE;\n",
              "      border: none;\n",
              "      border-radius: 50%;\n",
              "      cursor: pointer;\n",
              "      display: none;\n",
              "      fill: #1967D2;\n",
              "      height: 32px;\n",
              "      padding: 0 0 0 0;\n",
              "      width: 32px;\n",
              "    }\n",
              "\n",
              "    .colab-df-convert:hover {\n",
              "      background-color: #E2EBFA;\n",
              "      box-shadow: 0px 1px 2px rgba(60, 64, 67, 0.3), 0px 1px 3px 1px rgba(60, 64, 67, 0.15);\n",
              "      fill: #174EA6;\n",
              "    }\n",
              "\n",
              "    [theme=dark] .colab-df-convert {\n",
              "      background-color: #3B4455;\n",
              "      fill: #D2E3FC;\n",
              "    }\n",
              "\n",
              "    [theme=dark] .colab-df-convert:hover {\n",
              "      background-color: #434B5C;\n",
              "      box-shadow: 0px 1px 3px 1px rgba(0, 0, 0, 0.15);\n",
              "      filter: drop-shadow(0px 1px 2px rgba(0, 0, 0, 0.3));\n",
              "      fill: #FFFFFF;\n",
              "    }\n",
              "  </style>\n",
              "\n",
              "      <script>\n",
              "        const buttonEl =\n",
              "          document.querySelector('#df-dddcac7f-62ad-4598-a136-ee6eeb1f05bc button.colab-df-convert');\n",
              "        buttonEl.style.display =\n",
              "          google.colab.kernel.accessAllowed ? 'block' : 'none';\n",
              "\n",
              "        async function convertToInteractive(key) {\n",
              "          const element = document.querySelector('#df-dddcac7f-62ad-4598-a136-ee6eeb1f05bc');\n",
              "          const dataTable =\n",
              "            await google.colab.kernel.invokeFunction('convertToInteractive',\n",
              "                                                     [key], {});\n",
              "          if (!dataTable) return;\n",
              "\n",
              "          const docLinkHtml = 'Like what you see? Visit the ' +\n",
              "            '<a target=\"_blank\" href=https://colab.research.google.com/notebooks/data_table.ipynb>data table notebook</a>'\n",
              "            + ' to learn more about interactive tables.';\n",
              "          element.innerHTML = '';\n",
              "          dataTable['output_type'] = 'display_data';\n",
              "          await google.colab.output.renderOutput(dataTable, element);\n",
              "          const docLink = document.createElement('div');\n",
              "          docLink.innerHTML = docLinkHtml;\n",
              "          element.appendChild(docLink);\n",
              "        }\n",
              "      </script>\n",
              "    </div>\n",
              "  </div>\n",
              "  "
            ]
          },
          "metadata": {},
          "execution_count": 9
        }
      ]
    },
    {
      "cell_type": "code",
      "metadata": {
        "id": "-PEi5y36gXqt",
        "outputId": "7d5a5130-e2c3-42c1-b2ee-7bfbc9afac13",
        "colab": {
          "base_uri": "https://localhost:8080/",
          "height": 265
        }
      },
      "source": [
        "plt.hist(df_cadastrados_no_rep.loc[:,\"Anos_empregado\"])\n",
        "plt.show()"
      ],
      "execution_count": 10,
      "outputs": [
        {
          "output_type": "display_data",
          "data": {
            "text/plain": [
              "<Figure size 432x288 with 1 Axes>"
            ],
            "image/png": "[encoded data removed]"
          },
          "metadata": {
            "needs_background": "light"
          }
        }
      ]
    },
    {
      "cell_type": "markdown",
      "metadata": {
        "id": "TS4ie6i5yc8g"
      },
      "source": [
        "# Sessão 2 - Outliers"
      ]
    },
    {
      "cell_type": "code",
      "metadata": {
        "id": "s3zv8UfIyecy"
      },
      "source": [
        "import seaborn as sns\n",
        "sns.set()"
      ],
      "execution_count": 11,
      "outputs": []
    },
    {
      "cell_type": "code",
      "metadata": {
        "colab": {
          "base_uri": "https://localhost:8080/",
          "height": 287
        },
        "id": "HGkN1qPCzXYT",
        "outputId": "f2346594-99ce-4e08-e1a2-529416da4641"
      },
      "source": [
        "sns.histplot(data = df_cadastrados_no_rep, x = \"Rendimento_Anual\", bins = 10)\n",
        "plt.xticks(rotation = 45)\n",
        "plt.show()"
      ],
      "execution_count": 12,
      "outputs": [
        {
          "output_type": "display_data",
          "data": {
            "text/plain": [
              "<Figure size 432x288 with 1 Axes>"
            ],
            "image/png": "[encoded data removed]"
          },
          "metadata": {}
        }
      ]
    },
    {
      "cell_type": "code",
      "metadata": {
        "colab": {
          "base_uri": "https://localhost:8080/",
          "height": 357
        },
        "id": "k8xCICCF1XuM",
        "outputId": "872461c4-2fac-4a82-bd86-8bbd1adf8fd6"
      },
      "source": [
        "sns.boxplot(df_cadastrados_no_rep.loc[:,\"Rendimento_Anual\"])"
      ],
      "execution_count": 13,
      "outputs": [
        {
          "output_type": "stream",
          "name": "stderr",
          "text": [
            "/usr/local/lib/python3.8/dist-packages/seaborn/_decorators.py:36: FutureWarning: Pass the following variable as a keyword arg: x. From version 0.12, the only valid positional argument will be `data`, and passing other arguments without an explicit keyword will result in an error or misinterpretation.\n",
            "  warnings.warn(\n"
          ]
        },
        {
          "output_type": "execute_result",
          "data": {
            "text/plain": [
              "<matplotlib.axes._subplots.AxesSubplot at 0x7fb6afa57970>"
            ]
          },
          "metadata": {},
          "execution_count": 13
        },
        {
          "output_type": "display_data",
          "data": {
            "text/plain": [
              "<Figure size 432x288 with 1 Axes>"
            ],
            "image/png": "[encoded data removed]"
          },
          "metadata": {}
        }
      ]
    },
    {
      "cell_type": "code",
      "source": [
        "round(df_cadastrados_no_rep.loc[:,'Rendimento_Anual'].describe(),2)"
      ],
      "metadata": {
        "colab": {
          "base_uri": "https://localhost:8080/"
        },
        "id": "voSYnhtmlMve",
        "outputId": "02eadba6-d801-4253-ab64-d801c3f05118"
      },
      "execution_count": 14,
      "outputs": [
        {
          "output_type": "execute_result",
          "data": {
            "text/plain": [
              "count     438463.00\n",
              "mean      187522.01\n",
              "std       110083.15\n",
              "min        26100.00\n",
              "25%       121500.00\n",
              "50%       161100.00\n",
              "75%       225000.00\n",
              "max      6750000.00\n",
              "Name: Rendimento_Anual, dtype: float64"
            ]
          },
          "metadata": {},
          "execution_count": 14
        }
      ]
    },
    {
      "cell_type": "code",
      "metadata": {
        "colab": {
          "base_uri": "https://localhost:8080/"
        },
        "id": "vsSrCw4F0891",
        "outputId": "9ac5f887-36d0-49b9-f872-08c73c66d863"
      },
      "source": [
        "# Calculo do que é outlier seguindo o conceito de limite superior e inferior (intervalos de confiança)\n",
        "\n",
        "rend = df_cadastrados_no_rep.loc[:,\"Rendimento_Anual\"]\n",
        "rend_mean = rend.mean()\n",
        "rend_std = rend.std()\n",
        "\n",
        "lim_sup = rend_mean + (2 * rend_std)\n",
        "lim_inf = rend_mean - (2 * rend_std) # esse aqui você pode perceber que ficou negativo, e vimos que não há valores negativos nesse dado, então não haverá perdas\n",
        "\n",
        "index_outliers = [] # lista vazia para for, mesma lógica no R\n",
        "\n",
        "for index, valor in rend.items():\n",
        "  if valor > lim_sup or valor < lim_inf:\n",
        "    index_outliers.append(index)\n",
        "\n",
        "len(index_outliers)"
      ],
      "execution_count": 15,
      "outputs": [
        {
          "output_type": "execute_result",
          "data": {
            "text/plain": [
              "12641"
            ]
          },
          "metadata": {},
          "execution_count": 15
        }
      ]
    },
    {
      "cell_type": "code",
      "metadata": {
        "colab": {
          "base_uri": "https://localhost:8080/"
        },
        "id": "SBkoK_KM2iqo",
        "outputId": "dbc301ac-8680-4ff0-cd15-b49ee5e41350"
      },
      "source": [
        "df_cadastrados_no_out = df_cadastrados_no_rep.drop(index_outliers)\n",
        "df_cadastrados_no_out.shape"
      ],
      "execution_count": 16,
      "outputs": [
        {
          "output_type": "execute_result",
          "data": {
            "text/plain": [
              "(425822, 18)"
            ]
          },
          "metadata": {},
          "execution_count": 16
        }
      ]
    },
    {
      "cell_type": "code",
      "metadata": {
        "colab": {
          "base_uri": "https://localhost:8080/",
          "height": 300
        },
        "id": "HFP3seRu4wbV",
        "outputId": "7f3e4d65-aeb4-4df9-e201-b0728f1c8f69"
      },
      "source": [
        "df_cadastrados_no_out.loc[:,quant_cols].describe()"
      ],
      "execution_count": 17,
      "outputs": [
        {
          "output_type": "execute_result",
          "data": {
            "text/plain": [
              "               Idade     Qtd_Filhos  Rendimento_Anual  Anos_empregado  \\\n",
              "count  425822.000000  425822.000000     425822.000000   425822.000000   \n",
              "mean       43.838707       0.425314     176384.728083        5.744956   \n",
              "std        11.525400       0.723577      75033.530551        6.736649   \n",
              "min        21.000000       0.000000      26100.000000       -1.000000   \n",
              "25%        34.000000       0.000000     117000.000000        1.000000   \n",
              "50%        43.000000       0.000000     157500.000000        4.000000   \n",
              "75%        53.000000       1.000000     225000.000000        8.500000   \n",
              "max        69.000000      19.000000     405000.000000       48.000000   \n",
              "\n",
              "       Tamanho_Familia  \n",
              "count    425822.000000  \n",
              "mean          2.191683  \n",
              "std           0.896300  \n",
              "min           1.000000  \n",
              "25%           2.000000  \n",
              "50%           2.000000  \n",
              "75%           3.000000  \n",
              "max          20.000000  "
            ],
            "text/html": [
              "\n",
              "  <div id=\"df-c14bed62-f5ab-4a32-b5e8-bfc513dbadd0\">\n",
              "    <div class=\"colab-df-container\">\n",
              "      <div>\n",
              "<style scoped>\n",
              "    .dataframe tbody tr th:only-of-type {\n",
              "        vertical-align: middle;\n",
              "    }\n",
              "\n",
              "    .dataframe tbody tr th {\n",
              "        vertical-align: top;\n",
              "    }\n",
              "\n",
              "    .dataframe thead th {\n",
              "        text-align: right;\n",
              "    }\n",
              "</style>\n",
              "<table border=\"1\" class=\"dataframe\">\n",
              "  <thead>\n",
              "    <tr style=\"text-align: right;\">\n",
              "      <th></th>\n",
              "      <th>Idade</th>\n",
              "      <th>Qtd_Filhos</th>\n",
              "      <th>Rendimento_Anual</th>\n",
              "      <th>Anos_empregado</th>\n",
              "      <th>Tamanho_Familia</th>\n",
              "    </tr>\n",
              "  </thead>\n",
              "  <tbody>\n",
              "    <tr>\n",
              "      <th>count</th>\n",
              "      <td>425822.000000</td>\n",
              "      <td>425822.000000</td>\n",
              "      <td>425822.000000</td>\n",
              "      <td>425822.000000</td>\n",
              "      <td>425822.000000</td>\n",
              "    </tr>\n",
              "    <tr>\n",
              "      <th>mean</th>\n",
              "      <td>43.838707</td>\n",
              "      <td>0.425314</td>\n",
              "      <td>176384.728083</td>\n",
              "      <td>5.744956</td>\n",
              "      <td>2.191683</td>\n",
              "    </tr>\n",
              "    <tr>\n",
              "      <th>std</th>\n",
              "      <td>11.525400</td>\n",
              "      <td>0.723577</td>\n",
              "      <td>75033.530551</td>\n",
              "      <td>6.736649</td>\n",
              "      <td>0.896300</td>\n",
              "    </tr>\n",
              "    <tr>\n",
              "      <th>min</th>\n",
              "      <td>21.000000</td>\n",
              "      <td>0.000000</td>\n",
              "      <td>26100.000000</td>\n",
              "      <td>-1.000000</td>\n",
              "      <td>1.000000</td>\n",
              "    </tr>\n",
              "    <tr>\n",
              "      <th>25%</th>\n",
              "      <td>34.000000</td>\n",
              "      <td>0.000000</td>\n",
              "      <td>117000.000000</td>\n",
              "      <td>1.000000</td>\n",
              "      <td>2.000000</td>\n",
              "    </tr>\n",
              "    <tr>\n",
              "      <th>50%</th>\n",
              "      <td>43.000000</td>\n",
              "      <td>0.000000</td>\n",
              "      <td>157500.000000</td>\n",
              "      <td>4.000000</td>\n",
              "      <td>2.000000</td>\n",
              "    </tr>\n",
              "    <tr>\n",
              "      <th>75%</th>\n",
              "      <td>53.000000</td>\n",
              "      <td>1.000000</td>\n",
              "      <td>225000.000000</td>\n",
              "      <td>8.500000</td>\n",
              "      <td>3.000000</td>\n",
              "    </tr>\n",
              "    <tr>\n",
              "      <th>max</th>\n",
              "      <td>69.000000</td>\n",
              "      <td>19.000000</td>\n",
              "      <td>405000.000000</td>\n",
              "      <td>48.000000</td>\n",
              "      <td>20.000000</td>\n",
              "    </tr>\n",
              "  </tbody>\n",
              "</table>\n",
              "</div>\n",
              "      <button class=\"colab-df-convert\" onclick=\"convertToInteractive('df-c14bed62-f5ab-4a32-b5e8-bfc513dbadd0')\"\n",
              "              title=\"Convert this dataframe to an interactive table.\"\n",
              "              style=\"display:none;\">\n",
              "        \n",
              "  <svg xmlns=\"http://www.w3.org/2000/svg\" height=\"24px\"viewBox=\"0 0 24 24\"\n",
              "       width=\"24px\">\n",
              "    <path d=\"M0 0h24v24H0V0z\" fill=\"none\"/>\n",
              "    <path d=\"M18.56 5.44l.94 2.06.94-2.06 2.06-.94-2.06-.94-.94-2.06-.94 2.06-2.06.94zm-11 1L8.5 8.5l.94-2.06 2.06-.94-2.06-.94L8.5 2.5l-.94 2.06-2.06.94zm10 10l.94 2.06.94-2.06 2.06-.94-2.06-.94-.94-2.06-.94 2.06-2.06.94z\"/><path d=\"M17.41 7.96l-1.37-1.37c-.4-.4-.92-.59-1.43-.59-.52 0-1.04.2-1.43.59L10.3 9.45l-7.72 7.72c-.78.78-.78 2.05 0 2.83L4 21.41c.39.39.9.59 1.41.59.51 0 1.02-.2 1.41-.59l7.78-7.78 2.81-2.81c.8-.78.8-2.07 0-2.86zM5.41 20L4 18.59l7.72-7.72 1.47 1.35L5.41 20z\"/>\n",
              "  </svg>\n",
              "      </button>\n",
              "      \n",
              "  <style>\n",
              "    .colab-df-container {\n",
              "      display:flex;\n",
              "      flex-wrap:wrap;\n",
              "      gap: 12px;\n",
              "    }\n",
              "\n",
              "    .colab-df-convert {\n",
              "      background-color: #E8F0FE;\n",
              "      border: none;\n",
              "      border-radius: 50%;\n",
              "      cursor: pointer;\n",
              "      display: none;\n",
              "      fill: #1967D2;\n",
              "      height: 32px;\n",
              "      padding: 0 0 0 0;\n",
              "      width: 32px;\n",
              "    }\n",
              "\n",
              "    .colab-df-convert:hover {\n",
              "      background-color: #E2EBFA;\n",
              "      box-shadow: 0px 1px 2px rgba(60, 64, 67, 0.3), 0px 1px 3px 1px rgba(60, 64, 67, 0.15);\n",
              "      fill: #174EA6;\n",
              "    }\n",
              "\n",
              "    [theme=dark] .colab-df-convert {\n",
              "      background-color: #3B4455;\n",
              "      fill: #D2E3FC;\n",
              "    }\n",
              "\n",
              "    [theme=dark] .colab-df-convert:hover {\n",
              "      background-color: #434B5C;\n",
              "      box-shadow: 0px 1px 3px 1px rgba(0, 0, 0, 0.15);\n",
              "      filter: drop-shadow(0px 1px 2px rgba(0, 0, 0, 0.3));\n",
              "      fill: #FFFFFF;\n",
              "    }\n",
              "  </style>\n",
              "\n",
              "      <script>\n",
              "        const buttonEl =\n",
              "          document.querySelector('#df-c14bed62-f5ab-4a32-b5e8-bfc513dbadd0 button.colab-df-convert');\n",
              "        buttonEl.style.display =\n",
              "          google.colab.kernel.accessAllowed ? 'block' : 'none';\n",
              "\n",
              "        async function convertToInteractive(key) {\n",
              "          const element = document.querySelector('#df-c14bed62-f5ab-4a32-b5e8-bfc513dbadd0');\n",
              "          const dataTable =\n",
              "            await google.colab.kernel.invokeFunction('convertToInteractive',\n",
              "                                                     [key], {});\n",
              "          if (!dataTable) return;\n",
              "\n",
              "          const docLinkHtml = 'Like what you see? Visit the ' +\n",
              "            '<a target=\"_blank\" href=https://colab.research.google.com/notebooks/data_table.ipynb>data table notebook</a>'\n",
              "            + ' to learn more about interactive tables.';\n",
              "          element.innerHTML = '';\n",
              "          dataTable['output_type'] = 'display_data';\n",
              "          await google.colab.output.renderOutput(dataTable, element);\n",
              "          const docLink = document.createElement('div');\n",
              "          docLink.innerHTML = docLinkHtml;\n",
              "          element.appendChild(docLink);\n",
              "        }\n",
              "      </script>\n",
              "    </div>\n",
              "  </div>\n",
              "  "
            ]
          },
          "metadata": {},
          "execution_count": 17
        }
      ]
    },
    {
      "cell_type": "code",
      "metadata": {
        "colab": {
          "base_uri": "https://localhost:8080/",
          "height": 312
        },
        "id": "W8CShgm749Bt",
        "outputId": "fd68bc19-ce7b-4a00-afb0-7945b27cde34"
      },
      "source": [
        "sns.histplot(data = df_cadastrados_no_out, x = \"Rendimento_Anual\", bins = 10)\n",
        "plt.xticks(rotation = 45)\n",
        "plt.show()"
      ],
      "execution_count": 18,
      "outputs": [
        {
          "output_type": "display_data",
          "data": {
            "text/plain": [
              "<Figure size 432x288 with 1 Axes>"
            ],
            "image/png": "[encoded data removed]"
          },
          "metadata": {}
        }
      ]
    },
    {
      "cell_type": "code",
      "metadata": {
        "colab": {
          "base_uri": "https://localhost:8080/",
          "height": 292
        },
        "id": "HPf2RE0Z5uWh",
        "outputId": "4a70fef9-0cf9-479d-a420-03b53b8b5d09"
      },
      "source": [
        "sns.histplot(data = df_cadastrados_no_out, x = \"Idade\", bins = 5)\n",
        "plt.xticks(rotation = 45)\n",
        "plt.show()"
      ],
      "execution_count": 19,
      "outputs": [
        {
          "output_type": "display_data",
          "data": {
            "text/plain": [
              "<Figure size 432x288 with 1 Axes>"
            ],
            "image/png": "[encoded data removed]"
          },
          "metadata": {}
        }
      ]
    },
    {
      "cell_type": "code",
      "metadata": {
        "colab": {
          "base_uri": "https://localhost:8080/",
          "height": 292
        },
        "id": "MpBEYeil6HOC",
        "outputId": "ce7ccd51-4348-4e73-a1e6-4f28f7747755"
      },
      "source": [
        "sns.histplot(data = df_cadastrados_no_out, x = \"Anos_empregado\", bins = 10)\n",
        "plt.xticks(rotation = 45)\n",
        "plt.show()"
      ],
      "execution_count": 20,
      "outputs": [
        {
          "output_type": "display_data",
          "data": {
            "text/plain": [
              "<Figure size 432x288 with 1 Axes>"
            ],
            "image/png": "[encoded data removed]"
          },
          "metadata": {}
        }
      ]
    },
    {
      "cell_type": "code",
      "metadata": {
        "colab": {
          "base_uri": "https://localhost:8080/",
          "height": 292
        },
        "id": "9YeVNmnK51IW",
        "outputId": "4d9b8ff7-e9fb-4659-e8ca-7c316865a2f3"
      },
      "source": [
        "sns.histplot(data = df_cadastrados_no_out.query(\"Anos_empregado > 0\"), x = \"Anos_empregado\")\n",
        "plt.xticks(rotation = 45)\n",
        "plt.show()"
      ],
      "execution_count": 21,
      "outputs": [
        {
          "output_type": "display_data",
          "data": {
            "text/plain": [
              "<Figure size 432x288 with 1 Axes>"
            ],
            "image/png": "[encoded data removed]"
          },
          "metadata": {}
        }
      ]
    },
    {
      "cell_type": "markdown",
      "metadata": {
        "id": "yaKfgHFxHiTE"
      },
      "source": [
        "# Sessão 3 - Variáveis categóricas"
      ]
    },
    {
      "cell_type": "code",
      "metadata": {
        "colab": {
          "base_uri": "https://localhost:8080/"
        },
        "id": "IZHPHqUuHlJH",
        "outputId": "2a3af1a1-8f1b-4d77-c5ca-666f5007ddf0"
      },
      "source": [
        "df_cadastrados_no_out.info() # descrição dos tipos de variáveis"
      ],
      "execution_count": 22,
      "outputs": [
        {
          "output_type": "stream",
          "name": "stdout",
          "text": [
            "<class 'pandas.core.frame.DataFrame'>\n",
            "Int64Index: 425822 entries, 2 to 438556\n",
            "Data columns (total 18 columns):\n",
            " #   Column                 Non-Null Count   Dtype  \n",
            "---  ------                 --------------   -----  \n",
            " 0   ID_Cliente             425822 non-null  int64  \n",
            " 1   Genero                 425822 non-null  object \n",
            " 2   Tem_Carro              425822 non-null  int64  \n",
            " 3   Tem_Casa_Propria       425822 non-null  int64  \n",
            " 4   Qtd_Filhos             425822 non-null  int64  \n",
            " 5   Rendimento_Anual       425822 non-null  float64\n",
            " 6   Categoria_de_renda     425822 non-null  object \n",
            " 7   Grau_Escolaridade      425822 non-null  object \n",
            " 8   Estado_Civil           425822 non-null  object \n",
            " 9   Moradia                425822 non-null  object \n",
            " 10  Idade                  425822 non-null  float64\n",
            " 11  Tem_Celular            425822 non-null  int64  \n",
            " 12  Tem_telefone_trabalho  425822 non-null  int64  \n",
            " 13  Tem_telefone_fixo      425822 non-null  int64  \n",
            " 14  Tem_email              425822 non-null  int64  \n",
            " 15  Ocupacao               425822 non-null  object \n",
            " 16  Tamanho_Familia        425822 non-null  float64\n",
            " 17  Anos_empregado         425822 non-null  float64\n",
            "dtypes: float64(4), int64(8), object(6)\n",
            "memory usage: 61.7+ MB\n"
          ]
        }
      ]
    },
    {
      "cell_type": "code",
      "metadata": {
        "id": "NvkkNoUWH4ye"
      },
      "source": [
        "cat_cols = [\"Genero\", \"Tem_Carro\", \"Tem_Casa_Propria\", \"Categoria_de_renda\", \"Grau_escolaridade\", \"Estado_civil\",\n",
        "            \"Moradia\", \"Tem_Celular\", \"Tem_telefone_trabalho\", \"Tem_telefone_fixo\", \"Tem_email\", \"Ocupacao\"]\n",
        "# categoricas"
      ],
      "execution_count": 23,
      "outputs": []
    },
    {
      "cell_type": "markdown",
      "source": [
        "Analisando as variáveis categóricas"
      ],
      "metadata": {
        "id": "AdmEBNlDHvuV"
      }
    },
    {
      "cell_type": "code",
      "metadata": {
        "colab": {
          "base_uri": "https://localhost:8080/",
          "height": 335
        },
        "id": "9RnepEftIOKF",
        "outputId": "3e8450f1-aeae-4740-e933-e5aef7eb2b48"
      },
      "source": [
        "sns.countplot(data = df_cadastrados_no_out, x = \"Estado_Civil\")\n",
        "plt.xticks(rotation = 45, ha = \"right\")\n",
        "plt.show()"
      ],
      "execution_count": 24,
      "outputs": [
        {
          "output_type": "display_data",
          "data": {
            "text/plain": [
              "<Figure size 432x288 with 1 Axes>"
            ],
            "image/png": "[encoded data removed]"
          },
          "metadata": {}
        }
      ]
    },
    {
      "cell_type": "code",
      "metadata": {
        "colab": {
          "base_uri": "https://localhost:8080/",
          "height": 287
        },
        "id": "8UqRl3sZI0sG",
        "outputId": "86883513-addf-428b-a479-aec29399ab78"
      },
      "source": [
        "sns.countplot(data = df_cadastrados_no_out, x = \"Tem_Celular\")\n",
        "plt.xticks(rotation = 45, ha = \"right\")\n",
        "plt.show()\n",
        "# absolutamente todos os clientes tem celular! provavelmente esse dado vai cair fora..."
      ],
      "execution_count": 25,
      "outputs": [
        {
          "output_type": "display_data",
          "data": {
            "text/plain": [
              "<Figure size 432x288 with 1 Axes>"
            ],
            "image/png": "[encoded data removed]"
          },
          "metadata": {}
        }
      ]
    },
    {
      "cell_type": "code",
      "metadata": {
        "colab": {
          "base_uri": "https://localhost:8080/",
          "height": 467
        },
        "id": "CLDzaEA9JW75",
        "outputId": "009e8293-d2cf-4ef6-cc23-c4deee483cf8"
      },
      "source": [
        "plt.figure(figsize = (10, 6))\n",
        "sns.countplot(data = df_cadastrados_no_out, x = \"Ocupacao\")\n",
        "plt.xticks(rotation = 45, ha = \"right\")\n",
        "plt.show()\n",
        "\n",
        "# \"outros\" não informa muita coisa... tem que ficar de olho se isso vai ser útil ou não..."
      ],
      "execution_count": 26,
      "outputs": [
        {
          "output_type": "display_data",
          "data": {
            "text/plain": [
              "<Figure size 720x432 with 1 Axes>"
            ],
            "image/png": "[encoded data removed]"
          },
          "metadata": {}
        }
      ]
    },
    {
      "cell_type": "code",
      "metadata": {
        "colab": {
          "base_uri": "https://localhost:8080/",
          "height": 312
        },
        "id": "NlU9YoxRKtsp",
        "outputId": "861cfebf-1614-4467-86e6-d17b5d651e29"
      },
      "source": [
        "sns.histplot(data = df_cadastrados_no_out.query(\"Ocupacao == 'Outros'\"), x = \"Rendimento_Anual\", bins = 10)\n",
        "plt.xticks(rotation = 45, ha = \"right\")\n",
        "plt.show()\n",
        "\n",
        "# Quase não tem diferença significativa no formato, só na escala. Esse \"outros\" pode ser realmente qualquer coisa, provavelmente o que não está listado nas categorias"
      ],
      "execution_count": 27,
      "outputs": [
        {
          "output_type": "display_data",
          "data": {
            "text/plain": [
              "<Figure size 432x288 with 1 Axes>"
            ],
            "image/png": "[encoded data removed]"
          },
          "metadata": {}
        }
      ]
    },
    {
      "cell_type": "markdown",
      "source": [
        "Informações sensíveis devem ser desconsideradas, como:\n",
        "Origem social e étnica; condições de saúde; informação genética; orientação sexual; convicções políticas, religiosas e filosóficas. Portanto, vamos remover a informação de gênero, e também a \"tem celular\", pois ela não é informativa."
      ],
      "metadata": {
        "id": "wgbyR7WtKl4l"
      }
    },
    {
      "cell_type": "code",
      "metadata": {
        "colab": {
          "base_uri": "https://localhost:8080/"
        },
        "id": "dihYhI2aLCwR",
        "outputId": "15ca03f4-76a5-4ec0-e884-c5f69df75e6a"
      },
      "source": [
        "df_cad_trat1 = df_cadastrados_no_out.drop([\"Genero\", \"Tem_Celular\"], axis = 1) # axis = 1 busca colunas para remover, não linhas\n",
        "df_cad_trat1.shape\n",
        "\n",
        "# vou resumir cadastrados para cad, para que não fique um nome muito grande\n",
        "# tratamento para trat"
      ],
      "execution_count": 28,
      "outputs": [
        {
          "output_type": "execute_result",
          "data": {
            "text/plain": [
              "(425822, 16)"
            ]
          },
          "metadata": {},
          "execution_count": 28
        }
      ]
    },
    {
      "cell_type": "code",
      "metadata": {
        "id": "_j8il7aIOakN"
      },
      "source": [
        "cat_cols.remove(\"Genero\")\n",
        "cat_cols.remove(\"Tem_Celular\")"
      ],
      "execution_count": 29,
      "outputs": []
    },
    {
      "cell_type": "code",
      "metadata": {
        "colab": {
          "base_uri": "https://localhost:8080/"
        },
        "id": "B-TYs7wwOvtf",
        "outputId": "b4c7d993-fc8c-4b06-f48e-8f3f2ad0b0cb"
      },
      "source": [
        "cat_cols"
      ],
      "execution_count": 30,
      "outputs": [
        {
          "output_type": "execute_result",
          "data": {
            "text/plain": [
              "['Tem_Carro',\n",
              " 'Tem_Casa_Propria',\n",
              " 'Categoria_de_renda',\n",
              " 'Grau_escolaridade',\n",
              " 'Estado_civil',\n",
              " 'Moradia',\n",
              " 'Tem_telefone_trabalho',\n",
              " 'Tem_telefone_fixo',\n",
              " 'Tem_email',\n",
              " 'Ocupacao']"
            ]
          },
          "metadata": {},
          "execution_count": 30
        }
      ]
    },
    {
      "cell_type": "markdown",
      "metadata": {
        "id": "s2Exh9c5P7vF"
      },
      "source": [
        "# Desafios"
      ]
    },
    {
      "cell_type": "markdown",
      "metadata": {
        "id": "X3qxjc8TP-Ea"
      },
      "source": [
        "## Desafio 1: Explorar outras maneiras de identificar e de tratar os outliers"
      ]
    },
    {
      "cell_type": "markdown",
      "source": [
        "Não existe uma definição matemática exata de outlier, sua natureza pode variar para cada conjunto de dados, a natureza da pergunta, do objetivo de um modelo de ML, etc. Portanto, existem vários caminhos para se analisar outliers. O método que exploramos na aula utiliza-se do teorema do limite central para estimar um intervalo de confiança simples, com dois desvios padrão em relação à média. Examinar um boxplot nada mais é do que uma expansão dessa ideia, e de fato, olhamos o boxplot desses dados para ter uma intuição sobre esses outliers. Um outro método interessante que inclusive a Karol mencionou em aula é chamado \"z-scores\". O raciocínio de z-score é parecido com limites interquartis, mas ao invés de decidir valores que determinam um máximo e um mínimo, o z-score examina o quanto cada valor da distribuição é diferente do valor médio, ou, o quanto aquele valor influencia a média. Geralmente utiliza-se um valor de referência de 3 desvios padrão para remoção dos outliers, ou seja, é considerado outlier aquele valor que é < -3 ou > 3."
      ],
      "metadata": {
        "id": "7vuun6W_RRjy"
      }
    },
    {
      "cell_type": "code",
      "source": [
        "df_cadastrados_no_rep.Rendimento_Anual"
      ],
      "metadata": {
        "colab": {
          "base_uri": "https://localhost:8080/"
        },
        "id": "kRvkLkt3j6bG",
        "outputId": "0fd35cee-f28e-4c62-bac5-26da51de6634"
      },
      "execution_count": 31,
      "outputs": [
        {
          "output_type": "execute_result",
          "data": {
            "text/plain": [
              "0         427500.0\n",
              "1         427500.0\n",
              "2         112500.0\n",
              "3         270000.0\n",
              "4         270000.0\n",
              "            ...   \n",
              "438552    135000.0\n",
              "438553    103500.0\n",
              "438554     54000.0\n",
              "438555     72000.0\n",
              "438556    121500.0\n",
              "Name: Rendimento_Anual, Length: 438463, dtype: float64"
            ]
          },
          "metadata": {},
          "execution_count": 31
        }
      ]
    },
    {
      "cell_type": "code",
      "source": [
        "df_cadastrados_no_rep.loc[:,'zscore'] = (df_cadastrados_no_rep.loc[:,\"Rendimento_Anual\"] - \n",
        "                                         df_cadastrados_no_rep.loc[:,\"Rendimento_Anual\"].mean())/df_cadastrados_no_rep.loc[:,\"Rendimento_Anual\"].std()\n",
        "\n",
        "df_cadastrados_no_rep.loc[:,\"zscore\"].describe()"
      ],
      "metadata": {
        "colab": {
          "base_uri": "https://localhost:8080/"
        },
        "id": "t6uVyAIGjLX3",
        "outputId": "22a0d9da-ede1-4d06-970a-e1d674bb91d3"
      },
      "execution_count": 32,
      "outputs": [
        {
          "output_type": "execute_result",
          "data": {
            "text/plain": [
              "count    4.384630e+05\n",
              "mean    -8.621223e-17\n",
              "std      1.000000e+00\n",
              "min     -1.466364e+00\n",
              "25%     -5.997467e-01\n",
              "50%     -2.400186e-01\n",
              "75%      3.404516e-01\n",
              "max      5.961383e+01\n",
              "Name: zscore, dtype: float64"
            ]
          },
          "metadata": {},
          "execution_count": 32
        }
      ]
    },
    {
      "cell_type": "code",
      "source": [
        "df_z_score = df_cadastrados_no_rep[(df_cadastrados_no_rep.zscore>-3) & (df_cadastrados_no_rep.zscore<3)]\n",
        "\n",
        "df_z_score.shape"
      ],
      "metadata": {
        "colab": {
          "base_uri": "https://localhost:8080/"
        },
        "id": "LF_NOaWxkqYG",
        "outputId": "7c217e10-932e-4277-8d53-b534e947c0fd"
      },
      "execution_count": 33,
      "outputs": [
        {
          "output_type": "execute_result",
          "data": {
            "text/plain": [
              "(433189, 19)"
            ]
          },
          "metadata": {},
          "execution_count": 33
        }
      ]
    },
    {
      "cell_type": "markdown",
      "source": [
        "Vamos comparar a quantidade de dados perdida entre os dois métodos:"
      ],
      "metadata": {
        "id": "39uhr_btlaEY"
      }
    },
    {
      "cell_type": "code",
      "source": [
        "print(df_cadastrados_no_out.shape[0] - df_cadastrados_no_rep.shape[0])\n",
        "print(df_z_score.shape[0] - df_cadastrados_no_rep.shape[0])"
      ],
      "metadata": {
        "colab": {
          "base_uri": "https://localhost:8080/"
        },
        "id": "lZUYiZrrldea",
        "outputId": "c4995230-5eb4-43c1-f320-2a0be9bb51f5"
      },
      "execution_count": 34,
      "outputs": [
        {
          "output_type": "stream",
          "name": "stdout",
          "text": [
            "-12641\n",
            "-5274\n"
          ]
        }
      ]
    },
    {
      "cell_type": "markdown",
      "source": [
        "Com o z-score nós perdemos menos dados, pode ser um método mais interessante."
      ],
      "metadata": {
        "id": "1VXit-ZjmBJO"
      }
    },
    {
      "cell_type": "markdown",
      "metadata": {
        "id": "1aGILbekP-J6"
      },
      "source": [
        "## Desafio 2: Criar uma função para gerar os nossos gráficos"
      ]
    },
    {
      "cell_type": "code",
      "source": [
        "def plot_exploratoria(data, x, title, data_type, rotation = 45, \n",
        "                   fgsize = (10, 6), bins = 10):\n",
        "  if data_type == \"continua\":\n",
        "    sns.histplot(data = data, x = x, bins = bins)\n",
        "    plt.ylabel(\"Contagem\")\n",
        "    plt.xticks(rotation = rotation)\n",
        "    plt.title(title)\n",
        "    plt.show()\n",
        "  if data_type == \"categorica\":\n",
        "    sns.countplot(data = data, x = x)\n",
        "    plt.ylabel(\"Contagem\")\n",
        "    plt.xticks(rotation = rotation)\n",
        "    plt.title(title)\n",
        "    plt.show()\n"
      ],
      "metadata": {
        "id": "Wyp1fvX9kJj2"
      },
      "execution_count": 35,
      "outputs": []
    },
    {
      "cell_type": "markdown",
      "metadata": {
        "id": "FJeNGKKrP-N1"
      },
      "source": [
        "## Desafio 3: Continuar a análise exploratória de dados"
      ]
    },
    {
      "cell_type": "markdown",
      "source": [
        "Usando nossa nova função, vamos explorar algumas das outras variáveis que não olhamos até então:"
      ],
      "metadata": {
        "id": "XkNJsIf_4kS8"
      }
    },
    {
      "cell_type": "markdown",
      "source": [
        "### Categoricas"
      ],
      "metadata": {
        "id": "q6GAURMY5VbD"
      }
    },
    {
      "cell_type": "code",
      "source": [
        "plot_exploratoria(data = df_cad_trat1, x = \"Tem_Carro\",  data_type = \"categorica\", title = \"Posse de Carro\")"
      ],
      "metadata": {
        "colab": {
          "base_uri": "https://localhost:8080/",
          "height": 303
        },
        "id": "eN9bOdrm4VAG",
        "outputId": "4f89fc3d-3d94-453f-eda4-c2dbbb812784"
      },
      "execution_count": 36,
      "outputs": [
        {
          "output_type": "display_data",
          "data": {
            "text/plain": [
              "<Figure size 432x288 with 1 Axes>"
            ],
            "image/png": "[encoded data removed]"
          },
          "metadata": {}
        }
      ]
    },
    {
      "cell_type": "code",
      "source": [
        "plot_exploratoria(data = df_cad_trat1, x = \"Tem_Casa_Propria\", data_type = \"categorica\", title = \"Casa própria\")"
      ],
      "metadata": {
        "colab": {
          "base_uri": "https://localhost:8080/",
          "height": 303
        },
        "id": "Dk1Ru_Q95Mss",
        "outputId": "237cd809-1e77-4c5c-cde2-6c6c400e0e96"
      },
      "execution_count": 37,
      "outputs": [
        {
          "output_type": "display_data",
          "data": {
            "text/plain": [
              "<Figure size 432x288 with 1 Axes>"
            ],
            "image/png": "[encoded data removed]"
          },
          "metadata": {}
        }
      ]
    },
    {
      "cell_type": "code",
      "source": [
        "plot_exploratoria(data = df_cad_trat1, x = \"Qtd_Filhos\", data_type = \"categorica\", title = \"Filhos\")"
      ],
      "metadata": {
        "colab": {
          "base_uri": "https://localhost:8080/",
          "height": 308
        },
        "id": "ogg0nsMq7Z0b",
        "outputId": "d820e634-de30-4550-aa3a-c0c4fe6946c5"
      },
      "execution_count": 38,
      "outputs": [
        {
          "output_type": "display_data",
          "data": {
            "text/plain": [
              "<Figure size 432x288 with 1 Axes>"
            ],
            "image/png": "[encoded data removed]"
          },
          "metadata": {}
        }
      ]
    },
    {
      "cell_type": "markdown",
      "source": [
        "(De certa forma, nada impede que a quantidade de filhos seja vista como uma variável continua. Porém, dada a natureza do número, e da distribuição dessa variável no conjunto de dados, é mais fácil visualizá-la atraveś do countplot como uma variável categórica)."
      ],
      "metadata": {
        "id": "hxgZdpzB8hSL"
      }
    },
    {
      "cell_type": "code",
      "source": [
        "plot_exploratoria(data = df_cad_trat1, x = \"Grau_Escolaridade\", data_type = \"categorica\", title = \"Escolaridade\")"
      ],
      "metadata": {
        "id": "A9-DqLgE-DHG",
        "colab": {
          "base_uri": "https://localhost:8080/",
          "height": 405
        },
        "outputId": "c94ded1b-e03c-4bc8-a5fc-c7d61c7b9cea"
      },
      "execution_count": 39,
      "outputs": [
        {
          "output_type": "display_data",
          "data": {
            "text/plain": [
              "<Figure size 432x288 with 1 Axes>"
            ],
            "image/png": "[encoded data removed]"
          },
          "metadata": {}
        }
      ]
    },
    {
      "cell_type": "code",
      "source": [
        "plot_exploratoria(data = df_cad_trat1, x = \"Categoria_de_renda\", data_type = \"categorica\", title = \"Categoria de Renda\")"
      ],
      "metadata": {
        "colab": {
          "base_uri": "https://localhost:8080/",
          "height": 378
        },
        "id": "m4lA0shNkVaZ",
        "outputId": "620aa1d6-336c-47be-ec55-920d888a039f"
      },
      "execution_count": 40,
      "outputs": [
        {
          "output_type": "display_data",
          "data": {
            "text/plain": [
              "<Figure size 432x288 with 1 Axes>"
            ],
            "image/png": "[encoded data removed]"
          },
          "metadata": {}
        }
      ]
    },
    {
      "cell_type": "code",
      "source": [
        "plot_exploratoria(data = df_cad_trat1, x = \"Moradia\", data_type = \"categorica\", title = \"Tipo de Moradia\", rotation = 80)"
      ],
      "metadata": {
        "colab": {
          "base_uri": "https://localhost:8080/",
          "height": 429
        },
        "id": "cSnQH1zkkttj",
        "outputId": "ac643728-ebbb-429e-8382-bd97b2333709"
      },
      "execution_count": 41,
      "outputs": [
        {
          "output_type": "display_data",
          "data": {
            "text/plain": [
              "<Figure size 432x288 with 1 Axes>"
            ],
            "image/png": "[encoded data removed]"
          },
          "metadata": {}
        }
      ]
    },
    {
      "cell_type": "code",
      "source": [
        "plot_exploratoria(data = df_cad_trat1, x = \"Tem_telefone_trabalho\", data_type = \"categorica\", title = \"Telefone de Trabalho\")"
      ],
      "metadata": {
        "colab": {
          "base_uri": "https://localhost:8080/",
          "height": 303
        },
        "id": "OwE4kHzEk2Qt",
        "outputId": "7a8ad66e-5c22-4760-e0b6-d84c7139894b"
      },
      "execution_count": 42,
      "outputs": [
        {
          "output_type": "display_data",
          "data": {
            "text/plain": [
              "<Figure size 432x288 with 1 Axes>"
            ],
            "image/png": "[encoded data removed]"
          },
          "metadata": {}
        }
      ]
    },
    {
      "cell_type": "code",
      "source": [
        "plot_exploratoria(data = df_cad_trat1, x = \"Tem_telefone_fixo\", data_type = \"categorica\", title = \"Telefone Fixo\")"
      ],
      "metadata": {
        "colab": {
          "base_uri": "https://localhost:8080/",
          "height": 303
        },
        "id": "XOAZStCflGMi",
        "outputId": "2dc1f4a6-f351-4072-dc5a-bc6e8d1533a1"
      },
      "execution_count": 43,
      "outputs": [
        {
          "output_type": "display_data",
          "data": {
            "text/plain": [
              "<Figure size 432x288 with 1 Axes>"
            ],
            "image/png": "[encoded data removed]"
          },
          "metadata": {}
        }
      ]
    },
    {
      "cell_type": "code",
      "source": [
        "plot_exploratoria(data = df_cad_trat1, x = \"Tem_email\", data_type = \"categorica\", title = \"Email\")"
      ],
      "metadata": {
        "colab": {
          "base_uri": "https://localhost:8080/",
          "height": 303
        },
        "id": "hciqZLdllJ5u",
        "outputId": "e573d932-4417-4389-850e-7fafadb4dc86"
      },
      "execution_count": 44,
      "outputs": [
        {
          "output_type": "display_data",
          "data": {
            "text/plain": [
              "<Figure size 432x288 with 1 Axes>"
            ],
            "image/png": "[encoded data removed]"
          },
          "metadata": {}
        }
      ]
    },
    {
      "cell_type": "markdown",
      "source": [
        "Uma quantidade tão grande de pessoas não tem e-mail? Parece algo errado! Investigar na próxima aula?!"
      ],
      "metadata": {
        "id": "e67H4eKZlPKH"
      }
    },
    {
      "cell_type": "code",
      "source": [
        "plot_exploratoria(data = df_cad_trat1, x = \"Tamanho_Familia\", data_type = \"continua\", title = \"Tamanho da Família\", bins = 10)"
      ],
      "metadata": {
        "colab": {
          "base_uri": "https://localhost:8080/",
          "height": 315
        },
        "id": "1gKW570MlNmQ",
        "outputId": "c4aed688-263d-4f98-a300-e7025decef09"
      },
      "execution_count": 45,
      "outputs": [
        {
          "output_type": "display_data",
          "data": {
            "text/plain": [
              "<Figure size 432x288 with 1 Axes>"
            ],
            "image/png": "[encoded data removed]"
          },
          "metadata": {}
        }
      ]
    }
  ]
}