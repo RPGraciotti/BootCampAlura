{
  "nbformat": 4,
  "nbformat_minor": 0,
  "metadata": {
    "colab": {
      "name": "Aula_2_Analisando_a_base_de_cadastro_de_clientes.ipynb",
      "provenance": [],
      "collapsed_sections": [],
      "authorship_tag": "ABX9TyPDPbXAkWK38VeqkoQRGBLG",
      "include_colab_link": true
    },
    "kernelspec": {
      "name": "python3",
      "display_name": "Python 3"
    },
    "language_info": {
      "name": "python"
    }
  },
  "cells": [
    {
      "cell_type": "markdown",
      "metadata": {
        "id": "view-in-github",
        "colab_type": "text"
      },
      "source": [
        "<a href=\"https://colab.research.google.com/github/RPGraciotti/BootCampAlura/blob/main/Modulo_6/Aula_2_Analisando_a_base_de_cadastro_de_clientes.ipynb\" target=\"_parent\"><img src=\"https://colab.research.google.com/assets/colab-badge.svg\" alt=\"Open In Colab\"/></a>"
      ]
    },
    {
      "cell_type": "markdown",
      "metadata": {
        "id": "gCueDzjXoSYe"
      },
      "source": [
        "# Preparando conteúdo anterior"
      ]
    },
    {
      "cell_type": "code",
      "metadata": {
        "id": "owoDOnTIqhP6"
      },
      "source": [
        "import pandas as pd\n",
        "import matplotlib.pyplot as plt\n"
      ],
      "execution_count": 1,
      "outputs": []
    },
    {
      "cell_type": "code",
      "metadata": {
        "id": "NCe3jRbH46kr"
      },
      "source": [
        "df_cad = pd.read_csv(\"https://github.com/RPGraciotti/BootCampAlura/raw/main/Data/clientes_cadastrados.txt\")\n",
        "ids_repetidos = df_cad[df_cad.loc[:,\"ID_Cliente\"].duplicated(keep = False)].loc[:,\"ID_Cliente\"]\n",
        "df_cad_no_rep = df_cad.drop(ids_repetidos.index)"
      ],
      "execution_count": 2,
      "outputs": []
    },
    {
      "cell_type": "code",
      "metadata": {
        "id": "GArAIlnl-ZR6",
        "colab": {
          "base_uri": "https://localhost:8080/",
          "height": 317
        },
        "outputId": "fecf9b4c-a58f-46a3-9089-c68843a3881d"
      },
      "source": [
        "df_cad_no_rep.head(6)"
      ],
      "execution_count": 3,
      "outputs": [
        {
          "output_type": "execute_result",
          "data": {
            "text/html": [
              "<div>\n",
              "<style scoped>\n",
              "    .dataframe tbody tr th:only-of-type {\n",
              "        vertical-align: middle;\n",
              "    }\n",
              "\n",
              "    .dataframe tbody tr th {\n",
              "        vertical-align: top;\n",
              "    }\n",
              "\n",
              "    .dataframe thead th {\n",
              "        text-align: right;\n",
              "    }\n",
              "</style>\n",
              "<table border=\"1\" class=\"dataframe\">\n",
              "  <thead>\n",
              "    <tr style=\"text-align: right;\">\n",
              "      <th></th>\n",
              "      <th>ID_Cliente</th>\n",
              "      <th>Genero</th>\n",
              "      <th>Tem_Carro</th>\n",
              "      <th>Tem_Casa_Propria</th>\n",
              "      <th>Qtd_Filhos</th>\n",
              "      <th>Rendimento_Anual</th>\n",
              "      <th>Categoria_de_renda</th>\n",
              "      <th>Grau_Escolaridade</th>\n",
              "      <th>Estado_Civil</th>\n",
              "      <th>Moradia</th>\n",
              "      <th>Idade</th>\n",
              "      <th>Tem_Celular</th>\n",
              "      <th>Tem_telefone_trabalho</th>\n",
              "      <th>Tem_telefone_fixo</th>\n",
              "      <th>Tem_email</th>\n",
              "      <th>Ocupacao</th>\n",
              "      <th>Tamanho_Familia</th>\n",
              "      <th>Anos_empregado</th>\n",
              "    </tr>\n",
              "  </thead>\n",
              "  <tbody>\n",
              "    <tr>\n",
              "      <th>0</th>\n",
              "      <td>5008804</td>\n",
              "      <td>H</td>\n",
              "      <td>1</td>\n",
              "      <td>1</td>\n",
              "      <td>0</td>\n",
              "      <td>427500.0</td>\n",
              "      <td>Empregado</td>\n",
              "      <td>Ensino superior</td>\n",
              "      <td>Uniao estavel</td>\n",
              "      <td>Alugado</td>\n",
              "      <td>33.0</td>\n",
              "      <td>1</td>\n",
              "      <td>1</td>\n",
              "      <td>0</td>\n",
              "      <td>0</td>\n",
              "      <td>Outros</td>\n",
              "      <td>2.0</td>\n",
              "      <td>12.4</td>\n",
              "    </tr>\n",
              "    <tr>\n",
              "      <th>1</th>\n",
              "      <td>5008805</td>\n",
              "      <td>H</td>\n",
              "      <td>1</td>\n",
              "      <td>1</td>\n",
              "      <td>0</td>\n",
              "      <td>427500.0</td>\n",
              "      <td>Empregado</td>\n",
              "      <td>Ensino superior</td>\n",
              "      <td>Uniao estavel</td>\n",
              "      <td>Alugado</td>\n",
              "      <td>33.0</td>\n",
              "      <td>1</td>\n",
              "      <td>1</td>\n",
              "      <td>0</td>\n",
              "      <td>0</td>\n",
              "      <td>Outros</td>\n",
              "      <td>2.0</td>\n",
              "      <td>12.4</td>\n",
              "    </tr>\n",
              "    <tr>\n",
              "      <th>2</th>\n",
              "      <td>5008806</td>\n",
              "      <td>H</td>\n",
              "      <td>1</td>\n",
              "      <td>1</td>\n",
              "      <td>0</td>\n",
              "      <td>112500.0</td>\n",
              "      <td>Empregado</td>\n",
              "      <td>Ensino medio</td>\n",
              "      <td>Casado</td>\n",
              "      <td>Casa propria</td>\n",
              "      <td>59.0</td>\n",
              "      <td>1</td>\n",
              "      <td>0</td>\n",
              "      <td>0</td>\n",
              "      <td>0</td>\n",
              "      <td>Seguranca</td>\n",
              "      <td>2.0</td>\n",
              "      <td>3.1</td>\n",
              "    </tr>\n",
              "    <tr>\n",
              "      <th>3</th>\n",
              "      <td>5008808</td>\n",
              "      <td>M</td>\n",
              "      <td>0</td>\n",
              "      <td>1</td>\n",
              "      <td>0</td>\n",
              "      <td>270000.0</td>\n",
              "      <td>Associado comercial</td>\n",
              "      <td>Ensino medio</td>\n",
              "      <td>Solteiro</td>\n",
              "      <td>Casa propria</td>\n",
              "      <td>52.0</td>\n",
              "      <td>1</td>\n",
              "      <td>0</td>\n",
              "      <td>1</td>\n",
              "      <td>1</td>\n",
              "      <td>Venda</td>\n",
              "      <td>1.0</td>\n",
              "      <td>8.4</td>\n",
              "    </tr>\n",
              "    <tr>\n",
              "      <th>4</th>\n",
              "      <td>5008809</td>\n",
              "      <td>M</td>\n",
              "      <td>0</td>\n",
              "      <td>1</td>\n",
              "      <td>0</td>\n",
              "      <td>270000.0</td>\n",
              "      <td>Associado comercial</td>\n",
              "      <td>Ensino medio</td>\n",
              "      <td>Solteiro</td>\n",
              "      <td>Casa propria</td>\n",
              "      <td>52.0</td>\n",
              "      <td>1</td>\n",
              "      <td>0</td>\n",
              "      <td>1</td>\n",
              "      <td>1</td>\n",
              "      <td>Venda</td>\n",
              "      <td>1.0</td>\n",
              "      <td>8.4</td>\n",
              "    </tr>\n",
              "    <tr>\n",
              "      <th>5</th>\n",
              "      <td>5008810</td>\n",
              "      <td>M</td>\n",
              "      <td>0</td>\n",
              "      <td>1</td>\n",
              "      <td>0</td>\n",
              "      <td>270000.0</td>\n",
              "      <td>Associado comercial</td>\n",
              "      <td>Ensino medio</td>\n",
              "      <td>Solteiro</td>\n",
              "      <td>Casa propria</td>\n",
              "      <td>52.0</td>\n",
              "      <td>1</td>\n",
              "      <td>0</td>\n",
              "      <td>1</td>\n",
              "      <td>1</td>\n",
              "      <td>Venda</td>\n",
              "      <td>1.0</td>\n",
              "      <td>8.4</td>\n",
              "    </tr>\n",
              "  </tbody>\n",
              "</table>\n",
              "</div>"
            ],
            "text/plain": [
              "   ID_Cliente Genero  Tem_Carro  ...   Ocupacao  Tamanho_Familia  Anos_empregado\n",
              "0     5008804      H          1  ...     Outros              2.0            12.4\n",
              "1     5008805      H          1  ...     Outros              2.0            12.4\n",
              "2     5008806      H          1  ...  Seguranca              2.0             3.1\n",
              "3     5008808      M          0  ...      Venda              1.0             8.4\n",
              "4     5008809      M          0  ...      Venda              1.0             8.4\n",
              "5     5008810      M          0  ...      Venda              1.0             8.4\n",
              "\n",
              "[6 rows x 18 columns]"
            ]
          },
          "metadata": {},
          "execution_count": 3
        }
      ]
    },
    {
      "cell_type": "markdown",
      "metadata": {
        "id": "VwHwh0l-yZp-"
      },
      "source": [
        "# Sessão - Variáveis contínuas/quantitativas"
      ]
    },
    {
      "cell_type": "code",
      "metadata": {
        "id": "_e5BZHOKoIZ4"
      },
      "source": [
        "quant_cols = ['Idade', 'Qtd_Filhos', 'Rendimento_Anual', 'Anos_empregado', 'Tamanho_Familia']"
      ],
      "execution_count": 4,
      "outputs": []
    },
    {
      "cell_type": "code",
      "metadata": {
        "colab": {
          "base_uri": "https://localhost:8080/",
          "height": 293
        },
        "id": "kRYbk2yNo79Q",
        "outputId": "2be70695-d471-40f9-9952-fc3669b1a342"
      },
      "source": [
        "df_cad_no_rep.loc[:,quant_cols].describe()"
      ],
      "execution_count": 5,
      "outputs": [
        {
          "output_type": "execute_result",
          "data": {
            "text/html": [
              "<div>\n",
              "<style scoped>\n",
              "    .dataframe tbody tr th:only-of-type {\n",
              "        vertical-align: middle;\n",
              "    }\n",
              "\n",
              "    .dataframe tbody tr th {\n",
              "        vertical-align: top;\n",
              "    }\n",
              "\n",
              "    .dataframe thead th {\n",
              "        text-align: right;\n",
              "    }\n",
              "</style>\n",
              "<table border=\"1\" class=\"dataframe\">\n",
              "  <thead>\n",
              "    <tr style=\"text-align: right;\">\n",
              "      <th></th>\n",
              "      <th>Idade</th>\n",
              "      <th>Qtd_Filhos</th>\n",
              "      <th>Rendimento_Anual</th>\n",
              "      <th>Anos_empregado</th>\n",
              "      <th>Tamanho_Familia</th>\n",
              "    </tr>\n",
              "  </thead>\n",
              "  <tbody>\n",
              "    <tr>\n",
              "      <th>count</th>\n",
              "      <td>438463.000000</td>\n",
              "      <td>438463.000000</td>\n",
              "      <td>4.384630e+05</td>\n",
              "      <td>438463.000000</td>\n",
              "      <td>438463.000000</td>\n",
              "    </tr>\n",
              "    <tr>\n",
              "      <th>mean</th>\n",
              "      <td>43.834032</td>\n",
              "      <td>0.427384</td>\n",
              "      <td>1.875220e+05</td>\n",
              "      <td>-165.936036</td>\n",
              "      <td>2.194461</td>\n",
              "    </tr>\n",
              "    <tr>\n",
              "      <th>std</th>\n",
              "      <td>11.472815</td>\n",
              "      <td>0.724879</td>\n",
              "      <td>1.100832e+05</td>\n",
              "      <td>380.201131</td>\n",
              "      <td>0.897194</td>\n",
              "    </tr>\n",
              "    <tr>\n",
              "      <th>min</th>\n",
              "      <td>21.000000</td>\n",
              "      <td>0.000000</td>\n",
              "      <td>2.610000e+04</td>\n",
              "      <td>-1000.700000</td>\n",
              "      <td>1.000000</td>\n",
              "    </tr>\n",
              "    <tr>\n",
              "      <th>25%</th>\n",
              "      <td>34.000000</td>\n",
              "      <td>0.000000</td>\n",
              "      <td>1.215000e+05</td>\n",
              "      <td>1.000000</td>\n",
              "      <td>2.000000</td>\n",
              "    </tr>\n",
              "    <tr>\n",
              "      <th>50%</th>\n",
              "      <td>43.000000</td>\n",
              "      <td>0.000000</td>\n",
              "      <td>1.611000e+05</td>\n",
              "      <td>4.000000</td>\n",
              "      <td>2.000000</td>\n",
              "    </tr>\n",
              "    <tr>\n",
              "      <th>75%</th>\n",
              "      <td>53.000000</td>\n",
              "      <td>1.000000</td>\n",
              "      <td>2.250000e+05</td>\n",
              "      <td>8.500000</td>\n",
              "      <td>3.000000</td>\n",
              "    </tr>\n",
              "    <tr>\n",
              "      <th>max</th>\n",
              "      <td>69.000000</td>\n",
              "      <td>19.000000</td>\n",
              "      <td>6.750000e+06</td>\n",
              "      <td>48.000000</td>\n",
              "      <td>20.000000</td>\n",
              "    </tr>\n",
              "  </tbody>\n",
              "</table>\n",
              "</div>"
            ],
            "text/plain": [
              "               Idade     Qtd_Filhos  ...  Anos_empregado  Tamanho_Familia\n",
              "count  438463.000000  438463.000000  ...   438463.000000    438463.000000\n",
              "mean       43.834032       0.427384  ...     -165.936036         2.194461\n",
              "std        11.472815       0.724879  ...      380.201131         0.897194\n",
              "min        21.000000       0.000000  ...    -1000.700000         1.000000\n",
              "25%        34.000000       0.000000  ...        1.000000         2.000000\n",
              "50%        43.000000       0.000000  ...        4.000000         2.000000\n",
              "75%        53.000000       1.000000  ...        8.500000         3.000000\n",
              "max        69.000000      19.000000  ...       48.000000        20.000000\n",
              "\n",
              "[8 rows x 5 columns]"
            ]
          },
          "metadata": {},
          "execution_count": 5
        }
      ]
    },
    {
      "cell_type": "code",
      "metadata": {
        "colab": {
          "base_uri": "https://localhost:8080/",
          "height": 265
        },
        "id": "3ZUZdhE3s3AZ",
        "outputId": "2ddb5b92-ff2f-4aa3-88be-3660706aa479"
      },
      "source": [
        "plt.hist(df_cad_no_rep.loc[:,\"Anos_empregado\"])\n",
        "plt.show()"
      ],
      "execution_count": 6,
      "outputs": [
        {
          "output_type": "display_data",
          "data": {
            "image/png": "[encoded data removed]",
            "text/plain": [
              "<Figure size 432x288 with 1 Axes>"
            ]
          },
          "metadata": {
            "needs_background": "light"
          }
        }
      ]
    },
    {
      "cell_type": "code",
      "metadata": {
        "colab": {
          "base_uri": "https://localhost:8080/"
        },
        "id": "7Pyzpc0duPIh",
        "outputId": "0cc28173-24ca-4a89-9962-cac083ed91a3"
      },
      "source": [
        "print(df_cad_no_rep.query(\"Anos_empregado <= 0\").loc[:,[\"Anos_empregado\", \"Categoria_de_renda\"]].value_counts())\n",
        "# valor de -1000 provavelmente é um identificador de pensionista\n",
        "print()\n",
        "df_cad_no_rep.query(\"Anos_empregado < 0\").loc[:,[\"Anos_empregado\", \"Categoria_de_renda\"]].value_counts()\n",
        "# valor de -1000 provavelmente é um identificador de pensionista"
      ],
      "execution_count": 7,
      "outputs": [
        {
          "output_type": "stream",
          "name": "stdout",
          "text": [
            "Anos_empregado  Categoria_de_renda \n",
            "-1000.7         Pensionista            75314\n",
            " 0.0            Empregado                 26\n",
            "                Servidor publico          11\n",
            "                Associado comercial        7\n",
            "dtype: int64\n",
            "\n"
          ]
        },
        {
          "output_type": "execute_result",
          "data": {
            "text/plain": [
              "Anos_empregado  Categoria_de_renda\n",
              "-1000.7         Pensionista           75314\n",
              "dtype: int64"
            ]
          },
          "metadata": {},
          "execution_count": 7
        }
      ]
    },
    {
      "cell_type": "code",
      "metadata": {
        "id": "P3G4T4zovDJo"
      },
      "source": [
        "df_cad_no_rep.loc[:,\"Anos_empregado\"] = df_cad_no_rep.loc[:,\"Anos_empregado\"].replace(-1000.7, -1) # convertendo para um valor simbólico que não altere a distribuição mas mantenha a natureza de < 0"
      ],
      "execution_count": 8,
      "outputs": []
    },
    {
      "cell_type": "code",
      "metadata": {
        "colab": {
          "base_uri": "https://localhost:8080/",
          "height": 580
        },
        "id": "kloKPzSEyTCp",
        "outputId": "35bf5b6c-e3f6-423d-bd42-ac99e1645f3f"
      },
      "source": [
        "df_cad_no_rep"
      ],
      "execution_count": 9,
      "outputs": [
        {
          "output_type": "execute_result",
          "data": {
            "text/html": [
              "<div>\n",
              "<style scoped>\n",
              "    .dataframe tbody tr th:only-of-type {\n",
              "        vertical-align: middle;\n",
              "    }\n",
              "\n",
              "    .dataframe tbody tr th {\n",
              "        vertical-align: top;\n",
              "    }\n",
              "\n",
              "    .dataframe thead th {\n",
              "        text-align: right;\n",
              "    }\n",
              "</style>\n",
              "<table border=\"1\" class=\"dataframe\">\n",
              "  <thead>\n",
              "    <tr style=\"text-align: right;\">\n",
              "      <th></th>\n",
              "      <th>ID_Cliente</th>\n",
              "      <th>Genero</th>\n",
              "      <th>Tem_Carro</th>\n",
              "      <th>Tem_Casa_Propria</th>\n",
              "      <th>Qtd_Filhos</th>\n",
              "      <th>Rendimento_Anual</th>\n",
              "      <th>Categoria_de_renda</th>\n",
              "      <th>Grau_Escolaridade</th>\n",
              "      <th>Estado_Civil</th>\n",
              "      <th>Moradia</th>\n",
              "      <th>Idade</th>\n",
              "      <th>Tem_Celular</th>\n",
              "      <th>Tem_telefone_trabalho</th>\n",
              "      <th>Tem_telefone_fixo</th>\n",
              "      <th>Tem_email</th>\n",
              "      <th>Ocupacao</th>\n",
              "      <th>Tamanho_Familia</th>\n",
              "      <th>Anos_empregado</th>\n",
              "    </tr>\n",
              "  </thead>\n",
              "  <tbody>\n",
              "    <tr>\n",
              "      <th>0</th>\n",
              "      <td>5008804</td>\n",
              "      <td>H</td>\n",
              "      <td>1</td>\n",
              "      <td>1</td>\n",
              "      <td>0</td>\n",
              "      <td>427500.0</td>\n",
              "      <td>Empregado</td>\n",
              "      <td>Ensino superior</td>\n",
              "      <td>Uniao estavel</td>\n",
              "      <td>Alugado</td>\n",
              "      <td>33.0</td>\n",
              "      <td>1</td>\n",
              "      <td>1</td>\n",
              "      <td>0</td>\n",
              "      <td>0</td>\n",
              "      <td>Outros</td>\n",
              "      <td>2.0</td>\n",
              "      <td>12.4</td>\n",
              "    </tr>\n",
              "    <tr>\n",
              "      <th>1</th>\n",
              "      <td>5008805</td>\n",
              "      <td>H</td>\n",
              "      <td>1</td>\n",
              "      <td>1</td>\n",
              "      <td>0</td>\n",
              "      <td>427500.0</td>\n",
              "      <td>Empregado</td>\n",
              "      <td>Ensino superior</td>\n",
              "      <td>Uniao estavel</td>\n",
              "      <td>Alugado</td>\n",
              "      <td>33.0</td>\n",
              "      <td>1</td>\n",
              "      <td>1</td>\n",
              "      <td>0</td>\n",
              "      <td>0</td>\n",
              "      <td>Outros</td>\n",
              "      <td>2.0</td>\n",
              "      <td>12.4</td>\n",
              "    </tr>\n",
              "    <tr>\n",
              "      <th>2</th>\n",
              "      <td>5008806</td>\n",
              "      <td>H</td>\n",
              "      <td>1</td>\n",
              "      <td>1</td>\n",
              "      <td>0</td>\n",
              "      <td>112500.0</td>\n",
              "      <td>Empregado</td>\n",
              "      <td>Ensino medio</td>\n",
              "      <td>Casado</td>\n",
              "      <td>Casa propria</td>\n",
              "      <td>59.0</td>\n",
              "      <td>1</td>\n",
              "      <td>0</td>\n",
              "      <td>0</td>\n",
              "      <td>0</td>\n",
              "      <td>Seguranca</td>\n",
              "      <td>2.0</td>\n",
              "      <td>3.1</td>\n",
              "    </tr>\n",
              "    <tr>\n",
              "      <th>3</th>\n",
              "      <td>5008808</td>\n",
              "      <td>M</td>\n",
              "      <td>0</td>\n",
              "      <td>1</td>\n",
              "      <td>0</td>\n",
              "      <td>270000.0</td>\n",
              "      <td>Associado comercial</td>\n",
              "      <td>Ensino medio</td>\n",
              "      <td>Solteiro</td>\n",
              "      <td>Casa propria</td>\n",
              "      <td>52.0</td>\n",
              "      <td>1</td>\n",
              "      <td>0</td>\n",
              "      <td>1</td>\n",
              "      <td>1</td>\n",
              "      <td>Venda</td>\n",
              "      <td>1.0</td>\n",
              "      <td>8.4</td>\n",
              "    </tr>\n",
              "    <tr>\n",
              "      <th>4</th>\n",
              "      <td>5008809</td>\n",
              "      <td>M</td>\n",
              "      <td>0</td>\n",
              "      <td>1</td>\n",
              "      <td>0</td>\n",
              "      <td>270000.0</td>\n",
              "      <td>Associado comercial</td>\n",
              "      <td>Ensino medio</td>\n",
              "      <td>Solteiro</td>\n",
              "      <td>Casa propria</td>\n",
              "      <td>52.0</td>\n",
              "      <td>1</td>\n",
              "      <td>0</td>\n",
              "      <td>1</td>\n",
              "      <td>1</td>\n",
              "      <td>Venda</td>\n",
              "      <td>1.0</td>\n",
              "      <td>8.4</td>\n",
              "    </tr>\n",
              "    <tr>\n",
              "      <th>...</th>\n",
              "      <td>...</td>\n",
              "      <td>...</td>\n",
              "      <td>...</td>\n",
              "      <td>...</td>\n",
              "      <td>...</td>\n",
              "      <td>...</td>\n",
              "      <td>...</td>\n",
              "      <td>...</td>\n",
              "      <td>...</td>\n",
              "      <td>...</td>\n",
              "      <td>...</td>\n",
              "      <td>...</td>\n",
              "      <td>...</td>\n",
              "      <td>...</td>\n",
              "      <td>...</td>\n",
              "      <td>...</td>\n",
              "      <td>...</td>\n",
              "      <td>...</td>\n",
              "    </tr>\n",
              "    <tr>\n",
              "      <th>438552</th>\n",
              "      <td>6840104</td>\n",
              "      <td>H</td>\n",
              "      <td>0</td>\n",
              "      <td>1</td>\n",
              "      <td>0</td>\n",
              "      <td>135000.0</td>\n",
              "      <td>Pensionista</td>\n",
              "      <td>Ensino medio</td>\n",
              "      <td>Separado</td>\n",
              "      <td>Casa propria</td>\n",
              "      <td>62.0</td>\n",
              "      <td>1</td>\n",
              "      <td>0</td>\n",
              "      <td>0</td>\n",
              "      <td>0</td>\n",
              "      <td>Outros</td>\n",
              "      <td>1.0</td>\n",
              "      <td>-1.0</td>\n",
              "    </tr>\n",
              "    <tr>\n",
              "      <th>438553</th>\n",
              "      <td>6840222</td>\n",
              "      <td>M</td>\n",
              "      <td>0</td>\n",
              "      <td>0</td>\n",
              "      <td>0</td>\n",
              "      <td>103500.0</td>\n",
              "      <td>Empregado</td>\n",
              "      <td>Ensino medio</td>\n",
              "      <td>Solteiro</td>\n",
              "      <td>Casa propria</td>\n",
              "      <td>44.0</td>\n",
              "      <td>1</td>\n",
              "      <td>0</td>\n",
              "      <td>0</td>\n",
              "      <td>0</td>\n",
              "      <td>Construcao Civil</td>\n",
              "      <td>1.0</td>\n",
              "      <td>8.2</td>\n",
              "    </tr>\n",
              "    <tr>\n",
              "      <th>438554</th>\n",
              "      <td>6841878</td>\n",
              "      <td>M</td>\n",
              "      <td>0</td>\n",
              "      <td>0</td>\n",
              "      <td>0</td>\n",
              "      <td>54000.0</td>\n",
              "      <td>Associado comercial</td>\n",
              "      <td>Ensino superior</td>\n",
              "      <td>Solteiro</td>\n",
              "      <td>Mora com os pais</td>\n",
              "      <td>22.0</td>\n",
              "      <td>1</td>\n",
              "      <td>1</td>\n",
              "      <td>0</td>\n",
              "      <td>0</td>\n",
              "      <td>Venda</td>\n",
              "      <td>1.0</td>\n",
              "      <td>1.0</td>\n",
              "    </tr>\n",
              "    <tr>\n",
              "      <th>438555</th>\n",
              "      <td>6842765</td>\n",
              "      <td>M</td>\n",
              "      <td>0</td>\n",
              "      <td>1</td>\n",
              "      <td>0</td>\n",
              "      <td>72000.0</td>\n",
              "      <td>Pensionista</td>\n",
              "      <td>Ensino medio</td>\n",
              "      <td>Casado</td>\n",
              "      <td>Casa propria</td>\n",
              "      <td>59.0</td>\n",
              "      <td>1</td>\n",
              "      <td>0</td>\n",
              "      <td>0</td>\n",
              "      <td>0</td>\n",
              "      <td>Outros</td>\n",
              "      <td>2.0</td>\n",
              "      <td>-1.0</td>\n",
              "    </tr>\n",
              "    <tr>\n",
              "      <th>438556</th>\n",
              "      <td>6842885</td>\n",
              "      <td>M</td>\n",
              "      <td>0</td>\n",
              "      <td>1</td>\n",
              "      <td>0</td>\n",
              "      <td>121500.0</td>\n",
              "      <td>Empregado</td>\n",
              "      <td>Ensino medio</td>\n",
              "      <td>Casado</td>\n",
              "      <td>Casa propria</td>\n",
              "      <td>52.0</td>\n",
              "      <td>1</td>\n",
              "      <td>0</td>\n",
              "      <td>1</td>\n",
              "      <td>0</td>\n",
              "      <td>Venda</td>\n",
              "      <td>2.0</td>\n",
              "      <td>3.3</td>\n",
              "    </tr>\n",
              "  </tbody>\n",
              "</table>\n",
              "<p>438463 rows × 18 columns</p>\n",
              "</div>"
            ],
            "text/plain": [
              "        ID_Cliente Genero  ...  Tamanho_Familia  Anos_empregado\n",
              "0          5008804      H  ...              2.0            12.4\n",
              "1          5008805      H  ...              2.0            12.4\n",
              "2          5008806      H  ...              2.0             3.1\n",
              "3          5008808      M  ...              1.0             8.4\n",
              "4          5008809      M  ...              1.0             8.4\n",
              "...            ...    ...  ...              ...             ...\n",
              "438552     6840104      H  ...              1.0            -1.0\n",
              "438553     6840222      M  ...              1.0             8.2\n",
              "438554     6841878      M  ...              1.0             1.0\n",
              "438555     6842765      M  ...              2.0            -1.0\n",
              "438556     6842885      M  ...              2.0             3.3\n",
              "\n",
              "[438463 rows x 18 columns]"
            ]
          },
          "metadata": {},
          "execution_count": 9
        }
      ]
    },
    {
      "cell_type": "markdown",
      "metadata": {
        "id": "TS4ie6i5yc8g"
      },
      "source": [
        "# Sessão 2 - Outliers"
      ]
    },
    {
      "cell_type": "code",
      "metadata": {
        "id": "s3zv8UfIyecy"
      },
      "source": [
        "import seaborn as sns\n",
        "sns.set()"
      ],
      "execution_count": 10,
      "outputs": []
    },
    {
      "cell_type": "code",
      "metadata": {
        "colab": {
          "base_uri": "https://localhost:8080/",
          "height": 287
        },
        "id": "HGkN1qPCzXYT",
        "outputId": "2ea5cfdf-b0d6-4eca-c186-e2d947e3e4bb"
      },
      "source": [
        "sns.histplot(data = df_cad_no_rep, x = \"Rendimento_Anual\", bins = 10)\n",
        "plt.xticks(rotation = 45)\n",
        "plt.show()"
      ],
      "execution_count": 11,
      "outputs": [
        {
          "output_type": "display_data",
          "data": {
            "image/png": "[encoded data removed]",
            "text/plain": [
              "<Figure size 432x288 with 1 Axes>"
            ]
          },
          "metadata": {}
        }
      ]
    },
    {
      "cell_type": "code",
      "metadata": {
        "colab": {
          "base_uri": "https://localhost:8080/",
          "height": 357
        },
        "id": "k8xCICCF1XuM",
        "outputId": "0fbdc876-28b7-43e6-fa41-7eae9ef27048"
      },
      "source": [
        "sns.boxplot(df_cad_no_rep.loc[:,\"Rendimento_Anual\"])"
      ],
      "execution_count": 12,
      "outputs": [
        {
          "output_type": "stream",
          "name": "stderr",
          "text": [
            "/usr/local/lib/python3.7/dist-packages/seaborn/_decorators.py:43: FutureWarning: Pass the following variable as a keyword arg: x. From version 0.12, the only valid positional argument will be `data`, and passing other arguments without an explicit keyword will result in an error or misinterpretation.\n",
            "  FutureWarning\n"
          ]
        },
        {
          "output_type": "execute_result",
          "data": {
            "text/plain": [
              "<matplotlib.axes._subplots.AxesSubplot at 0x7febf3254150>"
            ]
          },
          "metadata": {},
          "execution_count": 12
        },
        {
          "output_type": "display_data",
          "data": {
            "image/png": "[encoded data removed]",
            "text/plain": [
              "<Figure size 432x288 with 1 Axes>"
            ]
          },
          "metadata": {}
        }
      ]
    },
    {
      "cell_type": "code",
      "metadata": {
        "colab": {
          "base_uri": "https://localhost:8080/"
        },
        "id": "vsSrCw4F0891",
        "outputId": "3a5fddc9-7052-41cc-9ca4-31bf725a28c7"
      },
      "source": [
        "rend = df_cad_no_rep.loc[:,\"Rendimento_Anual\"]\n",
        "rend_mean = rend.mean()\n",
        "rend_std = rend.std()\n",
        "\n",
        "lim_sup = rend_mean + (2 * rend_std)\n",
        "lim_inf = rend_mean - (2 * rend_std)\n",
        "\n",
        "index_outliers = []\n",
        "\n",
        "for index, valor in rend.items():\n",
        "  if valor > lim_sup or valor < lim_inf:\n",
        "    index_outliers.append(index)\n",
        "\n",
        "len(index_outliers)"
      ],
      "execution_count": 13,
      "outputs": [
        {
          "output_type": "execute_result",
          "data": {
            "text/plain": [
              "12641"
            ]
          },
          "metadata": {},
          "execution_count": 13
        }
      ]
    },
    {
      "cell_type": "code",
      "metadata": {
        "colab": {
          "base_uri": "https://localhost:8080/"
        },
        "id": "SBkoK_KM2iqo",
        "outputId": "41a2119b-63ea-4c6c-af69-96fe79dfe90e"
      },
      "source": [
        "df_cad_no_out = df_cad_no_rep.drop(index_outliers)\n",
        "df_cad_no_out.shape"
      ],
      "execution_count": 14,
      "outputs": [
        {
          "output_type": "execute_result",
          "data": {
            "text/plain": [
              "(425822, 18)"
            ]
          },
          "metadata": {},
          "execution_count": 14
        }
      ]
    },
    {
      "cell_type": "code",
      "metadata": {
        "colab": {
          "base_uri": "https://localhost:8080/",
          "height": 293
        },
        "id": "HFP3seRu4wbV",
        "outputId": "71b37e6e-76ed-411f-8a2b-e7dd75e00dad"
      },
      "source": [
        "df_cad_no_out.loc[:,quant_cols].describe()"
      ],
      "execution_count": 15,
      "outputs": [
        {
          "output_type": "execute_result",
          "data": {
            "text/html": [
              "<div>\n",
              "<style scoped>\n",
              "    .dataframe tbody tr th:only-of-type {\n",
              "        vertical-align: middle;\n",
              "    }\n",
              "\n",
              "    .dataframe tbody tr th {\n",
              "        vertical-align: top;\n",
              "    }\n",
              "\n",
              "    .dataframe thead th {\n",
              "        text-align: right;\n",
              "    }\n",
              "</style>\n",
              "<table border=\"1\" class=\"dataframe\">\n",
              "  <thead>\n",
              "    <tr style=\"text-align: right;\">\n",
              "      <th></th>\n",
              "      <th>Idade</th>\n",
              "      <th>Qtd_Filhos</th>\n",
              "      <th>Rendimento_Anual</th>\n",
              "      <th>Anos_empregado</th>\n",
              "      <th>Tamanho_Familia</th>\n",
              "    </tr>\n",
              "  </thead>\n",
              "  <tbody>\n",
              "    <tr>\n",
              "      <th>count</th>\n",
              "      <td>425822.000000</td>\n",
              "      <td>425822.000000</td>\n",
              "      <td>425822.000000</td>\n",
              "      <td>425822.000000</td>\n",
              "      <td>425822.000000</td>\n",
              "    </tr>\n",
              "    <tr>\n",
              "      <th>mean</th>\n",
              "      <td>43.838707</td>\n",
              "      <td>0.425314</td>\n",
              "      <td>176384.728083</td>\n",
              "      <td>5.744956</td>\n",
              "      <td>2.191683</td>\n",
              "    </tr>\n",
              "    <tr>\n",
              "      <th>std</th>\n",
              "      <td>11.525400</td>\n",
              "      <td>0.723577</td>\n",
              "      <td>75033.530551</td>\n",
              "      <td>6.736649</td>\n",
              "      <td>0.896300</td>\n",
              "    </tr>\n",
              "    <tr>\n",
              "      <th>min</th>\n",
              "      <td>21.000000</td>\n",
              "      <td>0.000000</td>\n",
              "      <td>26100.000000</td>\n",
              "      <td>-1.000000</td>\n",
              "      <td>1.000000</td>\n",
              "    </tr>\n",
              "    <tr>\n",
              "      <th>25%</th>\n",
              "      <td>34.000000</td>\n",
              "      <td>0.000000</td>\n",
              "      <td>117000.000000</td>\n",
              "      <td>1.000000</td>\n",
              "      <td>2.000000</td>\n",
              "    </tr>\n",
              "    <tr>\n",
              "      <th>50%</th>\n",
              "      <td>43.000000</td>\n",
              "      <td>0.000000</td>\n",
              "      <td>157500.000000</td>\n",
              "      <td>4.000000</td>\n",
              "      <td>2.000000</td>\n",
              "    </tr>\n",
              "    <tr>\n",
              "      <th>75%</th>\n",
              "      <td>53.000000</td>\n",
              "      <td>1.000000</td>\n",
              "      <td>225000.000000</td>\n",
              "      <td>8.500000</td>\n",
              "      <td>3.000000</td>\n",
              "    </tr>\n",
              "    <tr>\n",
              "      <th>max</th>\n",
              "      <td>69.000000</td>\n",
              "      <td>19.000000</td>\n",
              "      <td>405000.000000</td>\n",
              "      <td>48.000000</td>\n",
              "      <td>20.000000</td>\n",
              "    </tr>\n",
              "  </tbody>\n",
              "</table>\n",
              "</div>"
            ],
            "text/plain": [
              "               Idade     Qtd_Filhos  ...  Anos_empregado  Tamanho_Familia\n",
              "count  425822.000000  425822.000000  ...   425822.000000    425822.000000\n",
              "mean       43.838707       0.425314  ...        5.744956         2.191683\n",
              "std        11.525400       0.723577  ...        6.736649         0.896300\n",
              "min        21.000000       0.000000  ...       -1.000000         1.000000\n",
              "25%        34.000000       0.000000  ...        1.000000         2.000000\n",
              "50%        43.000000       0.000000  ...        4.000000         2.000000\n",
              "75%        53.000000       1.000000  ...        8.500000         3.000000\n",
              "max        69.000000      19.000000  ...       48.000000        20.000000\n",
              "\n",
              "[8 rows x 5 columns]"
            ]
          },
          "metadata": {},
          "execution_count": 15
        }
      ]
    },
    {
      "cell_type": "code",
      "metadata": {
        "colab": {
          "base_uri": "https://localhost:8080/",
          "height": 312
        },
        "id": "W8CShgm749Bt",
        "outputId": "c22ee223-0ff9-445a-dc53-3385d2a56442"
      },
      "source": [
        "sns.histplot(data = df_cad_no_out, x = \"Rendimento_Anual\", bins = 10)\n",
        "plt.xticks(rotation = 45)\n",
        "plt.show()"
      ],
      "execution_count": 16,
      "outputs": [
        {
          "output_type": "display_data",
          "data": {
            "image/png": "[encoded data removed]",
            "text/plain": [
              "<Figure size 432x288 with 1 Axes>"
            ]
          },
          "metadata": {}
        }
      ]
    },
    {
      "cell_type": "code",
      "metadata": {
        "colab": {
          "base_uri": "https://localhost:8080/",
          "height": 292
        },
        "id": "HPf2RE0Z5uWh",
        "outputId": "b6e20c13-d57a-428f-eda1-ac1c67e08f81"
      },
      "source": [
        "sns.histplot(data = df_cad_no_out, x = \"Idade\", bins = 5)\n",
        "plt.xticks(rotation = 45)\n",
        "plt.show()"
      ],
      "execution_count": 17,
      "outputs": [
        {
          "output_type": "display_data",
          "data": {
            "image/png": "[encoded data removed]",
            "text/plain": [
              "<Figure size 432x288 with 1 Axes>"
            ]
          },
          "metadata": {}
        }
      ]
    },
    {
      "cell_type": "code",
      "metadata": {
        "colab": {
          "base_uri": "https://localhost:8080/",
          "height": 292
        },
        "id": "MpBEYeil6HOC",
        "outputId": "f3a5effd-f75f-47ce-94e5-5aafd069a6af"
      },
      "source": [
        "sns.histplot(data = df_cad_no_out, x = \"Anos_empregado\", bins = 5)\n",
        "plt.xticks(rotation = 45)\n",
        "plt.show()"
      ],
      "execution_count": 18,
      "outputs": [
        {
          "output_type": "display_data",
          "data": {
            "image/png": "[encoded data removed]",
            "text/plain": [
              "<Figure size 432x288 with 1 Axes>"
            ]
          },
          "metadata": {}
        }
      ]
    },
    {
      "cell_type": "code",
      "metadata": {
        "colab": {
          "base_uri": "https://localhost:8080/",
          "height": 292
        },
        "id": "9YeVNmnK51IW",
        "outputId": "71a209b8-58eb-4786-8c60-0cf7e24b1b33"
      },
      "source": [
        "sns.histplot(data = df_cad_no_out.query(\"Anos_empregado > 0\"), x = \"Anos_empregado\")\n",
        "plt.xticks(rotation = 45)\n",
        "plt.show()"
      ],
      "execution_count": 19,
      "outputs": [
        {
          "output_type": "display_data",
          "data": {
            "image/png": "[encoded data removed]",
            "text/plain": [
              "<Figure size 432x288 with 1 Axes>"
            ]
          },
          "metadata": {}
        }
      ]
    },
    {
      "cell_type": "markdown",
      "metadata": {
        "id": "yaKfgHFxHiTE"
      },
      "source": [
        "# Sessão 3 - Variáveis categóricas"
      ]
    },
    {
      "cell_type": "code",
      "metadata": {
        "colab": {
          "base_uri": "https://localhost:8080/"
        },
        "id": "IZHPHqUuHlJH",
        "outputId": "ee1e755f-7944-47b3-c7cf-a3c90bf42947"
      },
      "source": [
        "df_cad_no_out.info()"
      ],
      "execution_count": 21,
      "outputs": [
        {
          "output_type": "stream",
          "name": "stdout",
          "text": [
            "<class 'pandas.core.frame.DataFrame'>\n",
            "Int64Index: 425822 entries, 2 to 438556\n",
            "Data columns (total 18 columns):\n",
            " #   Column                 Non-Null Count   Dtype  \n",
            "---  ------                 --------------   -----  \n",
            " 0   ID_Cliente             425822 non-null  int64  \n",
            " 1   Genero                 425822 non-null  object \n",
            " 2   Tem_Carro              425822 non-null  int64  \n",
            " 3   Tem_Casa_Propria       425822 non-null  int64  \n",
            " 4   Qtd_Filhos             425822 non-null  int64  \n",
            " 5   Rendimento_Anual       425822 non-null  float64\n",
            " 6   Categoria_de_renda     425822 non-null  object \n",
            " 7   Grau_Escolaridade      425822 non-null  object \n",
            " 8   Estado_Civil           425822 non-null  object \n",
            " 9   Moradia                425822 non-null  object \n",
            " 10  Idade                  425822 non-null  float64\n",
            " 11  Tem_Celular            425822 non-null  int64  \n",
            " 12  Tem_telefone_trabalho  425822 non-null  int64  \n",
            " 13  Tem_telefone_fixo      425822 non-null  int64  \n",
            " 14  Tem_email              425822 non-null  int64  \n",
            " 15  Ocupacao               425822 non-null  object \n",
            " 16  Tamanho_Familia        425822 non-null  float64\n",
            " 17  Anos_empregado         425822 non-null  float64\n",
            "dtypes: float64(4), int64(8), object(6)\n",
            "memory usage: 61.7+ MB\n"
          ]
        }
      ]
    },
    {
      "cell_type": "code",
      "metadata": {
        "id": "NvkkNoUWH4ye"
      },
      "source": [
        "cat_cols = [\"Genero\", \"Tem_Carro\", \"Tem_Casa_Propria\", \"Categoria_de_renda\", \"Grau_escolaridade\", \"Estado_civil\",\n",
        "            \"Moradia\", \"Tem_Celular\", \"Tem_telefone_trabalho\", \"Tem_telefone_fixo\", \"Tem_email\", \"Ocupacao\"]"
      ],
      "execution_count": 22,
      "outputs": []
    },
    {
      "cell_type": "code",
      "metadata": {
        "colab": {
          "base_uri": "https://localhost:8080/",
          "height": 335
        },
        "id": "9RnepEftIOKF",
        "outputId": "32ee40ae-a661-4e33-ded3-36c63412f6d8"
      },
      "source": [
        "sns.countplot(data = df_cad_no_out, x = \"Estado_Civil\")\n",
        "plt.xticks(rotation = 45, ha = \"right\")\n",
        "plt.show()"
      ],
      "execution_count": 29,
      "outputs": [
        {
          "output_type": "display_data",
          "data": {
            "image/png": "[encoded data removed]",
            "text/plain": [
              "<Figure size 432x288 with 1 Axes>"
            ]
          },
          "metadata": {}
        }
      ]
    },
    {
      "cell_type": "code",
      "metadata": {
        "colab": {
          "base_uri": "https://localhost:8080/",
          "height": 287
        },
        "id": "8UqRl3sZI0sG",
        "outputId": "d0a2c522-3c1a-43c6-9481-89300e941e08"
      },
      "source": [
        "sns.countplot(data = df_cad_no_out, x = \"Tem_Celular\")\n",
        "plt.xticks(rotation = 45, ha = \"right\")\n",
        "plt.show()"
      ],
      "execution_count": 30,
      "outputs": [
        {
          "output_type": "display_data",
          "data": {
            "image/png": "[encoded data removed]",
            "text/plain": [
              "<Figure size 432x288 with 1 Axes>"
            ]
          },
          "metadata": {}
        }
      ]
    },
    {
      "cell_type": "code",
      "metadata": {
        "colab": {
          "base_uri": "https://localhost:8080/",
          "height": 467
        },
        "id": "CLDzaEA9JW75",
        "outputId": "66c0d209-99d4-466e-ec0a-ce27c2e195e6"
      },
      "source": [
        "plt.figure(figsize = (10, 6))\n",
        "sns.countplot(data = df_cad_no_out, x = \"Ocupacao\")\n",
        "plt.xticks(rotation = 45, ha = \"right\")\n",
        "plt.show()"
      ],
      "execution_count": 33,
      "outputs": [
        {
          "output_type": "display_data",
          "data": {
            "image/png": "[encoded data removed]",
            "text/plain": [
              "<Figure size 720x432 with 1 Axes>"
            ]
          },
          "metadata": {}
        }
      ]
    },
    {
      "cell_type": "code",
      "metadata": {
        "colab": {
          "base_uri": "https://localhost:8080/",
          "height": 312
        },
        "id": "NlU9YoxRKtsp",
        "outputId": "8883ded4-50f1-4305-9893-41f6bf12713d"
      },
      "source": [
        "sns.histplot(data = df_cad_no_out.query(\"Ocupacao == 'Outros'\"), x = \"Rendimento_Anual\", bins = 10)\n",
        "plt.xticks(rotation = 45, ha = \"right\")\n",
        "plt.show()"
      ],
      "execution_count": 36,
      "outputs": [
        {
          "output_type": "display_data",
          "data": {
            "image/png": "[encoded data removed]",
            "text/plain": [
              "<Figure size 432x288 with 1 Axes>"
            ]
          },
          "metadata": {}
        }
      ]
    },
    {
      "cell_type": "code",
      "metadata": {
        "colab": {
          "base_uri": "https://localhost:8080/"
        },
        "id": "dihYhI2aLCwR",
        "outputId": "cdcc6fa3-4343-457a-f266-4568bdd0dc28"
      },
      "source": [
        "df_cad_tratamento1 = df_cad_no_out.drop([\"Genero\", \"Tem_Celular\"], axis = 1)\n",
        "df_cad_tratamento1.shape"
      ],
      "execution_count": 39,
      "outputs": [
        {
          "output_type": "execute_result",
          "data": {
            "text/plain": [
              "(425822, 16)"
            ]
          },
          "metadata": {},
          "execution_count": 39
        }
      ]
    },
    {
      "cell_type": "code",
      "metadata": {
        "id": "_j8il7aIOakN"
      },
      "source": [
        "cat_cols.remove(\"Genero\")\n",
        "cat_cols.remove(\"Tem_Celular\")"
      ],
      "execution_count": 42,
      "outputs": []
    },
    {
      "cell_type": "code",
      "metadata": {
        "colab": {
          "base_uri": "https://localhost:8080/"
        },
        "id": "B-TYs7wwOvtf",
        "outputId": "6be85c3a-39d1-4f3c-a52e-a6d36e5e2b7a"
      },
      "source": [
        "cat_cols"
      ],
      "execution_count": 43,
      "outputs": [
        {
          "output_type": "execute_result",
          "data": {
            "text/plain": [
              "['Tem_Carro',\n",
              " 'Tem_Casa_Propria',\n",
              " 'Categoria_de_renda',\n",
              " 'Grau_escolaridade',\n",
              " 'Estado_civil',\n",
              " 'Moradia',\n",
              " 'Tem_telefone_trabalho',\n",
              " 'Tem_telefone_fixo',\n",
              " 'Tem_email',\n",
              " 'Ocupacao']"
            ]
          },
          "metadata": {},
          "execution_count": 43
        }
      ]
    }
  ]
}