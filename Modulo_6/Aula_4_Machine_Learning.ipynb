{
  "nbformat": 4,
  "nbformat_minor": 0,
  "metadata": {
    "colab": {
      "provenance": [],
      "authorship_tag": "ABX9TyOmdIrpkM/RcCwNIXzsmJMf",
      "include_colab_link": true
    },
    "kernelspec": {
      "name": "python3",
      "display_name": "Python 3"
    },
    "language_info": {
      "name": "python"
    }
  },
  "cells": [
    {
      "cell_type": "markdown",
      "metadata": {
        "id": "view-in-github",
        "colab_type": "text"
      },
      "source": [
        "<a href=\"https://colab.research.google.com/github/RPGraciotti/BootCampAlura/blob/main/Modulo_6/Aula_4_Machine_Learning.ipynb\" target=\"_parent\"><img src=\"https://colab.research.google.com/assets/colab-badge.svg\" alt=\"Open In Colab\"/></a>"
      ]
    },
    {
      "cell_type": "markdown",
      "source": [
        "# Preparando conteúdo anterior"
      ],
      "metadata": {
        "id": "GyoJG-DIRV41"
      }
    },
    {
      "cell_type": "code",
      "execution_count": 1,
      "metadata": {
        "id": "SLFqiul9mt8c"
      },
      "outputs": [],
      "source": [
        "import pandas as pd\n",
        "import matplotlib.pyplot as plt\n",
        "import seaborn as sns\n",
        "import numpy as np"
      ]
    },
    {
      "cell_type": "code",
      "source": [
        "!pip install scikit-learn==0.23.2 imbalanced-learn==0.7.0"
      ],
      "metadata": {
        "colab": {
          "base_uri": "https://localhost:8080/"
        },
        "id": "3YPey6_kc5Ue",
        "outputId": "484371f5-cff0-45f7-a5cf-400d369af661"
      },
      "execution_count": 2,
      "outputs": [
        {
          "output_type": "stream",
          "name": "stdout",
          "text": [
            "Looking in indexes: https://pypi.org/simple, https://us-python.pkg.dev/colab-wheels/public/simple/\n",
            "Collecting scikit-learn==0.23.2\n",
            "  Downloading scikit_learn-0.23.2-cp38-cp38-manylinux1_x86_64.whl (6.8 MB)\n",
            "\u001b[2K     \u001b[90m━━━━━━━━━━━━━━━━━━━━━━━━━━━━━━━━━━━━━━━━\u001b[0m \u001b[32m6.8/6.8 MB\u001b[0m \u001b[31m65.6 MB/s\u001b[0m eta \u001b[36m0:00:00\u001b[0m\n",
            "\u001b[?25hCollecting imbalanced-learn==0.7.0\n",
            "  Downloading imbalanced_learn-0.7.0-py3-none-any.whl (167 kB)\n",
            "\u001b[2K     \u001b[90m━━━━━━━━━━━━━━━━━━━━━━━━━━━━━━━━━━━━━━\u001b[0m \u001b[32m167.1/167.1 KB\u001b[0m \u001b[31m19.3 MB/s\u001b[0m eta \u001b[36m0:00:00\u001b[0m\n",
            "\u001b[?25hRequirement already satisfied: scipy>=0.19.1 in /usr/local/lib/python3.8/dist-packages (from scikit-learn==0.23.2) (1.7.3)\n",
            "Requirement already satisfied: joblib>=0.11 in /usr/local/lib/python3.8/dist-packages (from scikit-learn==0.23.2) (1.2.0)\n",
            "Requirement already satisfied: threadpoolctl>=2.0.0 in /usr/local/lib/python3.8/dist-packages (from scikit-learn==0.23.2) (3.1.0)\n",
            "Requirement already satisfied: numpy>=1.13.3 in /usr/local/lib/python3.8/dist-packages (from scikit-learn==0.23.2) (1.21.6)\n",
            "Installing collected packages: scikit-learn, imbalanced-learn\n",
            "  Attempting uninstall: scikit-learn\n",
            "    Found existing installation: scikit-learn 1.0.2\n",
            "    Uninstalling scikit-learn-1.0.2:\n",
            "      Successfully uninstalled scikit-learn-1.0.2\n",
            "  Attempting uninstall: imbalanced-learn\n",
            "    Found existing installation: imbalanced-learn 0.8.1\n",
            "    Uninstalling imbalanced-learn-0.8.1:\n",
            "      Successfully uninstalled imbalanced-learn-0.8.1\n",
            "\u001b[31mERROR: pip's dependency resolver does not currently take into account all the packages that are installed. This behaviour is the source of the following dependency conflicts.\n",
            "yellowbrick 1.5 requires scikit-learn>=1.0.0, but you have scikit-learn 0.23.2 which is incompatible.\u001b[0m\u001b[31m\n",
            "\u001b[0mSuccessfully installed imbalanced-learn-0.7.0 scikit-learn-0.23.2\n"
          ]
        }
      ]
    },
    {
      "cell_type": "code",
      "source": [
        "import six\n",
        "import sys\n",
        "sys.modules['sklearn.externals.six'] = six"
      ],
      "metadata": {
        "id": "pAI79UivdD9y"
      },
      "execution_count": 3,
      "outputs": []
    },
    {
      "cell_type": "code",
      "source": [
        "df_cadastrados = pd.read_csv(\"https://github.com/RPGraciotti/BootCampAlura/raw/main/Data/clientes_cadastrados.txt\")\n",
        "ids_repetidos = df_cadastrados[df_cadastrados.loc[:,\"ID_Cliente\"].duplicated(keep = False)].loc[:,\"ID_Cliente\"]\n",
        "df_cadastrados_no_rep = df_cadastrados.drop(ids_repetidos.index)\n",
        "\n",
        "df_cadastrados_no_rep.loc[:,\"Anos_empregado\"] = df_cadastrados_no_rep.loc[:,\"Anos_empregado\"].replace(-1000.7, -1)\n",
        "\n",
        "rend = df_cadastrados_no_rep.loc[:,\"Rendimento_Anual\"]\n",
        "rend_mean = rend.mean()\n",
        "rend_std = rend.std()\n",
        "\n",
        "lim_sup = rend_mean + (2 * rend_std)\n",
        "lim_inf = rend_mean - (2 * rend_std) # esse aqui você pode perceber que ficou negativo, e vimos que não há valores negativos nesse dado, então não haverá perdas\n",
        "\n",
        "index_outliers = [] # lista vazia para for, mesma lógica no R\n",
        "\n",
        "for index, valor in rend.items():\n",
        "  if valor > lim_sup or valor < lim_inf:\n",
        "    index_outliers.append(index)\n",
        "\n",
        "df_cadastrados_no_out = df_cadastrados_no_rep.drop(index_outliers)\n",
        "\n",
        "quant_cols = ['Idade', 'Qtd_Filhos', 'Rendimento_Anual', 'Anos_empregado', 'Tamanho_Familia']\n",
        "cat_cols = [\"Genero\", \"Tem_Carro\", \"Tem_Casa_Propria\", \"Categoria_de_renda\", \"Grau_Escolaridade\", \"Estado_Civil\",\n",
        "            \"Moradia\", \"Tem_Celular\", \"Tem_telefone_trabalho\", \"Tem_telefone_fixo\", \"Tem_email\", \"Ocupacao\"]\n",
        "\n",
        "\n",
        "df_cad_trat1 = df_cadastrados_no_out.drop([\"Genero\", \"Tem_Celular\"], axis = 1)\n",
        "\n",
        "cat_cols.remove(\"Genero\")\n",
        "cat_cols.remove(\"Tem_Celular\")\n",
        "\n",
        "df_aprovados = pd.read_csv(\"https://raw.githubusercontent.com/RPGraciotti/BootCampAlura/main/Data/clientes_aprovados.txt\")\n",
        "df_aprovados_agrupados_ID = df_aprovados.groupby('ID_Cliente')\n",
        "srs_abertura = df_aprovados_agrupados_ID.apply(lambda x: min(x['Mes_referencia'])) # srs == series\n",
        "srs_abertura.name = 'Abertura'\n",
        "\n",
        "df_aprovados = df_aprovados.merge(srs_abertura, on = \"ID_Cliente\")\n",
        "\n",
        "srs_final = df_aprovados_agrupados_ID.apply(lambda x: max(x['Mes_referencia']))\n",
        "srs_final.name = 'Final'\n",
        "\n",
        "df_aprovados = df_aprovados.merge(srs_final, on = \"ID_Cliente\")\n",
        "df_aprovados.loc[:,'Janela'] = df_aprovados.loc[:,'Final'] - df_aprovados.loc[:,'Abertura']\n",
        "\n",
        "df_aprovados.loc[:,'MOB'] = df_aprovados.loc[:,'Mes_referencia'] - df_aprovados.loc[:,'Abertura']\n",
        "\n",
        "dict_faixa_atraso_ind ={'nenhum empréstimo': 0, 'pagamento realizado': 1,\n",
        "                        '1-29 dias': 2, '30-59 dias': 3, '60-89 dias': 4,\n",
        "                        '90-119 dias': 5, '120-149 dias': 6, '>150 dias': 7}\n",
        "\n",
        "df_aprovados.loc[:,'Ind_Faixa_atraso'] = df_aprovados.loc[:,\"Faixa_atraso\"].map(dict_faixa_atraso_ind)\n",
        "df_aprovados.loc[:,'Mau'] = df_aprovados.apply(lambda x: 1 if x['Ind_Faixa_atraso'] > 3 else 0, axis = 1) # atentar para o fato do método .loc não funcionar dentro do lambda?\n",
        "\n",
        "df_aprovados_ID = df_aprovados.loc[:,('ID_Cliente', 'Abertura', 'Final', 'Janela')].groupby('ID_Cliente').apply(lambda x: x.iloc[0]).reset_index(drop = True)\n",
        "\n",
        "df_denominador = df_aprovados_ID.groupby('Abertura').apply(lambda x: x['ID_Cliente'].count()).reset_index()\n",
        "df_denominador.columns = ['Abertura', 'Qtd_Clientes']\n",
        "\n",
        "df_vintage = df_aprovados.groupby(['Abertura', 'MOB']).apply(lambda x: x['ID_Cliente'].count()).reset_index()\n",
        "df_vintage.columns = ['Abertura', 'MOB', 'Qtd_Clientes']\n",
        "df_vintage = pd.merge(df_vintage.loc[:,('Abertura', 'MOB')], df_denominador, on = ['Abertura'], how = 'left')\n",
        "\n",
        "df_vintage['Qtd_Mau'] = np.nan\n",
        "\n",
        "for j in range(-60,1):\n",
        "    ls = []\n",
        "    for i in range(0,61):\n",
        "        due = list(df_aprovados.query('Mau == 1 and MOB == @i and Abertura == @j')['ID_Cliente'])\n",
        "        ls.extend(due)\n",
        "        df_vintage.loc[(df_vintage['MOB'] == i) & (df_vintage['Abertura'] == j), 'Qtd_Mau'] = len(set(ls))\n",
        "        \n",
        "df_vintage['Taxa_de_Mau']  = df_vintage['Qtd_Mau'] / df_vintage['Qtd_Clientes']\n",
        "\n",
        "df_vintage_pivot = df_vintage.pivot(index = 'Abertura',\n",
        "                                    columns = 'MOB',\n",
        "                                    values = 'Taxa_de_Mau')\n",
        "\n",
        "dict_intervalo_atraso = {'maior_30_dias': 3, 'maior_60_dias': 4, 'maior_90_dias': 5,\n",
        "                        'maior_120_dias': 6, 'maior_150_dias': 7}\n",
        "\n",
        "for chave, valor in dict_intervalo_atraso.items():\n",
        "  df_aprovados[f'Mau_{chave}'] = df_aprovados.apply(lambda x: 1 if x['Ind_Faixa_atraso'] >= valor else 0, axis=1) # mais de 60\n",
        "\n",
        "dict_taxa_mau = {}\n",
        "id_sum = len(set(df_aprovados['ID_Cliente']))\n",
        "\n",
        "for chave in dict_intervalo_atraso.keys():\n",
        "  df_min_mau = df_aprovados.query(f'Mau_{chave} == 1').groupby('ID_Cliente')['MOB'].min().reset_index()\n",
        "  df_mob_taxa_mau = pd.DataFrame({'MOB':range(0,61), 'Taxa_Mau': np.nan})\n",
        "  lst = []\n",
        "  for i in range(0,61):\n",
        "      due = df_min_mau.query('MOB == @i')['ID_Cliente'].to_list()\n",
        "      lst.extend(due) #cumsum\n",
        "      df_mob_taxa_mau.loc[df_mob_taxa_mau['MOB'] == i, 'Taxa_Mau'] = len(set(lst)) / id_sum\n",
        "  dict_taxa_mau[chave] = df_mob_taxa_mau['Taxa_Mau']\n",
        "\n",
        "df_taxa_mau = pd.DataFrame(dict_taxa_mau)\n",
        "\n",
        "df_aprovados_trat1 = df_aprovados.query('Janela >= 12').copy() # trat1 = tratamento 1\n",
        "\n",
        "def verifica(registros):\n",
        "  lista_status = registros['Faixa_atraso'].to_list()\n",
        "  if '60-89 dias' in lista_status or '90-119 dias' in lista_status or '120-149 dias' in lista_status or '>150 dias' in lista_status:\n",
        "    return 1\n",
        "  else:\n",
        "    return 0\n",
        "  \n",
        "df_registros_creditos_id = pd.DataFrame(df_aprovados_trat1.groupby('ID_Cliente').apply(verifica)).reset_index()\n",
        "df_registros_creditos_id.columns = ['ID_Cliente', 'Mau']\n",
        "\n",
        "df_registro_clientes_targets = df_cad_trat1.merge(df_registros_creditos_id, on='ID_Cliente')"
      ],
      "metadata": {
        "id": "fPT_MvIuRTS8"
      },
      "execution_count": 4,
      "outputs": []
    },
    {
      "cell_type": "markdown",
      "source": [
        "##Sessão 1 - Primeiros modelos"
      ],
      "metadata": {
        "id": "WKYpXR7yUdFp"
      }
    },
    {
      "cell_type": "code",
      "source": [
        "df_registro_clientes_targets['Mau'].value_counts(normalize=True)*100"
      ],
      "metadata": {
        "colab": {
          "base_uri": "https://localhost:8080/"
        },
        "id": "fPzxBkz3SeX3",
        "outputId": "b36c7673-639e-4c45-9b2c-3dea3ef41ca4"
      },
      "execution_count": 5,
      "outputs": [
        {
          "output_type": "execute_result",
          "data": {
            "text/plain": [
              "0    97.726673\n",
              "1     2.273327\n",
              "Name: Mau, dtype: float64"
            ]
          },
          "metadata": {},
          "execution_count": 5
        }
      ]
    },
    {
      "cell_type": "code",
      "source": [
        "cat_col_bin  = ['Tem_Carro',\n",
        "                'Tem_Casa_Propria',\n",
        "                'Tem_telefone_trabalho',\n",
        "                'Tem_telefone_fixo',\n",
        "                'Tem_email']\n",
        "cat_col_bin"
      ],
      "metadata": {
        "colab": {
          "base_uri": "https://localhost:8080/"
        },
        "id": "2-MJTm8lUfyW",
        "outputId": "93e77c42-c2f2-40ff-f1f5-a7e2b4aad6b3"
      },
      "execution_count": 6,
      "outputs": [
        {
          "output_type": "execute_result",
          "data": {
            "text/plain": [
              "['Tem_Carro',\n",
              " 'Tem_Casa_Propria',\n",
              " 'Tem_telefone_trabalho',\n",
              " 'Tem_telefone_fixo',\n",
              " 'Tem_email']"
            ]
          },
          "metadata": {},
          "execution_count": 6
        }
      ]
    },
    {
      "cell_type": "code",
      "source": [
        "cat_col_n_bin = ['Categoria_de_renda',\n",
        "                 'Grau_Escolaridade',\n",
        "                 'Estado_Civil',\n",
        "                 'Moradia',\n",
        "                 'Ocupacao']\n",
        "cat_col_n_bin"
      ],
      "metadata": {
        "colab": {
          "base_uri": "https://localhost:8080/"
        },
        "id": "GC4mMX31VimQ",
        "outputId": "7ab98edb-3f88-42d8-cca8-c5e0be9bfea4"
      },
      "execution_count": 7,
      "outputs": [
        {
          "output_type": "execute_result",
          "data": {
            "text/plain": [
              "['Categoria_de_renda',\n",
              " 'Grau_Escolaridade',\n",
              " 'Estado_Civil',\n",
              " 'Moradia',\n",
              " 'Ocupacao']"
            ]
          },
          "metadata": {},
          "execution_count": 7
        }
      ]
    },
    {
      "cell_type": "code",
      "source": [
        "df_registro_clientes_targets = df_registro_clientes_targets[['ID_Cliente'] + quant_cols + cat_col_bin + cat_col_n_bin + ['Mau']]\n",
        "df_registro_clientes_targets.head()"
      ],
      "metadata": {
        "colab": {
          "base_uri": "https://localhost:8080/",
          "height": 357
        },
        "id": "Hi8fD0MNXHn6",
        "outputId": "ebe15efa-35e3-43dc-accd-68b9b9862216"
      },
      "execution_count": 8,
      "outputs": [
        {
          "output_type": "execute_result",
          "data": {
            "text/plain": [
              "   ID_Cliente  Idade  Qtd_Filhos  Rendimento_Anual  Anos_empregado  \\\n",
              "0     5008806   59.0           0          112500.0             3.1   \n",
              "1     5008810   52.0           0          270000.0             8.4   \n",
              "2     5008811   52.0           0          270000.0             8.4   \n",
              "3     5008812   62.0           0          283500.0            -1.0   \n",
              "4     5008813   62.0           0          283500.0            -1.0   \n",
              "\n",
              "   Tamanho_Familia  Tem_Carro  Tem_Casa_Propria  Tem_telefone_trabalho  \\\n",
              "0              2.0          1                 1                      0   \n",
              "1              1.0          0                 1                      0   \n",
              "2              1.0          0                 1                      0   \n",
              "3              1.0          0                 1                      0   \n",
              "4              1.0          0                 1                      0   \n",
              "\n",
              "   Tem_telefone_fixo  Tem_email   Categoria_de_renda Grau_Escolaridade  \\\n",
              "0                  0          0            Empregado      Ensino medio   \n",
              "1                  1          1  Associado comercial      Ensino medio   \n",
              "2                  1          1  Associado comercial      Ensino medio   \n",
              "3                  0          0          Pensionista   Ensino superior   \n",
              "4                  0          0          Pensionista   Ensino superior   \n",
              "\n",
              "  Estado_Civil       Moradia   Ocupacao  Mau  \n",
              "0       Casado  Casa propria  Seguranca    0  \n",
              "1     Solteiro  Casa propria      Venda    0  \n",
              "2     Solteiro  Casa propria      Venda    0  \n",
              "3     Separado  Casa propria     Outros    0  \n",
              "4     Separado  Casa propria     Outros    0  "
            ],
            "text/html": [
              "\n",
              "  <div id=\"df-868da025-9b13-4fd3-aef0-ea72cbd5a811\">\n",
              "    <div class=\"colab-df-container\">\n",
              "      <div>\n",
              "<style scoped>\n",
              "    .dataframe tbody tr th:only-of-type {\n",
              "        vertical-align: middle;\n",
              "    }\n",
              "\n",
              "    .dataframe tbody tr th {\n",
              "        vertical-align: top;\n",
              "    }\n",
              "\n",
              "    .dataframe thead th {\n",
              "        text-align: right;\n",
              "    }\n",
              "</style>\n",
              "<table border=\"1\" class=\"dataframe\">\n",
              "  <thead>\n",
              "    <tr style=\"text-align: right;\">\n",
              "      <th></th>\n",
              "      <th>ID_Cliente</th>\n",
              "      <th>Idade</th>\n",
              "      <th>Qtd_Filhos</th>\n",
              "      <th>Rendimento_Anual</th>\n",
              "      <th>Anos_empregado</th>\n",
              "      <th>Tamanho_Familia</th>\n",
              "      <th>Tem_Carro</th>\n",
              "      <th>Tem_Casa_Propria</th>\n",
              "      <th>Tem_telefone_trabalho</th>\n",
              "      <th>Tem_telefone_fixo</th>\n",
              "      <th>Tem_email</th>\n",
              "      <th>Categoria_de_renda</th>\n",
              "      <th>Grau_Escolaridade</th>\n",
              "      <th>Estado_Civil</th>\n",
              "      <th>Moradia</th>\n",
              "      <th>Ocupacao</th>\n",
              "      <th>Mau</th>\n",
              "    </tr>\n",
              "  </thead>\n",
              "  <tbody>\n",
              "    <tr>\n",
              "      <th>0</th>\n",
              "      <td>5008806</td>\n",
              "      <td>59.0</td>\n",
              "      <td>0</td>\n",
              "      <td>112500.0</td>\n",
              "      <td>3.1</td>\n",
              "      <td>2.0</td>\n",
              "      <td>1</td>\n",
              "      <td>1</td>\n",
              "      <td>0</td>\n",
              "      <td>0</td>\n",
              "      <td>0</td>\n",
              "      <td>Empregado</td>\n",
              "      <td>Ensino medio</td>\n",
              "      <td>Casado</td>\n",
              "      <td>Casa propria</td>\n",
              "      <td>Seguranca</td>\n",
              "      <td>0</td>\n",
              "    </tr>\n",
              "    <tr>\n",
              "      <th>1</th>\n",
              "      <td>5008810</td>\n",
              "      <td>52.0</td>\n",
              "      <td>0</td>\n",
              "      <td>270000.0</td>\n",
              "      <td>8.4</td>\n",
              "      <td>1.0</td>\n",
              "      <td>0</td>\n",
              "      <td>1</td>\n",
              "      <td>0</td>\n",
              "      <td>1</td>\n",
              "      <td>1</td>\n",
              "      <td>Associado comercial</td>\n",
              "      <td>Ensino medio</td>\n",
              "      <td>Solteiro</td>\n",
              "      <td>Casa propria</td>\n",
              "      <td>Venda</td>\n",
              "      <td>0</td>\n",
              "    </tr>\n",
              "    <tr>\n",
              "      <th>2</th>\n",
              "      <td>5008811</td>\n",
              "      <td>52.0</td>\n",
              "      <td>0</td>\n",
              "      <td>270000.0</td>\n",
              "      <td>8.4</td>\n",
              "      <td>1.0</td>\n",
              "      <td>0</td>\n",
              "      <td>1</td>\n",
              "      <td>0</td>\n",
              "      <td>1</td>\n",
              "      <td>1</td>\n",
              "      <td>Associado comercial</td>\n",
              "      <td>Ensino medio</td>\n",
              "      <td>Solteiro</td>\n",
              "      <td>Casa propria</td>\n",
              "      <td>Venda</td>\n",
              "      <td>0</td>\n",
              "    </tr>\n",
              "    <tr>\n",
              "      <th>3</th>\n",
              "      <td>5008812</td>\n",
              "      <td>62.0</td>\n",
              "      <td>0</td>\n",
              "      <td>283500.0</td>\n",
              "      <td>-1.0</td>\n",
              "      <td>1.0</td>\n",
              "      <td>0</td>\n",
              "      <td>1</td>\n",
              "      <td>0</td>\n",
              "      <td>0</td>\n",
              "      <td>0</td>\n",
              "      <td>Pensionista</td>\n",
              "      <td>Ensino superior</td>\n",
              "      <td>Separado</td>\n",
              "      <td>Casa propria</td>\n",
              "      <td>Outros</td>\n",
              "      <td>0</td>\n",
              "    </tr>\n",
              "    <tr>\n",
              "      <th>4</th>\n",
              "      <td>5008813</td>\n",
              "      <td>62.0</td>\n",
              "      <td>0</td>\n",
              "      <td>283500.0</td>\n",
              "      <td>-1.0</td>\n",
              "      <td>1.0</td>\n",
              "      <td>0</td>\n",
              "      <td>1</td>\n",
              "      <td>0</td>\n",
              "      <td>0</td>\n",
              "      <td>0</td>\n",
              "      <td>Pensionista</td>\n",
              "      <td>Ensino superior</td>\n",
              "      <td>Separado</td>\n",
              "      <td>Casa propria</td>\n",
              "      <td>Outros</td>\n",
              "      <td>0</td>\n",
              "    </tr>\n",
              "  </tbody>\n",
              "</table>\n",
              "</div>\n",
              "      <button class=\"colab-df-convert\" onclick=\"convertToInteractive('df-868da025-9b13-4fd3-aef0-ea72cbd5a811')\"\n",
              "              title=\"Convert this dataframe to an interactive table.\"\n",
              "              style=\"display:none;\">\n",
              "        \n",
              "  <svg xmlns=\"http://www.w3.org/2000/svg\" height=\"24px\"viewBox=\"0 0 24 24\"\n",
              "       width=\"24px\">\n",
              "    <path d=\"M0 0h24v24H0V0z\" fill=\"none\"/>\n",
              "    <path d=\"M18.56 5.44l.94 2.06.94-2.06 2.06-.94-2.06-.94-.94-2.06-.94 2.06-2.06.94zm-11 1L8.5 8.5l.94-2.06 2.06-.94-2.06-.94L8.5 2.5l-.94 2.06-2.06.94zm10 10l.94 2.06.94-2.06 2.06-.94-2.06-.94-.94-2.06-.94 2.06-2.06.94z\"/><path d=\"M17.41 7.96l-1.37-1.37c-.4-.4-.92-.59-1.43-.59-.52 0-1.04.2-1.43.59L10.3 9.45l-7.72 7.72c-.78.78-.78 2.05 0 2.83L4 21.41c.39.39.9.59 1.41.59.51 0 1.02-.2 1.41-.59l7.78-7.78 2.81-2.81c.8-.78.8-2.07 0-2.86zM5.41 20L4 18.59l7.72-7.72 1.47 1.35L5.41 20z\"/>\n",
              "  </svg>\n",
              "      </button>\n",
              "      \n",
              "  <style>\n",
              "    .colab-df-container {\n",
              "      display:flex;\n",
              "      flex-wrap:wrap;\n",
              "      gap: 12px;\n",
              "    }\n",
              "\n",
              "    .colab-df-convert {\n",
              "      background-color: #E8F0FE;\n",
              "      border: none;\n",
              "      border-radius: 50%;\n",
              "      cursor: pointer;\n",
              "      display: none;\n",
              "      fill: #1967D2;\n",
              "      height: 32px;\n",
              "      padding: 0 0 0 0;\n",
              "      width: 32px;\n",
              "    }\n",
              "\n",
              "    .colab-df-convert:hover {\n",
              "      background-color: #E2EBFA;\n",
              "      box-shadow: 0px 1px 2px rgba(60, 64, 67, 0.3), 0px 1px 3px 1px rgba(60, 64, 67, 0.15);\n",
              "      fill: #174EA6;\n",
              "    }\n",
              "\n",
              "    [theme=dark] .colab-df-convert {\n",
              "      background-color: #3B4455;\n",
              "      fill: #D2E3FC;\n",
              "    }\n",
              "\n",
              "    [theme=dark] .colab-df-convert:hover {\n",
              "      background-color: #434B5C;\n",
              "      box-shadow: 0px 1px 3px 1px rgba(0, 0, 0, 0.15);\n",
              "      filter: drop-shadow(0px 1px 2px rgba(0, 0, 0, 0.3));\n",
              "      fill: #FFFFFF;\n",
              "    }\n",
              "  </style>\n",
              "\n",
              "      <script>\n",
              "        const buttonEl =\n",
              "          document.querySelector('#df-868da025-9b13-4fd3-aef0-ea72cbd5a811 button.colab-df-convert');\n",
              "        buttonEl.style.display =\n",
              "          google.colab.kernel.accessAllowed ? 'block' : 'none';\n",
              "\n",
              "        async function convertToInteractive(key) {\n",
              "          const element = document.querySelector('#df-868da025-9b13-4fd3-aef0-ea72cbd5a811');\n",
              "          const dataTable =\n",
              "            await google.colab.kernel.invokeFunction('convertToInteractive',\n",
              "                                                     [key], {});\n",
              "          if (!dataTable) return;\n",
              "\n",
              "          const docLinkHtml = 'Like what you see? Visit the ' +\n",
              "            '<a target=\"_blank\" href=https://colab.research.google.com/notebooks/data_table.ipynb>data table notebook</a>'\n",
              "            + ' to learn more about interactive tables.';\n",
              "          element.innerHTML = '';\n",
              "          dataTable['output_type'] = 'display_data';\n",
              "          await google.colab.output.renderOutput(dataTable, element);\n",
              "          const docLink = document.createElement('div');\n",
              "          docLink.innerHTML = docLinkHtml;\n",
              "          element.appendChild(docLink);\n",
              "        }\n",
              "      </script>\n",
              "    </div>\n",
              "  </div>\n",
              "  "
            ]
          },
          "metadata": {},
          "execution_count": 8
        }
      ]
    },
    {
      "cell_type": "code",
      "source": [
        "from sklearn.linear_model import LogisticRegression\n",
        "from sklearn.dummy import DummyClassifier\n",
        "from sklearn.model_selection import train_test_split\n",
        "from sklearn.metrics import roc_auc_score, classification_report, plot_confusion_matrix\n",
        "from scipy import stats"
      ],
      "metadata": {
        "id": "l8qzYUGjXuP_"
      },
      "execution_count": 9,
      "outputs": []
    },
    {
      "cell_type": "code",
      "source": [
        "# função disponível no notebook https://github.com/alura-cursos/Avaliacao_Credito/blob/main/notebooks/aula4.ipynb\n",
        "SEED = 1561651\n",
        "def roda_modelo(modelo, dados):\n",
        "\n",
        "    # separando dados em x e y, e tambem removendo a coluna de ID_cliente\n",
        "    x = dados.drop(['ID_Cliente', 'Mau'], axis=1)\n",
        "    y = dados.drop('ID_Cliente', axis=1)['Mau']\n",
        "    \n",
        "    # Separando dados em treino e teste\n",
        "    x_train, x_test, y_train, y_test = train_test_split(x, y, stratify=y, random_state=SEED)\n",
        "\n",
        "    # Treinando modelo com os dados de treino\n",
        "    modelo.fit(x_train, y_train)\n",
        "\n",
        "    # Calculando a probabilidade e calculando o AUC\n",
        "    prob_predic = modelo.predict_proba(x_test)\n",
        "    auc = roc_auc_score(y_test, prob_predic[:,1])\n",
        "    print(f\"AUC {auc}\")\n",
        "    \n",
        "    # Separando a probabilidade de ser bom e mau, e calculando o KS\n",
        "    data_bom = np.sort(modelo.predict_proba(x_test)[:, 1])\n",
        "    data_mau = np.sort(modelo.predict_proba(x_test)[:, 0])\n",
        "    kstest = stats.ks_2samp(data_bom, data_mau)\n",
        "    print(f\"KS {kstest}\")\n",
        "\n",
        "    # Criando matriz de confusão\n",
        "    matriz_confusao = plot_confusion_matrix(modelo, x_test, y_test, values_format='.0f', display_labels=['Bons', 'Maus'])\n",
        "    plt.grid(False)    \n",
        "    plt.show(matriz_confusao)\n",
        "\n",
        "    # Fazendo a predicao dos dados de teste e calculando o classification report\n",
        "    predicao = modelo.predict(x_test)\n",
        "    print(\"\\nClassification Report\")\n",
        "    print(classification_report(y_test, predicao, zero_division=0))"
      ],
      "metadata": {
        "id": "iJZZokZWZjdz"
      },
      "execution_count": 10,
      "outputs": []
    },
    {
      "cell_type": "markdown",
      "source": [
        "![grafico](https://raw.githubusercontent.com/RPGraciotti/BootCampAlura/main/Modulo_6/fig_1.png)\n",
        "\n",
        "Modificação da função **roda_modelo** para utilizar a métrica **KS**.\n",
        "\n",
        "1. Depois que já termos o modelo treinando, vamos calcular probabilidade do modelo classificar os dados como Mau para os dados de teste e salvar na váriavel **data_mau**.\n",
        "\n",
        "2. Para isso utilizamos o método **predict_proba** nos dados de teste **x_test**, e depois aplicamos os slices para pegarmos apenas a possibilidade de uma das labels **[:, 1]**, por fim ordenamos a probabilidade da maior para a menor.\n",
        "\n",
        "3. Depois repetimos o mesmo processo para a variavel **data_bom**, mudando apenas o nosso slice **[:, 0]** para pegarmos agora a possibilidades da outra label.\n",
        "\n",
        "4. Finalmente podemos utilizar o **ks_2samp** da biblioteca **stats** para calcular a métrica KS, vamos enviar as variaveis **data_bom** e **data_mau** para a função **ks_2samp**."
      ],
      "metadata": {
        "id": "AY08ptl0bFkd"
      }
    },
    {
      "cell_type": "markdown",
      "source": [
        "\"o KS mede a maior distância entre a probabilidade de um registro ser bom e a probabilidade de ser mau\"\n",
        "\n",
        "\"predict_proba mede a probabilidade de um registro ser 0 e probabilidade de ser 1\""
      ],
      "metadata": {
        "id": "WL5Api6ibtuB"
      }
    },
    {
      "cell_type": "code",
      "source": [
        "from sklearn.preprocessing import OneHotEncoder\n",
        "from sklearn.preprocessing import MinMaxScaler\n",
        "from sklearn.base import BaseEstimator, TransformerMixin"
      ],
      "metadata": {
        "id": "_sAC5C1iZ0qx"
      },
      "execution_count": 11,
      "outputs": []
    },
    {
      "cell_type": "markdown",
      "source": [
        "Criar a classe **Transformador**.\n",
        "\n",
        "1. Primeiro vamos herdar as classes **BaseEstimator** e a **TransdormerMixin**.\n",
        "\n",
        "2. Depois vamos criar o método construtor **\\_\\_init\\_\\_** e vamos criar uma assinatura com os parametros **quant_cols** e **cat_cols**. Vamos atribuir essas parametros a variaveis de mesmo nome. \n",
        "\n",
        "3. Outro ponto foi que vamos instanciar o **OneHotEnconder** e o **MinMaxScaler**, criando assim os métodos **enc** e o **scaler**.\n",
        "\n",
        "4. O proximo método que devemos criar é o **fit** e ele já tem sua assinatura padrão que é receber os variaveis **X** e **y**. Dentro do **fit** nosso objetivo é treinar nossos trasformadores **enc** e **scaler** com seus respectivos dados categoricos para o enc e continuos para o scaler. Vamos fazer isso novamente utilizando o slice na vairavel X, utilizando como parametro o atributos **self.cat_cols** para o **self.enc.fit** e  **self.quant_cols** para o **self.scaler.fit**.\n",
        "\n",
        "5. O ultimo método é o **transform** e o que vamos fazer nele é aplicar as transformações, novamente tomando o cuidado de utilizar o **slice** para pegarmos apenas os dados coerentes para cada transformador **self.enc.transform(X[self.cat_cols])**, e depois criar um DataFrame com os novos dados transformados.\n",
        "\n",
        "6. Repetimos o mesmo processo para as colunas continuas, **self.scaler.transform(X[self.quant_cols]**, e tambem criando o novo DataFrame **X_continuas**.\n",
        "\n",
        "7. Agora que temos os dataframes com nossos dados transformados podemos unificar eles com o **pd.concat** e retorna o novo DataFrame com o **return X**"
      ],
      "metadata": {
        "id": "Z3XIMGvveuGM"
      }
    },
    {
      "cell_type": "code",
      "source": [
        "# PEP8 padrão CamelCase\n",
        "class Transformador(BaseEstimator, TransformerMixin):\n",
        "    def __init__(self, quant_cols, cat_cols):\n",
        "        self.quant_cols = quant_cols\n",
        "        self.cat_cols = cat_cols\n",
        "        self.enc = OneHotEncoder()\n",
        "        self.scaler = MinMaxScaler()\n",
        "\n",
        "    def fit(self, X, y = None ):\n",
        "        self.enc.fit(X[self.cat_cols])\n",
        "        self.scaler.fit(X[self.quant_cols])\n",
        "        return self \n",
        "\n",
        "    def transform(self, X, y = None):\n",
        "      \n",
        "      X_categoricas = pd.DataFrame(data=self.enc.transform(X[self.cat_cols]).toarray(),\n",
        "                                  columns= self.enc.get_feature_names(self.cat_cols))\n",
        "      \n",
        "      X_continuas = pd.DataFrame(data=self.scaler.transform(X[self.quant_cols]),\n",
        "                                  columns= self.quant_cols)\n",
        "      \n",
        "      X = pd.concat([X_continuas, X_categoricas], axis=1)\n",
        "\n",
        "      return X"
      ],
      "metadata": {
        "id": "8i_5YUyTebDQ"
      },
      "execution_count": 12,
      "outputs": []
    },
    {
      "cell_type": "code",
      "source": [
        "from sklearn.pipeline import Pipeline"
      ],
      "metadata": {
        "id": "jhIiRw05iWTa"
      },
      "execution_count": 13,
      "outputs": []
    },
    {
      "cell_type": "markdown",
      "source": [
        "### Dummy Classifier"
      ],
      "metadata": {
        "id": "NkM5vRu2nc8A"
      }
    },
    {
      "cell_type": "code",
      "source": [
        "pipeline = Pipeline([('Transformador', Transformador(quant_cols, cat_cols)),\n",
        "                     ('Modelo', DummyClassifier(strategy = 'prior'))])\n",
        "roda_modelo(pipeline, df_registro_clientes_targets)"
      ],
      "metadata": {
        "colab": {
          "base_uri": "https://localhost:8080/",
          "height": 505
        },
        "id": "WI-nJyYijWjY",
        "outputId": "69ce9583-97b9-48e7-a316-b52126f01573"
      },
      "execution_count": 14,
      "outputs": [
        {
          "output_type": "stream",
          "name": "stdout",
          "text": [
            "AUC 0.5\n",
            "KS KstestResult(statistic=1.0, pvalue=0.0)\n"
          ]
        },
        {
          "output_type": "display_data",
          "data": {
            "text/plain": [
              "<Figure size 432x288 with 2 Axes>"
            ],
            "image/png": "[encoded data removed]"
          },
          "metadata": {
            "needs_background": "light"
          }
        },
        {
          "output_type": "stream",
          "name": "stdout",
          "text": [
            "\n",
            "Classification Report\n",
            "              precision    recall  f1-score   support\n",
            "\n",
            "           0       0.98      1.00      0.99      5557\n",
            "           1       0.00      0.00      0.00       129\n",
            "\n",
            "    accuracy                           0.98      5686\n",
            "   macro avg       0.49      0.50      0.49      5686\n",
            "weighted avg       0.96      0.98      0.97      5686\n",
            "\n"
          ]
        }
      ]
    },
    {
      "cell_type": "markdown",
      "source": [
        "DummyClassifier está chutando apenas uma classe, no caso, bons. Acurácia 0.98 engana! Porém, no contexto de ir construindo o entedimento do modelo, começar com o dummy \"não funcionando\", vai nos informar bem mais sobre como outros modelos irão funcionar."
      ],
      "metadata": {
        "id": "1LFFtMnvnFxu"
      }
    },
    {
      "cell_type": "code",
      "source": [
        "pipeline = Pipeline([('Transformador', Transformador(quant_cols, cat_cols)),\n",
        "                     ('Modelo', LogisticRegression(random_state = SEED, max_iter = 1000))])\n",
        "roda_modelo(pipeline, df_registro_clientes_targets)"
      ],
      "metadata": {
        "colab": {
          "base_uri": "https://localhost:8080/",
          "height": 505
        },
        "id": "RGuheT6Kkm-Z",
        "outputId": "7e482680-b2dd-4fe3-ca8c-5f421b5292b0"
      },
      "execution_count": 15,
      "outputs": [
        {
          "output_type": "stream",
          "name": "stdout",
          "text": [
            "AUC 0.5847293657137516\n",
            "KS KstestResult(statistic=1.0, pvalue=0.0)\n"
          ]
        },
        {
          "output_type": "display_data",
          "data": {
            "text/plain": [
              "<Figure size 432x288 with 2 Axes>"
            ],
            "image/png": "[encoded data removed]"
          },
          "metadata": {
            "needs_background": "light"
          }
        },
        {
          "output_type": "stream",
          "name": "stdout",
          "text": [
            "\n",
            "Classification Report\n",
            "              precision    recall  f1-score   support\n",
            "\n",
            "           0       0.98      1.00      0.99      5557\n",
            "           1       0.00      0.00      0.00       129\n",
            "\n",
            "    accuracy                           0.98      5686\n",
            "   macro avg       0.49      0.50      0.49      5686\n",
            "weighted avg       0.96      0.98      0.97      5686\n",
            "\n"
          ]
        }
      ]
    },
    {
      "cell_type": "markdown",
      "source": [
        "Continua o mesmo resultado péssimo!\n",
        "\n",
        "Será que o problema está no desbalanceamento dos dados? Vamos aplicar um método para contornar essa situação."
      ],
      "metadata": {
        "id": "p4rqsiiRn5GL"
      }
    },
    {
      "cell_type": "markdown",
      "source": [
        "## Sessão 2 - Tratando o desbalanceamento dos dados"
      ],
      "metadata": {
        "id": "fRwFGGNxpN0c"
      }
    },
    {
      "cell_type": "markdown",
      "source": [
        "Oversampling é um método que propõe rebalancear dados de treino apenas, através de dados sintéticos. Claro, afinal você não pode usar dados simulados no teste que são os seus dados de fato, seria manipulação dos resultados."
      ],
      "metadata": {
        "id": "EylZvT-fEi4I"
      }
    },
    {
      "cell_type": "code",
      "source": [
        "from imblearn.over_sampling import SMOTE\n",
        "from imblearn.pipeline import Pipeline\n",
        "\n",
        "## https://imbalanced-learn.org/stable/references/generated/imblearn.over_sampling.SMOTE.html"
      ],
      "metadata": {
        "id": "n2VqaT_Ynyhy"
      },
      "execution_count": 16,
      "outputs": []
    },
    {
      "cell_type": "code",
      "source": [
        "pipeline = Pipeline([('Transformador', Transformador(quant_cols, cat_cols)),\n",
        "                     ('sampling', SMOTE(random_state=SEED)),\n",
        "                     ('Modelo', LogisticRegression(random_state=SEED, max_iter=1000))])   \n",
        "roda_modelo(pipeline, df_registro_clientes_targets)"
      ],
      "metadata": {
        "colab": {
          "base_uri": "https://localhost:8080/",
          "height": 506
        },
        "id": "ptuebO37oOaw",
        "outputId": "2d547d28-a0db-4f51-f780-83d06035439d"
      },
      "execution_count": 17,
      "outputs": [
        {
          "output_type": "stream",
          "name": "stdout",
          "text": [
            "AUC 0.581681320996076\n",
            "KS KstestResult(statistic=0.12926486106225818, pvalue=8.449404974877798e-42)\n"
          ]
        },
        {
          "output_type": "display_data",
          "data": {
            "text/plain": [
              "<Figure size 432x288 with 2 Axes>"
            ],
            "image/png": "[encoded data removed]"
          },
          "metadata": {
            "needs_background": "light"
          }
        },
        {
          "output_type": "stream",
          "name": "stdout",
          "text": [
            "\n",
            "Classification Report\n",
            "              precision    recall  f1-score   support\n",
            "\n",
            "           0       0.98      0.55      0.70      5557\n",
            "           1       0.03      0.58      0.06       129\n",
            "\n",
            "    accuracy                           0.55      5686\n",
            "   macro avg       0.51      0.56      0.38      5686\n",
            "weighted avg       0.96      0.55      0.69      5686\n",
            "\n"
          ]
        }
      ]
    },
    {
      "cell_type": "code",
      "source": [
        "from sklearn.ensemble import RandomForestClassifier"
      ],
      "metadata": {
        "id": "CN3n3q0oGoLG"
      },
      "execution_count": 18,
      "outputs": []
    },
    {
      "cell_type": "code",
      "source": [
        "pipeline = Pipeline([('Transformador', Transformador(quant_cols, cat_cols)),\n",
        "                     ('Modelo', RandomForestClassifier(random_state = SEED))])   \n",
        "roda_modelo(pipeline, df_registro_clientes_targets)"
      ],
      "metadata": {
        "colab": {
          "base_uri": "https://localhost:8080/",
          "height": 505
        },
        "id": "c0vzwE7iGxf4",
        "outputId": "e421f50e-c0ea-49e3-9c66-1f05f9c73bc4"
      },
      "execution_count": 19,
      "outputs": [
        {
          "output_type": "stream",
          "name": "stdout",
          "text": [
            "AUC 0.8382939040500634\n",
            "KS KstestResult(statistic=0.9794231445655998, pvalue=0.0)\n"
          ]
        },
        {
          "output_type": "display_data",
          "data": {
            "text/plain": [
              "<Figure size 432x288 with 2 Axes>"
            ],
            "image/png": "[encoded data removed]"
          },
          "metadata": {
            "needs_background": "light"
          }
        },
        {
          "output_type": "stream",
          "name": "stdout",
          "text": [
            "\n",
            "Classification Report\n",
            "              precision    recall  f1-score   support\n",
            "\n",
            "           0       0.98      0.99      0.99      5557\n",
            "           1       0.52      0.24      0.33       129\n",
            "\n",
            "    accuracy                           0.98      5686\n",
            "   macro avg       0.75      0.62      0.66      5686\n",
            "weighted avg       0.97      0.98      0.97      5686\n",
            "\n"
          ]
        }
      ]
    },
    {
      "cell_type": "code",
      "source": [
        "pipeline = Pipeline([('Transformador', Transformador(quant_cols, cat_cols)),\n",
        "                     ('sampling', SMOTE(random_state = SEED)),\n",
        "                     ('Modelo', RandomForestClassifier(random_state = SEED))])   \n",
        "roda_modelo(pipeline, df_registro_clientes_targets)"
      ],
      "metadata": {
        "colab": {
          "base_uri": "https://localhost:8080/",
          "height": 505
        },
        "id": "wtb_REKqHTpB",
        "outputId": "bb24578d-d11a-40b1-ec56-8a8e0ee47382"
      },
      "execution_count": 20,
      "outputs": [
        {
          "output_type": "stream",
          "name": "stdout",
          "text": [
            "AUC 0.8340043216670643\n",
            "KS KstestResult(statistic=0.9653534998241294, pvalue=0.0)\n"
          ]
        },
        {
          "output_type": "display_data",
          "data": {
            "text/plain": [
              "<Figure size 432x288 with 2 Axes>"
            ],
            "image/png": "[encoded data removed]"
          },
          "metadata": {
            "needs_background": "light"
          }
        },
        {
          "output_type": "stream",
          "name": "stdout",
          "text": [
            "\n",
            "Classification Report\n",
            "              precision    recall  f1-score   support\n",
            "\n",
            "           0       0.99      0.99      0.99      5557\n",
            "           1       0.47      0.36      0.41       129\n",
            "\n",
            "    accuracy                           0.98      5686\n",
            "   macro avg       0.73      0.68      0.70      5686\n",
            "weighted avg       0.97      0.98      0.97      5686\n",
            "\n"
          ]
        }
      ]
    },
    {
      "cell_type": "markdown",
      "source": [
        "### Desafio 01 - Explorar undersampling"
      ],
      "metadata": {
        "id": "JWCPgZ_IFARc"
      }
    },
    {
      "cell_type": "markdown",
      "source": [
        "### Desafio 02 - Buscar outros métodos como XGboost"
      ],
      "metadata": {
        "id": "wRF6CeR9H11R"
      }
    },
    {
      "cell_type": "markdown",
      "source": [
        "### Desafio 03 - Utilizar otimização de hiperparametros e seleção de features"
      ],
      "metadata": {
        "id": "Pw4MgX1vH6It"
      }
    },
    {
      "cell_type": "code",
      "source": [],
      "metadata": {
        "id": "2xvck4TvH5yu"
      },
      "execution_count": null,
      "outputs": []
    }
  ]
}