{
  "nbformat": 4,
  "nbformat_minor": 0,
  "metadata": {
    "colab": {
      "name": "Aula_1_Contextualização_do_mercado_financeiro.ipynb",
      "provenance": [],
      "collapsed_sections": [],
      "authorship_tag": "ABX9TyNkuan9/ZRjWQQfamb8bphX",
      "include_colab_link": true
    },
    "kernelspec": {
      "name": "python3",
      "display_name": "Python 3"
    },
    "language_info": {
      "name": "python"
    }
  },
  "cells": [
    {
      "cell_type": "markdown",
      "metadata": {
        "id": "view-in-github",
        "colab_type": "text"
      },
      "source": [
        "<a href=\"https://colab.research.google.com/github/RPGraciotti/BootCampAlura/blob/main/Modulo_6/Aula_1_Contextualiza%C3%A7%C3%A3o_do_mercado_financeiro.ipynb\" target=\"_parent\"><img src=\"https://colab.research.google.com/assets/colab-badge.svg\" alt=\"Open In Colab\"/></a>"
      ]
    },
    {
      "cell_type": "markdown",
      "metadata": {
        "id": "gtRHmIJmtR0-"
      },
      "source": [
        "# Sessão 1 - Contexto financeiro\n",
        "Introdução:\n",
        "\n",
        "Pilares da cadeia de crédito:\n",
        "\n",
        "1. Prospecção\n",
        "2. Concessão - Foco do módulo do BootCamp\n",
        "3. Gestão de Risco \n",
        "4. Recuperação"
      ]
    },
    {
      "cell_type": "markdown",
      "metadata": {
        "id": "Yc4L8mjNtnUr"
      },
      "source": [
        "Pedido de crédito:\n",
        "Instituição financeira utiliza um modelo de decisão + política de crédito"
      ]
    },
    {
      "cell_type": "markdown",
      "metadata": {
        "id": "XEIHR4fGuEP5"
      },
      "source": [
        "Bytebank é o banco fictício que a Alura utiliza para ferramentas didáticas e será trabalhado durante o curso.\n",
        "Streamlit é uma biblioteca python que é utilizada para hospedar o modelo e gera uma interface sem que seja necessário conhecimento de front-end."
      ]
    },
    {
      "cell_type": "markdown",
      "metadata": {
        "id": "TU7KH1rnuwXY"
      },
      "source": [
        "Projeto final: Simulador de avaliação de crédito utilizando o streamlit.\n",
        "\n",
        "Objetivo é derivado de um desafio do kaggle, traduzido e manipulado para utilização: https://www.kaggle.com/rikdifos/credit-card-approval-prediction"
      ]
    },
    {
      "cell_type": "markdown",
      "metadata": {
        "id": "6Nvhn-I-1GlM"
      },
      "source": [
        "# Sessão 2 - Primeiros passos com a base"
      ]
    },
    {
      "cell_type": "code",
      "metadata": {
        "id": "owoDOnTIqhP6"
      },
      "source": [
        ""
      ],
      "execution_count": null,
      "outputs": []
    }
  ]
}