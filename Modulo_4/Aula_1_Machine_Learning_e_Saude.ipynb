{
  "nbformat": 4,
  "nbformat_minor": 0,
  "metadata": {
    "colab": {
      "name": "Aula_1_Machine_Learning_e_Saude.ipynb",
      "provenance": [],
      "authorship_tag": "ABX9TyPkqPS7sHFBwi6oxK3g6m06",
      "include_colab_link": true
    },
    "kernelspec": {
      "name": "python3",
      "display_name": "Python 3"
    },
    "language_info": {
      "name": "python"
    }
  },
  "cells": [
    {
      "cell_type": "markdown",
      "metadata": {
        "id": "view-in-github",
        "colab_type": "text"
      },
      "source": [
        "<a href=\"https://colab.research.google.com/github/RPGraciotti/BootCampAlura/blob/main/Modulo_4/Aula_1_Machine_Learning_e_Saude.ipynb\" target=\"_parent\"><img src=\"https://colab.research.google.com/assets/colab-badge.svg\" alt=\"Open In Colab\"/></a>"
      ]
    },
    {
      "cell_type": "markdown",
      "metadata": {
        "id": "xgVoXwQyoSeO"
      },
      "source": [
        "Nessa aula tivemos apenas a introdução ao Kaggle, e aos conjuntos de dados que vamos utilizar para o desenvolvimento do módulo, sem que entrássemos ainda no código. Mas isso não quer dizer que não tivemos desafios! Primeiro, uma exploração básica no sistema do Kaggle, que eu nunca tinha utilizado. Depois, a ideia foi discutir um pouco sobre quais os problemas propostos no desafio do Sírio Libanês. O que eu pude entender dos objetivos listados é que se discuta a possibilidade de criar uma forma de prever a necessidade de um paciente vir a ser internado em leito de UTI, baseado em dados prévios de saúde da pessoa. A partir dos dados reais de internações, a ideia é utilizar dados prévios sobre doenças pre-existentes, sinais vitais no momento da internação, cruzar com dados populacionais e estimar, a partir do tempo que cada paciente levou (em horas) para ser internado (ou não) em leito de UTI, qual será o tempo necessário para futuros pacientes. Mãos a obra!"
      ]
    }
  ]
}