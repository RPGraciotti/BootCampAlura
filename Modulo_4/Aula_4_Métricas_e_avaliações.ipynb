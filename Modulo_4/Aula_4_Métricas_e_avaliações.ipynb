{
  "nbformat": 4,
  "nbformat_minor": 0,
  "metadata": {
    "colab": {
      "name": "Aula_4_Métricas_e_avaliações.ipynb",
      "provenance": [],
      "collapsed_sections": [],
      "authorship_tag": "ABX9TyMuHqrltbnXw/0DHVLCvxgW",
      "include_colab_link": true
    },
    "kernelspec": {
      "name": "python3",
      "display_name": "Python 3"
    },
    "language_info": {
      "name": "python"
    }
  },
  "cells": [
    {
      "cell_type": "markdown",
      "metadata": {
        "id": "view-in-github",
        "colab_type": "text"
      },
      "source": [
        "<a href=\"https://colab.research.google.com/github/RPGraciotti/BootCampAlura/blob/main/Modulo_4/Aula_4_M%C3%A9tricas_e_avalia%C3%A7%C3%B5es.ipynb\" target=\"_parent\"><img src=\"https://colab.research.google.com/assets/colab-badge.svg\" alt=\"Open In Colab\"/></a>"
      ]
    },
    {
      "cell_type": "code",
      "metadata": {
        "id": "c4Dp8zzeSndv"
      },
      "source": [
        "import numpy as np\n",
        "import pandas as pd\n",
        "import matplotlib.pyplot as plt\n",
        "from sklearn.linear_model import LogisticRegression # funciona bem com dados binários\n",
        "from sklearn.dummy import DummyClassifier\n",
        "from sklearn.metrics import accuracy_score\n",
        "from sklearn.model_selection import train_test_split"
      ],
      "execution_count": 1,
      "outputs": []
    },
    {
      "cell_type": "code",
      "metadata": {
        "id": "lyP-J7EcSwAr"
      },
      "source": [
        "df = pd.read_excel(\"https://github.com/RPGraciotti/BootCampAlura/blob/main/Data/Kaggle_Sirio_Libanes_ICU_Prediction.xlsx?raw=true\")\n",
        "\n",
        "df_clean = df.dropna()\n",
        "x_columns = df_clean.describe().columns"
      ],
      "execution_count": 2,
      "outputs": []
    },
    {
      "cell_type": "code",
      "metadata": {
        "id": "6qfStKPwS1Tq"
      },
      "source": [
        "x = df_clean.loc[:,x_columns].drop([\"ICU\"], axis = 1) # x ou X\n",
        "\n",
        "y = df_clean.loc[:,\"ICU\"]\n",
        "\n",
        "# forma padrão de usar"
      ],
      "execution_count": 3,
      "outputs": []
    },
    {
      "cell_type": "code",
      "metadata": {
        "colab": {
          "base_uri": "https://localhost:8080/"
        },
        "id": "tqOazFUUS2e0",
        "outputId": "efad3ea8-038f-491b-ad58-984ec4ce863b"
      },
      "source": [
        "m1 = LogisticRegression()\n",
        "m1.fit(x, y)"
      ],
      "execution_count": 4,
      "outputs": [
        {
          "output_type": "stream",
          "text": [
            "/usr/local/lib/python3.7/dist-packages/sklearn/linear_model/_logistic.py:940: ConvergenceWarning: lbfgs failed to converge (status=1):\n",
            "STOP: TOTAL NO. of ITERATIONS REACHED LIMIT.\n",
            "\n",
            "Increase the number of iterations (max_iter) or scale the data as shown in:\n",
            "    https://scikit-learn.org/stable/modules/preprocessing.html\n",
            "Please also refer to the documentation for alternative solver options:\n",
            "    https://scikit-learn.org/stable/modules/linear_model.html#logistic-regression\n",
            "  extra_warning_msg=_LOGISTIC_SOLVER_CONVERGENCE_MSG)\n"
          ],
          "name": "stderr"
        },
        {
          "output_type": "execute_result",
          "data": {
            "text/plain": [
              "LogisticRegression(C=1.0, class_weight=None, dual=False, fit_intercept=True,\n",
              "                   intercept_scaling=1, l1_ratio=None, max_iter=100,\n",
              "                   multi_class='auto', n_jobs=None, penalty='l2',\n",
              "                   random_state=None, solver='lbfgs', tol=0.0001, verbose=0,\n",
              "                   warm_start=False)"
            ]
          },
          "metadata": {
            "tags": []
          },
          "execution_count": 4
        }
      ]
    },
    {
      "cell_type": "code",
      "metadata": {
        "id": "0aWtCaZFS3rg"
      },
      "source": [
        "acc1 = sum(m1.predict(x) == y) / len(y) * 100"
      ],
      "execution_count": 5,
      "outputs": []
    },
    {
      "cell_type": "code",
      "metadata": {
        "colab": {
          "base_uri": "https://localhost:8080/"
        },
        "id": "bzm5FqCNS75R",
        "outputId": "dd47df3a-d6cb-4179-9468-b91ad771f357"
      },
      "source": [
        "acc1"
      ],
      "execution_count": 6,
      "outputs": [
        {
          "output_type": "execute_result",
          "data": {
            "text/plain": [
              "91.19266055045871"
            ]
          },
          "metadata": {
            "tags": []
          },
          "execution_count": 6
        }
      ]
    },
    {
      "cell_type": "code",
      "metadata": {
        "colab": {
          "base_uri": "https://localhost:8080/"
        },
        "id": "Xsw13PijUNhK",
        "outputId": "78551cef-3250-49c2-8641-27799ff82afe"
      },
      "source": [
        "y.value_counts()"
      ],
      "execution_count": 7,
      "outputs": [
        {
          "output_type": "execute_result",
          "data": {
            "text/plain": [
              "0    281\n",
              "1    264\n",
              "Name: ICU, dtype: int64"
            ]
          },
          "metadata": {
            "tags": []
          },
          "execution_count": 7
        }
      ]
    },
    {
      "cell_type": "markdown",
      "metadata": {
        "id": "TrbjflMLUrto"
      },
      "source": [
        "Modelo ingênuo"
      ]
    },
    {
      "cell_type": "code",
      "metadata": {
        "colab": {
          "base_uri": "https://localhost:8080/"
        },
        "id": "-6Vy-k9UUtpC",
        "outputId": "83d1487e-e277-4815-9d59-32ac09b39f25"
      },
      "source": [
        "m2 = DummyClassifier(\"most_frequent\")\n",
        "m2.fit(x, y)\n",
        "sum(m2.predict(x) == y) / len(y) * 100"
      ],
      "execution_count": 8,
      "outputs": [
        {
          "output_type": "execute_result",
          "data": {
            "text/plain": [
              "51.559633027522935"
            ]
          },
          "metadata": {
            "tags": []
          },
          "execution_count": 8
        }
      ]
    },
    {
      "cell_type": "code",
      "metadata": {
        "colab": {
          "base_uri": "https://localhost:8080/"
        },
        "id": "KRBE4FmQU4SV",
        "outputId": "55b179a6-2821-4aae-8fdc-f98d7febfdc5"
      },
      "source": [
        "accuracy_score(y, m2.predict(x))"
      ],
      "execution_count": 9,
      "outputs": [
        {
          "output_type": "execute_result",
          "data": {
            "text/plain": [
              "0.5155963302752293"
            ]
          },
          "metadata": {
            "tags": []
          },
          "execution_count": 9
        }
      ]
    },
    {
      "cell_type": "code",
      "metadata": {
        "id": "XvA7qH3gcEPN"
      },
      "source": [
        "np.random.seed(73246)"
      ],
      "execution_count": 10,
      "outputs": []
    },
    {
      "cell_type": "code",
      "metadata": {
        "id": "bN86hwkZYfZY"
      },
      "source": [
        "x_train, x_test, y_train, y_test = train_test_split(x, y, stratify = y, test_size = 0.2)"
      ],
      "execution_count": 16,
      "outputs": []
    },
    {
      "cell_type": "code",
      "metadata": {
        "colab": {
          "base_uri": "https://localhost:8080/"
        },
        "id": "5Sq9Wby-ZESH",
        "outputId": "fdd8504a-2d7c-4d77-c458-c9ebe9f08618"
      },
      "source": [
        "print(len(x_train), len(y_train))\n",
        "print(len(x_test), len(y_test))"
      ],
      "execution_count": 17,
      "outputs": [
        {
          "output_type": "stream",
          "text": [
            "436 436\n",
            "109 109\n"
          ],
          "name": "stdout"
        }
      ]
    },
    {
      "cell_type": "code",
      "metadata": {
        "colab": {
          "base_uri": "https://localhost:8080/"
        },
        "id": "A8GBFUBLZUnP",
        "outputId": "28083beb-ecad-456d-adac-410eb77ca235"
      },
      "source": [
        "m3 = LogisticRegression()\n",
        "m3.fit(x_train, y_train)\n",
        "y_pred = m3.predict(x_test)\n",
        "accuracy_score(y_test, y_pred)"
      ],
      "execution_count": 18,
      "outputs": [
        {
          "output_type": "stream",
          "text": [
            "/usr/local/lib/python3.7/dist-packages/sklearn/linear_model/_logistic.py:940: ConvergenceWarning: lbfgs failed to converge (status=1):\n",
            "STOP: TOTAL NO. of ITERATIONS REACHED LIMIT.\n",
            "\n",
            "Increase the number of iterations (max_iter) or scale the data as shown in:\n",
            "    https://scikit-learn.org/stable/modules/preprocessing.html\n",
            "Please also refer to the documentation for alternative solver options:\n",
            "    https://scikit-learn.org/stable/modules/linear_model.html#logistic-regression\n",
            "  extra_warning_msg=_LOGISTIC_SOLVER_CONVERGENCE_MSG)\n"
          ],
          "name": "stderr"
        },
        {
          "output_type": "execute_result",
          "data": {
            "text/plain": [
              "0.8807339449541285"
            ]
          },
          "metadata": {
            "tags": []
          },
          "execution_count": 18
        }
      ]
    },
    {
      "cell_type": "code",
      "metadata": {
        "colab": {
          "base_uri": "https://localhost:8080/"
        },
        "id": "BQmK4sLnZnDg",
        "outputId": "7c0b9882-dff9-4571-e685-7caac197c764"
      },
      "source": [
        "y_train.value_counts(normalize = True)"
      ],
      "execution_count": 19,
      "outputs": [
        {
          "output_type": "execute_result",
          "data": {
            "text/plain": [
              "0    0.516055\n",
              "1    0.483945\n",
              "Name: ICU, dtype: float64"
            ]
          },
          "metadata": {
            "tags": []
          },
          "execution_count": 19
        }
      ]
    },
    {
      "cell_type": "code",
      "metadata": {
        "colab": {
          "base_uri": "https://localhost:8080/"
        },
        "id": "_2o0-hsgbrc6",
        "outputId": "33f1c096-785e-45c4-d171-e4e7f5fd709d"
      },
      "source": [
        "y_test.value_counts(normalize = True)"
      ],
      "execution_count": 20,
      "outputs": [
        {
          "output_type": "execute_result",
          "data": {
            "text/plain": [
              "0    0.513761\n",
              "1    0.486239\n",
              "Name: ICU, dtype: float64"
            ]
          },
          "metadata": {
            "tags": []
          },
          "execution_count": 20
        }
      ]
    },
    {
      "cell_type": "markdown",
      "metadata": {
        "id": "6oqdqNnOb7H0"
      },
      "source": [
        "## Desafio 01 - Decida quanto você vai escolher para treino e para teste. Quanto as pessoas utilizam e qual o motivo?\n",
        "\n",
        "Uma pergunta de um milhão de dólares. A escolha do quanto dividir o conjunto entre treino e teste não é nada trivial. Como estamos lidando com uma quantidade relativamente pequena de dados, na verdade, o ideal pode nem ser usar a abordagem train test split original, mas sim outras alternativas. Porém, uma vantagem dessa abordagem é que ela demanda pouco tempo e poder computacional, e pode ser uma forma rápida e simples de se avaliar a preditividade do modelo. Para exercício didático que estamos realizando aqui, vamos utilizar o train test split. Medidas comuns que já vi utilizarem incluem as proporções (treino/teste) 80/20, 70/30, 66/33, 50/50. Dado o pequeno volume de dados, prefiro utilizar a maior quantidade possível, nesse caso vou utilizar 80%. https://machinelearningmastery.com/train-test-split-for-evaluating-machine-learning-algorithms/"
      ]
    },
    {
      "cell_type": "markdown",
      "metadata": {
        "id": "Rsv8dAJ9fytU"
      },
      "source": [
        "## Desafio 02 - Olhe a documentação da LogisticRegression o que tem de parâmetro em comum com o train_test_split? O que isso significa pra nós?\n",
        "\n",
        "\n",
        "O único parâmetro em comum nas duas funções é o random_state, que, apesar de ser o mesmo princípio, tem aplicações diferentes. Imputar um algoritmo de aleatorização faz com que a ordem com que os dados serão embaralhados, por exemplo, difira entre as rodadas. Determinar um valor para o algoritmo de aleatorização torna aquele resultado reprodutível para futuras novas rodadas do mesmo algoritmo, e pode cumprir muito bem uma função didática.\n",
        "No caso, o parametro nas duas funções determina a forma como os valores do dataset serão sorteados: no train_test_split determinando quais valores serão separados entre treino e teste; enquanto que no logistic regression, esse algoritmo de aleatorização só será usado em casos específicos de algoritmos de otimização, que também dependerão da forma como os dados foram embaralhados no dataset."
      ]
    }
  ]
}